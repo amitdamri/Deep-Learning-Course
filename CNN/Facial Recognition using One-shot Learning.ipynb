{
  "nbformat": 4,
  "nbformat_minor": 0,
  "metadata": {
    "accelerator": "GPU",
    "colab": {
      "name": "DeepLearningAss2_(2).ipynb",
      "provenance": [],
      "collapsed_sections": [
        "2Py80Q5Qf65U"
      ],
      "toc_visible": true
    },
    "kernelspec": {
      "display_name": "Python 3",
      "name": "python3"
    },
    "language_info": {
      "name": "python"
    }
  },
  "cells": [
    {
      "cell_type": "markdown",
      "metadata": {
        "id": "FFKMLmtqDNRD"
      },
      "source": [
        "# Imports & Downloads"
      ]
    },
    {
      "cell_type": "code",
      "metadata": {
        "id": "3fvT_JNwnPq6"
      },
      "source": [
        "# useful libs\n",
        "import os\n",
        "import numpy as np\n",
        "import time\n",
        "import matplotlib.pyplot as plt\n",
        "from PIL import Image "
      ],
      "execution_count": null,
      "outputs": []
    },
    {
      "cell_type": "code",
      "metadata": {
        "id": "juUIYH_Y5Ce4"
      },
      "source": [
        "# tensorflow libs\n",
        "import tensorflow as tf\n",
        "from tensorflow import keras\n",
        "from tensorflow.keras import layers, initializers, regularizers\n",
        "from keras.preprocessing import image\n",
        "from keras.utils import plot_model\n",
        "from keras.callbacks import EarlyStopping"
      ],
      "execution_count": null,
      "outputs": []
    },
    {
      "cell_type": "code",
      "metadata": {
        "id": "LyNMm0nmAmNL"
      },
      "source": [
        "# scikit libs\n",
        "from sklearn.model_selection import train_test_split"
      ],
      "execution_count": null,
      "outputs": []
    },
    {
      "cell_type": "markdown",
      "metadata": {
        "id": "UKTyXOYPDSBf"
      },
      "source": [
        "# Data Loading"
      ]
    },
    {
      "cell_type": "code",
      "metadata": {
        "id": "70PnG13zKQ2z"
      },
      "source": [
        "def get_required_files():\n",
        "  \"\"\"\n",
        "  Download required files from the given urls\n",
        "  \"\"\"\n",
        "  \n",
        "  if \"lfwa.zip\" not in os.listdir():\n",
        "    print(\"Donwloading lfwa.zip...\")\n",
        "    !gdown --id 1p1wjaqpTh_5RHfJu4vUh8JJCdKwYMHCp\n",
        "    \n",
        "  if \"lfw2\" not in os.listdir():\n",
        "    print(\"Unzipping lfwa.zip into lfw2...\")\n",
        "    !unzip lfwa.zip\n",
        " \n",
        "  if \"pairsDevTrain.txt\" not in os.listdir():\n",
        "    print(\"Donwloading pairsDevTrain.txt ...\")\n",
        "    !wget http://vis-www.cs.umass.edu/lfw/pairsDevTrain.txt    \n",
        "  \n",
        "  if \"pairsDevTest.txt\" not in os.listdir():\n",
        "    print(\"Donwloading pairsDevTest.txt ...\")\n",
        "    !wget http://vis-www.cs.umass.edu/lfw/pairsDevTest.txt\n",
        "\n",
        "get_required_files()"
      ],
      "execution_count": null,
      "outputs": []
    },
    {
      "cell_type": "code",
      "metadata": {
        "id": "BVCl15J6LV_t"
      },
      "source": [
        "def get_image_name(face_folder_path, image_index):\n",
        "  \"\"\"\n",
        "  Return the required image name according to the folder path and the index of the image.\n",
        "  \"\"\"\n",
        "  for name in os.listdir(face_folder_path):\n",
        "    if name.endswith(f\"_{image_index.zfill(4)}.jpg\"): # fill index with zeros, i,e  1 -> 0001 \n",
        "      return name"
      ],
      "execution_count": null,
      "outputs": []
    },
    {
      "cell_type": "code",
      "metadata": {
        "id": "tAwNNaE6DUPi"
      },
      "source": [
        "def load_data(txt_path, images_path):\n",
        "  \"\"\"\n",
        "  Load data into arrays - X represting pairs of images, y represting the labels of the pairs - 1 for same person, 0 for different person.\n",
        "  \"\"\"\n",
        "  X, y = [], []\n",
        "  train_file = open(txt_path, \"r\")\n",
        "  num_of_samples_per_label = 0\n",
        "\n",
        "  # iterate over file rows \n",
        "  for index, line in enumerate(train_file):\n",
        "\n",
        "    # first line says how many pairs from each label = num_of_samples_per_label\n",
        "    if index == 0:\n",
        "      num_of_samples_per_label = int(line)\n",
        "    \n",
        "    # next lines represent pairs from label 1 until num_of_samples_per_label\n",
        "    elif index <= num_of_samples_per_label:\n",
        "      \n",
        "      line = line.strip().split(\"\\t\") # split line into -> person name, face index, face index\n",
        "      \n",
        "      face_folder_path = os.path.join(images_path, line[0])\n",
        "      \n",
        "      # get names of the required images\n",
        "      first_image_name =  get_image_name(face_folder_path, line[1]) \n",
        "      second_image_name = get_image_name(face_folder_path, line[2])\n",
        "      \n",
        "      # check if the returned names aren't none\n",
        "      if first_image_name is None or second_image_name is None:\n",
        "        print(\"None pair. Continue\")\n",
        "        continue\n",
        "\n",
        "      # concateate face folder and image path in order to load those images\n",
        "      first_image_path = os.path.join(face_folder_path, first_image_name)\n",
        "      second_image_path = os.path.join(face_folder_path, second_image_name)\n",
        "      \n",
        "      # load images into objects\n",
        "      first_image = tf.image.central_crop(image.img_to_array(image.load_img(first_image_path, color_mode='grayscale')), 0.5)\n",
        "      second_image = tf.image.central_crop(image.img_to_array(image.load_img(second_image_path, color_mode='grayscale')), 0.5)\n",
        "      \n",
        "      # make pair of those two images and apppend class 1 into y array\n",
        "      pair_face = np.stack([first_image, second_image])\n",
        "      X.append(pair_face)\n",
        "      y.append(1)\n",
        "    \n",
        "    # next lines represent pairs from label 0\n",
        "    else:\n",
        "      line = line.strip().split(\"\\t\") # split line into -> person name, face index, person name, face index\n",
        "      \n",
        "      first_face_folder_path = os.path.join(images_path, line[0])\n",
        "      second_face_folder_path = os.path.join(images_path, line[2])\n",
        "      \n",
        "      first_image_name = get_image_name(first_face_folder_path, line[1])\n",
        "      second_image_name = get_image_name(second_face_folder_path, line[3])\n",
        "      \n",
        "      if first_image_name is None or second_image_name is None:\n",
        "        print(\"One of the pair is None. Continue\")\n",
        "        continue\n",
        "\n",
        "      first_image_path = os.path.join( first_face_folder_path, first_image_name)\n",
        "      second_image_path = os.path.join( second_face_folder_path, second_image_name)\n",
        "      \n",
        "      first_image = tf.image.central_crop(image.img_to_array( image.load_img( first_image_path, color_mode='grayscale')), 0.5)\n",
        "      second_image = tf.image.central_crop(image.img_to_array( image.load_img( second_image_path, color_mode='grayscale')), 0.5)\n",
        "\n",
        "      pair_face = np.stack([first_image, second_image])\n",
        "      X.append(pair_face)\n",
        "      y.append(0)\n",
        "      \n",
        "  return np.stack(X), np.vstack(y)"
      ],
      "execution_count": null,
      "outputs": []
    },
    {
      "cell_type": "code",
      "metadata": {
        "id": "gvwCsUUvAQ1Y"
      },
      "source": [
        "# run data loading \n",
        "train_file = \"pairsDevTrain.txt\"\n",
        "test_file = \"pairsDevTest.txt\"\n",
        "images_folder = \"lfw2/lfw2\"\n",
        "\n",
        "X_train, Y_train = load_data(train_file, images_folder) \n",
        "X_test, Y_test = load_data(test_file, images_folder)"
      ],
      "execution_count": null,
      "outputs": []
    },
    {
      "cell_type": "markdown",
      "metadata": {
        "id": "VhKoiZaWQ6KQ"
      },
      "source": [
        "# Exploration"
      ]
    },
    {
      "cell_type": "code",
      "metadata": {
        "colab": {
          "base_uri": "https://localhost:8080/"
        },
        "id": "Np2n0nI5Spf6",
        "outputId": "1f93603b-9c51-426c-ff27-10a931300758"
      },
      "source": [
        "# exploration of files\n",
        "print(f\"Num of different people: {len(os.listdir(images_folder))}\")"
      ],
      "execution_count": null,
      "outputs": [
        {
          "output_type": "stream",
          "text": [
            "Num of different people: 5749\n"
          ],
          "name": "stdout"
        }
      ]
    },
    {
      "cell_type": "code",
      "metadata": {
        "colab": {
          "base_uri": "https://localhost:8080/"
        },
        "id": "yYXE8SGFQw-K",
        "outputId": "1d379551-bfcc-4cdb-e359-bcaf5f65ed0e"
      },
      "source": [
        "# Exploration of train set\n",
        "print(f\"Num of total train samples: {len(Y_train)}\")\n",
        "print(f\"Num of positive labels in train == 1: {np.count_nonzero(Y_train == 1)}\")\n",
        "print(f\"Num of negative labels in train == 0: {np.count_nonzero(Y_train == 0)}\")"
      ],
      "execution_count": null,
      "outputs": [
        {
          "output_type": "stream",
          "text": [
            "Num of total train samples: 2200\n",
            "Num of positive labels in train == 1: 1100\n",
            "Num of negative labels in train == 0: 1100\n"
          ],
          "name": "stdout"
        }
      ]
    },
    {
      "cell_type": "code",
      "metadata": {
        "colab": {
          "base_uri": "https://localhost:8080/"
        },
        "id": "RzHO4NouST5u",
        "outputId": "c5591a57-9e51-409b-be01-c75ad11c9395"
      },
      "source": [
        "# Exploration of test set\n",
        "print(f\"Num of total test samples: {len(Y_test)}\")\n",
        "print(f\"Num of positive labels in test == 1: {np.count_nonzero(Y_test == 1)}\")\n",
        "print(f\"Num of negative labels in test == 0: {np.count_nonzero(Y_test == 0)}\")"
      ],
      "execution_count": null,
      "outputs": [
        {
          "output_type": "stream",
          "text": [
            "Num of total test samples: 1000\n",
            "Num of positive labels in test == 1: 500\n",
            "Num of negative labels in test == 0: 500\n"
          ],
          "name": "stdout"
        }
      ]
    },
    {
      "cell_type": "markdown",
      "metadata": {
        "id": "OpUl0h1PSfwZ"
      },
      "source": [
        "# Preprocessing"
      ]
    },
    {
      "cell_type": "code",
      "metadata": {
        "id": "dI8P4b_TSjCt"
      },
      "source": [
        "def normalization(data):\n",
        "  \"\"\"\n",
        "  Normalize data between 0-1\n",
        "  \"\"\"\n",
        "  return data / 255.0"
      ],
      "execution_count": null,
      "outputs": []
    },
    {
      "cell_type": "code",
      "metadata": {
        "id": "dQy6djCVSkGG"
      },
      "source": [
        "# run normalization\n",
        "X_train = normalization(X_train)\n",
        "X_test = normalization(X_test)"
      ],
      "execution_count": null,
      "outputs": []
    },
    {
      "cell_type": "markdown",
      "metadata": {
        "id": "HClPvc6ioKti"
      },
      "source": [
        "# Split Train & Validation"
      ]
    },
    {
      "cell_type": "code",
      "metadata": {
        "id": "yZMOm9b3oM-V"
      },
      "source": [
        "def split_train_val(X_train, Y_train):\n",
        "  \"\"\"\n",
        "  split train data into two balanced sets of train and validaion, while train size is 85%.\n",
        "  \"\"\"\n",
        "  x_train, x_val, y_train, y_val = train_test_split(X_train, Y_train, train_size=0.85, shuffle=True, random_state=42, stratify=Y_train)\n",
        "  return (x_train, y_train), (x_val, y_val)"
      ],
      "execution_count": null,
      "outputs": []
    },
    {
      "cell_type": "code",
      "metadata": {
        "id": "kkTh4L0ToVrP"
      },
      "source": [
        "# run spliting\n",
        "(x_train, y_train), (x_val, y_val) = split_train_val(X_train, Y_train)"
      ],
      "execution_count": null,
      "outputs": []
    },
    {
      "cell_type": "markdown",
      "metadata": {
        "id": "NGG1bPHaDhD1"
      },
      "source": [
        "# Add flipped images"
      ]
    },
    {
      "cell_type": "code",
      "metadata": {
        "id": "5ijUxvBWDkI9"
      },
      "source": [
        "def add_flipped_images(x_train, y_train):\n",
        "  \"\"\"\n",
        "  Iterate over all training examples, flip one of the pair images, and add it into the train set.\n",
        "  \"\"\"\n",
        "  x_train_flip = list(x_train.copy())\n",
        "  y_train_flip = list(y_train.copy())\n",
        "\n",
        "  for index, pair in enumerate(x_train):\n",
        "    first_fliiped_image = tf.image.flip_left_right(pair[0]) # flip image \n",
        "    second_image = pair[1] # add second image as is\n",
        "    \n",
        "    pair_face = np.stack([first_fliiped_image, second_image])\n",
        "    x_train_flip.append(pair_face)\n",
        "    y_train_flip.append(y_train[index])\n",
        "  \n",
        "  return np.stack(x_train_flip), np.vstack(y_train_flip)"
      ],
      "execution_count": null,
      "outputs": []
    },
    {
      "cell_type": "code",
      "metadata": {
        "id": "sqpK1URYD6ku"
      },
      "source": [
        "# run flipping \n",
        "x_train_flip, y_train_flip = add_flipped_images(x_train, y_train)"
      ],
      "execution_count": null,
      "outputs": []
    },
    {
      "cell_type": "markdown",
      "metadata": {
        "id": "8kNh6kZtn8y9"
      },
      "source": [
        "# Data Preparation"
      ]
    },
    {
      "cell_type": "code",
      "metadata": {
        "id": "E_gaKjkOn-03"
      },
      "source": [
        "def split_pairs_into_two_lists(data):\n",
        "  \"\"\"\n",
        "  split pairs array into two arrays of the first images and the second images.\n",
        "  \"\"\"\n",
        "  first_pairs, second_pairs = zip(*data)\n",
        "  first_pairs_stack = np.stack(first_pairs)\n",
        "  second_pairs_stack = np.stack(second_pairs)\n",
        "  return first_pairs_stack, second_pairs_stack"
      ],
      "execution_count": null,
      "outputs": []
    },
    {
      "cell_type": "code",
      "metadata": {
        "id": "6RG2wK7Souf5"
      },
      "source": [
        "# run splitting between pairs\n",
        "# first_train_pairs, second_train_pairs = split_pairs_into_two_lists(x_train)\n",
        "first_train_pairs, second_train_pairs = split_pairs_into_two_lists(x_train_flip)\n",
        "first_val_pairs, second_val_pairs = split_pairs_into_two_lists(x_val)\n",
        "first_test_pairs, second_test_pairs = split_pairs_into_two_lists(X_test)"
      ],
      "execution_count": null,
      "outputs": []
    },
    {
      "cell_type": "code",
      "metadata": {
        "colab": {
          "base_uri": "https://localhost:8080/"
        },
        "id": "BY1ZYAUzPmBM",
        "outputId": "2827a829-d7b9-4751-e307-5ed2ba055c6a"
      },
      "source": [
        "# Explore train set after spliting \n",
        "print(f\"Num of total train samples: {len(y_train_flip)}\")\n",
        "print(f\"Num of positive labels in train == 1: {np.count_nonzero(y_train_flip == 1)}\")\n",
        "print(f\"Num of negative labels in train == 0: {np.count_nonzero(y_train_flip == 0)}\")"
      ],
      "execution_count": null,
      "outputs": [
        {
          "output_type": "stream",
          "text": [
            "Num of total train samples: 3740\n",
            "Num of positive labels in train == 1: 1870\n",
            "Num of negative labels in train == 0: 1870\n"
          ],
          "name": "stdout"
        }
      ]
    },
    {
      "cell_type": "code",
      "metadata": {
        "colab": {
          "base_uri": "https://localhost:8080/"
        },
        "id": "1UKb-cTfPscP",
        "outputId": "133b8f11-4415-464b-9939-cc69a9d405ac"
      },
      "source": [
        "# Explore val set after spliting \n",
        "print(f\"Num of total train samples: {len(y_val)}\")\n",
        "print(f\"Num of positive labels in train == 1: {np.count_nonzero(y_val == 1)}\")\n",
        "print(f\"Num of negative labels in train == 0: {np.count_nonzero(y_val == 0)}\")"
      ],
      "execution_count": null,
      "outputs": [
        {
          "output_type": "stream",
          "text": [
            "Num of total train samples: 330\n",
            "Num of positive labels in train == 1: 165\n",
            "Num of negative labels in train == 0: 165\n"
          ],
          "name": "stdout"
        }
      ]
    },
    {
      "cell_type": "markdown",
      "metadata": {
        "id": "2Py80Q5Qf65U"
      },
      "source": [
        "# Test"
      ]
    },
    {
      "cell_type": "code",
      "metadata": {
        "id": "U3K1Q11jDYdx"
      },
      "source": [
        "def build_model(input_shape):\n",
        "  first_input, second_input = keras.Input(shape=input_shape), keras.Input(shape=input_shape)\n",
        "  kernel_initializer_conv = initializers.RandomNormal(mean=0.0, stddev=0.001)\n",
        "  bias_initializer = initializers.RandomNormal(mean=0.5, stddev=0.001)\n",
        "  kernel_initializer_dense = initializers.RandomNormal(mean=0.0, stddev=0.2)\n",
        "  # kernel_regularizer = regularizers.l2(l2=0.0001)\n",
        "  \n",
        "  # Best convolutional architecture selected for verification task according to Gregory Koch et al. paper\n",
        "  model = keras.Sequential()\n",
        "  model.add(layers.Conv2D(filters=64,kernel_size=(10,10), activation='relu', kernel_initializer=kernel_initializer_conv, bias_initializer=bias_initializer))\n",
        "  model.add(layers.MaxPool2D(pool_size=(2,2)))\n",
        "  model.add(layers.Conv2D(filters=128,kernel_size=(7,7), activation='relu', kernel_initializer=kernel_initializer_conv, bias_initializer=bias_initializer))\n",
        "  model.add(layers.MaxPool2D(pool_size=(2,2)))\n",
        "  model.add(layers.Conv2D(filters=128,kernel_size=(4,4), activation='relu', kernel_initializer=kernel_initializer_conv, bias_initializer=bias_initializer))\n",
        "  model.add(layers.MaxPool2D(pool_size=(2,2)))\n",
        "  model.add(layers.Conv2D(filters=256,kernel_size=(4,4), activation='relu', kernel_initializer=kernel_initializer_conv, bias_initializer=bias_initializer))\n",
        "  model.add(layers.Flatten())\n",
        "  model.add(layers.Dense(units=4096, activation='sigmoid' , kernel_initializer=kernel_initializer_dense, bias_initializer=bias_initializer))\n",
        "  \n",
        "  # Add a customized layer to compute the absolute difference between the encodings\n",
        "  first_input_encode = model(first_input)\n",
        "  second_input_encode = model(second_input)\n",
        "  distance_layer = layers.Lambda(lambda tensors: tf.math.abs(tensors[0] - tensors[1]))([first_input_encode, second_input_encode])\n",
        "\n",
        "  # Add prediction layer\n",
        "  prediction_layer = layers.Dense(1,activation='sigmoid', kernel_initializer=kernel_initializer_dense, bias_initializer=bias_initializer)(distance_layer)\n",
        "  siamese_model = keras.Model(inputs=[first_input,second_input], outputs=prediction_layer)\n",
        "\n",
        "  # Add a dense layer with a sigmoid unit to generate the similarity score\n",
        "  siamese_model.summary()\n",
        "  return siamese_model"
      ],
      "execution_count": null,
      "outputs": []
    },
    {
      "cell_type": "markdown",
      "metadata": {
        "id": "kskJHI0GDUkH"
      },
      "source": [
        "# Implementation"
      ]
    },
    {
      "cell_type": "code",
      "metadata": {
        "id": "lzHbiR_CQIsa"
      },
      "source": [
        "def build_model(input_shape):\n",
        "  \"\"\"\n",
        "  Builds CNN siamese network\n",
        "  \"\"\"\n",
        "  \n",
        "  # the model gets two inputs of size input_shape\n",
        "  first_input, second_input = keras.Input(shape=input_shape), keras.Input(shape=input_shape) \n",
        "\n",
        "  # Best convolutional architecture selected for verification task according to Gregory Koch et al. paper\n",
        "  model = keras.Sequential()\n",
        "  model.add(layers.Conv2D(filters=64, kernel_size=(10,10), activation='relu'))\n",
        "  model.add(layers.BatchNormalization())\n",
        "  model.add(layers.MaxPool2D(pool_size=(2,2)))\n",
        "\n",
        "  model.add(layers.Conv2D(filters=128, kernel_size=(7,7), activation='relu'))\n",
        "  model.add(layers.BatchNormalization())\n",
        "  model.add(layers.MaxPool2D(pool_size=(2,2)))\n",
        "\n",
        "  model.add(layers.Conv2D(filters=128, kernel_size=(4,4), activation='relu'))\n",
        "  model.add(layers.BatchNormalization())\n",
        "  model.add(layers.MaxPool2D(pool_size=(2,2)))\n",
        "\n",
        "  model.add(layers.Conv2D(filters=256, kernel_size=(4,4), activation='relu'))\n",
        "  model.add(layers.BatchNormalization())\n",
        "  model.add(layers.Flatten())\n",
        "\n",
        "  model.add(layers.Dense(units=4096, activation='sigmoid' ))\n",
        "\n",
        "  # Add a customized layer to compute the absolute difference between the encodings\n",
        "  first_input_encode = model(first_input)\n",
        "  second_input_encode = model(second_input)\n",
        "  distance_layer = layers.Lambda(lambda tensors: tf.math.abs(tensors[0] - tensors[1]))([first_input_encode, second_input_encode])\n",
        "\n",
        "  # Add prediction layer\n",
        "  prediction_layer = layers.Dense(1,activation='sigmoid')(distance_layer)\n",
        "  siamese_model = keras.Model(inputs=[first_input,second_input], outputs=prediction_layer)\n",
        "\n",
        "  # Add a dense layer with a sigmoid unit to generate the similarity score\n",
        "  siamese_model.summary()\n",
        "  return siamese_model"
      ],
      "execution_count": null,
      "outputs": []
    },
    {
      "cell_type": "code",
      "metadata": {
        "id": "aIG690ozUQ9_"
      },
      "source": [
        "def plot_model_history(history):\n",
        "  \"\"\"\n",
        "  Plot accuracy and loss graphs of thr train and validation training process\n",
        "  \"\"\"\n",
        "\n",
        "  plt.plot(history.history['accuracy'])\n",
        "  plt.plot(history.history['val_accuracy'])\n",
        "  plt.title('model accuracy')\n",
        "  plt.ylabel('accuracy')\n",
        "  plt.xlabel('epoch')\n",
        "  plt.legend(['train' , 'val'], loc='upper left')\n",
        "  plt.show()\n",
        "  \n",
        "  # summarize history for loss\n",
        "  plt.plot(history.history['loss'])\n",
        "  plt.plot(history.history['val_loss'])\n",
        "  plt.title('model loss')\n",
        "  plt.ylabel('loss')\n",
        "  plt.xlabel('epoch')\n",
        "  plt.legend(['train', 'val'], loc='upper left')\n",
        "  plt.show()"
      ],
      "execution_count": null,
      "outputs": []
    },
    {
      "cell_type": "code",
      "metadata": {
        "id": "oeAaJ9eMYz8C",
        "colab": {
          "base_uri": "https://localhost:8080/",
          "height": 1000
        },
        "outputId": "067a03a6-e7f7-4f2d-9933-9ee2a8573047"
      },
      "source": [
        "input_shape = first_train_pairs[0].shape # shape of one example, same for all examples\n",
        "\n",
        "# build siamese model with input shape\n",
        "model = build_model(input_shape)\n",
        "\n",
        "# plot model arcitechture\n",
        "plot_model(model,show_shapes=True, show_dtype=False, show_layer_names=True, rankdir='LR')\n",
        "\n",
        "# compile model with adam optimizer\n",
        "model.compile(loss=\"binary_crossentropy\", optimizer=keras.optimizers.Adam(learning_rate=0.0001), metrics=['accuracy'])\n",
        "\n",
        "# Early stopping criterion\n",
        "es = EarlyStopping(monitor='val_loss', patience=4, restore_best_weights=False)\n",
        "\n",
        "# train model on train set and evaluate its performance on the validation set\n",
        "start_time = time.time()\n",
        "print(\"Model training...\\n\" + \"=\"*98)\n",
        "history = model.fit(x=[first_train_pairs, second_train_pairs], y=y_train_flip, batch_size=16, epochs=40, verbose=1, validation_data=([first_val_pairs, second_val_pairs], y_val), callbacks=[es])\n",
        "print(f\"Convergence time is :{time.time() - start_time}\")\n",
        "\n",
        "# plot the loss on the training set throughout the training process \n",
        "plot_model_history(history)\n",
        "\n",
        "# evaluate model on val set\n",
        "print(\"Evaluate model on validation set...\\n\" + \"=\"*98)\n",
        "val_loss, val_accuracy = model.evaluate(x=[first_val_pairs, second_val_pairs], y=y_val, verbose=0)\n",
        "print(f'Validation Loss:  %.2f, Validation Accuracy: %.2f' % (val_loss, val_accuracy * 100))\n",
        "\n",
        "# evaluate model on test set\n",
        "print(\"Evaluate model on test set...\\n\" + \"=\"*98)\n",
        "test_loss, test_accuracy = model.evaluate(x=[first_test_pairs, second_test_pairs], y=Y_test , verbose=0)\n",
        "print(f'Test Loss:  %.2f, Test Accuracy: %.2f' % (test_loss, test_accuracy * 100))"
      ],
      "execution_count": null,
      "outputs": [
        {
          "output_type": "stream",
          "text": [
            "Model: \"model_11\"\n",
            "__________________________________________________________________________________________________\n",
            "Layer (type)                    Output Shape         Param #     Connected to                     \n",
            "==================================================================================================\n",
            "input_23 (InputLayer)           [(None, 126, 126, 1) 0                                            \n",
            "__________________________________________________________________________________________________\n",
            "input_24 (InputLayer)           [(None, 126, 126, 1) 0                                            \n",
            "__________________________________________________________________________________________________\n",
            "sequential_11 (Sequential)      (None, 4096)         68310080    input_23[0][0]                   \n",
            "                                                                 input_24[0][0]                   \n",
            "__________________________________________________________________________________________________\n",
            "lambda_11 (Lambda)              (None, 4096)         0           sequential_11[0][0]              \n",
            "                                                                 sequential_11[1][0]              \n",
            "__________________________________________________________________________________________________\n",
            "dense_23 (Dense)                (None, 1)            4097        lambda_11[0][0]                  \n",
            "==================================================================================================\n",
            "Total params: 68,314,177\n",
            "Trainable params: 68,313,025\n",
            "Non-trainable params: 1,152\n",
            "__________________________________________________________________________________________________\n",
            "Model training...\n",
            "==================================================================================================\n",
            "Epoch 1/40\n",
            "234/234 [==============================] - 20s 81ms/step - loss: 0.6703 - accuracy: 0.6023 - val_loss: 0.6324 - val_accuracy: 0.6242\n",
            "Epoch 2/40\n",
            "234/234 [==============================] - 19s 81ms/step - loss: 0.3353 - accuracy: 0.8672 - val_loss: 0.4887 - val_accuracy: 0.7697\n",
            "Epoch 3/40\n",
            "234/234 [==============================] - 18s 78ms/step - loss: 0.1109 - accuracy: 0.9814 - val_loss: 0.4847 - val_accuracy: 0.7909\n",
            "Epoch 4/40\n",
            "234/234 [==============================] - 18s 77ms/step - loss: 0.0228 - accuracy: 0.9991 - val_loss: 0.4729 - val_accuracy: 0.7909\n",
            "Epoch 5/40\n",
            "234/234 [==============================] - 18s 77ms/step - loss: 0.0082 - accuracy: 1.0000 - val_loss: 0.4775 - val_accuracy: 0.8061\n",
            "Epoch 6/40\n",
            "234/234 [==============================] - 18s 78ms/step - loss: 0.0050 - accuracy: 1.0000 - val_loss: 0.4856 - val_accuracy: 0.8000\n",
            "Epoch 7/40\n",
            "234/234 [==============================] - 18s 78ms/step - loss: 0.0037 - accuracy: 1.0000 - val_loss: 0.4931 - val_accuracy: 0.8091\n",
            "Epoch 8/40\n",
            "234/234 [==============================] - 18s 77ms/step - loss: 0.0028 - accuracy: 1.0000 - val_loss: 0.4911 - val_accuracy: 0.8091\n",
            "Convergence time is :147.7007131576538\n"
          ],
          "name": "stdout"
        },
        {
          "output_type": "display_data",
          "data": {
            "image/png": "[encoded data removed]",
            "text/plain": [
              "<Figure size 432x288 with 1 Axes>"
            ]
          },
          "metadata": {
            "tags": [],
            "needs_background": "light"
          }
        },
        {
          "output_type": "display_data",
          "data": {
            "image/png": "[encoded data removed]",
            "text/plain": [
              "<Figure size 432x288 with 1 Axes>"
            ]
          },
          "metadata": {
            "tags": [],
            "needs_background": "light"
          }
        },
        {
          "output_type": "stream",
          "text": [
            "Evaluate model on validation set...\n",
            "==================================================================================================\n",
            "Validation Loss:  0.49, Validation Accuracy: 80.91\n",
            "Evaluate model on test set...\n",
            "==================================================================================================\n",
            "Test Loss:  0.57, Test Accuracy: 78.00\n"
          ],
          "name": "stdout"
        }
      ]
    },
    {
      "cell_type": "markdown",
      "metadata": {
        "id": "0FwqAK1roOR3"
      },
      "source": [
        "# Analyze results"
      ]
    },
    {
      "cell_type": "code",
      "metadata": {
        "id": "d7K-zgD_VwvZ"
      },
      "source": [
        "# examples of accurate and misclassifications \n",
        "prediction = model.predict(x=[first_test_pairs, second_test_pairs]) # predict labels\n",
        "prediction[prediction > 0.5] = 1 # if prediction greater than 0.5 -> label equals 1\n",
        "prediction[prediction <= 0.5] = 0 # if prediction lower or eqaul than 0.5 -> label equals 0\n",
        "\n",
        "# get indices of misclassifications and 3 examples \n",
        "mis_indices = np.where(prediction != Y_test)\n",
        "misclassified_pair_1 = (first_test_pairs[mis_indices[0][0]], second_test_pairs[mis_indices[0][0]])\n",
        "misclassified_pair_2 = (first_test_pairs[mis_indices[0][1]], second_test_pairs[mis_indices[0][1]])\n",
        "misclassified_pair_3 = (first_test_pairs[mis_indices[0][2]], second_test_pairs[mis_indices[0][2]])\n",
        "\n",
        "# get indices of correct classifications and 3 examples \n",
        "correct_indices = np.where(prediction == Y_test)\n",
        "correct_pair_1 = (first_test_pairs[correct_indices[0][0]], second_test_pairs[correct_indices[0][0]])\n",
        "correct_pair_2 = (first_test_pairs[correct_indices[0][1]], second_test_pairs[correct_indices[0][1]])\n",
        "correct_pair_3 = (first_test_pairs[correct_indices[0][2]], second_test_pairs[correct_indices[0][2]])"
      ],
      "execution_count": null,
      "outputs": []
    },
    {
      "cell_type": "code",
      "metadata": {
        "colab": {
          "base_uri": "https://localhost:8080/",
          "height": 827
        },
        "id": "bOf58WnGW3bg",
        "outputId": "29bd0ff7-664b-4119-ecb7-89d394c8ae0c"
      },
      "source": [
        "# plot misclassified images\n",
        "print(\"misclassified pair 1:\")\n",
        "display(image.array_to_img(misclassified_pair_1[0]))\n",
        "display(image.array_to_img(misclassified_pair_1[1]))\n",
        "\n",
        "print(\"misclassified pair 2:\")\n",
        "display(image.array_to_img(misclassified_pair_2[0]))\n",
        "display(image.array_to_img(misclassified_pair_2[1]))\n",
        "\n",
        "print(\"misclassified pair 3:\")\n",
        "display(image.array_to_img(misclassified_pair_3[0]))\n",
        "display(image.array_to_img(misclassified_pair_3[1]))"
      ],
      "execution_count": null,
      "outputs": [
        {
          "output_type": "stream",
          "text": [
            "misclassified pair 1:\n"
          ],
          "name": "stdout"
        },
        {
          "output_type": "display_data",
          "data": {
            "image/png": "[encoded data removed]",
            "text/plain": [
              "<PIL.Image.Image image mode=L size=126x126 at 0x7FAFE82DB190>"
            ]
          },
          "metadata": {
            "tags": []
          }
        },
        {
          "output_type": "display_data",
          "data": {
            "image/png": "[encoded data removed]",
            "text/plain": [
              "<PIL.Image.Image image mode=L size=126x126 at 0x7FB0B26F7D10>"
            ]
          },
          "metadata": {
            "tags": []
          }
        },
        {
          "output_type": "stream",
          "text": [
            "misclassified pair 2:\n"
          ],
          "name": "stdout"
        },
        {
          "output_type": "display_data",
          "data": {
            "image/png": "[encoded data removed]",
            "text/plain": [
              "<PIL.Image.Image image mode=L size=126x126 at 0x7FB0B26F7410>"
            ]
          },
          "metadata": {
            "tags": []
          }
        },
        {
          "output_type": "display_data",
          "data": {
            "image/png": "[encoded data removed]",
            "text/plain": [
              "<PIL.Image.Image image mode=L size=126x126 at 0x7FB0B26F75D0>"
            ]
          },
          "metadata": {
            "tags": []
          }
        },
        {
          "output_type": "stream",
          "text": [
            "misclassified pair 3:\n"
          ],
          "name": "stdout"
        },
        {
          "output_type": "display_data",
          "data": {
            "image/png": "[encoded data removed]",
            "text/plain": [
              "<PIL.Image.Image image mode=L size=126x126 at 0x7FAFE82DB410>"
            ]
          },
          "metadata": {
            "tags": []
          }
        },
        {
          "output_type": "display_data",
          "data": {
            "image/png": "[encoded data removed]",
            "text/plain": [
              "<PIL.Image.Image image mode=L size=126x126 at 0x7FAFE82DB550>"
            ]
          },
          "metadata": {
            "tags": []
          }
        }
      ]
    },
    {
      "cell_type": "code",
      "metadata": {
        "colab": {
          "base_uri": "https://localhost:8080/",
          "height": 827
        },
        "id": "1_sZs3rud8XQ",
        "outputId": "55a89453-d9cc-4f2d-fb28-e0eb5dced131"
      },
      "source": [
        "# plot correct classification images\n",
        "print(\"correct classification pair 1:\")\n",
        "display(image.array_to_img(correct_pair_1[0]))\n",
        "display(image.array_to_img(correct_pair_1[1]))\n",
        "\n",
        "print(\"correct classification pair 2:\")\n",
        "display(image.array_to_img(correct_pair_2[0]))\n",
        "display(image.array_to_img(correct_pair_2[1]))\n",
        "\n",
        "print(\"correct classification pair 3:\")\n",
        "display(image.array_to_img(correct_pair_3[0]))\n",
        "display(image.array_to_img(correct_pair_3[1]))"
      ],
      "execution_count": null,
      "outputs": [
        {
          "output_type": "stream",
          "text": [
            "correct classification pair 1:\n"
          ],
          "name": "stdout"
        },
        {
          "output_type": "display_data",
          "data": {
            "image/png": "[encoded data removed]",
            "text/plain": [
              "<PIL.Image.Image image mode=L size=126x126 at 0x7FB0B1D38450>"
            ]
          },
          "metadata": {
            "tags": []
          }
        },
        {
          "output_type": "display_data",
          "data": {
            "image/png": "[encoded data removed]",
            "text/plain": [
              "<PIL.Image.Image image mode=L size=126x126 at 0x7FB0B1D38710>"
            ]
          },
          "metadata": {
            "tags": []
          }
        },
        {
          "output_type": "stream",
          "text": [
            "correct classification pair 2:\n"
          ],
          "name": "stdout"
        },
        {
          "output_type": "display_data",
          "data": {
            "image/png": "[encoded data removed]",
            "text/plain": [
              "<PIL.Image.Image image mode=L size=126x126 at 0x7FB03E0D0B10>"
            ]
          },
          "metadata": {
            "tags": []
          }
        },
        {
          "output_type": "display_data",
          "data": {
            "image/png": "[encoded data removed]",
            "text/plain": [
              "<PIL.Image.Image image mode=L size=126x126 at 0x7FB03E0D01D0>"
            ]
          },
          "metadata": {
            "tags": []
          }
        },
        {
          "output_type": "stream",
          "text": [
            "correct classification pair 3:\n"
          ],
          "name": "stdout"
        },
        {
          "output_type": "display_data",
          "data": {
            "image/png": "[encoded data removed]",
            "text/plain": [
              "<PIL.Image.Image image mode=L size=126x126 at 0x7FB0B1D38310>"
            ]
          },
          "metadata": {
            "tags": []
          }
        },
        {
          "output_type": "display_data",
          "data": {
            "image/png": "[encoded data removed]",
            "text/plain": [
              "<PIL.Image.Image image mode=L size=126x126 at 0x7FB03E0D0B10>"
            ]
          },
          "metadata": {
            "tags": []
          }
        }
      ]
    }
  ]
}