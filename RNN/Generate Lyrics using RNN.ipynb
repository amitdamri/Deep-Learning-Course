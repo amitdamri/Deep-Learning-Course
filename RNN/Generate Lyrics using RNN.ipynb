{
  "nbformat": 4,
  "nbformat_minor": 0,
  "metadata": {
    "colab": {
      "name": "Deep_Learning_Ass3 (2).ipynb",
      "provenance": [],
      "collapsed_sections": [
        "1ru_Ep4wfRLr",
        "t3_upzZNqDTE",
        "ES7IKTUWhAU5",
        "Wqb78UePiD7j",
        "5F0WLylCiGNT",
        "4lqWGJNGTRG3",
        "DDGymrK0iAFU",
        "8k_JHzcuhCof",
        "G-fL1jFKHOp0",
        "KgtxRqVNtlnt",
        "XXWMag8DeJq2",
        "mUlSziq4NQ5j",
        "q46lh89AHTga",
        "1py7WNM_O1gL",
        "4DPh0ruujliv",
        "V8mq2yPm4IxL",
        "Z12e8ODjIx5j",
        "RsnWV4sRQ2aa",
        "vl4aIYjKoxe-",
        "ywafwFSx9iQj",
        "z9jtTVaw3AGE",
        "ZI5CYw1u9oDx",
        "Bbcvco6N4FC2",
        "AV1dH9nHpznD",
        "eQWNi-7FgmkR",
        "kTteYI-dhEAv",
        "zesUP5gEhGIP",
        "Cu_2j2IxhH2w",
        "VTLC_KYxi0JX",
        "jOOijDOEe9Uj"
      ]
    },
    "kernelspec": {
      "display_name": "Python 3",
      "name": "python3"
    },
    "language_info": {
      "name": "python"
    },
    "accelerator": "GPU"
  },
  "cells": [
    {
      "cell_type": "markdown",
      "metadata": {
        "id": "1ru_Ep4wfRLr"
      },
      "source": [
        "# Imports and Downloads"
      ]
    },
    {
      "cell_type": "code",
      "metadata": {
        "colab": {
          "base_uri": "https://localhost:8080/"
        },
        "id": "xMUAxPrXfTzA",
        "outputId": "3170a767-128e-4bad-efe3-8d0257210fec"
      },
      "source": [
        "#download pretty midi library for midi files\n",
        "!pip install pretty_midi"
      ],
      "execution_count": 1,
      "outputs": [
        {
          "output_type": "stream",
          "text": [
            "Requirement already satisfied: pretty_midi in /usr/local/lib/python3.7/dist-packages (0.2.9)\n",
            "Requirement already satisfied: six in /usr/local/lib/python3.7/dist-packages (from pretty_midi) (1.15.0)\n",
            "Requirement already satisfied: mido>=1.1.16 in /usr/local/lib/python3.7/dist-packages (from pretty_midi) (1.2.10)\n",
            "Requirement already satisfied: numpy>=1.7.0 in /usr/local/lib/python3.7/dist-packages (from pretty_midi) (1.19.5)\n"
          ],
          "name": "stdout"
        }
      ]
    },
    {
      "cell_type": "code",
      "metadata": {
        "colab": {
          "base_uri": "https://localhost:8080/"
        },
        "id": "MAUDHPaDd4P_",
        "outputId": "abd996a0-112c-43bf-c60a-f6180dfa12af"
      },
      "source": [
        "# download langdetect library for language detection\n",
        "!pip install langdetect"
      ],
      "execution_count": 2,
      "outputs": [
        {
          "output_type": "stream",
          "text": [
            "Requirement already satisfied: langdetect in /usr/local/lib/python3.7/dist-packages (1.0.9)\n",
            "Requirement already satisfied: six in /usr/local/lib/python3.7/dist-packages (from langdetect) (1.15.0)\n"
          ],
          "name": "stdout"
        }
      ]
    },
    {
      "cell_type": "code",
      "metadata": {
        "id": "mpSeg5aUd7e1"
      },
      "source": [
        "# language detection library\n",
        "from langdetect import detect"
      ],
      "execution_count": 3,
      "outputs": []
    },
    {
      "cell_type": "code",
      "metadata": {
        "id": "yCBBpURHfclJ"
      },
      "source": [
        "# midi exploration libraries\n",
        "import pretty_midi\n",
        "import librosa.display"
      ],
      "execution_count": 4,
      "outputs": []
    },
    {
      "cell_type": "code",
      "metadata": {
        "id": "LzeT8bodkGeI"
      },
      "source": [
        "# general libraries\n",
        "import pandas as pd\n",
        "import os\n",
        "import time\n",
        "import matplotlib.pyplot as plt\n",
        "import numpy as np\n",
        "import string"
      ],
      "execution_count": 5,
      "outputs": []
    },
    {
      "cell_type": "code",
      "metadata": {
        "id": "kOAvKexuhT8X"
      },
      "source": [
        "# deep learning libraries - tensorflow environment\n",
        "import tensorflow as tf\n",
        "from tensorflow import keras\n",
        "from keras.preprocessing.text import Tokenizer\n",
        "from tensorflow.keras.utils import to_categorical\n",
        "from keras.preprocessing.sequence import pad_sequences\n",
        "from keras import Sequential, Model\n",
        "from keras.layers import Embedding, LSTM, Dense, Dropout, Lambda, Input, Reshape, Add, Multiply, Flatten\n",
        "from keras.models import Model\n",
        "import datetime"
      ],
      "execution_count": 6,
      "outputs": []
    },
    {
      "cell_type": "code",
      "metadata": {
        "id": "VDq0p59BvUFz"
      },
      "source": [
        "# Load the TensorBoard notebook extension\n",
        "%load_ext tensorboard"
      ],
      "execution_count": 7,
      "outputs": []
    },
    {
      "cell_type": "code",
      "metadata": {
        "id": "8vITx-jXTNfv"
      },
      "source": [
        "# word embedding libraries\n",
        "import gensim\n",
        "from gensim.models import Word2Vec\n",
        "from gensim.models.keyedvectors import KeyedVectors"
      ],
      "execution_count": 8,
      "outputs": []
    },
    {
      "cell_type": "code",
      "metadata": {
        "id": "GvWFuijj0klS"
      },
      "source": [
        "# sklearn libraries\n",
        "from sklearn.model_selection import train_test_split"
      ],
      "execution_count": 9,
      "outputs": []
    },
    {
      "cell_type": "markdown",
      "metadata": {
        "id": "t3_upzZNqDTE"
      },
      "source": [
        "# Mount Google Drive"
      ]
    },
    {
      "cell_type": "code",
      "metadata": {
        "colab": {
          "base_uri": "https://localhost:8080/"
        },
        "id": "8bg3RZnIcaUP",
        "outputId": "c7ee35de-fb04-4c81-e8a4-71d425a96796"
      },
      "source": [
        "# mount google drive to get required files\n",
        "from google.colab import drive\n",
        "drive.mount('/content/drive')"
      ],
      "execution_count": 10,
      "outputs": [
        {
          "output_type": "stream",
          "text": [
            "Drive already mounted at /content/drive; to attempt to forcibly remount, call drive.mount(\"/content/drive\", force_remount=True).\n"
          ],
          "name": "stdout"
        }
      ]
    },
    {
      "cell_type": "markdown",
      "metadata": {
        "id": "ES7IKTUWhAU5"
      },
      "source": [
        "# Load Data"
      ]
    },
    {
      "cell_type": "markdown",
      "metadata": {
        "id": "Wqb78UePiD7j"
      },
      "source": [
        "### Load midi files"
      ]
    },
    {
      "cell_type": "code",
      "metadata": {
        "id": "VKmPG9jNDTM1"
      },
      "source": [
        "def split_path(file_path):\n",
        "  \"\"\"\n",
        "  splits path into singer and song name\n",
        "  \"\"\"\n",
        "  try:\n",
        "    path_splitted = file_path.lower().replace('_',' ').replace('.mid','').split(' - ')\n",
        "    singer, song_name = path_splitted[0], path_splitted[1]\n",
        "  except:\n",
        "    print(file_path)\n",
        "  return singer, song_name"
      ],
      "execution_count": 11,
      "outputs": []
    },
    {
      "cell_type": "code",
      "metadata": {
        "id": "sMACKgJMyeOy"
      },
      "source": [
        "# load midi files\n",
        "def get_midi_file(midi_path):\n",
        "  \"\"\"\n",
        "  returns pretty midi object of the midi path\n",
        "  \"\"\"\n",
        "  try: \n",
        "    return pretty_midi.PrettyMIDI(midi_path)\n",
        "  except Exception as e:\n",
        "    return None"
      ],
      "execution_count": 12,
      "outputs": []
    },
    {
      "cell_type": "code",
      "metadata": {
        "id": "DtIpZyIKhCPs"
      },
      "source": [
        "def get_all_midi_files(midi_folder):\n",
        "  \"\"\"\n",
        "  returns midi_data dict and corrupted_data list.\n",
        "  midi_data contains tuple keys of singer and song name and value of pretty midi object\n",
        "  corrupted_data contains singer and song name tuples of corrupted midi files. \n",
        "  \"\"\"\n",
        "  midi_data = {}\n",
        "  corrupted_data = []\n",
        "  \n",
        "  for midi_file_path in os.listdir(midi_folder):\n",
        "    singer, song_name = split_path(midi_file_path)\n",
        "    midi_file_object = get_midi_file(os.path.join(midi_folder, midi_file_path))\n",
        "\n",
        "    # if midi file have problems\n",
        "    if midi_file_object is None:\n",
        "      corrupted_data.append((singer,song_name))\n",
        "    \n",
        "    else:\n",
        "      midi_data[(singer, song_name)] = midi_file_object\n",
        "  \n",
        "  print(f'Corrupted data: {len(corrupted_data)}')\n",
        "  print(corrupted_data)\n",
        "  print(f'midi_data:{len(midi_data)}')\n",
        "  \n",
        "  return midi_data, corrupted_data"
      ],
      "execution_count": 13,
      "outputs": []
    },
    {
      "cell_type": "code",
      "metadata": {
        "colab": {
          "base_uri": "https://localhost:8080/"
        },
        "id": "T1z2Qwfzkr9R",
        "outputId": "5c01efa5-8e5d-4055-c6e8-a42477f74601"
      },
      "source": [
        "# run midi files loading\n",
        "midi_files_folder = 'drive/MyDrive/DeepLearningAssignment3/midi_files'\n",
        "start = time.time()\n",
        "midi_data, corrupted_data = get_all_midi_files(midi_files_folder)\n",
        "end = time.time() - start\n",
        "print(f\"Total time: {end}\")"
      ],
      "execution_count": 14,
      "outputs": [
        {
          "output_type": "stream",
          "text": [
            "Corrupted data: 7\n",
            "[('dan fogelberg', 'leader of the band'), ('beastie boys', 'girls'), ('billy joel', \"movin' out\"), ('david bowie', 'lazarus'), ('billy joel', 'pressure'), ('brian mcknight', 'on the down low'), ('aaron neville', 'tell it like it is')]\n",
            "midi_data:618\n",
            "Total time: 108.20950675010681\n"
          ],
          "name": "stdout"
        }
      ]
    },
    {
      "cell_type": "markdown",
      "metadata": {
        "id": "5F0WLylCiGNT"
      },
      "source": [
        "### Load csv files"
      ]
    },
    {
      "cell_type": "code",
      "metadata": {
        "id": "YWyR0bO2G-4Z"
      },
      "source": [
        "# load csv files\n",
        "def load_csv_file(csv_path):\n",
        "  \"\"\"\n",
        "  creates dataframe of three columns singer, song name, lyrics.\n",
        "  row with more than one song splits into number of songs while the singer is same but song name and \n",
        "  lyrics different - in this case appends one more row for the other songs\n",
        "  \"\"\"\n",
        "\n",
        "  data = pd.read_csv(csv_path, header=None)\n",
        "  df = pd.DataFrame(columns=['singer', 'song_name', 'lyrics'])\n",
        "\n",
        "  for i in range(1, data.shape[1], 2):\n",
        "    data_df = data.iloc[:, [0, i, i+1]]\n",
        "    data_df = data_df[data_df.iloc[:,1].notna()]\n",
        "\n",
        "    new_cols = {x:y for x,y in zip(data_df.columns, df.columns)}\n",
        "    df = pd.concat([df, data_df.rename(columns=new_cols)])\n",
        "  \n",
        "  return df"
      ],
      "execution_count": 15,
      "outputs": []
    },
    {
      "cell_type": "code",
      "metadata": {
        "id": "nAagwrEIoim-"
      },
      "source": [
        "# run csv loading\n",
        "train_path = 'drive/MyDrive/DeepLearningAssignment3/lyrics_train_set.csv'\n",
        "test_path = 'drive/MyDrive/DeepLearningAssignment3/lyrics_test_set.csv'\n",
        "train_df = load_csv_file(train_path)\n",
        "test_df = load_csv_file(test_path)"
      ],
      "execution_count": 16,
      "outputs": []
    },
    {
      "cell_type": "markdown",
      "metadata": {
        "id": "4lqWGJNGTRG3"
      },
      "source": [
        "# Exploration"
      ]
    },
    {
      "cell_type": "markdown",
      "metadata": {
        "id": "efu0t1Fzh9FM"
      },
      "source": [
        "### Explore csv files"
      ]
    },
    {
      "cell_type": "code",
      "metadata": {
        "colab": {
          "base_uri": "https://localhost:8080/"
        },
        "id": "6VCswUoUTQcQ",
        "outputId": "c79cd71f-225e-42d9-8998-68cd3c162bd7"
      },
      "source": [
        "# explore csv files\n",
        "\n",
        "print(f\"Num of singer: {len(train_df['singer'].unique())}\")\n",
        "print(f\"Num of songs: {len(train_df['song_name'].unique())} \\n\")\n",
        "duplic = train_df.duplicated(subset=[\"singer\", \"song_name\", \"lyrics\"])\n",
        "print(f\"Num of duplicated songs: {len(train_df[duplic])}\")\n",
        "print(f\"{train_df[duplic].iloc[:][['singer','song_name']]} \\n\")\n",
        "\n",
        "print(f\"Num of covers: {len(train_df[(train_df['lyrics'].duplicated()) ^ (duplic)])}\")\n",
        "print(f\"{train_df[(train_df['lyrics'].duplicated()) ^ (duplic)][['singer','song_name']]} \\n\")\n",
        "\n",
        "long_singer, long_song = train_df[train_df['lyrics'].map(len) == train_df['lyrics'].map(len).max()].iloc[0][['singer','song_name']]\n",
        "long_length = train_df['lyrics'].str.split(\" \").map(len).max()\n",
        "print(f\"Longest song: {long_song} by {long_singer}. Song length {long_length} \\n\")\n",
        "\n",
        "short_singer, short_song = train_df[train_df['lyrics'].map(len) == train_df['lyrics'].map(len).min()].iloc[0][['singer','song_name']]\n",
        "short_length = train_df['lyrics'].str.split(\" \").map(len).min()\n",
        "print(f\"Shortest song: {short_song} by {short_singer}. Song length {short_length} \\n\")\n",
        "\n",
        "\n",
        "songs_different_words = train_df['lyrics'].str.split(\" \").map(set).map(len)\n",
        "songs_different_words_list = list(songs_different_words)\n",
        "songs_different_words_list.sort()\n",
        "print(f'Songs total different words:\\n{songs_different_words_list}\\n')\n",
        "\n",
        "shortest_songs = train_df[songs_different_words <= 20 ]\n",
        "print(f'Songs with less than 20 different words:\\n{shortest_songs}')"
      ],
      "execution_count": 17,
      "outputs": [
        {
          "output_type": "stream",
          "text": [
            "Num of singer: 226\n",
            "Num of songs: 606 \n",
            "\n",
            "Num of duplicated songs: 2\n",
            "           singer          song_name\n",
            "178     all 4 one            i swear\n",
            "271  depeche mode  enjoy the silence \n",
            "\n",
            "Num of covers: 3\n",
            "          singer       song_name\n",
            "220  eric carmen   all by myself\n",
            "406        bread    goodbye girl\n",
            "550      boyzone  picture of you \n",
            "\n",
            "Longest song: stan by eminem. Song length 1481 \n",
            "\n",
            "Shortest song: sandstorm by darude. Song length 14 \n",
            "\n",
            "Songs total different words:\n",
            "[4, 6, 8, 10, 12, 12, 15, 18, 22, 32, 34, 34, 35, 37, 37, 38, 39, 39, 41, 42, 42, 43, 43, 43, 44, 44, 46, 47, 47, 48, 48, 48, 49, 49, 49, 50, 50, 50, 51, 51, 51, 51, 51, 51, 51, 52, 52, 52, 53, 53, 54, 54, 54, 55, 55, 55, 56, 56, 56, 56, 56, 57, 57, 57, 58, 58, 58, 58, 59, 59, 59, 59, 59, 59, 60, 60, 60, 60, 61, 61, 62, 62, 62, 62, 62, 62, 62, 62, 63, 63, 63, 63, 63, 63, 63, 63, 64, 64, 64, 64, 64, 64, 65, 65, 65, 65, 65, 65, 66, 66, 66, 67, 67, 67, 67, 67, 67, 67, 67, 68, 68, 68, 68, 68, 68, 68, 68, 68, 68, 69, 69, 69, 69, 69, 69, 69, 70, 70, 70, 70, 70, 71, 71, 71, 71, 71, 71, 71, 71, 71, 71, 72, 72, 72, 72, 72, 72, 72, 72, 72, 72, 73, 73, 73, 73, 73, 73, 73, 73, 73, 73, 74, 74, 74, 74, 74, 74, 74, 74, 74, 74, 75, 75, 75, 75, 75, 75, 75, 75, 75, 76, 76, 76, 76, 76, 76, 76, 76, 77, 77, 77, 77, 77, 77, 77, 77, 77, 78, 78, 78, 78, 78, 78, 78, 78, 78, 78, 78, 78, 78, 79, 79, 79, 79, 80, 80, 80, 80, 80, 80, 80, 80, 80, 81, 81, 81, 81, 81, 81, 82, 82, 82, 82, 82, 82, 82, 82, 82, 82, 83, 83, 83, 83, 83, 83, 83, 83, 83, 83, 83, 84, 84, 84, 84, 84, 85, 85, 85, 85, 85, 85, 86, 86, 86, 86, 86, 86, 86, 86, 86, 86, 86, 86, 86, 86, 86, 87, 87, 87, 87, 87, 87, 87, 88, 88, 88, 88, 88, 88, 89, 89, 89, 89, 89, 89, 89, 89, 89, 89, 89, 90, 90, 90, 90, 91, 91, 91, 91, 91, 91, 91, 91, 91, 92, 92, 92, 92, 92, 92, 92, 92, 93, 93, 93, 93, 93, 94, 94, 94, 94, 94, 94, 95, 95, 95, 95, 95, 95, 95, 95, 95, 95, 95, 95, 96, 96, 96, 96, 96, 96, 96, 97, 97, 97, 97, 97, 97, 97, 97, 97, 97, 97, 98, 98, 99, 99, 99, 99, 99, 99, 99, 99, 99, 99, 99, 100, 100, 100, 100, 100, 100, 101, 101, 101, 101, 101, 101, 102, 102, 102, 102, 103, 103, 103, 103, 103, 104, 104, 104, 105, 105, 105, 105, 105, 105, 105, 106, 106, 106, 106, 106, 106, 106, 107, 107, 107, 107, 107, 107, 107, 107, 107, 107, 107, 108, 108, 108, 108, 109, 109, 109, 109, 109, 109, 110, 110, 110, 110, 111, 111, 111, 111, 112, 112, 112, 112, 112, 113, 113, 113, 113, 113, 113, 113, 113, 113, 113, 114, 114, 114, 114, 114, 114, 115, 115, 115, 115, 115, 115, 117, 117, 117, 117, 117, 117, 117, 117, 117, 117, 117, 117, 118, 118, 118, 119, 119, 120, 121, 121, 121, 121, 122, 122, 122, 123, 123, 123, 124, 124, 125, 125, 125, 125, 125, 125, 126, 127, 127, 127, 127, 127, 127, 128, 128, 129, 129, 129, 129, 129, 130, 130, 130, 130, 131, 131, 131, 131, 131, 132, 132, 134, 134, 134, 134, 136, 136, 136, 138, 141, 141, 141, 144, 144, 144, 145, 146, 148, 148, 149, 150, 151, 151, 152, 152, 153, 156, 156, 158, 159, 159, 163, 164, 164, 165, 165, 167, 173, 175, 176, 176, 178, 185, 185, 186, 190, 192, 193, 203, 210, 212, 217, 224, 230, 234, 245, 248, 272, 276, 277, 282, 293, 299, 305, 315, 317, 327, 333, 334, 336, 344, 358, 362, 409, 419, 467]\n",
            "\n",
            "Songs with less than 20 different words:\n",
            "                 singer  ...                                             lyrics\n",
            "35   average white band  ...  pick up the pieces uh huh & pick up the pieces...\n",
            "96         donna summer  ...  ooh it's so good it's so good & it's so good i...\n",
            "195           eiffel 65  ...  everyone & is looking for the dub in this life...\n",
            "206         fatboy slim  ...  going out of my mind & going out of my mind & ...\n",
            "207         fatboy slim  ...  right here right now & right here right now & ...\n",
            "208         fatboy slim  ...  right about now the funk soul brother & check ...\n",
            "305              darude  ...  [instrumental] & du du dudududududuud & dududu...\n",
            "395        alice deejay  ...  do you think you're better off alone & do you ...\n",
            "\n",
            "[8 rows x 3 columns]\n"
          ],
          "name": "stdout"
        }
      ]
    },
    {
      "cell_type": "code",
      "metadata": {
        "colab": {
          "base_uri": "https://localhost:8080/"
        },
        "id": "-ScHSY-RHSUj",
        "outputId": "3f11949a-2654-4022-807d-9d3dbae8a090"
      },
      "source": [
        "train_df['lyrics'].str.split(\" \").map(set)"
      ],
      "execution_count": 18,
      "outputs": [
        {
          "output_type": "execute_result",
          "data": {
            "text/plain": [
              "0      {but, was, played, to, you, monroe, say, in, r...\n",
              "1      {lite, but, was, to, booze, been, you, about, ...\n",
              "2      {was, to, lean, through, mind, been, line, you...\n",
              "3      {but, was, to, temperature, offense, you, is, ...\n",
              "4      {which, preach, to, through, line, you, in, is...\n",
              "                             ...                        \n",
              "446    {high, but, texas, at, pull, sun, along, dime,...\n",
              "483    {but, to, live, you, want, in, is, car, talk, ...\n",
              "487    {hide, keeps, people, but, at, it, when, alrig...\n",
              "569    {wait, to, been, you, want, in, is, let, oh, f...\n",
              "132    {but, was, to, line, you, about, want, in, nig...\n",
              "Name: lyrics, Length: 615, dtype: object"
            ]
          },
          "metadata": {
            "tags": []
          },
          "execution_count": 18
        }
      ]
    },
    {
      "cell_type": "code",
      "metadata": {
        "id": "aJWIhkRqm2Pw",
        "colab": {
          "base_uri": "https://localhost:8080/"
        },
        "outputId": "9513f33c-44f2-4d2e-d0f8-23753f2a388f"
      },
      "source": [
        "all_lyrics_list = train_df['lyrics'].str.split().map(lambda x : set(x)).values\n",
        "unique_words = list(set(set().union(*all_lyrics_list)))\n",
        "unique_words.sort()\n",
        "unique_words"
      ],
      "execution_count": 19,
      "outputs": [
        {
          "output_type": "execute_result",
          "data": {
            "text/plain": [
              "['!',\n",
              " '\"sonny',\n",
              " '#',\n",
              " '##',\n",
              " '&',\n",
              " '&702',\n",
              " '&abba',\n",
              " '&backstreet',\n",
              " '&bee',\n",
              " '&billy',\n",
              " '&britney',\n",
              " '&buck',\n",
              " '&cat',\n",
              " '&chaka',\n",
              " '&david',\n",
              " '&george',\n",
              " \"'\",\n",
              " \"''cause\",\n",
              " \"'53\",\n",
              " \"'64\",\n",
              " \"'65\",\n",
              " \"'75\",\n",
              " \"'a'\",\n",
              " \"'ay-yo\",\n",
              " \"'b'\",\n",
              " \"'bout\",\n",
              " \"'cause\",\n",
              " \"'cid\",\n",
              " \"'cos\",\n",
              " \"'coz\",\n",
              " \"'cross\",\n",
              " \"'cuz\",\n",
              " \"'dro\",\n",
              " \"'em\",\n",
              " \"'em.\",\n",
              " \"'er\",\n",
              " \"'ers\",\n",
              " \"'ey\",\n",
              " \"'fore\",\n",
              " \"'friend'\",\n",
              " \"'gators\",\n",
              " \"'hell-ier'\",\n",
              " \"'it\",\n",
              " \"'jesus\",\n",
              " \"'kid\",\n",
              " \"'most\",\n",
              " \"'n'\",\n",
              " \"'neath\",\n",
              " \"'please\",\n",
              " \"'relax'\",\n",
              " \"'round\",\n",
              " \"'round's\",\n",
              " \"'s\",\n",
              " \"'spect\",\n",
              " \"'sticking\",\n",
              " \"'stop\",\n",
              " \"'t\",\n",
              " \"'this\",\n",
              " \"'though\",\n",
              " \"'til\",\n",
              " \"'till\",\n",
              " \"'way\",\n",
              " \"'we\",\n",
              " \"'ya?\",\n",
              " '(',\n",
              " \"('cause\",\n",
              " \"('till\",\n",
              " '(*)',\n",
              " '(2x)',\n",
              " '(`n',\n",
              " '(a',\n",
              " '(a-ha)',\n",
              " '(aah)',\n",
              " '(aaron)',\n",
              " '(abacab)',\n",
              " '(add',\n",
              " '(again',\n",
              " '(again)',\n",
              " '(ah',\n",
              " '(ah!)',\n",
              " '(aha',\n",
              " '(ahh!)',\n",
              " '(all',\n",
              " '(alright)',\n",
              " '(always)',\n",
              " '(and',\n",
              " '(any',\n",
              " '(anywhere',\n",
              " \"(aren't\",\n",
              " '(argh!)',\n",
              " '(as',\n",
              " '(awright',\n",
              " '(baby',\n",
              " '(baby)',\n",
              " '(bad',\n",
              " '(bang!)',\n",
              " '(be',\n",
              " '(beat',\n",
              " '(before',\n",
              " '(better',\n",
              " '(billy)',\n",
              " '(bizzy',\n",
              " '(blame',\n",
              " \"(blamin'\",\n",
              " '(blmchen)',\n",
              " '(bone-thugs-n-harmony)',\n",
              " '(brian-bsb)',\n",
              " '(bridge)',\n",
              " '(burning',\n",
              " '(bust',\n",
              " '(but',\n",
              " '(bye',\n",
              " \"(c'mere)\",\n",
              " '(call',\n",
              " '(can',\n",
              " \"(can't\",\n",
              " '(carly',\n",
              " '(chance)',\n",
              " '(chorus)',\n",
              " '(co)',\n",
              " '(come',\n",
              " '(copa',\n",
              " '(copacabana)',\n",
              " '(could',\n",
              " '(cruel)',\n",
              " '(damn!)',\n",
              " '(day',\n",
              " '(days)',\n",
              " \"(didn't\",\n",
              " '(diga',\n",
              " '(ding',\n",
              " '(dirty',\n",
              " '(do',\n",
              " \"(don't\",\n",
              " \"(dreamin')\",\n",
              " '(dude',\n",
              " '(echo',\n",
              " '(esta',\n",
              " '(every',\n",
              " \"(everybody's\",\n",
              " '(everybody)',\n",
              " '(everything',\n",
              " '(feel',\n",
              " '(feelings',\n",
              " '(first',\n",
              " '(flames',\n",
              " '(follow',\n",
              " '(for',\n",
              " '(freedom)',\n",
              " '(from',\n",
              " '(fuck',\n",
              " '(gave',\n",
              " '(get',\n",
              " \"(gettin'\",\n",
              " '(gil)',\n",
              " '(girl',\n",
              " '(girls',\n",
              " '(give',\n",
              " '(go',\n",
              " \"(goin'\",\n",
              " '(good',\n",
              " '(goodbye)',\n",
              " '(got',\n",
              " '(grady!)',\n",
              " '(greet',\n",
              " '(ha',\n",
              " '(haa',\n",
              " '(had',\n",
              " '(hang',\n",
              " \"(hangin'\",\n",
              " '(has)',\n",
              " '(hawaiian',\n",
              " '(he',\n",
              " \"(he's\",\n",
              " '(heaven',\n",
              " '(heaven)',\n",
              " '(here',\n",
              " '(here)',\n",
              " '(hey',\n",
              " '(hey!)',\n",
              " '(hold',\n",
              " '(hot',\n",
              " '(hug',\n",
              " '(huh',\n",
              " '(huh?)',\n",
              " '(i',\n",
              " \"(i'd\",\n",
              " \"(i'll\",\n",
              " \"(i'm\",\n",
              " \"(i've\",\n",
              " '(i)',\n",
              " '(if',\n",
              " '(in',\n",
              " '(incredible)',\n",
              " '(intention)',\n",
              " '(is',\n",
              " '(it',\n",
              " \"(it's\",\n",
              " '(just',\n",
              " '(kiss',\n",
              " '(know',\n",
              " '(krayzie',\n",
              " '(layzie',\n",
              " '(leave',\n",
              " \"(leavin'\",\n",
              " \"(leavin')\",\n",
              " '(leaving',\n",
              " '(left',\n",
              " '(let',\n",
              " '(like',\n",
              " '(listen',\n",
              " '(live',\n",
              " '(lonely)',\n",
              " '(long',\n",
              " '(look',\n",
              " '(losing',\n",
              " '(love',\n",
              " '(love)',\n",
              " '(magic',\n",
              " '(make',\n",
              " '(man',\n",
              " '(matilda',\n",
              " '(me',\n",
              " '(meets',\n",
              " '(memories)',\n",
              " '(middle',\n",
              " '(mm',\n",
              " '(moffats)',\n",
              " '(much)',\n",
              " '(my',\n",
              " '(na-na-na',\n",
              " '(need',\n",
              " '(never',\n",
              " '(nick-bsb)',\n",
              " '(night',\n",
              " '(no',\n",
              " '(no!)',\n",
              " '(not',\n",
              " '(now',\n",
              " '(oh',\n",
              " '(oh)',\n",
              " '(okay)',\n",
              " '(on',\n",
              " '(once)',\n",
              " '(one',\n",
              " '(only',\n",
              " '(ooh',\n",
              " '(other',\n",
              " '(out',\n",
              " '(outside)',\n",
              " '(ow!)',\n",
              " '(play',\n",
              " '(please',\n",
              " '(put',\n",
              " '(queen',\n",
              " '(quick',\n",
              " '(quite',\n",
              " '(quã©date',\n",
              " '(re',\n",
              " '(repeat',\n",
              " '(repeat)',\n",
              " '(repeatx2)',\n",
              " '(respect',\n",
              " '(ring',\n",
              " '(riot)',\n",
              " '(rip)',\n",
              " '(sail',\n",
              " '(save',\n",
              " '(saves',\n",
              " '(say',\n",
              " '(scat)',\n",
              " '(shady',\n",
              " '(shag',\n",
              " '(sherry',\n",
              " '(shit',\n",
              " '(shit!)',\n",
              " '(shit)',\n",
              " '(shoe',\n",
              " '(si',\n",
              " '(sleep',\n",
              " '(so',\n",
              " '(sock',\n",
              " '(somebody)',\n",
              " '(sometimes)',\n",
              " '(sorry!)',\n",
              " '(special',\n",
              " '(sqeezer)',\n",
              " '(still',\n",
              " '(stop!)',\n",
              " '(stupid',\n",
              " '(such',\n",
              " '(sup-p-per',\n",
              " '(sure)',\n",
              " '(sweet',\n",
              " '(swimming',\n",
              " '(take',\n",
              " '(talk',\n",
              " '(te',\n",
              " '(tears',\n",
              " '(tell',\n",
              " \"(that's\",\n",
              " '(the',\n",
              " \"(there's\",\n",
              " '(they',\n",
              " \"(they'll\",\n",
              " '(think',\n",
              " '(think)',\n",
              " '(this',\n",
              " '(thousand',\n",
              " '(to',\n",
              " '(together',\n",
              " '(too',\n",
              " '(touch)',\n",
              " '(true',\n",
              " '(try)',\n",
              " '(trying',\n",
              " '(turn',\n",
              " '(turning',\n",
              " '(two',\n",
              " '(uh',\n",
              " '(uh-huh!)',\n",
              " '(uh-huh)',\n",
              " '(under',\n",
              " '(unrequited',\n",
              " '(up',\n",
              " '(verse',\n",
              " '(very',\n",
              " '(vibes)',\n",
              " '(wanna',\n",
              " '(war',\n",
              " '(war)',\n",
              " \"(wasn't\",\n",
              " '(watching',\n",
              " '(we',\n",
              " \"(we'll\",\n",
              " \"(we're\",\n",
              " '(well',\n",
              " '(what',\n",
              " \"(what's\",\n",
              " '(what)',\n",
              " '(what?',\n",
              " '(what?)',\n",
              " '(when',\n",
              " '(where',\n",
              " '(who',\n",
              " '(who?',\n",
              " '(who?)',\n",
              " '(whoa',\n",
              " '(whoa!)',\n",
              " '(whoa-whoa-whoa-whoa)',\n",
              " '(whoops!)',\n",
              " '(why',\n",
              " \"(why's\",\n",
              " '(why)',\n",
              " '(why?',\n",
              " '(wish',\n",
              " '(wishing',\n",
              " '(with',\n",
              " '(without',\n",
              " '(woo',\n",
              " '(woo)',\n",
              " '(woohoo)',\n",
              " '(would',\n",
              " '(wrong',\n",
              " '(x2repeat)',\n",
              " '(yea)',\n",
              " '(yeah',\n",
              " '(yeah)',\n",
              " '(yeah?)',\n",
              " '(yes',\n",
              " '(yes!)',\n",
              " '(yo',\n",
              " '(yo!',\n",
              " '(you',\n",
              " \"(you'll\",\n",
              " \"(you're\",\n",
              " '(your',\n",
              " ')',\n",
              " '**',\n",
              " '-',\n",
              " '...',\n",
              " '.380',\n",
              " '.44',\n",
              " '.45',\n",
              " '1',\n",
              " '1)',\n",
              " '10',\n",
              " '109',\n",
              " '13',\n",
              " '14',\n",
              " '1916',\n",
              " '1951',\n",
              " '1965',\n",
              " '1969',\n",
              " '1990',\n",
              " '2',\n",
              " '2)',\n",
              " '20',\n",
              " '23',\n",
              " '24/7',\n",
              " '2nd',\n",
              " '2x]',\n",
              " '3)',\n",
              " '4',\n",
              " '400-pound',\n",
              " '48',\n",
              " '4h',\n",
              " '4th',\n",
              " '4x',\n",
              " '5',\n",
              " \"5'9\",\n",
              " \"5'9''\",\n",
              " '6',\n",
              " '70',\n",
              " '8',\n",
              " '9',\n",
              " '90',\n",
              " ':',\n",
              " '?',\n",
              " '???',\n",
              " '?til',\n",
              " \"?you'll\",\n",
              " '[b-real',\n",
              " '[bridge',\n",
              " '[bridge]',\n",
              " '[chorus',\n",
              " '[chorus:',\n",
              " '[chorus:]',\n",
              " '[chorus]',\n",
              " '[chorus]x2',\n",
              " '[fade]',\n",
              " '[fades',\n",
              " '[incomprehensible]',\n",
              " '[instrumental]',\n",
              " '[j.c.',\n",
              " '[j.c.]',\n",
              " '[repeat:',\n",
              " '[shamari]',\n",
              " ']',\n",
              " 'a',\n",
              " \"a'drooppin'\",\n",
              " \"a'tall\",\n",
              " 'a)',\n",
              " 'a-',\n",
              " 'a-bomb',\n",
              " 'a-but',\n",
              " 'a-changed',\n",
              " \"a-checkin'\",\n",
              " \"a-cruisin'\",\n",
              " 'a-down',\n",
              " 'a-gonna',\n",
              " 'a-have',\n",
              " \"a-helpin'\",\n",
              " \"a-huggin'\",\n",
              " 'a-in',\n",
              " 'a-it',\n",
              " 'a-look',\n",
              " 'a-myself',\n",
              " \"a-nothin'\",\n",
              " \"a-runnin'\",\n",
              " 'a-standing',\n",
              " \"a-tellin'\",\n",
              " 'a-thinking',\n",
              " 'a-walking',\n",
              " 'a-when',\n",
              " 'a-window',\n",
              " 'a-with',\n",
              " 'a-yin',\n",
              " 'a-you',\n",
              " 'a.m.',\n",
              " 'a.w.o.l',\n",
              " 'aaliyah',\n",
              " 'ab',\n",
              " 'abandoned',\n",
              " 'abhors',\n",
              " 'abide',\n",
              " 'abilene',\n",
              " 'ability',\n",
              " 'able',\n",
              " 'aboard',\n",
              " 'abortion',\n",
              " 'aboud',\n",
              " 'about',\n",
              " 'about?',\n",
              " 'above',\n",
              " 'above;',\n",
              " 'abroad',\n",
              " 'absent',\n",
              " 'absolutely',\n",
              " 'absti-shit',\n",
              " 'abstinence',\n",
              " 'abstract',\n",
              " 'absurd!',\n",
              " 'abused',\n",
              " 'accelerate',\n",
              " 'accent',\n",
              " 'accept',\n",
              " 'accepted',\n",
              " 'accepts',\n",
              " 'accidentally',\n",
              " 'accord',\n",
              " 'account',\n",
              " 'accounts',\n",
              " 'accusation',\n",
              " 'accused',\n",
              " 'ace',\n",
              " 'aches',\n",
              " 'achin',\n",
              " 'aching',\n",
              " 'achtzig',\n",
              " 'achy',\n",
              " 'acid',\n",
              " 'ack',\n",
              " 'acne',\n",
              " 'acorn',\n",
              " 'acre',\n",
              " 'across',\n",
              " 'act',\n",
              " 'acted',\n",
              " \"actin'\",\n",
              " 'acting',\n",
              " 'action',\n",
              " 'active',\n",
              " 'actor',\n",
              " 'actors',\n",
              " 'actress',\n",
              " 'acts',\n",
              " 'actually',\n",
              " 'ad',\n",
              " \"adam's\",\n",
              " 'adams',\n",
              " 'add',\n",
              " 'added',\n",
              " 'addicted',\n",
              " 'addiction',\n",
              " 'addressed',\n",
              " 'addresses',\n",
              " 'adieu.',\n",
              " 'adjourned',\n",
              " 'admire',\n",
              " 'admired',\n",
              " 'admit',\n",
              " 'adore',\n",
              " 'adrenaline',\n",
              " 'adrift',\n",
              " 'adrock',\n",
              " 'advancement',\n",
              " 'advantage',\n",
              " 'adventure',\n",
              " 'advice',\n",
              " 'advisory',\n",
              " 'aerial',\n",
              " 'aerosol',\n",
              " 'afar',\n",
              " 'afar.',\n",
              " 'affair',\n",
              " 'affecting',\n",
              " 'affection',\n",
              " 'afford',\n",
              " 'afraid',\n",
              " 'afraid)',\n",
              " 'africa',\n",
              " 'after',\n",
              " 'aftermath',\n",
              " 'afternoon',\n",
              " 'again',\n",
              " 'again)',\n",
              " 'again.',\n",
              " 'again...',\n",
              " 'again?',\n",
              " 'against',\n",
              " 'age',\n",
              " 'ago',\n",
              " 'agree',\n",
              " 'aguilera',\n",
              " 'ah',\n",
              " 'ah-ah',\n",
              " 'ah-ha-ha-ha',\n",
              " 'ah-yo',\n",
              " 'aha',\n",
              " 'ahead',\n",
              " 'ahead)',\n",
              " 'ahh',\n",
              " 'ahhh...',\n",
              " 'aid',\n",
              " 'aight',\n",
              " 'aim',\n",
              " 'aimed',\n",
              " 'ain',\n",
              " \"ain't\",\n",
              " 'air',\n",
              " 'air-o-plane',\n",
              " 'air?',\n",
              " 'aire',\n",
              " 'airs',\n",
              " 'aisle',\n",
              " 'aiy',\n",
              " 'ak',\n",
              " 'al',\n",
              " 'al-ready',\n",
              " 'aladdin:',\n",
              " 'alamo',\n",
              " 'album',\n",
              " 'albums',\n",
              " 'albuquerque',\n",
              " 'ale.',\n",
              " 'alegria',\n",
              " 'aleluya',\n",
              " 'alias',\n",
              " 'alibis',\n",
              " 'alien',\n",
              " 'alien.',\n",
              " 'alight',\n",
              " 'alike',\n",
              " 'alive',\n",
              " 'alive.',\n",
              " 'all',\n",
              " 'all)',\n",
              " 'all.',\n",
              " 'all?',\n",
              " 'alle',\n",
              " 'alleluia',\n",
              " 'alleluia!',\n",
              " 'allen',\n",
              " 'allentown',\n",
              " 'alles',\n",
              " 'alleyway',\n",
              " 'alligator',\n",
              " \"allison's\",\n",
              " 'allow',\n",
              " 'allow.',\n",
              " 'allowed',\n",
              " 'ally',\n",
              " 'almost',\n",
              " 'alone',\n",
              " 'alone)',\n",
              " 'along',\n",
              " 'along-',\n",
              " 'along.',\n",
              " 'alphabet',\n",
              " 'already',\n",
              " 'alright',\n",
              " 'alright?',\n",
              " 'also',\n",
              " 'altar',\n",
              " 'alternative',\n",
              " 'although',\n",
              " 'alumni',\n",
              " 'always',\n",
              " 'am',\n",
              " 'am?',\n",
              " 'amadeus',\n",
              " 'amarillo',\n",
              " \"amarillo's\",\n",
              " 'amazed',\n",
              " \"amazin'\",\n",
              " 'amazing',\n",
              " 'amber',\n",
              " 'ambition',\n",
              " 'amelia',\n",
              " 'america',\n",
              " 'american',\n",
              " 'ammo',\n",
              " 'ammonia',\n",
              " 'among',\n",
              " 'amor',\n",
              " 'amounts',\n",
              " 'amsterdam',\n",
              " 'amuse',\n",
              " 'an',\n",
              " \"an'\",\n",
              " 'analyst',\n",
              " 'ancient',\n",
              " 'and',\n",
              " \"and'rer\",\n",
              " 'and-a',\n",
              " 'anew',\n",
              " 'angel',\n",
              " \"angelica's\",\n",
              " 'angels',\n",
              " 'angels;',\n",
              " 'angles',\n",
              " 'angry',\n",
              " 'anguish',\n",
              " 'animal',\n",
              " 'animals',\n",
              " 'anime',\n",
              " 'anne',\n",
              " 'annoy',\n",
              " 'another',\n",
              " \"another's\",\n",
              " 'another.',\n",
              " \"anschau'n\",\n",
              " 'anspricht',\n",
              " 'answer',\n",
              " 'answered',\n",
              " 'answering',\n",
              " 'answers',\n",
              " 'antelopes',\n",
              " 'anthems',\n",
              " 'anthony',\n",
              " 'anthrax',\n",
              " 'anti-christ',\n",
              " 'anticipating',\n",
              " 'antidote',\n",
              " 'antidote.',\n",
              " 'antone',\n",
              " 'anxiety',\n",
              " 'any',\n",
              " 'anybody',\n",
              " \"anybody's\",\n",
              " 'anymore',\n",
              " 'anyone',\n",
              " 'anything',\n",
              " 'anything.',\n",
              " 'anytime',\n",
              " 'anyway',\n",
              " 'anyway)',\n",
              " 'anyways',\n",
              " 'anywhere',\n",
              " 'anywhere.',\n",
              " 'apart',\n",
              " 'apart)',\n",
              " 'apart.',\n",
              " 'apartment',\n",
              " 'apex',\n",
              " 'apologies',\n",
              " 'apologize',\n",
              " 'apology',\n",
              " 'apparel',\n",
              " 'appeal',\n",
              " 'appealing',\n",
              " 'appear',\n",
              " 'appeared',\n",
              " 'appears',\n",
              " 'appetite',\n",
              " 'apple',\n",
              " 'apply',\n",
              " 'appreciate',\n",
              " 'approach',\n",
              " 'aquaman',\n",
              " 'arcade',\n",
              " 'archie',\n",
              " 'architect',\n",
              " 'are',\n",
              " 'are)',\n",
              " 'are-a-why',\n",
              " 'areas',\n",
              " \"aren't\",\n",
              " 'arena',\n",
              " 'ares',\n",
              " 'argue',\n",
              " 'arise',\n",
              " 'arizona',\n",
              " 'arkansas',\n",
              " 'arm',\n",
              " \"arm's\",\n",
              " 'armchair',\n",
              " 'arms',\n",
              " 'arms;',\n",
              " 'army',\n",
              " 'around',\n",
              " 'around)',\n",
              " 'around.',\n",
              " 'around?',\n",
              " 'arrange',\n",
              " 'arrangements',\n",
              " 'arrant',\n",
              " 'arrival',\n",
              " 'arrive',\n",
              " 'arrow',\n",
              " 'arsenal',\n",
              " 'art',\n",
              " 'artis',\n",
              " \"artist's\",\n",
              " 'as',\n",
              " 'asap',\n",
              " 'ascap-ped',\n",
              " 'ashamed',\n",
              " 'ashen',\n",
              " 'ashes',\n",
              " 'aside',\n",
              " 'ask',\n",
              " 'ask?',\n",
              " 'asked',\n",
              " \"askin'\",\n",
              " 'asking',\n",
              " 'asks',\n",
              " 'asleep',\n",
              " 'ass',\n",
              " 'assail',\n",
              " 'assassin',\n",
              " 'assassins',\n",
              " 'asses',\n",
              " 'asshole',\n",
              " 'asshole!',\n",
              " 'assume',\n",
              " 'assure',\n",
              " 'astral',\n",
              " 'astray',\n",
              " 'asured',\n",
              " 'asylum',\n",
              " 'at',\n",
              " 'at?',\n",
              " 'atheist',\n",
              " 'athletic',\n",
              " 'atl',\n",
              " 'atlanta',\n",
              " 'attack',\n",
              " 'attempt',\n",
              " \"attemptin'\",\n",
              " 'attend',\n",
              " 'attention',\n",
              " 'attitude',\n",
              " 'attitude)',\n",
              " 'attracted',\n",
              " 'attracting',\n",
              " 'attraction',\n",
              " 'au',\n",
              " 'aubrey',\n",
              " 'auch',\n",
              " 'audience',\n",
              " 'audio',\n",
              " 'auditorium',\n",
              " 'auf',\n",
              " 'auld',\n",
              " 'aunt',\n",
              " \"aunt's\",\n",
              " 'authority',\n",
              " 'autograph',\n",
              " 'autograph?)',\n",
              " 'autographs',\n",
              " 'automatic',\n",
              " 'automatically',\n",
              " 'automobiles',\n",
              " 'autumn',\n",
              " 'avalanche',\n",
              " 'avalon',\n",
              " 'avec',\n",
              " 'avenue',\n",
              " 'average',\n",
              " 'avoid',\n",
              " 'aw',\n",
              " 'awake',\n",
              " 'aware',\n",
              " 'away',\n",
              " 'away!',\n",
              " 'away)',\n",
              " 'away.',\n",
              " 'away?',\n",
              " 'aways',\n",
              " 'awful',\n",
              " 'awfully',\n",
              " 'awhile',\n",
              " 'awkward',\n",
              " 'awoken',\n",
              " 'aww',\n",
              " 'axe',\n",
              " 'ay',\n",
              " 'ay-y-y',\n",
              " 'ay-y-y-ay',\n",
              " 'aye',\n",
              " 'b',\n",
              " 'b-a-b-y',\n",
              " 'ba',\n",
              " 'ba-ba',\n",
              " 'ba-do',\n",
              " 'baa',\n",
              " 'babay',\n",
              " 'babe',\n",
              " 'babe...',\n",
              " 'babes',\n",
              " 'babies',\n",
              " 'baby',\n",
              " 'baby!',\n",
              " \"baby's\",\n",
              " 'baby)',\n",
              " 'baby.',\n",
              " 'baby?',\n",
              " 'babylon',\n",
              " 'babysit?',\n",
              " 'bacall',\n",
              " 'back',\n",
              " 'back)',\n",
              " 'back?',\n",
              " 'backs',\n",
              " 'backstreet',\n",
              " \"backstreet's\",\n",
              " 'backwards',\n",
              " \"backyard's\",\n",
              " 'bad',\n",
              " 'bad-tasting',\n",
              " 'baddest',\n",
              " 'badge',\n",
              " 'badness',\n",
              " 'bag',\n",
              " \"bag's\",\n",
              " 'bag?',\n",
              " 'bagged',\n",
              " 'baggy',\n",
              " 'baghdad',\n",
              " 'bags',\n",
              " 'bail',\n",
              " 'bailamos',\n",
              " 'bailamos)',\n",
              " 'bait',\n",
              " 'bake',\n",
              " 'baker',\n",
              " 'balance',\n",
              " 'bali',\n",
              " 'ball',\n",
              " 'balled',\n",
              " 'ballers',\n",
              " 'balloon',\n",
              " 'balloon?',\n",
              " 'balls',\n",
              " 'balls.',\n",
              " 'balls?',\n",
              " 'balzac',\n",
              " 'ban',\n",
              " 'banana',\n",
              " 'banana)',\n",
              " 'band',\n",
              " 'bandits',\n",
              " 'bane',\n",
              " 'bang',\n",
              " 'bang-bang',\n",
              " 'bang...',\n",
              " 'banging',\n",
              " 'bank',\n",
              " 'banken',\n",
              " 'banker',\n",
              " 'bankroll',\n",
              " 'baptized',\n",
              " 'bar',\n",
              " 'barbed',\n",
              " 'bare',\n",
              " 'barely',\n",
              " 'barking',\n",
              " 'barnes?',\n",
              " 'barred',\n",
              " 'barrel',\n",
              " 'barren',\n",
              " 'barricade',\n",
              " 'barrier',\n",
              " 'barrio',\n",
              " 'barry',\n",
              " 'bars',\n",
              " 'bartender',\n",
              " 'base',\n",
              " 'base-head!',\n",
              " 'based',\n",
              " 'basement',\n",
              " \"bashin'\",\n",
              " 'basis',\n",
              " 'bass',\n",
              " 'bates',\n",
              " 'bath',\n",
              " 'bathe',\n",
              " 'bathrobe',\n",
              " 'bathroom',\n",
              " 'baths',\n",
              " 'battle',\n",
              " 'battling',\n",
              " 'bay',\n",
              " 'bazaar',\n",
              " 'be',\n",
              " \"be's\",\n",
              " 'be)',\n",
              " 'be-be-better',\n",
              " 'be-bop-a-lula',\n",
              " 'be-dop',\n",
              " 'be-e-ell',\n",
              " 'be.',\n",
              " 'be?',\n",
              " 'beach',\n",
              " 'beads',\n",
              " 'beams',\n",
              " 'beans',\n",
              " 'bear',\n",
              " 'beard',\n",
              " 'bearing',\n",
              " 'beast',\n",
              " 'beastie',\n",
              " 'beat',\n",
              " 'beat!',\n",
              " \"beat's\",\n",
              " 'beat.',\n",
              " 'beating',\n",
              " 'beatles',\n",
              " 'beats',\n",
              " 'beatz',\n",
              " 'beau',\n",
              " 'beaujolais',\n",
              " 'beautiful',\n",
              " 'beauty',\n",
              " 'became',\n",
              " 'because',\n",
              " 'because)',\n",
              " 'because...',\n",
              " ...]"
            ]
          },
          "metadata": {
            "tags": []
          },
          "execution_count": 19
        }
      ]
    },
    {
      "cell_type": "markdown",
      "metadata": {
        "id": "DDGymrK0iAFU"
      },
      "source": [
        "### Explore midi files"
      ]
    },
    {
      "cell_type": "code",
      "metadata": {
        "id": "9lSsQqgfa6JU",
        "colab": {
          "base_uri": "https://localhost:8080/"
        },
        "outputId": "e91132bb-c50e-4b04-ea81-74f0fecb9504"
      },
      "source": [
        "# midi files exploration\n",
        "for midi_object in midi_data.values():\n",
        "  print('There are {} time signature changes'.format(len(midi_object.time_signature_changes)))\n",
        "  print('There are {} instruments'.format(len(midi_object.instruments)))\n",
        "  print('Instrument 3 has {} notes'.format(len(midi_object.instruments[0].notes)))\n",
        "  print('Instrument 4 has {} pitch bends'.format(len(midi_object.instruments[4].pitch_bends)))\n",
        "  print('Instrument 5 has {} control changes'.format(len(midi_object.instruments[5].control_changes)))\n",
        "  print(midi_object.key_signature_changes)\n",
        "  print(midi_object.instruments)\n",
        "  print(midi_object.instruments[0].notes)\n",
        "  print(midi_object.instruments[0].pitch_bends)\n",
        "  print(midi_object.instruments[0].control_changes)\n",
        "  # plt.figure(figsize=(8, 4))\n",
        "  # plot_piano_roll(midi_object, 24, 84)\n",
        "  break"
      ],
      "execution_count": 20,
      "outputs": [
        {
          "output_type": "stream",
          "text": [
            "There are 1 time signature changes\n",
            "There are 10 instruments\n",
            "Instrument 3 has 2698 notes\n",
            "Instrument 4 has 0 pitch bends\n",
            "Instrument 5 has 2 control changes\n",
            "[KeySignature(key_number=0, time=0.0)]\n",
            "[Instrument(program=27, is_drum=False, name=\"guitar\"), Instrument(program=30, is_drum=False, name=\"guitar\"), Instrument(program=33, is_drum=False, name=\"guitar\"), Instrument(program=29, is_drum=False, name=\"guitar\"), Instrument(program=33, is_drum=False, name=\"bass\"), Instrument(program=84, is_drum=False, name=\"synth\"), Instrument(program=84, is_drum=False, name=\"synth\"), Instrument(program=119, is_drum=False, name=\"cymbal\"), Instrument(program=50, is_drum=False, name=\"synth\"), Instrument(program=0, is_drum=True, name=\"drums\")]\n",
            "[Note(start=1.371428, end=1.542856, pitch=44, velocity=127), Note(start=1.371428, end=1.542856, pitch=32, velocity=127), Note(start=1.542856, end=1.714285, pitch=32, velocity=127), Note(start=1.542856, end=1.714285, pitch=44, velocity=127), Note(start=1.714285, end=1.885713, pitch=32, velocity=127), Note(start=1.714285, end=1.885713, pitch=44, velocity=127), Note(start=1.714285, end=1.885713, pitch=54, velocity=127), Note(start=1.885713, end=2.057142, pitch=32, velocity=127), Note(start=1.885713, end=2.057142, pitch=44, velocity=127), Note(start=2.057142, end=2.228571, pitch=32, velocity=127), Note(start=2.057142, end=2.228571, pitch=44, velocity=127), Note(start=2.228571, end=2.399999, pitch=44, velocity=127), Note(start=2.228571, end=2.399999, pitch=32, velocity=127), Note(start=2.228571, end=2.399999, pitch=54, velocity=127), Note(start=2.399999, end=2.571427, pitch=32, velocity=127), Note(start=2.399999, end=2.571427, pitch=44, velocity=127), Note(start=2.571427, end=2.742856, pitch=32, velocity=127), Note(start=2.571427, end=2.742856, pitch=44, velocity=127), Note(start=2.742856, end=2.914284, pitch=44, velocity=127), Note(start=2.742856, end=2.914284, pitch=32, velocity=127), Note(start=2.742856, end=2.914284, pitch=54, velocity=127), Note(start=2.914284, end=3.085713, pitch=32, velocity=127), Note(start=2.914284, end=3.085713, pitch=44, velocity=127), Note(start=3.085713, end=3.257141, pitch=32, velocity=127), Note(start=3.085713, end=3.257141, pitch=44, velocity=127), Note(start=3.257141, end=3.428570, pitch=44, velocity=127), Note(start=3.257141, end=3.428570, pitch=32, velocity=127), Note(start=3.257141, end=3.428570, pitch=54, velocity=127), Note(start=3.428570, end=3.599998, pitch=32, velocity=127), Note(start=3.428570, end=3.599998, pitch=44, velocity=127), Note(start=3.599998, end=3.771427, pitch=32, velocity=127), Note(start=3.599998, end=3.771427, pitch=44, velocity=127), Note(start=3.771427, end=3.942855, pitch=44, velocity=127), Note(start=3.771427, end=3.942855, pitch=32, velocity=127), Note(start=3.771427, end=3.942855, pitch=54, velocity=127), Note(start=3.942855, end=4.114284, pitch=32, velocity=127), Note(start=3.942855, end=4.114284, pitch=44, velocity=127), Note(start=4.114284, end=4.285712, pitch=44, velocity=127), Note(start=4.114284, end=4.285712, pitch=32, velocity=127), Note(start=4.285712, end=4.457141, pitch=32, velocity=127), Note(start=4.285712, end=4.457141, pitch=44, velocity=127), Note(start=4.457141, end=4.628569, pitch=32, velocity=127), Note(start=4.457141, end=4.628569, pitch=44, velocity=127), Note(start=4.457141, end=4.628569, pitch=54, velocity=127), Note(start=4.628569, end=4.799998, pitch=32, velocity=127), Note(start=4.628569, end=4.799998, pitch=44, velocity=127), Note(start=4.799998, end=4.971426, pitch=32, velocity=127), Note(start=4.799998, end=4.971426, pitch=44, velocity=127), Note(start=4.971426, end=5.142855, pitch=44, velocity=127), Note(start=4.971426, end=5.142855, pitch=32, velocity=127), Note(start=4.971426, end=5.142855, pitch=54, velocity=127), Note(start=5.142855, end=5.314283, pitch=32, velocity=127), Note(start=5.142855, end=5.314283, pitch=44, velocity=127), Note(start=5.314283, end=5.485712, pitch=32, velocity=127), Note(start=5.314283, end=5.485712, pitch=44, velocity=127), Note(start=5.485712, end=5.657140, pitch=44, velocity=127), Note(start=5.485712, end=5.657140, pitch=32, velocity=127), Note(start=5.485712, end=5.657140, pitch=54, velocity=127), Note(start=5.657140, end=5.828569, pitch=32, velocity=127), Note(start=5.657140, end=5.828569, pitch=44, velocity=127), Note(start=5.828569, end=5.999997, pitch=32, velocity=127), Note(start=5.828569, end=5.999997, pitch=44, velocity=127), Note(start=5.999997, end=6.171426, pitch=44, velocity=127), Note(start=5.999997, end=6.171426, pitch=32, velocity=127), Note(start=5.999997, end=6.171426, pitch=54, velocity=127), Note(start=6.171426, end=6.342854, pitch=32, velocity=127), Note(start=6.171426, end=6.342854, pitch=44, velocity=127), Note(start=6.342854, end=6.514283, pitch=32, velocity=127), Note(start=6.342854, end=6.514283, pitch=44, velocity=127), Note(start=6.514283, end=6.857140, pitch=42, velocity=127), Note(start=6.514283, end=6.857140, pitch=32, velocity=127), Note(start=6.514283, end=6.857140, pitch=54, velocity=127), Note(start=6.857140, end=7.028568, pitch=44, velocity=127), Note(start=6.857140, end=7.028568, pitch=32, velocity=127), Note(start=7.028568, end=7.199997, pitch=32, velocity=127), Note(start=7.028568, end=7.199997, pitch=44, velocity=127), Note(start=7.199997, end=7.371425, pitch=32, velocity=127), Note(start=7.199997, end=7.371425, pitch=44, velocity=127), Note(start=7.199997, end=7.371425, pitch=54, velocity=127), Note(start=7.371425, end=7.542854, pitch=32, velocity=127), Note(start=7.371425, end=7.542854, pitch=44, velocity=127), Note(start=7.542854, end=7.714282, pitch=32, velocity=127), Note(start=7.542854, end=7.714282, pitch=44, velocity=127), Note(start=7.714282, end=7.885711, pitch=44, velocity=127), Note(start=7.714282, end=7.885711, pitch=32, velocity=127), Note(start=7.714282, end=7.885711, pitch=54, velocity=127), Note(start=7.885711, end=8.057139, pitch=32, velocity=127), Note(start=7.885711, end=8.057139, pitch=44, velocity=127), Note(start=8.057139, end=8.228568, pitch=32, velocity=127), Note(start=8.057139, end=8.228568, pitch=44, velocity=127), Note(start=8.228568, end=8.399996, pitch=44, velocity=127), Note(start=8.228568, end=8.399996, pitch=32, velocity=127), Note(start=8.228568, end=8.399996, pitch=54, velocity=127), Note(start=8.399996, end=8.571425, pitch=32, velocity=127), Note(start=8.399996, end=8.571425, pitch=44, velocity=127), Note(start=8.571425, end=8.742853, pitch=32, velocity=127), Note(start=8.571425, end=8.742853, pitch=44, velocity=127), Note(start=8.742853, end=8.914282, pitch=44, velocity=127), Note(start=8.742853, end=8.914282, pitch=32, velocity=127), Note(start=8.742853, end=8.914282, pitch=54, velocity=127), Note(start=8.914282, end=9.085710, pitch=32, velocity=127), Note(start=8.914282, end=9.085710, pitch=44, velocity=127), Note(start=9.085710, end=9.257139, pitch=32, velocity=127), Note(start=9.085710, end=9.257139, pitch=44, velocity=127), Note(start=9.257139, end=9.599996, pitch=42, velocity=127), Note(start=9.257139, end=9.599996, pitch=32, velocity=127), Note(start=9.257139, end=9.599996, pitch=54, velocity=127), Note(start=9.599996, end=9.771424, pitch=44, velocity=127), Note(start=9.599996, end=9.771424, pitch=32, velocity=127), Note(start=9.771424, end=9.942853, pitch=32, velocity=127), Note(start=9.771424, end=9.942853, pitch=44, velocity=127), Note(start=9.942853, end=10.114281, pitch=32, velocity=127), Note(start=9.942853, end=10.114281, pitch=44, velocity=127), Note(start=9.942853, end=10.114281, pitch=54, velocity=127), Note(start=10.114281, end=10.285710, pitch=32, velocity=127), Note(start=10.114281, end=10.285710, pitch=44, velocity=127), Note(start=10.285710, end=10.457138, pitch=32, velocity=127), Note(start=10.285710, end=10.457138, pitch=44, velocity=127), Note(start=10.457138, end=10.628567, pitch=44, velocity=127), Note(start=10.457138, end=10.628567, pitch=32, velocity=127), Note(start=10.457138, end=10.628567, pitch=54, velocity=127), Note(start=10.628567, end=10.799995, pitch=32, velocity=127), Note(start=10.628567, end=10.799995, pitch=44, velocity=127), Note(start=10.799995, end=10.971424, pitch=32, velocity=127), Note(start=10.799995, end=10.971424, pitch=44, velocity=127), Note(start=10.971424, end=11.142852, pitch=44, velocity=127), Note(start=10.971424, end=11.142852, pitch=32, velocity=127), Note(start=10.971424, end=11.142852, pitch=54, velocity=127), Note(start=11.142852, end=11.314281, pitch=32, velocity=127), Note(start=11.142852, end=11.314281, pitch=44, velocity=127), Note(start=11.314281, end=11.485709, pitch=32, velocity=127), Note(start=11.314281, end=11.485709, pitch=44, velocity=127), Note(start=11.485709, end=11.657138, pitch=44, velocity=127), Note(start=11.485709, end=11.657138, pitch=32, velocity=127), Note(start=11.485709, end=11.657138, pitch=54, velocity=127), Note(start=11.657138, end=11.828566, pitch=32, velocity=127), Note(start=11.657138, end=11.828566, pitch=44, velocity=127), Note(start=11.828566, end=11.999995, pitch=32, velocity=127), Note(start=11.828566, end=11.999995, pitch=44, velocity=127), Note(start=11.999995, end=12.342852, pitch=42, velocity=127), Note(start=11.999995, end=12.342852, pitch=32, velocity=127), Note(start=11.999995, end=12.342852, pitch=54, velocity=127), Note(start=12.342852, end=12.514280, pitch=44, velocity=127), Note(start=12.342852, end=12.514280, pitch=32, velocity=127), Note(start=12.514280, end=12.685709, pitch=32, velocity=127), Note(start=12.514280, end=12.685709, pitch=44, velocity=127), Note(start=12.685709, end=12.857137, pitch=32, velocity=127), Note(start=12.685709, end=12.857137, pitch=44, velocity=127), Note(start=12.685709, end=12.857137, pitch=54, velocity=127), Note(start=12.857137, end=13.028566, pitch=32, velocity=127), Note(start=12.857137, end=13.028566, pitch=44, velocity=127), Note(start=13.028566, end=13.199994, pitch=32, velocity=127), Note(start=13.028566, end=13.199994, pitch=44, velocity=127), Note(start=13.199994, end=13.371423, pitch=44, velocity=127), Note(start=13.199994, end=13.371423, pitch=32, velocity=127), Note(start=13.199994, end=13.371423, pitch=54, velocity=127), Note(start=13.371423, end=13.542851, pitch=32, velocity=127), Note(start=13.371423, end=13.542851, pitch=44, velocity=127), Note(start=13.542851, end=13.714280, pitch=32, velocity=127), Note(start=13.542851, end=13.714280, pitch=44, velocity=127), Note(start=13.714280, end=13.885708, pitch=44, velocity=127), Note(start=13.714280, end=13.885708, pitch=32, velocity=127), Note(start=13.714280, end=13.885708, pitch=54, velocity=127), Note(start=13.885708, end=14.057137, pitch=32, velocity=127), Note(start=13.885708, end=14.057137, pitch=44, velocity=127), Note(start=14.057137, end=14.228565, pitch=32, velocity=127), Note(start=14.057137, end=14.228565, pitch=44, velocity=127), Note(start=14.228565, end=14.399994, pitch=44, velocity=127), Note(start=14.228565, end=14.399994, pitch=32, velocity=127), Note(start=14.228565, end=14.399994, pitch=54, velocity=127), Note(start=14.399994, end=14.571422, pitch=32, velocity=127), Note(start=14.399994, end=14.571422, pitch=44, velocity=127), Note(start=14.571422, end=14.742851, pitch=32, velocity=127), Note(start=14.571422, end=14.742851, pitch=44, velocity=127), Note(start=14.742851, end=15.085708, pitch=42, velocity=127), Note(start=14.742851, end=15.085708, pitch=32, velocity=127), Note(start=14.742851, end=15.085708, pitch=54, velocity=127), Note(start=15.085708, end=15.257136, pitch=44, velocity=127), Note(start=15.085708, end=15.257136, pitch=32, velocity=127), Note(start=15.257136, end=15.428565, pitch=32, velocity=127), Note(start=15.257136, end=15.428565, pitch=44, velocity=127), Note(start=15.428565, end=15.599993, pitch=32, velocity=127), Note(start=15.428565, end=15.599993, pitch=44, velocity=127), Note(start=15.428565, end=15.599993, pitch=54, velocity=127), Note(start=15.599993, end=15.771422, pitch=32, velocity=127), Note(start=15.599993, end=15.771422, pitch=44, velocity=127), Note(start=15.771422, end=15.942850, pitch=32, velocity=127), Note(start=15.771422, end=15.942850, pitch=44, velocity=127), Note(start=15.942850, end=16.114279, pitch=44, velocity=127), Note(start=15.942850, end=16.114279, pitch=32, velocity=127), Note(start=15.942850, end=16.114279, pitch=54, velocity=127), Note(start=16.114279, end=16.285707, pitch=32, velocity=127), Note(start=16.114279, end=16.285707, pitch=44, velocity=127), Note(start=16.285707, end=16.457136, pitch=32, velocity=127), Note(start=16.285707, end=16.457136, pitch=44, velocity=127), Note(start=16.457136, end=16.628564, pitch=44, velocity=127), Note(start=16.457136, end=16.628564, pitch=32, velocity=127), Note(start=16.457136, end=16.628564, pitch=54, velocity=127), Note(start=16.628564, end=16.799993, pitch=32, velocity=127), Note(start=16.628564, end=16.799993, pitch=44, velocity=127), Note(start=16.799993, end=16.971421, pitch=32, velocity=127), Note(start=16.799993, end=16.971421, pitch=44, velocity=127), Note(start=16.971421, end=17.142850, pitch=44, velocity=127), Note(start=16.971421, end=17.142850, pitch=32, velocity=127), Note(start=16.971421, end=17.142850, pitch=54, velocity=127), Note(start=17.142850, end=17.314278, pitch=32, velocity=127), Note(start=17.142850, end=17.314278, pitch=44, velocity=127), Note(start=17.314278, end=17.485707, pitch=32, velocity=127), Note(start=17.314278, end=17.485707, pitch=44, velocity=127), Note(start=17.485707, end=17.828564, pitch=42, velocity=127), Note(start=17.485707, end=17.828564, pitch=32, velocity=127), Note(start=17.485707, end=17.828564, pitch=54, velocity=127), Note(start=17.828564, end=17.999992, pitch=44, velocity=127), Note(start=17.828564, end=17.999992, pitch=32, velocity=127), Note(start=17.999992, end=18.171421, pitch=32, velocity=127), Note(start=17.999992, end=18.171421, pitch=44, velocity=127), Note(start=18.171421, end=18.342849, pitch=32, velocity=127), Note(start=18.171421, end=18.342849, pitch=44, velocity=127), Note(start=18.171421, end=18.342849, pitch=54, velocity=127), Note(start=18.342849, end=18.514278, pitch=32, velocity=127), Note(start=18.342849, end=18.514278, pitch=44, velocity=127), Note(start=18.514278, end=18.685706, pitch=32, velocity=127), Note(start=18.514278, end=18.685706, pitch=44, velocity=127), Note(start=18.685706, end=18.857135, pitch=44, velocity=127), Note(start=18.685706, end=18.857135, pitch=32, velocity=127), Note(start=18.685706, end=18.857135, pitch=54, velocity=127), Note(start=18.857135, end=19.028563, pitch=32, velocity=127), Note(start=18.857135, end=19.028563, pitch=44, velocity=127), Note(start=19.028563, end=19.199992, pitch=32, velocity=127), Note(start=19.028563, end=19.199992, pitch=44, velocity=127), Note(start=19.199992, end=19.371420, pitch=44, velocity=127), Note(start=19.199992, end=19.371420, pitch=32, velocity=127), Note(start=19.199992, end=19.371420, pitch=54, velocity=127), Note(start=19.371420, end=19.542849, pitch=32, velocity=127), Note(start=19.371420, end=19.542849, pitch=44, velocity=127), Note(start=19.542849, end=19.714277, pitch=32, velocity=127), Note(start=19.542849, end=19.714277, pitch=44, velocity=127), Note(start=19.714277, end=19.885706, pitch=44, velocity=127), Note(start=19.714277, end=19.885706, pitch=32, velocity=127), Note(start=19.714277, end=19.885706, pitch=54, velocity=127), Note(start=19.885706, end=20.057134, pitch=32, velocity=127), Note(start=19.885706, end=20.057134, pitch=44, velocity=127), Note(start=20.057134, end=20.228563, pitch=32, velocity=127), Note(start=20.057134, end=20.228563, pitch=44, velocity=127), Note(start=20.228563, end=20.571420, pitch=42, velocity=127), Note(start=20.228563, end=20.571420, pitch=32, velocity=127), Note(start=20.228563, end=20.571420, pitch=54, velocity=127), Note(start=20.571420, end=20.742848, pitch=44, velocity=127), Note(start=20.571420, end=20.742848, pitch=32, velocity=127), Note(start=20.742848, end=20.914277, pitch=32, velocity=127), Note(start=20.742848, end=20.914277, pitch=44, velocity=127), Note(start=20.914277, end=21.085705, pitch=32, velocity=127), Note(start=20.914277, end=21.085705, pitch=44, velocity=127), Note(start=20.914277, end=21.085705, pitch=54, velocity=127), Note(start=21.085705, end=21.257134, pitch=32, velocity=127), Note(start=21.085705, end=21.257134, pitch=44, velocity=127), Note(start=21.257134, end=21.428562, pitch=32, velocity=127), Note(start=21.257134, end=21.428562, pitch=44, velocity=127), Note(start=21.428562, end=21.599991, pitch=44, velocity=127), Note(start=21.428562, end=21.599991, pitch=32, velocity=127), Note(start=21.428562, end=21.599991, pitch=54, velocity=127), Note(start=21.599991, end=21.771419, pitch=32, velocity=127), Note(start=21.599991, end=21.771419, pitch=44, velocity=127), Note(start=21.771419, end=21.942848, pitch=32, velocity=127), Note(start=21.771419, end=21.942848, pitch=44, velocity=127), Note(start=21.942848, end=22.114276, pitch=44, velocity=127), Note(start=21.942848, end=22.114276, pitch=32, velocity=127), Note(start=21.942848, end=22.114276, pitch=54, velocity=127), Note(start=22.114276, end=22.285705, pitch=32, velocity=127), Note(start=22.114276, end=22.285705, pitch=44, velocity=127), Note(start=22.285705, end=22.457133, pitch=32, velocity=127), Note(start=22.285705, end=22.457133, pitch=44, velocity=127), Note(start=22.457133, end=22.628562, pitch=44, velocity=127), Note(start=22.457133, end=22.628562, pitch=32, velocity=127), Note(start=22.457133, end=22.628562, pitch=54, velocity=127), Note(start=22.628562, end=22.799990, pitch=32, velocity=127), Note(start=22.628562, end=22.799990, pitch=44, velocity=127), Note(start=22.799990, end=22.971419, pitch=32, velocity=127), Note(start=22.799990, end=22.971419, pitch=44, velocity=127), Note(start=22.971419, end=23.314276, pitch=42, velocity=127), Note(start=22.971419, end=23.314276, pitch=32, velocity=127), Note(start=22.971419, end=23.314276, pitch=54, velocity=127), Note(start=23.314276, end=23.485704, pitch=44, velocity=127), Note(start=23.314276, end=23.485704, pitch=32, velocity=127), Note(start=23.485704, end=23.657133, pitch=32, velocity=127), Note(start=23.485704, end=23.657133, pitch=44, velocity=127), Note(start=23.657133, end=23.828561, pitch=32, velocity=127), Note(start=23.657133, end=23.828561, pitch=44, velocity=127), Note(start=23.657133, end=23.828561, pitch=54, velocity=127), Note(start=23.828561, end=23.999990, pitch=32, velocity=127), Note(start=23.828561, end=23.999990, pitch=44, velocity=127), Note(start=23.999990, end=24.171418, pitch=32, velocity=127), Note(start=23.999990, end=24.171418, pitch=44, velocity=127), Note(start=24.171418, end=24.342847, pitch=44, velocity=127), Note(start=24.171418, end=24.342847, pitch=32, velocity=127), Note(start=24.171418, end=24.342847, pitch=54, velocity=127), Note(start=24.342847, end=24.514275, pitch=32, velocity=127), Note(start=24.342847, end=24.514275, pitch=44, velocity=127), Note(start=24.514275, end=24.685704, pitch=32, velocity=127), Note(start=24.514275, end=24.685704, pitch=44, velocity=127), Note(start=24.685704, end=24.857132, pitch=44, velocity=127), Note(start=24.685704, end=24.857132, pitch=32, velocity=127), Note(start=24.685704, end=24.857132, pitch=54, velocity=127), Note(start=24.857132, end=25.028561, pitch=32, velocity=127), Note(start=24.857132, end=25.028561, pitch=44, velocity=127), Note(start=25.028561, end=25.199989, pitch=32, velocity=127), Note(start=25.028561, end=25.199989, pitch=44, velocity=127), Note(start=25.199989, end=25.371418, pitch=44, velocity=127), Note(start=25.199989, end=25.371418, pitch=32, velocity=127), Note(start=25.199989, end=25.371418, pitch=54, velocity=127), Note(start=25.371418, end=25.542846, pitch=32, velocity=127), Note(start=25.371418, end=25.542846, pitch=44, velocity=127), Note(start=25.542846, end=25.714275, pitch=32, velocity=127), Note(start=25.542846, end=25.714275, pitch=44, velocity=127), Note(start=25.714275, end=26.057132, pitch=42, velocity=127), Note(start=25.714275, end=26.057132, pitch=32, velocity=127), Note(start=25.714275, end=26.057132, pitch=54, velocity=127), Note(start=26.057132, end=26.228560, pitch=44, velocity=127), Note(start=26.057132, end=26.228560, pitch=32, velocity=127), Note(start=26.228560, end=26.399989, pitch=32, velocity=127), Note(start=26.228560, end=26.399989, pitch=44, velocity=127), Note(start=26.399989, end=26.571417, pitch=32, velocity=127), Note(start=26.399989, end=26.571417, pitch=44, velocity=127), Note(start=26.399989, end=26.571417, pitch=54, velocity=127), Note(start=26.571417, end=26.742846, pitch=32, velocity=127), Note(start=26.571417, end=26.742846, pitch=44, velocity=127), Note(start=26.742846, end=26.914274, pitch=32, velocity=127), Note(start=26.742846, end=26.914274, pitch=44, velocity=127), Note(start=26.914274, end=27.085703, pitch=44, velocity=127), Note(start=26.914274, end=27.085703, pitch=32, velocity=127), Note(start=26.914274, end=27.085703, pitch=54, velocity=127), Note(start=27.085703, end=27.257131, pitch=32, velocity=127), Note(start=27.085703, end=27.257131, pitch=44, velocity=127), Note(start=27.257131, end=27.428560, pitch=32, velocity=127), Note(start=27.257131, end=27.428560, pitch=44, velocity=127), Note(start=27.428560, end=27.599988, pitch=44, velocity=127), Note(start=27.428560, end=27.599988, pitch=32, velocity=127), Note(start=27.428560, end=27.599988, pitch=54, velocity=127), Note(start=27.599988, end=27.771417, pitch=32, velocity=127), Note(start=27.599988, end=27.771417, pitch=44, velocity=127), Note(start=27.771417, end=27.942845, pitch=32, velocity=127), Note(start=27.771417, end=27.942845, pitch=44, velocity=127), Note(start=27.942845, end=28.114274, pitch=44, velocity=127), Note(start=27.942845, end=28.114274, pitch=32, velocity=127), Note(start=27.942845, end=28.114274, pitch=54, velocity=127), Note(start=28.114274, end=28.285702, pitch=32, velocity=127), Note(start=28.114274, end=28.285702, pitch=44, velocity=127), Note(start=28.285702, end=28.457131, pitch=32, velocity=127), Note(start=28.285702, end=28.457131, pitch=44, velocity=127), Note(start=28.457131, end=28.799988, pitch=42, velocity=127), Note(start=28.457131, end=28.799988, pitch=32, velocity=127), Note(start=28.457131, end=28.799988, pitch=54, velocity=127), Note(start=28.799988, end=28.971416, pitch=44, velocity=127), Note(start=28.799988, end=28.971416, pitch=32, velocity=127), Note(start=28.971416, end=29.142845, pitch=32, velocity=127), Note(start=28.971416, end=29.142845, pitch=44, velocity=127), Note(start=29.142845, end=29.314273, pitch=32, velocity=127), Note(start=29.142845, end=29.314273, pitch=44, velocity=127), Note(start=29.142845, end=29.314273, pitch=54, velocity=127), Note(start=29.314273, end=29.485702, pitch=32, velocity=127), Note(start=29.314273, end=29.485702, pitch=44, velocity=127), Note(start=29.485702, end=29.657130, pitch=32, velocity=127), Note(start=29.485702, end=29.657130, pitch=44, velocity=127), Note(start=29.657130, end=29.828559, pitch=44, velocity=127), Note(start=29.657130, end=29.828559, pitch=32, velocity=127), Note(start=29.657130, end=29.828559, pitch=54, velocity=127), Note(start=29.828559, end=29.999987, pitch=32, velocity=127), Note(start=29.828559, end=29.999987, pitch=44, velocity=127), Note(start=29.999987, end=30.171416, pitch=32, velocity=127), Note(start=29.999987, end=30.171416, pitch=44, velocity=127), Note(start=30.171416, end=30.342844, pitch=44, velocity=127), Note(start=30.171416, end=30.342844, pitch=32, velocity=127), Note(start=30.171416, end=30.342844, pitch=54, velocity=127), Note(start=30.342844, end=30.514273, pitch=32, velocity=127), Note(start=30.342844, end=30.514273, pitch=44, velocity=127), Note(start=30.514273, end=30.685701, pitch=32, velocity=127), Note(start=30.514273, end=30.685701, pitch=44, velocity=127), Note(start=30.685701, end=30.857130, pitch=44, velocity=127), Note(start=30.685701, end=30.857130, pitch=32, velocity=127), Note(start=30.685701, end=30.857130, pitch=54, velocity=127), Note(start=30.857130, end=31.028558, pitch=32, velocity=127), Note(start=30.857130, end=31.028558, pitch=44, velocity=127), Note(start=31.028558, end=31.199987, pitch=32, velocity=127), Note(start=31.028558, end=31.199987, pitch=44, velocity=127), Note(start=31.199987, end=31.542844, pitch=42, velocity=127), Note(start=31.199987, end=31.542844, pitch=32, velocity=127), Note(start=31.199987, end=31.542844, pitch=54, velocity=127), Note(start=31.542844, end=31.714272, pitch=44, velocity=127), Note(start=31.542844, end=31.714272, pitch=32, velocity=127), Note(start=31.714272, end=31.885701, pitch=32, velocity=127), Note(start=31.714272, end=31.885701, pitch=44, velocity=127), Note(start=31.885701, end=32.057129, pitch=32, velocity=127), Note(start=31.885701, end=32.057129, pitch=44, velocity=127), Note(start=31.885701, end=32.057129, pitch=54, velocity=127), Note(start=32.057129, end=32.228558, pitch=32, velocity=127), Note(start=32.057129, end=32.228558, pitch=44, velocity=127), Note(start=32.228558, end=32.399986, pitch=32, velocity=127), Note(start=32.228558, end=32.399986, pitch=44, velocity=127), Note(start=32.399986, end=32.571415, pitch=44, velocity=127), Note(start=32.399986, end=32.571415, pitch=32, velocity=127), Note(start=32.399986, end=32.571415, pitch=54, velocity=127), Note(start=32.571415, end=32.742843, pitch=32, velocity=127), Note(start=32.571415, end=32.742843, pitch=44, velocity=127), Note(start=32.742843, end=32.914272, pitch=32, velocity=127), Note(start=32.742843, end=32.914272, pitch=44, velocity=127), Note(start=32.914272, end=33.085700, pitch=44, velocity=127), Note(start=32.914272, end=33.085700, pitch=32, velocity=127), Note(start=32.914272, end=33.085700, pitch=54, velocity=127), Note(start=33.085700, end=33.257129, pitch=32, velocity=127), Note(start=33.085700, end=33.257129, pitch=44, velocity=127), Note(start=33.257129, end=33.428557, pitch=32, velocity=127), Note(start=33.257129, end=33.428557, pitch=44, velocity=127), Note(start=33.428557, end=33.599986, pitch=44, velocity=127), Note(start=33.428557, end=33.599986, pitch=32, velocity=127), Note(start=33.428557, end=33.599986, pitch=54, velocity=127), Note(start=33.599986, end=33.771414, pitch=32, velocity=127), Note(start=33.599986, end=33.771414, pitch=44, velocity=127), Note(start=33.771414, end=33.942843, pitch=32, velocity=127), Note(start=33.771414, end=33.942843, pitch=44, velocity=127), Note(start=33.942843, end=34.285700, pitch=42, velocity=127), Note(start=33.942843, end=34.285700, pitch=32, velocity=127), Note(start=33.942843, end=34.285700, pitch=54, velocity=127), Note(start=34.285700, end=34.457128, pitch=44, velocity=127), Note(start=34.285700, end=34.457128, pitch=32, velocity=127), Note(start=34.457128, end=34.628557, pitch=32, velocity=127), Note(start=34.457128, end=34.628557, pitch=44, velocity=127), Note(start=34.628557, end=34.799985, pitch=32, velocity=127), Note(start=34.628557, end=34.799985, pitch=44, velocity=127), Note(start=34.628557, end=34.799985, pitch=54, velocity=127), Note(start=34.799985, end=34.971414, pitch=32, velocity=127), Note(start=34.799985, end=34.971414, pitch=44, velocity=127), Note(start=34.971414, end=35.142843, pitch=32, velocity=127), Note(start=34.971414, end=35.142843, pitch=44, velocity=127), Note(start=35.142843, end=35.314271, pitch=44, velocity=127), Note(start=35.142843, end=35.314271, pitch=32, velocity=127), Note(start=35.142843, end=35.314271, pitch=54, velocity=127), Note(start=35.314271, end=35.485699, pitch=32, velocity=127), Note(start=35.314271, end=35.485699, pitch=44, velocity=127), Note(start=35.485699, end=35.657128, pitch=32, velocity=127), Note(start=35.485699, end=35.657128, pitch=44, velocity=127), Note(start=35.657128, end=35.828556, pitch=44, velocity=127), Note(start=35.657128, end=35.828556, pitch=32, velocity=127), Note(start=35.657128, end=35.828556, pitch=54, velocity=127), Note(start=35.828556, end=35.999985, pitch=32, velocity=127), Note(start=35.828556, end=35.999985, pitch=44, velocity=127), Note(start=35.999985, end=36.171413, pitch=32, velocity=127), Note(start=35.999985, end=36.171413, pitch=44, velocity=127), Note(start=36.171413, end=36.342842, pitch=44, velocity=127), Note(start=36.171413, end=36.342842, pitch=32, velocity=127), Note(start=36.171413, end=36.342842, pitch=54, velocity=127), Note(start=36.342842, end=36.514270, pitch=32, velocity=127), Note(start=36.342842, end=36.514270, pitch=44, velocity=127), Note(start=36.514270, end=36.685699, pitch=32, velocity=127), Note(start=36.514270, end=36.685699, pitch=44, velocity=127), Note(start=36.685699, end=37.028556, pitch=42, velocity=127), Note(start=36.685699, end=37.028556, pitch=32, velocity=127), Note(start=36.685699, end=37.028556, pitch=54, velocity=127), Note(start=37.028556, end=37.199984, pitch=44, velocity=127), Note(start=37.028556, end=37.199984, pitch=32, velocity=127), Note(start=37.199984, end=37.371413, pitch=32, velocity=127), Note(start=37.199984, end=37.371413, pitch=44, velocity=127), Note(start=37.371413, end=37.542841, pitch=32, velocity=127), Note(start=37.371413, end=37.542841, pitch=44, velocity=127), Note(start=37.371413, end=37.542841, pitch=54, velocity=127), Note(start=37.542841, end=37.714270, pitch=32, velocity=127), Note(start=37.542841, end=37.714270, pitch=44, velocity=127), Note(start=37.714270, end=37.885698, pitch=32, velocity=127), Note(start=37.714270, end=37.885698, pitch=44, velocity=127), Note(start=37.885698, end=38.057127, pitch=44, velocity=127), Note(start=37.885698, end=38.057127, pitch=32, velocity=127), Note(start=37.885698, end=38.057127, pitch=54, velocity=127), Note(start=38.057127, end=38.228555, pitch=32, velocity=127), Note(start=38.057127, end=38.228555, pitch=44, velocity=127), Note(start=38.228555, end=38.399984, pitch=32, velocity=127), Note(start=38.228555, end=38.399984, pitch=44, velocity=127), Note(start=38.399984, end=38.571412, pitch=44, velocity=127), Note(start=38.399984, end=38.571412, pitch=32, velocity=127), Note(start=38.399984, end=38.571412, pitch=54, velocity=127), Note(start=38.571412, end=38.742841, pitch=32, velocity=127), Note(start=38.571412, end=38.742841, pitch=44, velocity=127), Note(start=38.742841, end=38.914269, pitch=32, velocity=127), Note(start=38.742841, end=38.914269, pitch=44, velocity=127), Note(start=38.914269, end=39.085698, pitch=44, velocity=127), Note(start=38.914269, end=39.085698, pitch=32, velocity=127), Note(start=38.914269, end=39.085698, pitch=54, velocity=127), Note(start=39.085698, end=39.257126, pitch=32, velocity=127), Note(start=39.085698, end=39.257126, pitch=44, velocity=127), Note(start=39.257126, end=39.428555, pitch=32, velocity=127), Note(start=39.257126, end=39.428555, pitch=44, velocity=127), Note(start=39.428555, end=39.771412, pitch=42, velocity=127), Note(start=39.428555, end=39.771412, pitch=32, velocity=127), Note(start=39.428555, end=39.771412, pitch=54, velocity=127), Note(start=39.771412, end=39.942840, pitch=44, velocity=127), Note(start=39.771412, end=39.942840, pitch=32, velocity=127), Note(start=39.942840, end=40.114269, pitch=32, velocity=127), Note(start=39.942840, end=40.114269, pitch=44, velocity=127), Note(start=40.114269, end=40.285697, pitch=32, velocity=127), Note(start=40.114269, end=40.285697, pitch=44, velocity=127), Note(start=40.114269, end=40.285697, pitch=54, velocity=127), Note(start=40.285697, end=40.457126, pitch=32, velocity=127), Note(start=40.285697, end=40.457126, pitch=44, velocity=127), Note(start=40.457126, end=40.628554, pitch=32, velocity=127), Note(start=40.457126, end=40.628554, pitch=44, velocity=127), Note(start=40.628554, end=40.799983, pitch=44, velocity=127), Note(start=40.628554, end=40.799983, pitch=32, velocity=127), Note(start=40.628554, end=40.799983, pitch=54, velocity=127), Note(start=40.799983, end=40.971411, pitch=32, velocity=127), Note(start=40.799983, end=40.971411, pitch=44, velocity=127), Note(start=40.971411, end=41.142840, pitch=32, velocity=127), Note(start=40.971411, end=41.142840, pitch=44, velocity=127), Note(start=41.142840, end=41.314268, pitch=44, velocity=127), Note(start=41.142840, end=41.314268, pitch=32, velocity=127), Note(start=41.142840, end=41.314268, pitch=54, velocity=127), Note(start=41.314268, end=41.485697, pitch=32, velocity=127), Note(start=41.314268, end=41.485697, pitch=44, velocity=127), Note(start=41.485697, end=41.657125, pitch=32, velocity=127), Note(start=41.485697, end=41.657125, pitch=44, velocity=127), Note(start=41.657125, end=41.828554, pitch=44, velocity=127), Note(start=41.657125, end=41.828554, pitch=32, velocity=127), Note(start=41.657125, end=41.828554, pitch=54, velocity=127), Note(start=41.828554, end=41.999982, pitch=32, velocity=127), Note(start=41.828554, end=41.999982, pitch=44, velocity=127), Note(start=41.999982, end=42.171411, pitch=32, velocity=127), Note(start=41.999982, end=42.171411, pitch=44, velocity=127), Note(start=42.171411, end=42.514268, pitch=42, velocity=127), Note(start=42.171411, end=42.514268, pitch=32, velocity=127), Note(start=42.171411, end=42.514268, pitch=54, velocity=127), Note(start=42.514268, end=42.685696, pitch=44, velocity=127), Note(start=42.514268, end=42.685696, pitch=32, velocity=127), Note(start=42.685696, end=42.857125, pitch=32, velocity=127), Note(start=42.685696, end=42.857125, pitch=44, velocity=127), Note(start=42.857125, end=43.028553, pitch=32, velocity=127), Note(start=42.857125, end=43.028553, pitch=44, velocity=127), Note(start=42.857125, end=43.028553, pitch=54, velocity=127), Note(start=43.028553, end=43.199982, pitch=32, velocity=127), Note(start=43.028553, end=43.199982, pitch=44, velocity=127), Note(start=43.199982, end=43.371410, pitch=32, velocity=127), Note(start=43.199982, end=43.371410, pitch=44, velocity=127), Note(start=43.371410, end=43.542839, pitch=44, velocity=127), Note(start=43.371410, end=43.542839, pitch=32, velocity=127), Note(start=43.371410, end=43.542839, pitch=54, velocity=127), Note(start=43.542839, end=43.714267, pitch=32, velocity=127), Note(start=43.542839, end=43.714267, pitch=44, velocity=127), Note(start=43.714267, end=43.885696, pitch=32, velocity=127), Note(start=43.714267, end=43.885696, pitch=44, velocity=127), Note(start=43.885696, end=44.057124, pitch=44, velocity=127), Note(start=43.885696, end=44.057124, pitch=32, velocity=127), Note(start=43.885696, end=44.057124, pitch=54, velocity=127), Note(start=44.057124, end=44.228553, pitch=32, velocity=127), Note(start=44.057124, end=44.228553, pitch=44, velocity=127), Note(start=44.228553, end=44.399981, pitch=32, velocity=127), Note(start=44.228553, end=44.399981, pitch=44, velocity=127), Note(start=44.399981, end=44.571410, pitch=44, velocity=127), Note(start=44.399981, end=44.571410, pitch=32, velocity=127), Note(start=44.399981, end=44.571410, pitch=54, velocity=127), Note(start=44.571410, end=44.742838, pitch=32, velocity=127), Note(start=44.571410, end=44.742838, pitch=44, velocity=127), Note(start=44.742838, end=44.914267, pitch=32, velocity=127), Note(start=44.742838, end=44.914267, pitch=44, velocity=127), Note(start=44.914267, end=45.257124, pitch=42, velocity=127), Note(start=44.914267, end=45.257124, pitch=32, velocity=127), Note(start=44.914267, end=45.257124, pitch=54, velocity=127), Note(start=45.257124, end=45.428552, pitch=44, velocity=127), Note(start=45.257124, end=45.428552, pitch=32, velocity=127), Note(start=45.428552, end=45.599981, pitch=32, velocity=127), Note(start=45.428552, end=45.599981, pitch=44, velocity=127), Note(start=45.599981, end=45.771409, pitch=32, velocity=127), Note(start=45.599981, end=45.771409, pitch=44, velocity=127), Note(start=45.599981, end=45.771409, pitch=54, velocity=127), Note(start=45.771409, end=45.942838, pitch=32, velocity=127), Note(start=45.771409, end=45.942838, pitch=44, velocity=127), Note(start=45.942838, end=46.114266, pitch=32, velocity=127), Note(start=45.942838, end=46.114266, pitch=44, velocity=127), Note(start=46.114266, end=46.285695, pitch=44, velocity=127), Note(start=46.114266, end=46.285695, pitch=32, velocity=127), Note(start=46.114266, end=46.285695, pitch=54, velocity=127), Note(start=46.285695, end=46.457123, pitch=32, velocity=127), Note(start=46.285695, end=46.457123, pitch=44, velocity=127), Note(start=46.457123, end=46.628552, pitch=32, velocity=127), Note(start=46.457123, end=46.628552, pitch=44, velocity=127), Note(start=46.628552, end=46.799980, pitch=44, velocity=127), Note(start=46.628552, end=46.799980, pitch=32, velocity=127), Note(start=46.628552, end=46.799980, pitch=54, velocity=127), Note(start=46.799980, end=46.971409, pitch=32, velocity=127), Note(start=46.799980, end=46.971409, pitch=44, velocity=127), Note(start=46.971409, end=47.142837, pitch=32, velocity=127), Note(start=46.971409, end=47.142837, pitch=44, velocity=127), Note(start=47.142837, end=47.314266, pitch=44, velocity=127), Note(start=47.142837, end=47.314266, pitch=32, velocity=127), Note(start=47.142837, end=47.314266, pitch=54, velocity=127), Note(start=47.314266, end=47.485694, pitch=32, velocity=127), Note(start=47.314266, end=47.485694, pitch=44, velocity=127), Note(start=47.485694, end=47.657123, pitch=32, velocity=127), Note(start=47.485694, end=47.657123, pitch=44, velocity=127), Note(start=47.657123, end=47.999980, pitch=42, velocity=127), Note(start=47.657123, end=47.999980, pitch=32, velocity=127), Note(start=47.657123, end=47.999980, pitch=54, velocity=127), Note(start=47.999980, end=48.171408, pitch=44, velocity=127), Note(start=47.999980, end=48.171408, pitch=32, velocity=127), Note(start=48.171408, end=48.342837, pitch=32, velocity=127), Note(start=48.171408, end=48.342837, pitch=44, velocity=127), Note(start=48.342837, end=48.514265, pitch=32, velocity=127), Note(start=48.342837, end=48.514265, pitch=44, velocity=127), Note(start=48.342837, end=48.514265, pitch=54, velocity=127), Note(start=48.514265, end=48.685694, pitch=32, velocity=127), Note(start=48.514265, end=48.685694, pitch=44, velocity=127), Note(start=48.685694, end=48.857122, pitch=32, velocity=127), Note(start=48.685694, end=48.857122, pitch=44, velocity=127), Note(start=48.857122, end=49.028551, pitch=44, velocity=127), Note(start=48.857122, end=49.028551, pitch=32, velocity=127), Note(start=48.857122, end=49.028551, pitch=54, velocity=127), Note(start=49.028551, end=49.199979, pitch=32, velocity=127), Note(start=49.028551, end=49.199979, pitch=44, velocity=127), Note(start=49.199979, end=49.371408, pitch=32, velocity=127), Note(start=49.199979, end=49.371408, pitch=44, velocity=127), Note(start=49.371408, end=49.542836, pitch=44, velocity=127), Note(start=49.371408, end=49.542836, pitch=32, velocity=127), Note(start=49.371408, end=49.542836, pitch=54, velocity=127), Note(start=49.542836, end=49.714265, pitch=32, velocity=127), Note(start=49.542836, end=49.714265, pitch=44, velocity=127), Note(start=49.714265, end=49.885693, pitch=32, velocity=127), Note(start=49.714265, end=49.885693, pitch=44, velocity=127), Note(start=49.885693, end=50.057122, pitch=44, velocity=127), Note(start=49.885693, end=50.057122, pitch=32, velocity=127), Note(start=49.885693, end=50.057122, pitch=54, velocity=127), Note(start=50.057122, end=50.228550, pitch=32, velocity=127), Note(start=50.057122, end=50.228550, pitch=44, velocity=127), Note(start=50.228550, end=50.399979, pitch=32, velocity=127), Note(start=50.228550, end=50.399979, pitch=44, velocity=127), Note(start=50.399979, end=50.742836, pitch=42, velocity=127), Note(start=50.399979, end=50.742836, pitch=32, velocity=127), Note(start=50.399979, end=50.742836, pitch=54, velocity=127), Note(start=50.742836, end=50.914264, pitch=56, velocity=127), Note(start=50.742836, end=50.914264, pitch=44, velocity=127), Note(start=50.742836, end=50.914264, pitch=32, velocity=127), Note(start=50.914264, end=51.085693, pitch=56, velocity=127), Note(start=50.914264, end=51.085693, pitch=32, velocity=127), Note(start=50.914264, end=51.085693, pitch=44, velocity=127), Note(start=51.085693, end=51.257121, pitch=32, velocity=127), Note(start=51.085693, end=51.257121, pitch=44, velocity=127), Note(start=51.085693, end=51.257121, pitch=54, velocity=127), Note(start=51.257121, end=51.428550, pitch=56, velocity=127), Note(start=51.257121, end=51.428550, pitch=32, velocity=127), Note(start=51.257121, end=51.428550, pitch=44, velocity=127), Note(start=51.428550, end=51.599978, pitch=56, velocity=127), Note(start=51.428550, end=51.599978, pitch=32, velocity=127), Note(start=51.428550, end=51.599978, pitch=44, velocity=127), Note(start=51.599978, end=51.771407, pitch=44, velocity=127), Note(start=51.599978, end=51.771407, pitch=32, velocity=127), Note(start=51.599978, end=51.771407, pitch=54, velocity=127), Note(start=51.771407, end=51.942835, pitch=56, velocity=127), Note(start=51.771407, end=51.942835, pitch=32, velocity=127), Note(start=51.771407, end=51.942835, pitch=44, velocity=127), Note(start=51.942835, end=52.114264, pitch=56, velocity=127), Note(start=51.942835, end=52.114264, pitch=32, velocity=127), Note(start=51.942835, end=52.114264, pitch=44, velocity=127), Note(start=52.114264, end=52.285692, pitch=44, velocity=127), Note(start=52.114264, end=52.285692, pitch=32, velocity=127), Note(start=52.114264, end=52.285692, pitch=54, velocity=127), Note(start=52.285692, end=52.457121, pitch=56, velocity=127), Note(start=52.285692, end=52.457121, pitch=32, velocity=127), Note(start=52.285692, end=52.457121, pitch=44, velocity=127), Note(start=52.457121, end=52.628549, pitch=56, velocity=127), Note(start=52.457121, end=52.628549, pitch=32, velocity=127), Note(start=52.457121, end=52.628549, pitch=44, velocity=127), Note(start=52.628549, end=52.799978, pitch=44, velocity=127), Note(start=52.628549, end=52.799978, pitch=32, velocity=127), Note(start=52.628549, end=52.799978, pitch=54, velocity=127), Note(start=52.799978, end=52.971406, pitch=56, velocity=127), Note(start=52.799978, end=52.971406, pitch=32, velocity=127), Note(start=52.799978, end=52.971406, pitch=44, velocity=127), Note(start=52.971406, end=53.142835, pitch=56, velocity=127), Note(start=52.971406, end=53.142835, pitch=32, velocity=127), Note(start=52.971406, end=53.142835, pitch=44, velocity=127), Note(start=53.142835, end=53.485692, pitch=42, velocity=127), Note(start=53.142835, end=53.485692, pitch=32, velocity=127), Note(start=53.142835, end=53.485692, pitch=54, velocity=127), Note(start=53.485692, end=53.657120, pitch=56, velocity=127), Note(start=53.485692, end=53.657120, pitch=44, velocity=127), Note(start=53.485692, end=53.657120, pitch=32, velocity=127), Note(start=53.657120, end=53.828549, pitch=56, velocity=127), Note(start=53.657120, end=53.828549, pitch=32, velocity=127), Note(start=53.657120, end=53.828549, pitch=44, velocity=127), Note(start=53.828549, end=53.999977, pitch=32, velocity=127), Note(start=53.828549, end=53.999977, pitch=44, velocity=127), Note(start=53.828549, end=53.999977, pitch=54, velocity=127), Note(start=53.999977, end=54.171406, pitch=56, velocity=127), Note(start=53.999977, end=54.171406, pitch=32, velocity=127), Note(start=53.999977, end=54.171406, pitch=44, velocity=127), Note(start=54.171406, end=54.342834, pitch=56, velocity=127), Note(start=54.171406, end=54.342834, pitch=32, velocity=127), Note(start=54.171406, end=54.342834, pitch=44, velocity=127), Note(start=54.342834, end=54.514263, pitch=44, velocity=127), Note(start=54.342834, end=54.514263, pitch=32, velocity=127), Note(start=54.342834, end=54.514263, pitch=54, velocity=127), Note(start=54.514263, end=54.685691, pitch=56, velocity=127), Note(start=54.514263, end=54.685691, pitch=32, velocity=127), Note(start=54.514263, end=54.685691, pitch=44, velocity=127), Note(start=54.685691, end=54.857120, pitch=56, velocity=127), Note(start=54.685691, end=54.857120, pitch=32, velocity=127), Note(start=54.685691, end=54.857120, pitch=44, velocity=127), Note(start=54.857120, end=55.028548, pitch=44, velocity=127), Note(start=54.857120, end=55.028548, pitch=32, velocity=127), Note(start=54.857120, end=55.028548, pitch=54, velocity=127), Note(start=55.028548, end=55.199977, pitch=56, velocity=127), Note(start=55.028548, end=55.199977, pitch=32, velocity=127), Note(start=55.028548, end=55.199977, pitch=44, velocity=127), Note(start=55.199977, end=55.371405, pitch=56, velocity=127), Note(start=55.199977, end=55.371405, pitch=32, velocity=127), Note(start=55.199977, end=55.371405, pitch=44, velocity=127), Note(start=55.371405, end=55.542834, pitch=44, velocity=127), Note(start=55.371405, end=55.542834, pitch=32, velocity=127), Note(start=55.371405, end=55.542834, pitch=54, velocity=127), Note(start=55.542834, end=55.714262, pitch=56, velocity=127), Note(start=55.542834, end=55.714262, pitch=32, velocity=127), Note(start=55.542834, end=55.714262, pitch=44, velocity=127), Note(start=55.714262, end=55.885691, pitch=56, velocity=127), Note(start=55.714262, end=55.885691, pitch=32, velocity=127), Note(start=55.714262, end=55.885691, pitch=44, velocity=127), Note(start=55.885691, end=56.228548, pitch=42, velocity=127), Note(start=55.885691, end=56.228548, pitch=32, velocity=127), Note(start=55.885691, end=56.228548, pitch=54, velocity=127), Note(start=56.228548, end=56.399976, pitch=56, velocity=127), Note(start=56.228548, end=56.399976, pitch=44, velocity=127), Note(start=56.228548, end=56.399976, pitch=32, velocity=127), Note(start=56.399976, end=56.571405, pitch=56, velocity=127), Note(start=56.399976, end=56.571405, pitch=32, velocity=127), Note(start=56.399976, end=56.571405, pitch=44, velocity=127), Note(start=56.571405, end=56.742833, pitch=32, velocity=127), Note(start=56.571405, end=56.742833, pitch=44, velocity=127), Note(start=56.571405, end=56.742833, pitch=54, velocity=127), Note(start=56.742833, end=56.914262, pitch=56, velocity=127), Note(start=56.742833, end=56.914262, pitch=32, velocity=127), Note(start=56.742833, end=56.914262, pitch=44, velocity=127), Note(start=56.914262, end=57.085690, pitch=56, velocity=127), Note(start=56.914262, end=57.085690, pitch=32, velocity=127), Note(start=56.914262, end=57.085690, pitch=44, velocity=127), Note(start=57.085690, end=57.257119, pitch=44, velocity=127), Note(start=57.085690, end=57.257119, pitch=32, velocity=127), Note(start=57.085690, end=57.257119, pitch=54, velocity=127), Note(start=57.257119, end=57.428547, pitch=56, velocity=127), Note(start=57.257119, end=57.428547, pitch=32, velocity=127), Note(start=57.257119, end=57.428547, pitch=44, velocity=127), Note(start=57.428547, end=57.599976, pitch=56, velocity=127), Note(start=57.428547, end=57.599976, pitch=32, velocity=127), Note(start=57.428547, end=57.599976, pitch=44, velocity=127), Note(start=57.599976, end=57.771404, pitch=44, velocity=127), Note(start=57.599976, end=57.771404, pitch=32, velocity=127), Note(start=57.599976, end=57.771404, pitch=54, velocity=127), Note(start=57.771404, end=57.942833, pitch=56, velocity=127), Note(start=57.771404, end=57.942833, pitch=32, velocity=127), Note(start=57.771404, end=57.942833, pitch=44, velocity=127), Note(start=57.942833, end=58.114261, pitch=56, velocity=127), Note(start=57.942833, end=58.114261, pitch=32, velocity=127), Note(start=57.942833, end=58.114261, pitch=44, velocity=127), Note(start=58.114261, end=58.285690, pitch=44, velocity=127), Note(start=58.114261, end=58.285690, pitch=32, velocity=127), Note(start=58.114261, end=58.285690, pitch=54, velocity=127), Note(start=58.285690, end=58.457118, pitch=56, velocity=127), Note(start=58.285690, end=58.457118, pitch=32, velocity=127), Note(start=58.285690, end=58.457118, pitch=44, velocity=127), Note(start=58.457118, end=58.628547, pitch=56, velocity=127), Note(start=58.457118, end=58.628547, pitch=32, velocity=127), Note(start=58.457118, end=58.628547, pitch=44, velocity=127), Note(start=58.628547, end=58.971404, pitch=42, velocity=127), Note(start=58.628547, end=58.971404, pitch=32, velocity=127), Note(start=58.628547, end=58.971404, pitch=54, velocity=127), Note(start=58.971404, end=59.142832, pitch=56, velocity=127), Note(start=58.971404, end=59.142832, pitch=44, velocity=127), Note(start=58.971404, end=59.142832, pitch=32, velocity=127), Note(start=59.142832, end=59.314261, pitch=56, velocity=127), Note(start=59.142832, end=59.314261, pitch=32, velocity=127), Note(start=59.142832, end=59.314261, pitch=44, velocity=127), Note(start=59.314261, end=59.485689, pitch=32, velocity=127), Note(start=59.314261, end=59.485689, pitch=44, velocity=127), Note(start=59.314261, end=59.485689, pitch=54, velocity=127), Note(start=59.485689, end=59.657118, pitch=56, velocity=127), Note(start=59.485689, end=59.657118, pitch=32, velocity=127), Note(start=59.485689, end=59.657118, pitch=44, velocity=127), Note(start=59.657118, end=59.828546, pitch=56, velocity=127), Note(start=59.657118, end=59.828546, pitch=32, velocity=127), Note(start=59.657118, end=59.828546, pitch=44, velocity=127), Note(start=59.828546, end=59.999975, pitch=44, velocity=127), Note(start=59.828546, end=59.999975, pitch=32, velocity=127), Note(start=59.828546, end=59.999975, pitch=54, velocity=127), Note(start=59.999975, end=60.171403, pitch=56, velocity=127), Note(start=59.999975, end=60.171403, pitch=32, velocity=127), Note(start=59.999975, end=60.171403, pitch=44, velocity=127), Note(start=60.171403, end=60.342832, pitch=56, velocity=127), Note(start=60.171403, end=60.342832, pitch=32, velocity=127), Note(start=60.171403, end=60.342832, pitch=44, velocity=127), Note(start=60.342832, end=60.514260, pitch=44, velocity=127), Note(start=60.342832, end=60.514260, pitch=32, velocity=127), Note(start=60.342832, end=60.514260, pitch=54, velocity=127), Note(start=60.514260, end=60.685689, pitch=56, velocity=127), Note(start=60.514260, end=60.685689, pitch=32, velocity=127), Note(start=60.514260, end=60.685689, pitch=44, velocity=127), Note(start=60.685689, end=60.857117, pitch=56, velocity=127), Note(start=60.685689, end=60.857117, pitch=32, velocity=127), Note(start=60.685689, end=60.857117, pitch=44, velocity=127), Note(start=60.857117, end=61.028546, pitch=44, velocity=127), Note(start=60.857117, end=61.028546, pitch=32, velocity=127), Note(start=60.857117, end=61.028546, pitch=54, velocity=127), Note(start=61.028546, end=61.199974, pitch=56, velocity=127), Note(start=61.028546, end=61.199974, pitch=32, velocity=127), Note(start=61.028546, end=61.199974, pitch=44, velocity=127), Note(start=61.199974, end=61.371403, pitch=56, velocity=127), Note(start=61.199974, end=61.371403, pitch=32, velocity=127), Note(start=61.199974, end=61.371403, pitch=44, velocity=127), Note(start=61.371403, end=61.714260, pitch=42, velocity=127), Note(start=61.371403, end=61.714260, pitch=32, velocity=127), Note(start=61.371403, end=61.714260, pitch=54, velocity=127), Note(start=72.685684, end=72.857112, pitch=56, velocity=127), Note(start=72.685684, end=72.857112, pitch=44, velocity=127), Note(start=72.685684, end=72.857112, pitch=32, velocity=127), Note(start=72.857112, end=73.028541, pitch=56, velocity=127), Note(start=72.857112, end=73.028541, pitch=32, velocity=127), Note(start=72.857112, end=73.028541, pitch=44, velocity=127), Note(start=73.028541, end=73.199969, pitch=32, velocity=127), Note(start=73.028541, end=73.199969, pitch=44, velocity=127), Note(start=73.028541, end=73.199969, pitch=54, velocity=127), Note(start=73.199969, end=73.371398, pitch=56, velocity=127), Note(start=73.199969, end=73.371398, pitch=32, velocity=127), Note(start=73.199969, end=73.371398, pitch=44, velocity=127), Note(start=73.371398, end=73.542826, pitch=56, velocity=127), Note(start=73.371398, end=73.542826, pitch=32, velocity=127), Note(start=73.371398, end=73.542826, pitch=44, velocity=127), Note(start=73.542826, end=73.714255, pitch=44, velocity=127), Note(start=73.542826, end=73.714255, pitch=32, velocity=127), Note(start=73.542826, end=73.714255, pitch=54, velocity=127), Note(start=73.714255, end=73.885683, pitch=56, velocity=127), Note(start=73.714255, end=73.885683, pitch=32, velocity=127), Note(start=73.714255, end=73.885683, pitch=44, velocity=127), Note(start=73.885683, end=74.057112, pitch=56, velocity=127), Note(start=73.885683, end=74.057112, pitch=32, velocity=127), Note(start=73.885683, end=74.057112, pitch=44, velocity=127), Note(start=74.057112, end=74.228540, pitch=44, velocity=127), Note(start=74.057112, end=74.228540, pitch=32, velocity=127), Note(start=74.057112, end=74.228540, pitch=54, velocity=127), Note(start=74.228540, end=74.399969, pitch=56, velocity=127), Note(start=74.228540, end=74.399969, pitch=32, velocity=127), Note(start=74.228540, end=74.399969, pitch=44, velocity=127), Note(start=74.399969, end=74.571397, pitch=56, velocity=127), Note(start=74.399969, end=74.571397, pitch=32, velocity=127), Note(start=74.399969, end=74.571397, pitch=44, velocity=127), Note(start=74.571397, end=74.742826, pitch=44, velocity=127), Note(start=74.571397, end=74.742826, pitch=32, velocity=127), Note(start=74.571397, end=74.742826, pitch=54, velocity=127), Note(start=74.742826, end=74.914254, pitch=56, velocity=127), Note(start=74.742826, end=74.914254, pitch=32, velocity=127), Note(start=74.742826, end=74.914254, pitch=44, velocity=127), Note(start=74.914254, end=75.085683, pitch=56, velocity=127), Note(start=74.914254, end=75.085683, pitch=32, velocity=127), Note(start=74.914254, end=75.085683, pitch=44, velocity=127), Note(start=75.085683, end=75.428540, pitch=42, velocity=127), Note(start=75.085683, end=75.428540, pitch=32, velocity=127), Note(start=75.085683, end=75.428540, pitch=54, velocity=127), Note(start=75.428540, end=75.599968, pitch=56, velocity=127), Note(start=75.428540, end=75.599968, pitch=44, velocity=127), Note(start=75.428540, end=75.599968, pitch=32, velocity=127), Note(start=75.599968, end=75.771397, pitch=56, velocity=127), Note(start=75.599968, end=75.771397, pitch=32, velocity=127), Note(start=75.599968, end=75.771397, pitch=44, velocity=127), Note(start=75.771397, end=75.942825, pitch=32, velocity=127), Note(start=75.771397, end=75.942825, pitch=44, velocity=127), Note(start=75.771397, end=75.942825, pitch=54, velocity=127), Note(start=75.942825, end=76.114254, pitch=56, velocity=127), Note(start=75.942825, end=76.114254, pitch=32, velocity=127), Note(start=75.942825, end=76.114254, pitch=44, velocity=127), Note(start=76.114254, end=76.285682, pitch=56, velocity=127), Note(start=76.114254, end=76.285682, pitch=32, velocity=127), Note(start=76.114254, end=76.285682, pitch=44, velocity=127), Note(start=76.285682, end=76.457111, pitch=44, velocity=127), Note(start=76.285682, end=76.457111, pitch=32, velocity=127), Note(start=76.285682, end=76.457111, pitch=54, velocity=127), Note(start=76.457111, end=76.628539, pitch=56, velocity=127), Note(start=76.457111, end=76.628539, pitch=32, velocity=127), Note(start=76.457111, end=76.628539, pitch=44, velocity=127), Note(start=76.628539, end=76.799968, pitch=56, velocity=127), Note(start=76.628539, end=76.799968, pitch=32, velocity=127), Note(start=76.628539, end=76.799968, pitch=44, velocity=127), Note(start=76.799968, end=76.971396, pitch=44, velocity=127), Note(start=76.799968, end=76.971396, pitch=32, velocity=127), Note(start=76.799968, end=76.971396, pitch=54, velocity=127), Note(start=76.971396, end=77.142825, pitch=56, velocity=127), Note(start=76.971396, end=77.142825, pitch=32, velocity=127), Note(start=76.971396, end=77.142825, pitch=44, velocity=127), Note(start=77.142825, end=77.314253, pitch=56, velocity=127), Note(start=77.142825, end=77.314253, pitch=32, velocity=127), Note(start=77.142825, end=77.314253, pitch=44, velocity=127), Note(start=77.314253, end=77.485682, pitch=44, velocity=127), Note(start=77.314253, end=77.485682, pitch=32, velocity=127), Note(start=77.314253, end=77.485682, pitch=54, velocity=127), Note(start=77.485682, end=77.657110, pitch=56, velocity=127), Note(start=77.485682, end=77.657110, pitch=32, velocity=127), Note(start=77.485682, end=77.657110, pitch=44, velocity=127), Note(start=77.657110, end=77.828539, pitch=56, velocity=127), Note(start=77.657110, end=77.828539, pitch=32, velocity=127), Note(start=77.657110, end=77.828539, pitch=44, velocity=127), Note(start=77.828539, end=78.171396, pitch=42, velocity=127), Note(start=77.828539, end=78.171396, pitch=32, velocity=127), Note(start=77.828539, end=78.171396, pitch=54, velocity=127), Note(start=78.171396, end=78.342824, pitch=56, velocity=127), Note(start=78.171396, end=78.342824, pitch=44, velocity=127), Note(start=78.171396, end=78.342824, pitch=32, velocity=127), Note(start=78.342824, end=78.514253, pitch=56, velocity=127), Note(start=78.342824, end=78.514253, pitch=32, velocity=127), Note(start=78.342824, end=78.514253, pitch=44, velocity=127), Note(start=78.514253, end=78.685681, pitch=32, velocity=127), Note(start=78.514253, end=78.685681, pitch=44, velocity=127), Note(start=78.514253, end=78.685681, pitch=54, velocity=127), Note(start=78.685681, end=78.857110, pitch=56, velocity=127), Note(start=78.685681, end=78.857110, pitch=32, velocity=127), Note(start=78.685681, end=78.857110, pitch=44, velocity=127), Note(start=78.857110, end=79.028538, pitch=56, velocity=127), Note(start=78.857110, end=79.028538, pitch=32, velocity=127), Note(start=78.857110, end=79.028538, pitch=44, velocity=127), Note(start=79.028538, end=79.199967, pitch=44, velocity=127), Note(start=79.028538, end=79.199967, pitch=32, velocity=127), Note(start=79.028538, end=79.199967, pitch=54, velocity=127), Note(start=79.199967, end=79.371395, pitch=56, velocity=127), Note(start=79.199967, end=79.371395, pitch=32, velocity=127), Note(start=79.199967, end=79.371395, pitch=44, velocity=127), Note(start=79.371395, end=79.542824, pitch=56, velocity=127), Note(start=79.371395, end=79.542824, pitch=32, velocity=127), Note(start=79.371395, end=79.542824, pitch=44, velocity=127), Note(start=79.542824, end=79.714252, pitch=44, velocity=127), Note(start=79.542824, end=79.714252, pitch=32, velocity=127), Note(start=79.542824, end=79.714252, pitch=54, velocity=127), Note(start=79.714252, end=79.885681, pitch=56, velocity=127), Note(start=79.714252, end=79.885681, pitch=32, velocity=127), Note(start=79.714252, end=79.885681, pitch=44, velocity=127), Note(start=79.885681, end=80.057109, pitch=56, velocity=127), Note(start=79.885681, end=80.057109, pitch=32, velocity=127), Note(start=79.885681, end=80.057109, pitch=44, velocity=127), Note(start=80.057109, end=80.228538, pitch=44, velocity=127), Note(start=80.057109, end=80.228538, pitch=32, velocity=127), Note(start=80.057109, end=80.228538, pitch=54, velocity=127), Note(start=80.228538, end=80.399966, pitch=56, velocity=127), Note(start=80.228538, end=80.399966, pitch=32, velocity=127), Note(start=80.228538, end=80.399966, pitch=44, velocity=127), Note(start=80.399966, end=80.571395, pitch=56, velocity=127), Note(start=80.399966, end=80.571395, pitch=32, velocity=127), Note(start=80.399966, end=80.571395, pitch=44, velocity=127), Note(start=80.571395, end=80.914252, pitch=42, velocity=127), Note(start=80.571395, end=80.914252, pitch=32, velocity=127), Note(start=80.571395, end=80.914252, pitch=54, velocity=127), Note(start=80.914252, end=81.085680, pitch=56, velocity=127), Note(start=80.914252, end=81.085680, pitch=44, velocity=127), Note(start=80.914252, end=81.085680, pitch=32, velocity=127), Note(start=81.085680, end=81.257109, pitch=56, velocity=127), Note(start=81.085680, end=81.257109, pitch=32, velocity=127), Note(start=81.085680, end=81.257109, pitch=44, velocity=127), Note(start=81.257109, end=81.428537, pitch=32, velocity=127), Note(start=81.257109, end=81.428537, pitch=44, velocity=127), Note(start=81.257109, end=81.428537, pitch=54, velocity=127), Note(start=81.428537, end=81.599966, pitch=56, velocity=127), Note(start=81.428537, end=81.599966, pitch=32, velocity=127), Note(start=81.428537, end=81.599966, pitch=44, velocity=127), Note(start=81.599966, end=81.771394, pitch=56, velocity=127), Note(start=81.599966, end=81.771394, pitch=32, velocity=127), Note(start=81.599966, end=81.771394, pitch=44, velocity=127), Note(start=81.771394, end=81.942823, pitch=44, velocity=127), Note(start=81.771394, end=81.942823, pitch=32, velocity=127), Note(start=81.771394, end=81.942823, pitch=54, velocity=127), Note(start=81.942823, end=82.114251, pitch=56, velocity=127), Note(start=81.942823, end=82.114251, pitch=32, velocity=127), Note(start=81.942823, end=82.114251, pitch=44, velocity=127), Note(start=82.114251, end=82.285680, pitch=56, velocity=127), Note(start=82.114251, end=82.285680, pitch=32, velocity=127), Note(start=82.114251, end=82.285680, pitch=44, velocity=127), Note(start=82.285680, end=82.457108, pitch=44, velocity=127), Note(start=82.285680, end=82.457108, pitch=32, velocity=127), Note(start=82.285680, end=82.457108, pitch=54, velocity=127), Note(start=82.457108, end=82.628537, pitch=56, velocity=127), Note(start=82.457108, end=82.628537, pitch=32, velocity=127), Note(start=82.457108, end=82.628537, pitch=44, velocity=127), Note(start=82.628537, end=82.799965, pitch=56, velocity=127), Note(start=82.628537, end=82.799965, pitch=32, velocity=127), Note(start=82.628537, end=82.799965, pitch=44, velocity=127), Note(start=82.799965, end=82.971394, pitch=44, velocity=127), Note(start=82.799965, end=82.971394, pitch=32, velocity=127), Note(start=82.799965, end=82.971394, pitch=54, velocity=127), Note(start=82.971394, end=83.142822, pitch=56, velocity=127), Note(start=82.971394, end=83.142822, pitch=32, velocity=127), Note(start=82.971394, end=83.142822, pitch=44, velocity=127), Note(start=83.142822, end=83.314251, pitch=56, velocity=127), Note(start=83.142822, end=83.314251, pitch=32, velocity=127), Note(start=83.142822, end=83.314251, pitch=44, velocity=127), Note(start=83.314251, end=83.657108, pitch=42, velocity=127), Note(start=83.314251, end=83.657108, pitch=32, velocity=127), Note(start=83.314251, end=83.657108, pitch=54, velocity=127), Note(start=83.657108, end=83.828536, pitch=56, velocity=127), Note(start=83.657108, end=83.828536, pitch=44, velocity=127), Note(start=83.657108, end=83.828536, pitch=32, velocity=127), Note(start=83.828536, end=83.999965, pitch=56, velocity=127), Note(start=83.828536, end=83.999965, pitch=32, velocity=127), Note(start=83.828536, end=83.999965, pitch=44, velocity=127), Note(start=83.999965, end=84.171393, pitch=32, velocity=127), Note(start=83.999965, end=84.171393, pitch=44, velocity=127), Note(start=83.999965, end=84.171393, pitch=54, velocity=127), Note(start=84.171393, end=84.342822, pitch=56, velocity=127), Note(start=84.171393, end=84.342822, pitch=32, velocity=127), Note(start=84.171393, end=84.342822, pitch=44, velocity=127), Note(start=84.342822, end=84.514250, pitch=56, velocity=127), Note(start=84.342822, end=84.514250, pitch=32, velocity=127), Note(start=84.342822, end=84.514250, pitch=44, velocity=127), Note(start=84.514250, end=84.685679, pitch=44, velocity=127), Note(start=84.514250, end=84.685679, pitch=32, velocity=127), Note(start=84.514250, end=84.685679, pitch=54, velocity=127), Note(start=84.685679, end=84.857107, pitch=56, velocity=127), Note(start=84.685679, end=84.857107, pitch=32, velocity=127), Note(start=84.685679, end=84.857107, pitch=44, velocity=127), Note(start=84.857107, end=85.028536, pitch=56, velocity=127), Note(start=84.857107, end=85.028536, pitch=32, velocity=127), Note(start=84.857107, end=85.028536, pitch=44, velocity=127), Note(start=85.028536, end=85.199964, pitch=44, velocity=127), Note(start=85.028536, end=85.199964, pitch=32, velocity=127), Note(start=85.028536, end=85.199964, pitch=54, velocity=127), Note(start=85.199964, end=85.371393, pitch=56, velocity=127), Note(start=85.199964, end=85.371393, pitch=32, velocity=127), Note(start=85.199964, end=85.371393, pitch=44, velocity=127), Note(start=85.371393, end=85.542821, pitch=56, velocity=127), Note(start=85.371393, end=85.542821, pitch=32, velocity=127), Note(start=85.371393, end=85.542821, pitch=44, velocity=127), Note(start=85.542821, end=85.714250, pitch=44, velocity=127), Note(start=85.542821, end=85.714250, pitch=32, velocity=127), Note(start=85.542821, end=85.714250, pitch=54, velocity=127), Note(start=85.714250, end=85.885678, pitch=56, velocity=127), Note(start=85.714250, end=85.885678, pitch=32, velocity=127), Note(start=85.714250, end=85.885678, pitch=44, velocity=127), Note(start=85.885678, end=86.057107, pitch=56, velocity=127), Note(start=85.885678, end=86.057107, pitch=32, velocity=127), Note(start=85.885678, end=86.057107, pitch=44, velocity=127), Note(start=86.057107, end=86.399964, pitch=42, velocity=127), Note(start=86.057107, end=86.399964, pitch=32, velocity=127), Note(start=86.057107, end=86.399964, pitch=54, velocity=127), Note(start=86.399964, end=86.571392, pitch=56, velocity=127), Note(start=86.399964, end=86.571392, pitch=44, velocity=127), Note(start=86.399964, end=86.571392, pitch=32, velocity=127), Note(start=86.571392, end=86.742821, pitch=56, velocity=127), Note(start=86.571392, end=86.742821, pitch=32, velocity=127), Note(start=86.571392, end=86.742821, pitch=44, velocity=127), Note(start=86.742821, end=86.914249, pitch=32, velocity=127), Note(start=86.742821, end=86.914249, pitch=44, velocity=127), Note(start=86.742821, end=86.914249, pitch=54, velocity=127), Note(start=86.914249, end=87.085678, pitch=56, velocity=127), Note(start=86.914249, end=87.085678, pitch=32, velocity=127), Note(start=86.914249, end=87.085678, pitch=44, velocity=127), Note(start=87.085678, end=87.257106, pitch=56, velocity=127), Note(start=87.085678, end=87.257106, pitch=32, velocity=127), Note(start=87.085678, end=87.257106, pitch=44, velocity=127), Note(start=87.257106, end=87.428535, pitch=44, velocity=127), Note(start=87.257106, end=87.428535, pitch=32, velocity=127), Note(start=87.257106, end=87.428535, pitch=54, velocity=127), Note(start=87.428535, end=87.599963, pitch=56, velocity=127), Note(start=87.428535, end=87.599963, pitch=32, velocity=127), Note(start=87.428535, end=87.599963, pitch=44, velocity=127), Note(start=87.599963, end=87.771392, pitch=56, velocity=127), Note(start=87.599963, end=87.771392, pitch=32, velocity=127), Note(start=87.599963, end=87.771392, pitch=44, velocity=127), Note(start=87.771392, end=87.942820, pitch=44, velocity=127), Note(start=87.771392, end=87.942820, pitch=32, velocity=127), Note(start=87.771392, end=87.942820, pitch=54, velocity=127), Note(start=87.942820, end=88.114249, pitch=56, velocity=127), Note(start=87.942820, end=88.114249, pitch=32, velocity=127), Note(start=87.942820, end=88.114249, pitch=44, velocity=127), Note(start=88.114249, end=88.285677, pitch=56, velocity=127), Note(start=88.114249, end=88.285677, pitch=32, velocity=127), Note(start=88.114249, end=88.285677, pitch=44, velocity=127), Note(start=88.285677, end=88.457106, pitch=44, velocity=127), Note(start=88.285677, end=88.457106, pitch=32, velocity=127), Note(start=88.285677, end=88.457106, pitch=54, velocity=127), Note(start=88.457106, end=88.628534, pitch=56, velocity=127), Note(start=88.457106, end=88.628534, pitch=32, velocity=127), Note(start=88.457106, end=88.628534, pitch=44, velocity=127), Note(start=88.628534, end=88.799963, pitch=56, velocity=127), Note(start=88.628534, end=88.799963, pitch=32, velocity=127), Note(start=88.628534, end=88.799963, pitch=44, velocity=127), Note(start=88.799963, end=89.142820, pitch=42, velocity=127), Note(start=88.799963, end=89.142820, pitch=32, velocity=127), Note(start=88.799963, end=89.142820, pitch=54, velocity=127), Note(start=89.142820, end=89.314248, pitch=56, velocity=127), Note(start=89.142820, end=89.314248, pitch=44, velocity=127), Note(start=89.142820, end=89.314248, pitch=32, velocity=127), Note(start=89.314248, end=89.485677, pitch=56, velocity=127), Note(start=89.314248, end=89.485677, pitch=32, velocity=127), Note(start=89.314248, end=89.485677, pitch=44, velocity=127), Note(start=89.485677, end=89.657105, pitch=32, velocity=127), Note(start=89.485677, end=89.657105, pitch=44, velocity=127), Note(start=89.485677, end=89.657105, pitch=54, velocity=127), Note(start=89.657105, end=89.828534, pitch=56, velocity=127), Note(start=89.657105, end=89.828534, pitch=32, velocity=127), Note(start=89.657105, end=89.828534, pitch=44, velocity=127), Note(start=89.828534, end=89.999962, pitch=56, velocity=127), Note(start=89.828534, end=89.999962, pitch=32, velocity=127), Note(start=89.828534, end=89.999962, pitch=44, velocity=127), Note(start=89.999962, end=90.171391, pitch=44, velocity=127), Note(start=89.999962, end=90.171391, pitch=32, velocity=127), Note(start=89.999962, end=90.171391, pitch=54, velocity=127), Note(start=90.171391, end=90.342819, pitch=56, velocity=127), Note(start=90.171391, end=90.342819, pitch=32, velocity=127), Note(start=90.171391, end=90.342819, pitch=44, velocity=127), Note(start=90.342819, end=90.514248, pitch=56, velocity=127), Note(start=90.342819, end=90.514248, pitch=32, velocity=127), Note(start=90.342819, end=90.514248, pitch=44, velocity=127), Note(start=90.514248, end=90.685676, pitch=44, velocity=127), Note(start=90.514248, end=90.685676, pitch=32, velocity=127), Note(start=90.514248, end=90.685676, pitch=54, velocity=127), Note(start=90.685676, end=90.857105, pitch=56, velocity=127), Note(start=90.685676, end=90.857105, pitch=32, velocity=127), Note(start=90.685676, end=90.857105, pitch=44, velocity=127), Note(start=90.857105, end=91.028533, pitch=56, velocity=127), Note(start=90.857105, end=91.028533, pitch=32, velocity=127), Note(start=90.857105, end=91.028533, pitch=44, velocity=127), Note(start=91.028533, end=91.199962, pitch=44, velocity=127), Note(start=91.028533, end=91.199962, pitch=32, velocity=127), Note(start=91.028533, end=91.199962, pitch=54, velocity=127), Note(start=91.199962, end=91.371390, pitch=56, velocity=127), Note(start=91.199962, end=91.371390, pitch=32, velocity=127), Note(start=91.199962, end=91.371390, pitch=44, velocity=127), Note(start=91.371390, end=91.542819, pitch=56, velocity=127), Note(start=91.371390, end=91.542819, pitch=32, velocity=127), Note(start=91.371390, end=91.542819, pitch=44, velocity=127), Note(start=91.542819, end=91.885676, pitch=42, velocity=127), Note(start=91.542819, end=91.885676, pitch=32, velocity=127), Note(start=91.542819, end=91.885676, pitch=54, velocity=127), Note(start=91.885676, end=92.057104, pitch=56, velocity=127), Note(start=91.885676, end=92.057104, pitch=44, velocity=127), Note(start=91.885676, end=92.057104, pitch=32, velocity=127), Note(start=92.057104, end=92.228533, pitch=56, velocity=127), Note(start=92.057104, end=92.228533, pitch=32, velocity=127), Note(start=92.057104, end=92.228533, pitch=44, velocity=127), Note(start=92.228533, end=92.399961, pitch=32, velocity=127), Note(start=92.228533, end=92.399961, pitch=44, velocity=127), Note(start=92.228533, end=92.399961, pitch=54, velocity=127), Note(start=92.399961, end=92.571390, pitch=56, velocity=127), Note(start=92.399961, end=92.571390, pitch=32, velocity=127), Note(start=92.399961, end=92.571390, pitch=44, velocity=127), Note(start=92.571390, end=92.742818, pitch=56, velocity=127), Note(start=92.571390, end=92.742818, pitch=32, velocity=127), Note(start=92.571390, end=92.742818, pitch=44, velocity=127), Note(start=92.742818, end=92.914247, pitch=44, velocity=127), Note(start=92.742818, end=92.914247, pitch=32, velocity=127), Note(start=92.742818, end=92.914247, pitch=54, velocity=127), Note(start=92.914247, end=93.085675, pitch=56, velocity=127), Note(start=92.914247, end=93.085675, pitch=32, velocity=127), Note(start=92.914247, end=93.085675, pitch=44, velocity=127), Note(start=93.085675, end=93.257104, pitch=56, velocity=127), Note(start=93.085675, end=93.257104, pitch=32, velocity=127), Note(start=93.085675, end=93.257104, pitch=44, velocity=127), Note(start=93.257104, end=93.428532, pitch=44, velocity=127), Note(start=93.257104, end=93.428532, pitch=32, velocity=127), Note(start=93.257104, end=93.428532, pitch=54, velocity=127), Note(start=93.428532, end=93.599961, pitch=56, velocity=127), Note(start=93.428532, end=93.599961, pitch=32, velocity=127), Note(start=93.428532, end=93.599961, pitch=44, velocity=127), Note(start=93.599961, end=93.771389, pitch=56, velocity=127), Note(start=93.599961, end=93.771389, pitch=32, velocity=127), Note(start=93.599961, end=93.771389, pitch=44, velocity=127), Note(start=93.771389, end=93.942818, pitch=44, velocity=127), Note(start=93.771389, end=93.942818, pitch=32, velocity=127), Note(start=93.771389, end=93.942818, pitch=54, velocity=127), Note(start=93.942818, end=94.114246, pitch=56, velocity=127), Note(start=93.942818, end=94.114246, pitch=32, velocity=127), Note(start=93.942818, end=94.114246, pitch=44, velocity=127), Note(start=94.114246, end=94.285675, pitch=56, velocity=127), Note(start=94.114246, end=94.285675, pitch=32, velocity=127), Note(start=94.114246, end=94.285675, pitch=44, velocity=127), Note(start=94.285675, end=94.628532, pitch=42, velocity=127), Note(start=94.285675, end=94.628532, pitch=32, velocity=127), Note(start=94.285675, end=94.628532, pitch=54, velocity=127), Note(start=94.628532, end=97.714245, pitch=27, velocity=127), Note(start=97.714245, end=97.885673, pitch=32, velocity=127), Note(start=97.714245, end=97.885673, pitch=44, velocity=127), Note(start=97.885673, end=98.057102, pitch=32, velocity=127), Note(start=97.885673, end=98.057102, pitch=44, velocity=127), Note(start=98.057102, end=98.228530, pitch=32, velocity=127), Note(start=98.057102, end=98.228530, pitch=44, velocity=127), Note(start=98.057102, end=98.228530, pitch=54, velocity=127), Note(start=98.228530, end=98.399959, pitch=32, velocity=127), Note(start=98.228530, end=98.399959, pitch=44, velocity=127), Note(start=98.399959, end=98.571387, pitch=32, velocity=127), Note(start=98.399959, end=98.571387, pitch=44, velocity=127), Note(start=98.571387, end=98.742816, pitch=44, velocity=127), Note(start=98.571387, end=98.742816, pitch=32, velocity=127), Note(start=98.571387, end=98.742816, pitch=54, velocity=127), Note(start=98.742816, end=98.914244, pitch=32, velocity=127), Note(start=98.742816, end=98.914244, pitch=44, velocity=127), Note(start=98.914244, end=99.085673, pitch=32, velocity=127), Note(start=98.914244, end=99.085673, pitch=44, velocity=127), Note(start=99.085673, end=99.257101, pitch=44, velocity=127), Note(start=99.085673, end=99.257101, pitch=32, velocity=127), Note(start=99.085673, end=99.257101, pitch=54, velocity=127), Note(start=99.257101, end=99.428530, pitch=32, velocity=127), Note(start=99.257101, end=99.428530, pitch=44, velocity=127), Note(start=99.428530, end=99.599958, pitch=32, velocity=127), Note(start=99.428530, end=99.599958, pitch=44, velocity=127), Note(start=99.599958, end=99.771387, pitch=44, velocity=127), Note(start=99.599958, end=99.771387, pitch=32, velocity=127), Note(start=99.599958, end=99.771387, pitch=54, velocity=127), Note(start=99.771387, end=99.942815, pitch=32, velocity=127), Note(start=99.771387, end=99.942815, pitch=44, velocity=127), Note(start=99.942815, end=100.114244, pitch=32, velocity=127), Note(start=99.942815, end=100.114244, pitch=44, velocity=127), Note(start=100.114244, end=100.285672, pitch=44, velocity=127), Note(start=100.114244, end=100.285672, pitch=32, velocity=127), Note(start=100.114244, end=100.285672, pitch=54, velocity=127), Note(start=100.285672, end=100.457101, pitch=32, velocity=127), Note(start=100.285672, end=100.457101, pitch=44, velocity=127), Note(start=100.457101, end=100.628529, pitch=44, velocity=127), Note(start=100.457101, end=100.628529, pitch=32, velocity=127), Note(start=100.628529, end=100.799958, pitch=32, velocity=127), Note(start=100.628529, end=100.799958, pitch=44, velocity=127), Note(start=100.799958, end=100.971386, pitch=32, velocity=127), Note(start=100.799958, end=100.971386, pitch=44, velocity=127), Note(start=100.799958, end=100.971386, pitch=54, velocity=127), Note(start=100.971386, end=101.142815, pitch=32, velocity=127), Note(start=100.971386, end=101.142815, pitch=44, velocity=127), Note(start=101.142815, end=101.314243, pitch=32, velocity=127), Note(start=101.142815, end=101.314243, pitch=44, velocity=127), Note(start=101.314243, end=101.485672, pitch=44, velocity=127), Note(start=101.314243, end=101.485672, pitch=32, velocity=127), Note(start=101.314243, end=101.485672, pitch=54, velocity=127), Note(start=101.485672, end=101.657100, pitch=32, velocity=127), Note(start=101.485672, end=101.657100, pitch=44, velocity=127), Note(start=101.657100, end=101.828529, pitch=32, velocity=127), Note(start=101.657100, end=101.828529, pitch=44, velocity=127), Note(start=101.828529, end=101.999957, pitch=44, velocity=127), Note(start=101.828529, end=101.999957, pitch=32, velocity=127), Note(start=101.828529, end=101.999957, pitch=54, velocity=127), Note(start=101.999957, end=102.171386, pitch=32, velocity=127), Note(start=101.999957, end=102.171386, pitch=44, velocity=127), Note(start=102.171386, end=102.342814, pitch=32, velocity=127), Note(start=102.171386, end=102.342814, pitch=44, velocity=127), Note(start=102.342814, end=102.514243, pitch=44, velocity=127), Note(start=102.342814, end=102.514243, pitch=32, velocity=127), Note(start=102.342814, end=102.514243, pitch=54, velocity=127), Note(start=102.514243, end=102.685671, pitch=32, velocity=127), Note(start=102.514243, end=102.685671, pitch=44, velocity=127), Note(start=102.685671, end=102.857100, pitch=32, velocity=127), Note(start=102.685671, end=102.857100, pitch=44, velocity=127), Note(start=102.857100, end=103.199957, pitch=42, velocity=127), Note(start=102.857100, end=103.199957, pitch=32, velocity=127), Note(start=102.857100, end=103.199957, pitch=54, velocity=127), Note(start=103.199957, end=103.371385, pitch=44, velocity=127), Note(start=103.199957, end=103.371385, pitch=32, velocity=127), Note(start=103.371385, end=103.542814, pitch=32, velocity=127), Note(start=103.371385, end=103.542814, pitch=44, velocity=127), Note(start=103.542814, end=103.714242, pitch=32, velocity=127), Note(start=103.542814, end=103.714242, pitch=44, velocity=127), Note(start=103.542814, end=103.714242, pitch=54, velocity=127), Note(start=103.714242, end=103.885671, pitch=32, velocity=127), Note(start=103.714242, end=103.885671, pitch=44, velocity=127), Note(start=103.885671, end=104.057099, pitch=32, velocity=127), Note(start=103.885671, end=104.057099, pitch=44, velocity=127), Note(start=104.057099, end=104.228528, pitch=44, velocity=127), Note(start=104.057099, end=104.228528, pitch=32, velocity=127), Note(start=104.057099, end=104.228528, pitch=54, velocity=127), Note(start=104.228528, end=104.399956, pitch=32, velocity=127), Note(start=104.228528, end=104.399956, pitch=44, velocity=127), Note(start=104.399956, end=104.571385, pitch=32, velocity=127), Note(start=104.399956, end=104.571385, pitch=44, velocity=127), Note(start=104.571385, end=104.742813, pitch=44, velocity=127), Note(start=104.571385, end=104.742813, pitch=32, velocity=127), Note(start=104.571385, end=104.742813, pitch=54, velocity=127), Note(start=104.742813, end=104.914242, pitch=32, velocity=127), Note(start=104.742813, end=104.914242, pitch=44, velocity=127), Note(start=104.914242, end=105.085670, pitch=32, velocity=127), Note(start=104.914242, end=105.085670, pitch=44, velocity=127), Note(start=105.085670, end=105.257099, pitch=44, velocity=127), Note(start=105.085670, end=105.257099, pitch=32, velocity=127), Note(start=105.085670, end=105.257099, pitch=54, velocity=127), Note(start=105.257099, end=105.428527, pitch=32, velocity=127), Note(start=105.257099, end=105.428527, pitch=44, velocity=127), Note(start=105.428527, end=105.599956, pitch=32, velocity=127), Note(start=105.428527, end=105.599956, pitch=44, velocity=127), Note(start=105.599956, end=105.771384, pitch=44, velocity=127), Note(start=105.599956, end=105.771384, pitch=32, velocity=127), Note(start=105.599956, end=105.771384, pitch=54, velocity=127), Note(start=105.771384, end=105.942813, pitch=32, velocity=127), Note(start=105.771384, end=105.942813, pitch=44, velocity=127), Note(start=105.942813, end=106.114241, pitch=44, velocity=127), Note(start=105.942813, end=106.114241, pitch=32, velocity=127), Note(start=106.114241, end=106.285670, pitch=32, velocity=127), Note(start=106.114241, end=106.285670, pitch=44, velocity=127), Note(start=106.285670, end=106.457098, pitch=32, velocity=127), Note(start=106.285670, end=106.457098, pitch=44, velocity=127), Note(start=106.285670, end=106.457098, pitch=54, velocity=127), Note(start=106.457098, end=106.628527, pitch=32, velocity=127), Note(start=106.457098, end=106.628527, pitch=44, velocity=127), Note(start=106.628527, end=106.799955, pitch=32, velocity=127), Note(start=106.628527, end=106.799955, pitch=44, velocity=127), Note(start=106.799955, end=106.971384, pitch=44, velocity=127), Note(start=106.799955, end=106.971384, pitch=32, velocity=127), Note(start=106.799955, end=106.971384, pitch=54, velocity=127), Note(start=106.971384, end=107.142812, pitch=32, velocity=127), Note(start=106.971384, end=107.142812, pitch=44, velocity=127), Note(start=107.142812, end=107.314241, pitch=32, velocity=127), Note(start=107.142812, end=107.314241, pitch=44, velocity=127), Note(start=107.314241, end=107.485669, pitch=44, velocity=127), Note(start=107.314241, end=107.485669, pitch=32, velocity=127), Note(start=107.314241, end=107.485669, pitch=54, velocity=127), Note(start=107.485669, end=107.657098, pitch=32, velocity=127), Note(start=107.485669, end=107.657098, pitch=44, velocity=127), Note(start=107.657098, end=107.828526, pitch=32, velocity=127), Note(start=107.657098, end=107.828526, pitch=44, velocity=127), Note(start=107.828526, end=107.999955, pitch=44, velocity=127), Note(start=107.828526, end=107.999955, pitch=32, velocity=127), Note(start=107.828526, end=107.999955, pitch=54, velocity=127), Note(start=107.999955, end=108.171383, pitch=32, velocity=127), Note(start=107.999955, end=108.171383, pitch=44, velocity=127), Note(start=108.171383, end=108.342812, pitch=32, velocity=127), Note(start=108.171383, end=108.342812, pitch=44, velocity=127), Note(start=108.342812, end=108.685669, pitch=42, velocity=127), Note(start=108.342812, end=108.685669, pitch=32, velocity=127), Note(start=108.342812, end=108.685669, pitch=54, velocity=127), Note(start=108.685669, end=108.857097, pitch=44, velocity=127), Note(start=108.685669, end=108.857097, pitch=32, velocity=127), Note(start=108.857097, end=109.028526, pitch=32, velocity=127), Note(start=108.857097, end=109.028526, pitch=44, velocity=127), Note(start=109.028526, end=109.199954, pitch=32, velocity=127), Note(start=109.028526, end=109.199954, pitch=44, velocity=127), Note(start=109.028526, end=109.199954, pitch=54, velocity=127), Note(start=109.199954, end=109.371383, pitch=32, velocity=127), Note(start=109.199954, end=109.371383, pitch=44, velocity=127), Note(start=109.371383, end=109.542811, pitch=32, velocity=127), Note(start=109.371383, end=109.542811, pitch=44, velocity=127), Note(start=109.542811, end=109.714240, pitch=44, velocity=127), Note(start=109.542811, end=109.714240, pitch=32, velocity=127), Note(start=109.542811, end=109.714240, pitch=54, velocity=127), Note(start=109.714240, end=109.885668, pitch=32, velocity=127), Note(start=109.714240, end=109.885668, pitch=44, velocity=127), Note(start=109.885668, end=110.057097, pitch=32, velocity=127), Note(start=109.885668, end=110.057097, pitch=44, velocity=127), Note(start=110.057097, end=110.228525, pitch=44, velocity=127), Note(start=110.057097, end=110.228525, pitch=32, velocity=127), Note(start=110.057097, end=110.228525, pitch=54, velocity=127), Note(start=110.228525, end=110.399954, pitch=32, velocity=127), Note(start=110.228525, end=110.399954, pitch=44, velocity=127), Note(start=110.399954, end=110.571382, pitch=32, velocity=127), Note(start=110.399954, end=110.571382, pitch=44, velocity=127), Note(start=110.571382, end=110.742811, pitch=44, velocity=127), Note(start=110.571382, end=110.742811, pitch=32, velocity=127), Note(start=110.571382, end=110.742811, pitch=54, velocity=127), Note(start=110.742811, end=110.914239, pitch=32, velocity=127), Note(start=110.742811, end=110.914239, pitch=44, velocity=127), Note(start=110.914239, end=111.085668, pitch=32, velocity=127), Note(start=110.914239, end=111.085668, pitch=44, velocity=127), Note(start=111.085668, end=111.257096, pitch=44, velocity=127), Note(start=111.085668, end=111.257096, pitch=32, velocity=127), Note(start=111.085668, end=111.257096, pitch=54, velocity=127), Note(start=111.257096, end=111.428525, pitch=32, velocity=127), Note(start=111.257096, end=111.428525, pitch=44, velocity=127), Note(start=111.428525, end=111.599953, pitch=44, velocity=127), Note(start=111.428525, end=111.599953, pitch=32, velocity=127), Note(start=111.599953, end=111.771382, pitch=32, velocity=127), Note(start=111.599953, end=111.771382, pitch=44, velocity=127), Note(start=111.771382, end=111.942810, pitch=32, velocity=127), Note(start=111.771382, end=111.942810, pitch=44, velocity=127), Note(start=111.771382, end=111.942810, pitch=54, velocity=127), Note(start=111.942810, end=112.114239, pitch=32, velocity=127), Note(start=111.942810, end=112.114239, pitch=44, velocity=127), Note(start=112.114239, end=112.285667, pitch=32, velocity=127), Note(start=112.114239, end=112.285667, pitch=44, velocity=127), Note(start=112.285667, end=112.457096, pitch=44, velocity=127), Note(start=112.285667, end=112.457096, pitch=32, velocity=127), Note(start=112.285667, end=112.457096, pitch=54, velocity=127), Note(start=112.457096, end=112.628524, pitch=32, velocity=127), Note(start=112.457096, end=112.628524, pitch=44, velocity=127), Note(start=112.628524, end=112.799953, pitch=32, velocity=127), Note(start=112.628524, end=112.799953, pitch=44, velocity=127), Note(start=112.799953, end=112.971381, pitch=44, velocity=127), Note(start=112.799953, end=112.971381, pitch=32, velocity=127), Note(start=112.799953, end=112.971381, pitch=54, velocity=127), Note(start=112.971381, end=113.142810, pitch=32, velocity=127), Note(start=112.971381, end=113.142810, pitch=44, velocity=127), Note(start=113.142810, end=113.314238, pitch=32, velocity=127), Note(start=113.142810, end=113.314238, pitch=44, velocity=127), Note(start=113.314238, end=113.485667, pitch=44, velocity=127), Note(start=113.314238, end=113.485667, pitch=32, velocity=127), Note(start=113.314238, end=113.485667, pitch=54, velocity=127), Note(start=113.485667, end=113.657095, pitch=32, velocity=127), Note(start=113.485667, end=113.657095, pitch=44, velocity=127), Note(start=113.657095, end=113.828524, pitch=32, velocity=127), Note(start=113.657095, end=113.828524, pitch=44, velocity=127), Note(start=113.828524, end=114.171381, pitch=42, velocity=127), Note(start=113.828524, end=114.171381, pitch=32, velocity=127), Note(start=113.828524, end=114.171381, pitch=54, velocity=127), Note(start=114.171381, end=114.342809, pitch=44, velocity=127), Note(start=114.171381, end=114.342809, pitch=32, velocity=127), Note(start=114.342809, end=114.514238, pitch=32, velocity=127), Note(start=114.342809, end=114.514238, pitch=44, velocity=127), Note(start=114.514238, end=114.685666, pitch=32, velocity=127), Note(start=114.514238, end=114.685666, pitch=44, velocity=127), Note(start=114.514238, end=114.685666, pitch=54, velocity=127), Note(start=114.685666, end=114.857095, pitch=32, velocity=127), Note(start=114.685666, end=114.857095, pitch=44, velocity=127), Note(start=114.857095, end=115.028523, pitch=32, velocity=127), Note(start=114.857095, end=115.028523, pitch=44, velocity=127), Note(start=115.028523, end=115.199952, pitch=44, velocity=127), Note(start=115.028523, end=115.199952, pitch=32, velocity=127), Note(start=115.028523, end=115.199952, pitch=54, velocity=127), Note(start=115.199952, end=115.371380, pitch=32, velocity=127), Note(start=115.199952, end=115.371380, pitch=44, velocity=127), Note(start=115.371380, end=115.542809, pitch=32, velocity=127), Note(start=115.371380, end=115.542809, pitch=44, velocity=127), Note(start=115.542809, end=115.714237, pitch=44, velocity=127), Note(start=115.542809, end=115.714237, pitch=32, velocity=127), Note(start=115.542809, end=115.714237, pitch=54, velocity=127), Note(start=115.714237, end=115.885666, pitch=32, velocity=127), Note(start=115.714237, end=115.885666, pitch=44, velocity=127), Note(start=115.885666, end=116.057094, pitch=32, velocity=127), Note(start=115.885666, end=116.057094, pitch=44, velocity=127), Note(start=116.057094, end=116.228523, pitch=44, velocity=127), Note(start=116.057094, end=116.228523, pitch=32, velocity=127), Note(start=116.057094, end=116.228523, pitch=54, velocity=127), Note(start=116.228523, end=116.399951, pitch=32, velocity=127), Note(start=116.228523, end=116.399951, pitch=44, velocity=127), Note(start=116.399951, end=116.571380, pitch=32, velocity=127), Note(start=116.399951, end=116.571380, pitch=44, velocity=127), Note(start=116.571380, end=116.742808, pitch=44, velocity=127), Note(start=116.571380, end=116.742808, pitch=32, velocity=127), Note(start=116.571380, end=116.742808, pitch=54, velocity=127), Note(start=116.742808, end=116.914237, pitch=32, velocity=127), Note(start=116.742808, end=116.914237, pitch=44, velocity=127), Note(start=116.914237, end=117.085665, pitch=44, velocity=127), Note(start=116.914237, end=117.085665, pitch=32, velocity=127), Note(start=117.085665, end=117.257094, pitch=42, velocity=127), Note(start=117.085665, end=117.257094, pitch=32, velocity=127), Note(start=117.257094, end=117.428522, pitch=44, velocity=127), Note(start=117.257094, end=117.428522, pitch=32, velocity=127), Note(start=117.428522, end=117.599951, pitch=44, velocity=127), Note(start=117.428522, end=117.599951, pitch=32, velocity=127), Note(start=117.257094, end=117.766380, pitch=47, velocity=127), Note(start=117.599951, end=117.771379, pitch=32, velocity=127), Note(start=117.599951, end=117.771379, pitch=42, velocity=127), Note(start=117.771379, end=117.942808, pitch=44, velocity=127), Note(start=117.771379, end=117.942808, pitch=32, velocity=127), Note(start=117.942808, end=118.114236, pitch=32, velocity=127), Note(start=117.771379, end=118.114236, pitch=39, velocity=127), Note(start=117.942808, end=118.114236, pitch=44, velocity=127), Note(start=118.114236, end=118.285665, pitch=30, velocity=127), Note(start=118.114236, end=118.285665, pitch=42, velocity=127), Note(start=117.771379, end=118.290665, pitch=47, velocity=127), Note(start=118.285665, end=118.457093, pitch=27, velocity=127), Note(start=118.285665, end=118.457093, pitch=39, velocity=127), Note(start=118.457093, end=118.628522, pitch=30, velocity=127), Note(start=118.457093, end=118.628522, pitch=42, velocity=127), Note(start=118.628522, end=118.799950, pitch=44, velocity=127), Note(start=118.628522, end=118.799950, pitch=32, velocity=127), Note(start=118.799950, end=118.971379, pitch=28, velocity=127), Note(start=118.799950, end=118.971379, pitch=40, velocity=127), Note(start=118.971379, end=119.314236, pitch=35, velocity=127), Note(start=118.971379, end=119.314236, pitch=47, velocity=127), Note(start=119.314236, end=119.485664, pitch=44, velocity=127), Note(start=119.314236, end=119.485664, pitch=32, velocity=127), Note(start=119.485664, end=119.657093, pitch=32, velocity=127), Note(start=119.485664, end=119.657093, pitch=44, velocity=127), Note(start=119.657093, end=119.828521, pitch=32, velocity=127), Note(start=119.657093, end=119.828521, pitch=44, velocity=127), Note(start=119.657093, end=119.828521, pitch=54, velocity=127), Note(start=119.828521, end=119.999950, pitch=32, velocity=127), Note(start=119.828521, end=119.999950, pitch=44, velocity=127), Note(start=119.999950, end=120.171378, pitch=32, velocity=127), Note(start=119.999950, end=120.171378, pitch=44, velocity=127), Note(start=120.171378, end=120.342807, pitch=44, velocity=127), Note(start=120.171378, end=120.342807, pitch=32, velocity=127), Note(start=120.171378, end=120.342807, pitch=54, velocity=127), Note(start=120.342807, end=120.514235, pitch=32, velocity=127), Note(start=120.342807, end=120.514235, pitch=44, velocity=127), Note(start=120.514235, end=120.685664, pitch=32, velocity=127), Note(start=120.514235, end=120.685664, pitch=44, velocity=127), Note(start=120.685664, end=120.857092, pitch=44, velocity=127), Note(start=120.685664, end=120.857092, pitch=32, velocity=127), Note(start=120.685664, end=120.857092, pitch=54, velocity=127), Note(start=120.857092, end=121.028521, pitch=32, velocity=127), Note(start=120.857092, end=121.028521, pitch=44, velocity=127), Note(start=121.028521, end=121.199949, pitch=32, velocity=127), Note(start=121.028521, end=121.199949, pitch=44, velocity=127), Note(start=121.199949, end=121.371378, pitch=44, velocity=127), Note(start=121.199949, end=121.371378, pitch=32, velocity=127), Note(start=121.199949, end=121.371378, pitch=54, velocity=127), Note(start=121.371378, end=121.542806, pitch=32, velocity=127), Note(start=121.371378, end=121.542806, pitch=44, velocity=127), Note(start=121.542806, end=121.714235, pitch=32, velocity=127), Note(start=121.542806, end=121.714235, pitch=44, velocity=127), Note(start=121.714235, end=122.057092, pitch=42, velocity=127), Note(start=121.714235, end=122.057092, pitch=32, velocity=127), Note(start=121.714235, end=122.057092, pitch=54, velocity=127), Note(start=122.057092, end=122.228520, pitch=44, velocity=127), Note(start=122.057092, end=122.228520, pitch=32, velocity=127), Note(start=122.228520, end=122.399949, pitch=32, velocity=127), Note(start=122.228520, end=122.399949, pitch=44, velocity=127), Note(start=122.399949, end=122.571377, pitch=32, velocity=127), Note(start=122.399949, end=122.571377, pitch=44, velocity=127), Note(start=122.399949, end=122.571377, pitch=54, velocity=127), Note(start=122.571377, end=122.742806, pitch=32, velocity=127), Note(start=122.571377, end=122.742806, pitch=44, velocity=127), Note(start=122.742806, end=122.914234, pitch=32, velocity=127), Note(start=122.742806, end=122.914234, pitch=44, velocity=127), Note(start=122.914234, end=123.085663, pitch=44, velocity=127), Note(start=122.914234, end=123.085663, pitch=32, velocity=127), Note(start=122.914234, end=123.085663, pitch=54, velocity=127), Note(start=123.085663, end=123.257091, pitch=32, velocity=127), Note(start=123.085663, end=123.257091, pitch=44, velocity=127), Note(start=123.257091, end=123.428520, pitch=32, velocity=127), Note(start=123.257091, end=123.428520, pitch=44, velocity=127), Note(start=123.428520, end=123.599948, pitch=44, velocity=127), Note(start=123.428520, end=123.599948, pitch=32, velocity=127), Note(start=123.428520, end=123.599948, pitch=54, velocity=127), Note(start=123.599948, end=123.771377, pitch=32, velocity=127), Note(start=123.599948, end=123.771377, pitch=44, velocity=127), Note(start=123.771377, end=123.942805, pitch=32, velocity=127), Note(start=123.771377, end=123.942805, pitch=44, velocity=127), Note(start=123.942805, end=124.114234, pitch=44, velocity=127), Note(start=123.942805, end=124.114234, pitch=32, velocity=127), Note(start=123.942805, end=124.114234, pitch=54, velocity=127), Note(start=124.114234, end=124.285662, pitch=32, velocity=127), Note(start=124.114234, end=124.285662, pitch=44, velocity=127), Note(start=124.285662, end=124.457091, pitch=32, velocity=127), Note(start=124.285662, end=124.457091, pitch=44, velocity=127), Note(start=124.457091, end=124.799948, pitch=42, velocity=127), Note(start=124.457091, end=124.799948, pitch=32, velocity=127), Note(start=124.457091, end=124.799948, pitch=54, velocity=127), Note(start=124.799948, end=124.971376, pitch=44, velocity=127), Note(start=124.799948, end=124.971376, pitch=32, velocity=127), Note(start=124.971376, end=125.142805, pitch=32, velocity=127), Note(start=124.971376, end=125.142805, pitch=44, velocity=127), Note(start=125.142805, end=125.314233, pitch=32, velocity=127), Note(start=125.142805, end=125.314233, pitch=44, velocity=127), Note(start=125.142805, end=125.314233, pitch=54, velocity=127), Note(start=125.314233, end=125.485662, pitch=32, velocity=127), Note(start=125.314233, end=125.485662, pitch=44, velocity=127), Note(start=125.485662, end=125.657090, pitch=32, velocity=127), Note(start=125.485662, end=125.657090, pitch=44, velocity=127), Note(start=125.657090, end=125.828519, pitch=44, velocity=127), Note(start=125.657090, end=125.828519, pitch=32, velocity=127), Note(start=125.657090, end=125.828519, pitch=54, velocity=127), Note(start=125.828519, end=125.999947, pitch=32, velocity=127), Note(start=125.828519, end=125.999947, pitch=44, velocity=127), Note(start=125.999947, end=126.171376, pitch=32, velocity=127), Note(start=125.999947, end=126.171376, pitch=44, velocity=127), Note(start=126.171376, end=126.342804, pitch=44, velocity=127), Note(start=126.171376, end=126.342804, pitch=32, velocity=127), Note(start=126.171376, end=126.342804, pitch=54, velocity=127), Note(start=126.342804, end=126.514233, pitch=32, velocity=127), Note(start=126.342804, end=126.514233, pitch=44, velocity=127), Note(start=126.514233, end=126.685661, pitch=32, velocity=127), Note(start=126.514233, end=126.685661, pitch=44, velocity=127), Note(start=126.685661, end=126.857090, pitch=44, velocity=127), Note(start=126.685661, end=126.857090, pitch=32, velocity=127), Note(start=126.685661, end=126.857090, pitch=54, velocity=127), Note(start=126.857090, end=127.028518, pitch=32, velocity=127), Note(start=126.857090, end=127.028518, pitch=44, velocity=127), Note(start=127.028518, end=127.199947, pitch=32, velocity=127), Note(start=127.028518, end=127.199947, pitch=44, velocity=127), Note(start=127.199947, end=127.542804, pitch=42, velocity=127), Note(start=127.199947, end=127.542804, pitch=32, velocity=127), Note(start=127.199947, end=127.542804, pitch=54, velocity=127), Note(start=127.542804, end=127.714232, pitch=44, velocity=127), Note(start=127.542804, end=127.714232, pitch=32, velocity=127), Note(start=127.714232, end=127.885661, pitch=32, velocity=127), Note(start=127.714232, end=127.885661, pitch=44, velocity=127), Note(start=127.885661, end=128.057089, pitch=32, velocity=127), Note(start=127.885661, end=128.057089, pitch=44, velocity=127), Note(start=127.885661, end=128.057089, pitch=54, velocity=127), Note(start=128.057089, end=128.228518, pitch=32, velocity=127), Note(start=128.057089, end=128.228518, pitch=44, velocity=127), Note(start=128.228518, end=128.399946, pitch=32, velocity=127), Note(start=128.228518, end=128.399946, pitch=44, velocity=127), Note(start=128.399946, end=128.571375, pitch=44, velocity=127), Note(start=128.399946, end=128.571375, pitch=32, velocity=127), Note(start=128.399946, end=128.571375, pitch=54, velocity=127), Note(start=128.571375, end=128.742803, pitch=32, velocity=127), Note(start=128.571375, end=128.742803, pitch=44, velocity=127), Note(start=128.742803, end=128.914232, pitch=32, velocity=127), Note(start=128.742803, end=128.914232, pitch=44, velocity=127), Note(start=128.914232, end=129.085660, pitch=44, velocity=127), Note(start=128.914232, end=129.085660, pitch=32, velocity=127), Note(start=128.914232, end=129.085660, pitch=54, velocity=127), Note(start=129.085660, end=129.257089, pitch=32, velocity=127), Note(start=129.085660, end=129.257089, pitch=44, velocity=127), Note(start=129.257089, end=129.428517, pitch=32, velocity=127), Note(start=129.257089, end=129.428517, pitch=44, velocity=127), Note(start=129.428517, end=129.599946, pitch=44, velocity=127), Note(start=129.428517, end=129.599946, pitch=32, velocity=127), Note(start=129.428517, end=129.599946, pitch=54, velocity=127), Note(start=129.599946, end=129.771374, pitch=32, velocity=127), Note(start=129.599946, end=129.771374, pitch=44, velocity=127), Note(start=129.771374, end=129.942803, pitch=32, velocity=127), Note(start=129.771374, end=129.942803, pitch=44, velocity=127), Note(start=129.942803, end=130.285660, pitch=42, velocity=127), Note(start=129.942803, end=130.285660, pitch=32, velocity=127), Note(start=129.942803, end=130.285660, pitch=54, velocity=127), Note(start=130.285660, end=130.457088, pitch=44, velocity=127), Note(start=130.285660, end=130.457088, pitch=32, velocity=127), Note(start=130.457088, end=130.628517, pitch=32, velocity=127), Note(start=130.457088, end=130.628517, pitch=44, velocity=127), Note(start=130.628517, end=130.799945, pitch=32, velocity=127), Note(start=130.628517, end=130.799945, pitch=44, velocity=127), Note(start=130.628517, end=130.799945, pitch=54, velocity=127), Note(start=130.799945, end=130.971374, pitch=32, velocity=127), Note(start=130.799945, end=130.971374, pitch=44, velocity=127), Note(start=130.971374, end=131.142802, pitch=32, velocity=127), Note(start=130.971374, end=131.142802, pitch=44, velocity=127), Note(start=131.142802, end=131.314231, pitch=44, velocity=127), Note(start=131.142802, end=131.314231, pitch=32, velocity=127), Note(start=131.142802, end=131.314231, pitch=54, velocity=127), Note(start=131.314231, end=131.485659, pitch=32, velocity=127), Note(start=131.314231, end=131.485659, pitch=44, velocity=127), Note(start=131.485659, end=131.657088, pitch=32, velocity=127), Note(start=131.485659, end=131.657088, pitch=44, velocity=127), Note(start=131.657088, end=131.828516, pitch=44, velocity=127), Note(start=131.657088, end=131.828516, pitch=32, velocity=127), Note(start=131.657088, end=131.828516, pitch=54, velocity=127), Note(start=131.828516, end=131.999945, pitch=32, velocity=127), Note(start=131.828516, end=131.999945, pitch=44, velocity=127), Note(start=131.999945, end=132.171373, pitch=32, velocity=127), Note(start=131.999945, end=132.171373, pitch=44, velocity=127), Note(start=132.171373, end=132.342802, pitch=44, velocity=127), Note(start=132.171373, end=132.342802, pitch=32, velocity=127), Note(start=132.171373, end=132.342802, pitch=54, velocity=127), Note(start=132.342802, end=132.514230, pitch=32, velocity=127), Note(start=132.342802, end=132.514230, pitch=44, velocity=127), Note(start=132.514230, end=132.685659, pitch=32, velocity=127), Note(start=132.514230, end=132.685659, pitch=44, velocity=127), Note(start=132.685659, end=133.028516, pitch=42, velocity=127), Note(start=132.685659, end=133.028516, pitch=32, velocity=127), Note(start=132.685659, end=133.028516, pitch=54, velocity=127), Note(start=133.028516, end=133.199944, pitch=44, velocity=127), Note(start=133.028516, end=133.199944, pitch=32, velocity=127), Note(start=133.199944, end=133.371373, pitch=32, velocity=127), Note(start=133.199944, end=133.371373, pitch=44, velocity=127), Note(start=133.371373, end=133.542801, pitch=32, velocity=127), Note(start=133.371373, end=133.542801, pitch=44, velocity=127), Note(start=133.371373, end=133.542801, pitch=54, velocity=127), Note(start=133.542801, end=133.714230, pitch=32, velocity=127), Note(start=133.542801, end=133.714230, pitch=44, velocity=127), Note(start=133.714230, end=133.885658, pitch=32, velocity=127), Note(start=133.714230, end=133.885658, pitch=44, velocity=127), Note(start=133.885658, end=134.057087, pitch=44, velocity=127), Note(start=133.885658, end=134.057087, pitch=32, velocity=127), Note(start=133.885658, end=134.057087, pitch=54, velocity=127), Note(start=134.057087, end=134.228515, pitch=32, velocity=127), Note(start=134.057087, end=134.228515, pitch=44, velocity=127), Note(start=134.228515, end=134.399944, pitch=32, velocity=127), Note(start=134.228515, end=134.399944, pitch=44, velocity=127), Note(start=134.399944, end=134.571372, pitch=44, velocity=127), Note(start=134.399944, end=134.571372, pitch=32, velocity=127), Note(start=134.399944, end=134.571372, pitch=54, velocity=127), Note(start=134.571372, end=134.742801, pitch=32, velocity=127), Note(start=134.571372, end=134.742801, pitch=44, velocity=127), Note(start=134.742801, end=134.914229, pitch=32, velocity=127), Note(start=134.742801, end=134.914229, pitch=44, velocity=127), Note(start=134.914229, end=135.085658, pitch=44, velocity=127), Note(start=134.914229, end=135.085658, pitch=32, velocity=127), Note(start=134.914229, end=135.085658, pitch=54, velocity=127), Note(start=135.085658, end=135.257086, pitch=32, velocity=127), Note(start=135.085658, end=135.257086, pitch=44, velocity=127), Note(start=135.257086, end=135.428515, pitch=32, velocity=127), Note(start=135.257086, end=135.428515, pitch=44, velocity=127), Note(start=135.428515, end=135.771372, pitch=42, velocity=127), Note(start=135.428515, end=135.771372, pitch=32, velocity=127), Note(start=135.428515, end=135.771372, pitch=54, velocity=127), Note(start=135.771372, end=135.942800, pitch=44, velocity=127), Note(start=135.771372, end=135.942800, pitch=32, velocity=127), Note(start=135.942800, end=136.114229, pitch=32, velocity=127), Note(start=135.942800, end=136.114229, pitch=44, velocity=127), Note(start=136.114229, end=136.285657, pitch=32, velocity=127), Note(start=136.114229, end=136.285657, pitch=44, velocity=127), Note(start=136.114229, end=136.285657, pitch=54, velocity=127), Note(start=136.285657, end=136.457086, pitch=32, velocity=127), Note(start=136.285657, end=136.457086, pitch=44, velocity=127), Note(start=136.457086, end=136.628514, pitch=32, velocity=127), Note(start=136.457086, end=136.628514, pitch=44, velocity=127), Note(start=136.628514, end=136.799943, pitch=44, velocity=127), Note(start=136.628514, end=136.799943, pitch=32, velocity=127), Note(start=136.628514, end=136.799943, pitch=54, velocity=127), Note(start=136.799943, end=136.971371, pitch=32, velocity=127), Note(start=136.799943, end=136.971371, pitch=44, velocity=127), Note(start=136.971371, end=137.142800, pitch=32, velocity=127), Note(start=136.971371, end=137.142800, pitch=44, velocity=127), Note(start=137.142800, end=137.314228, pitch=44, velocity=127), Note(start=137.142800, end=137.314228, pitch=32, velocity=127), Note(start=137.142800, end=137.314228, pitch=54, velocity=127), Note(start=137.314228, end=137.485657, pitch=32, velocity=127), Note(start=137.314228, end=137.485657, pitch=44, velocity=127), Note(start=137.485657, end=137.657085, pitch=32, velocity=127), Note(start=137.485657, end=137.657085, pitch=44, velocity=127), Note(start=137.657085, end=137.828514, pitch=44, velocity=127), Note(start=137.657085, end=137.828514, pitch=32, velocity=127), Note(start=137.657085, end=137.828514, pitch=54, velocity=127), Note(start=137.828514, end=137.999942, pitch=32, velocity=127), Note(start=137.828514, end=137.999942, pitch=44, velocity=127), Note(start=137.999942, end=138.171371, pitch=32, velocity=127), Note(start=137.999942, end=138.171371, pitch=44, velocity=127), Note(start=138.171371, end=138.514228, pitch=42, velocity=127), Note(start=138.171371, end=138.514228, pitch=32, velocity=127), Note(start=138.171371, end=138.514228, pitch=54, velocity=127), Note(start=138.514228, end=138.685656, pitch=44, velocity=127), Note(start=138.514228, end=138.685656, pitch=32, velocity=127), Note(start=138.685656, end=138.857085, pitch=32, velocity=127), Note(start=138.685656, end=138.857085, pitch=44, velocity=127), Note(start=138.857085, end=139.028513, pitch=32, velocity=127), Note(start=138.857085, end=139.028513, pitch=44, velocity=127), Note(start=138.857085, end=139.028513, pitch=54, velocity=127), Note(start=139.028513, end=139.199942, pitch=32, velocity=127), Note(start=139.028513, end=139.199942, pitch=44, velocity=127), Note(start=139.199942, end=139.371370, pitch=32, velocity=127), Note(start=139.199942, end=139.371370, pitch=44, velocity=127), Note(start=139.371370, end=139.542799, pitch=44, velocity=127), Note(start=139.371370, end=139.542799, pitch=32, velocity=127), Note(start=139.371370, end=139.542799, pitch=54, velocity=127), Note(start=139.542799, end=139.714227, pitch=32, velocity=127), Note(start=139.542799, end=139.714227, pitch=44, velocity=127), Note(start=139.714227, end=139.885656, pitch=32, velocity=127), Note(start=139.714227, end=139.885656, pitch=44, velocity=127), Note(start=139.885656, end=140.057085, pitch=44, velocity=127), Note(start=139.885656, end=140.057085, pitch=32, velocity=127), Note(start=139.885656, end=140.057085, pitch=54, velocity=127), Note(start=140.057085, end=140.228513, pitch=32, velocity=127), Note(start=140.057085, end=140.228513, pitch=44, velocity=127), Note(start=140.228513, end=140.399941, pitch=32, velocity=127), Note(start=140.228513, end=140.399941, pitch=44, velocity=127), Note(start=140.399941, end=140.571370, pitch=44, velocity=127), Note(start=140.399941, end=140.571370, pitch=32, velocity=127), Note(start=140.399941, end=140.571370, pitch=54, velocity=127), Note(start=140.571370, end=140.742798, pitch=32, velocity=127), Note(start=140.571370, end=140.742798, pitch=44, velocity=127), Note(start=140.742798, end=140.914227, pitch=32, velocity=127), Note(start=140.742798, end=140.914227, pitch=44, velocity=127), Note(start=140.914227, end=141.257084, pitch=42, velocity=127), Note(start=140.914227, end=141.257084, pitch=32, velocity=127), Note(start=140.914227, end=141.257084, pitch=54, velocity=127), Note(start=141.257084, end=141.428512, pitch=44, velocity=127), Note(start=141.257084, end=141.428512, pitch=32, velocity=127), Note(start=141.428512, end=141.599941, pitch=32, velocity=127), Note(start=141.428512, end=141.599941, pitch=44, velocity=127), Note(start=141.599941, end=141.771369, pitch=32, velocity=127), Note(start=141.599941, end=141.771369, pitch=44, velocity=127), Note(start=141.599941, end=141.771369, pitch=54, velocity=127), Note(start=141.771369, end=141.942798, pitch=32, velocity=127), Note(start=141.771369, end=141.942798, pitch=44, velocity=127), Note(start=141.942798, end=142.114227, pitch=32, velocity=127), Note(start=141.942798, end=142.114227, pitch=44, velocity=127), Note(start=142.114227, end=142.285655, pitch=44, velocity=127), Note(start=142.114227, end=142.285655, pitch=32, velocity=127), Note(start=142.114227, end=142.285655, pitch=54, velocity=127), Note(start=142.285655, end=142.457083, pitch=32, velocity=127), Note(start=142.285655, end=142.457083, pitch=44, velocity=127), Note(start=142.457083, end=142.628512, pitch=32, velocity=127), Note(start=142.457083, end=142.628512, pitch=44, velocity=127), Note(start=142.628512, end=142.799940, pitch=44, velocity=127), Note(start=142.628512, end=142.799940, pitch=32, velocity=127), Note(start=142.628512, end=142.799940, pitch=54, velocity=127), Note(start=142.799940, end=142.971369, pitch=32, velocity=127), Note(start=142.799940, end=142.971369, pitch=44, velocity=127), Note(start=142.971369, end=143.142798, pitch=32, velocity=127), Note(start=142.971369, end=143.142798, pitch=44, velocity=127), Note(start=143.142798, end=143.314226, pitch=44, velocity=127), Note(start=143.142798, end=143.314226, pitch=32, velocity=127), Note(start=143.142798, end=143.314226, pitch=54, velocity=127), Note(start=143.314226, end=143.485654, pitch=32, velocity=127), Note(start=143.314226, end=143.485654, pitch=44, velocity=127), Note(start=143.485654, end=143.657083, pitch=32, velocity=127), Note(start=143.485654, end=143.657083, pitch=44, velocity=127), Note(start=143.657083, end=143.999940, pitch=42, velocity=127), Note(start=143.657083, end=143.999940, pitch=32, velocity=127), Note(start=143.657083, end=143.999940, pitch=54, velocity=127), Note(start=143.999940, end=144.171368, pitch=44, velocity=127), Note(start=143.999940, end=144.171368, pitch=32, velocity=127), Note(start=144.171368, end=144.342797, pitch=32, velocity=127), Note(start=144.171368, end=144.342797, pitch=44, velocity=127), Note(start=144.342797, end=144.514225, pitch=32, velocity=127), Note(start=144.342797, end=144.514225, pitch=44, velocity=127), Note(start=144.342797, end=144.514225, pitch=54, velocity=127), Note(start=144.514225, end=144.685654, pitch=32, velocity=127), Note(start=144.514225, end=144.685654, pitch=44, velocity=127), Note(start=144.685654, end=144.857082, pitch=32, velocity=127), Note(start=144.685654, end=144.857082, pitch=44, velocity=127), Note(start=144.857082, end=145.028511, pitch=44, velocity=127), Note(start=144.857082, end=145.028511, pitch=32, velocity=127), Note(start=144.857082, end=145.028511, pitch=54, velocity=127), Note(start=145.028511, end=145.199939, pitch=32, velocity=127), Note(start=145.028511, end=145.199939, pitch=44, velocity=127), Note(start=145.199939, end=145.371368, pitch=32, velocity=127), Note(start=145.199939, end=145.371368, pitch=44, velocity=127), Note(start=145.371368, end=145.542796, pitch=44, velocity=127), Note(start=145.371368, end=145.542796, pitch=32, velocity=127), Note(start=145.371368, end=145.542796, pitch=54, velocity=127), Note(start=145.542796, end=145.714225, pitch=32, velocity=127), Note(start=145.542796, end=145.714225, pitch=44, velocity=127), Note(start=145.714225, end=145.885653, pitch=32, velocity=127), Note(start=145.714225, end=145.885653, pitch=44, velocity=127), Note(start=145.885653, end=146.057082, pitch=44, velocity=127), Note(start=145.885653, end=146.057082, pitch=32, velocity=127), Note(start=145.885653, end=146.057082, pitch=54, velocity=127), Note(start=146.057082, end=146.228510, pitch=32, velocity=127), Note(start=146.057082, end=146.228510, pitch=44, velocity=127), Note(start=146.228510, end=146.399939, pitch=32, velocity=127), Note(start=146.228510, end=146.399939, pitch=44, velocity=127), Note(start=146.399939, end=146.742796, pitch=42, velocity=127), Note(start=146.399939, end=146.742796, pitch=32, velocity=127), Note(start=146.399939, end=146.742796, pitch=54, velocity=127), Note(start=146.742796, end=146.914224, pitch=44, velocity=127), Note(start=146.742796, end=146.914224, pitch=32, velocity=127), Note(start=146.914224, end=147.085653, pitch=32, velocity=127), Note(start=146.914224, end=147.085653, pitch=44, velocity=127), Note(start=147.085653, end=147.257081, pitch=32, velocity=127), Note(start=147.085653, end=147.257081, pitch=44, velocity=127), Note(start=147.085653, end=147.257081, pitch=54, velocity=127), Note(start=147.257081, end=147.428510, pitch=32, velocity=127), Note(start=147.257081, end=147.428510, pitch=44, velocity=127), Note(start=147.428510, end=147.599938, pitch=32, velocity=127), Note(start=147.428510, end=147.599938, pitch=44, velocity=127), Note(start=147.599938, end=147.771367, pitch=44, velocity=127), Note(start=147.599938, end=147.771367, pitch=32, velocity=127), Note(start=147.599938, end=147.771367, pitch=54, velocity=127), Note(start=147.771367, end=147.942795, pitch=32, velocity=127), Note(start=147.771367, end=147.942795, pitch=44, velocity=127), Note(start=147.942795, end=148.114224, pitch=32, velocity=127), Note(start=147.942795, end=148.114224, pitch=44, velocity=127), Note(start=148.114224, end=148.285652, pitch=44, velocity=127), Note(start=148.114224, end=148.285652, pitch=32, velocity=127), Note(start=148.114224, end=148.285652, pitch=54, velocity=127), Note(start=148.285652, end=148.457081, pitch=32, velocity=127), Note(start=148.285652, end=148.457081, pitch=44, velocity=127), Note(start=148.457081, end=148.628509, pitch=32, velocity=127), Note(start=148.457081, end=148.628509, pitch=44, velocity=127), Note(start=148.628509, end=148.799938, pitch=44, velocity=127), Note(start=148.628509, end=148.799938, pitch=32, velocity=127), Note(start=148.628509, end=148.799938, pitch=54, velocity=127), Note(start=148.799938, end=148.971366, pitch=32, velocity=127), Note(start=148.799938, end=148.971366, pitch=44, velocity=127), Note(start=148.971366, end=149.142795, pitch=32, velocity=127), Note(start=148.971366, end=149.142795, pitch=44, velocity=127), Note(start=149.142795, end=149.485652, pitch=42, velocity=127), Note(start=149.142795, end=149.485652, pitch=32, velocity=127), Note(start=149.142795, end=149.485652, pitch=54, velocity=127), Note(start=149.485652, end=149.657080, pitch=44, velocity=127), Note(start=149.485652, end=149.657080, pitch=32, velocity=127), Note(start=149.657080, end=149.828509, pitch=32, velocity=127), Note(start=149.657080, end=149.828509, pitch=44, velocity=127), Note(start=149.828509, end=149.999937, pitch=32, velocity=127), Note(start=149.828509, end=149.999937, pitch=44, velocity=127), Note(start=149.828509, end=149.999937, pitch=54, velocity=127), Note(start=149.999937, end=150.171366, pitch=32, velocity=127), Note(start=149.999937, end=150.171366, pitch=44, velocity=127), Note(start=150.171366, end=150.342794, pitch=32, velocity=127), Note(start=150.171366, end=150.342794, pitch=44, velocity=127), Note(start=150.342794, end=150.514223, pitch=44, velocity=127), Note(start=150.342794, end=150.514223, pitch=32, velocity=127), Note(start=150.342794, end=150.514223, pitch=54, velocity=127), Note(start=150.514223, end=150.685651, pitch=32, velocity=127), Note(start=150.514223, end=150.685651, pitch=44, velocity=127), Note(start=150.685651, end=150.857080, pitch=32, velocity=127), Note(start=150.685651, end=150.857080, pitch=44, velocity=127), Note(start=150.857080, end=151.028508, pitch=44, velocity=127), Note(start=150.857080, end=151.028508, pitch=32, velocity=127), Note(start=150.857080, end=151.028508, pitch=54, velocity=127), Note(start=151.028508, end=151.199937, pitch=32, velocity=127), Note(start=151.028508, end=151.199937, pitch=44, velocity=127), Note(start=151.199937, end=151.371365, pitch=32, velocity=127), Note(start=151.199937, end=151.371365, pitch=44, velocity=127), Note(start=151.371365, end=151.542794, pitch=44, velocity=127), Note(start=151.371365, end=151.542794, pitch=32, velocity=127), Note(start=151.371365, end=151.542794, pitch=54, velocity=127), Note(start=151.542794, end=151.714222, pitch=32, velocity=127), Note(start=151.542794, end=151.714222, pitch=44, velocity=127), Note(start=151.714222, end=151.885651, pitch=32, velocity=127), Note(start=151.714222, end=151.885651, pitch=44, velocity=127), Note(start=151.885651, end=152.228508, pitch=42, velocity=127), Note(start=151.885651, end=152.228508, pitch=32, velocity=127), Note(start=151.885651, end=152.228508, pitch=54, velocity=127), Note(start=152.228508, end=152.399936, pitch=44, velocity=127), Note(start=152.228508, end=152.399936, pitch=32, velocity=127), Note(start=152.399936, end=152.571365, pitch=32, velocity=127), Note(start=152.399936, end=152.571365, pitch=44, velocity=127), Note(start=152.571365, end=152.742793, pitch=32, velocity=127), Note(start=152.571365, end=152.742793, pitch=44, velocity=127), Note(start=152.571365, end=152.742793, pitch=54, velocity=127), Note(start=152.742793, end=152.914222, pitch=32, velocity=127), Note(start=152.742793, end=152.914222, pitch=44, velocity=127), Note(start=152.914222, end=153.085650, pitch=32, velocity=127), Note(start=152.914222, end=153.085650, pitch=44, velocity=127), Note(start=153.085650, end=153.257079, pitch=44, velocity=127), Note(start=153.085650, end=153.257079, pitch=32, velocity=127), Note(start=153.085650, end=153.257079, pitch=54, velocity=127), Note(start=153.257079, end=153.428507, pitch=32, velocity=127), Note(start=153.257079, end=153.428507, pitch=44, velocity=127), Note(start=153.428507, end=153.599936, pitch=32, velocity=127), Note(start=153.428507, end=153.599936, pitch=44, velocity=127), Note(start=153.599936, end=153.771364, pitch=44, velocity=127), Note(start=153.599936, end=153.771364, pitch=32, velocity=127), Note(start=153.599936, end=153.771364, pitch=54, velocity=127), Note(start=153.771364, end=153.942793, pitch=32, velocity=127), Note(start=153.771364, end=153.942793, pitch=44, velocity=127), Note(start=153.942793, end=154.114221, pitch=32, velocity=127), Note(start=153.942793, end=154.114221, pitch=44, velocity=127), Note(start=154.114221, end=154.285650, pitch=44, velocity=127), Note(start=154.114221, end=154.285650, pitch=32, velocity=127), Note(start=154.114221, end=154.285650, pitch=54, velocity=127), Note(start=154.285650, end=154.457078, pitch=32, velocity=127), Note(start=154.285650, end=154.457078, pitch=44, velocity=127), Note(start=154.457078, end=154.628507, pitch=32, velocity=127), Note(start=154.457078, end=154.628507, pitch=44, velocity=127), Note(start=154.628507, end=154.971364, pitch=42, velocity=127), Note(start=154.628507, end=154.971364, pitch=32, velocity=127), Note(start=154.628507, end=154.971364, pitch=54, velocity=127), Note(start=154.971364, end=155.142792, pitch=44, velocity=127), Note(start=154.971364, end=155.142792, pitch=32, velocity=127), Note(start=155.142792, end=155.314221, pitch=32, velocity=127), Note(start=155.142792, end=155.314221, pitch=44, velocity=127), Note(start=155.314221, end=155.485649, pitch=32, velocity=127), Note(start=155.314221, end=155.485649, pitch=44, velocity=127), Note(start=155.314221, end=155.485649, pitch=54, velocity=127), Note(start=155.485649, end=155.657078, pitch=32, velocity=127), Note(start=155.485649, end=155.657078, pitch=44, velocity=127), Note(start=155.657078, end=155.828506, pitch=32, velocity=127), Note(start=155.657078, end=155.828506, pitch=44, velocity=127), Note(start=155.828506, end=155.999935, pitch=44, velocity=127), Note(start=155.828506, end=155.999935, pitch=32, velocity=127), Note(start=155.828506, end=155.999935, pitch=54, velocity=127), Note(start=155.999935, end=156.171363, pitch=32, velocity=127), Note(start=155.999935, end=156.171363, pitch=44, velocity=127), Note(start=156.171363, end=156.342792, pitch=32, velocity=127), Note(start=156.171363, end=156.342792, pitch=44, velocity=127), Note(start=156.342792, end=156.514220, pitch=44, velocity=127), Note(start=156.342792, end=156.514220, pitch=32, velocity=127), Note(start=156.342792, end=156.514220, pitch=54, velocity=127), Note(start=156.514220, end=156.685649, pitch=32, velocity=127), Note(start=156.514220, end=156.685649, pitch=44, velocity=127), Note(start=156.685649, end=156.857077, pitch=32, velocity=127), Note(start=156.685649, end=156.857077, pitch=44, velocity=127), Note(start=156.857077, end=157.028506, pitch=44, velocity=127), Note(start=156.857077, end=157.028506, pitch=32, velocity=127), Note(start=156.857077, end=157.028506, pitch=54, velocity=127), Note(start=157.028506, end=157.199934, pitch=32, velocity=127), Note(start=157.028506, end=157.199934, pitch=44, velocity=127), Note(start=157.199934, end=157.371363, pitch=32, velocity=127), Note(start=157.199934, end=157.371363, pitch=44, velocity=127), Note(start=157.371363, end=157.714220, pitch=42, velocity=127), Note(start=157.371363, end=157.714220, pitch=32, velocity=127), Note(start=157.371363, end=157.714220, pitch=54, velocity=127), Note(start=157.714220, end=157.885648, pitch=44, velocity=127), Note(start=157.714220, end=157.885648, pitch=32, velocity=127), Note(start=157.885648, end=158.057077, pitch=32, velocity=127), Note(start=157.885648, end=158.057077, pitch=44, velocity=127), Note(start=158.057077, end=158.228505, pitch=32, velocity=127), Note(start=158.057077, end=158.228505, pitch=44, velocity=127), Note(start=158.057077, end=158.228505, pitch=54, velocity=127), Note(start=158.228505, end=158.399934, pitch=32, velocity=127), Note(start=158.228505, end=158.399934, pitch=44, velocity=127), Note(start=158.399934, end=158.571362, pitch=32, velocity=127), Note(start=158.399934, end=158.571362, pitch=44, velocity=127), Note(start=158.571362, end=158.742791, pitch=44, velocity=127), Note(start=158.571362, end=158.742791, pitch=32, velocity=127), Note(start=158.571362, end=158.742791, pitch=54, velocity=127), Note(start=158.742791, end=158.914219, pitch=32, velocity=127), Note(start=158.742791, end=158.914219, pitch=44, velocity=127), Note(start=158.914219, end=159.085648, pitch=32, velocity=127), Note(start=158.914219, end=159.085648, pitch=44, velocity=127), Note(start=159.085648, end=159.257076, pitch=44, velocity=127), Note(start=159.085648, end=159.257076, pitch=32, velocity=127), Note(start=159.085648, end=159.257076, pitch=54, velocity=127), Note(start=159.257076, end=159.428505, pitch=32, velocity=127), Note(start=159.257076, end=159.428505, pitch=44, velocity=127), Note(start=159.428505, end=159.599933, pitch=32, velocity=127), Note(start=159.428505, end=159.599933, pitch=44, velocity=127), Note(start=159.599933, end=159.771362, pitch=44, velocity=127), Note(start=159.599933, end=159.771362, pitch=32, velocity=127), Note(start=159.599933, end=159.771362, pitch=54, velocity=127), Note(start=159.771362, end=159.942790, pitch=32, velocity=127), Note(start=159.771362, end=159.942790, pitch=44, velocity=127), Note(start=159.942790, end=160.114219, pitch=32, velocity=127), Note(start=159.942790, end=160.114219, pitch=44, velocity=127), Note(start=160.114219, end=160.457076, pitch=42, velocity=127), Note(start=160.114219, end=160.457076, pitch=32, velocity=127), Note(start=160.114219, end=160.457076, pitch=54, velocity=127), Note(start=160.457076, end=160.628504, pitch=44, velocity=127), Note(start=160.457076, end=160.628504, pitch=32, velocity=127), Note(start=160.628504, end=160.799933, pitch=32, velocity=127), Note(start=160.628504, end=160.799933, pitch=44, velocity=127), Note(start=160.799933, end=160.971362, pitch=32, velocity=127), Note(start=160.799933, end=160.971362, pitch=44, velocity=127), Note(start=160.799933, end=160.971362, pitch=54, velocity=127), Note(start=160.971362, end=161.142790, pitch=32, velocity=127), Note(start=160.971362, end=161.142790, pitch=44, velocity=127), Note(start=161.142790, end=161.314218, pitch=32, velocity=127), Note(start=161.142790, end=161.314218, pitch=44, velocity=127), Note(start=161.314218, end=161.485647, pitch=44, velocity=127), Note(start=161.314218, end=161.485647, pitch=32, velocity=127), Note(start=161.314218, end=161.485647, pitch=54, velocity=127), Note(start=161.485647, end=161.657075, pitch=32, velocity=127), Note(start=161.485647, end=161.657075, pitch=44, velocity=127), Note(start=161.657075, end=161.828504, pitch=32, velocity=127), Note(start=161.657075, end=161.828504, pitch=44, velocity=127), Note(start=161.828504, end=161.999932, pitch=44, velocity=127), Note(start=161.828504, end=161.999932, pitch=32, velocity=127), Note(start=161.828504, end=161.999932, pitch=54, velocity=127), Note(start=161.999932, end=162.171361, pitch=32, velocity=127), Note(start=161.999932, end=162.171361, pitch=44, velocity=127), Note(start=162.171361, end=162.342789, pitch=32, velocity=127), Note(start=162.171361, end=162.342789, pitch=44, velocity=127), Note(start=162.342789, end=162.514218, pitch=44, velocity=127), Note(start=162.342789, end=162.514218, pitch=32, velocity=127), Note(start=162.342789, end=162.514218, pitch=54, velocity=127), Note(start=162.514218, end=162.685646, pitch=32, velocity=127), Note(start=162.514218, end=162.685646, pitch=44, velocity=127), Note(start=162.685646, end=162.857075, pitch=32, velocity=127), Note(start=162.685646, end=162.857075, pitch=44, velocity=127), Note(start=162.857075, end=163.199932, pitch=42, velocity=127), Note(start=162.857075, end=163.199932, pitch=32, velocity=127), Note(start=162.857075, end=163.199932, pitch=54, velocity=127), Note(start=163.199932, end=163.371360, pitch=44, velocity=127), Note(start=163.199932, end=163.371360, pitch=32, velocity=127), Note(start=163.371360, end=163.542789, pitch=32, velocity=127), Note(start=163.371360, end=163.542789, pitch=44, velocity=127), Note(start=163.542789, end=163.714217, pitch=32, velocity=127), Note(start=163.542789, end=163.714217, pitch=44, velocity=127), Note(start=163.542789, end=163.714217, pitch=54, velocity=127), Note(start=163.714217, end=163.885646, pitch=32, velocity=127), Note(start=163.714217, end=163.885646, pitch=44, velocity=127), Note(start=163.885646, end=164.057074, pitch=32, velocity=127), Note(start=163.885646, end=164.057074, pitch=44, velocity=127), Note(start=164.057074, end=164.228503, pitch=44, velocity=127), Note(start=164.057074, end=164.228503, pitch=32, velocity=127), Note(start=164.057074, end=164.228503, pitch=54, velocity=127), Note(start=164.228503, end=164.399931, pitch=32, velocity=127), Note(start=164.228503, end=164.399931, pitch=44, velocity=127), Note(start=164.399931, end=164.571360, pitch=32, velocity=127), Note(start=164.399931, end=164.571360, pitch=44, velocity=127), Note(start=164.571360, end=164.742788, pitch=44, velocity=127), Note(start=164.571360, end=164.742788, pitch=32, velocity=127), Note(start=164.571360, end=164.742788, pitch=54, velocity=127), Note(start=164.742788, end=164.914217, pitch=32, velocity=127), Note(start=164.742788, end=164.914217, pitch=44, velocity=127), Note(start=164.914217, end=165.085645, pitch=32, velocity=127), Note(start=164.914217, end=165.085645, pitch=44, velocity=127), Note(start=165.085645, end=165.257074, pitch=44, velocity=127), Note(start=165.085645, end=165.257074, pitch=32, velocity=127), Note(start=165.085645, end=165.257074, pitch=54, velocity=127), Note(start=165.257074, end=165.428502, pitch=32, velocity=127), Note(start=165.257074, end=165.428502, pitch=44, velocity=127), Note(start=165.428502, end=165.599931, pitch=32, velocity=127), Note(start=165.428502, end=165.599931, pitch=44, velocity=127), Note(start=165.599931, end=165.942788, pitch=42, velocity=127), Note(start=165.599931, end=165.942788, pitch=32, velocity=127), Note(start=165.599931, end=165.942788, pitch=54, velocity=127), Note(start=165.942788, end=166.114216, pitch=44, velocity=127), Note(start=165.942788, end=166.114216, pitch=32, velocity=127), Note(start=166.114216, end=166.285645, pitch=32, velocity=127), Note(start=166.114216, end=166.285645, pitch=44, velocity=127), Note(start=166.285645, end=166.457073, pitch=32, velocity=127), Note(start=166.285645, end=166.457073, pitch=44, velocity=127), Note(start=166.285645, end=166.457073, pitch=54, velocity=127), Note(start=166.457073, end=166.628502, pitch=32, velocity=127), Note(start=166.457073, end=166.628502, pitch=44, velocity=127), Note(start=166.628502, end=166.799930, pitch=32, velocity=127), Note(start=166.628502, end=166.799930, pitch=44, velocity=127), Note(start=166.799930, end=166.971359, pitch=44, velocity=127), Note(start=166.799930, end=166.971359, pitch=32, velocity=127), Note(start=166.799930, end=166.971359, pitch=54, velocity=127), Note(start=166.971359, end=167.142787, pitch=32, velocity=127), Note(start=166.971359, end=167.142787, pitch=44, velocity=127), Note(start=167.142787, end=167.314216, pitch=32, velocity=127), Note(start=167.142787, end=167.314216, pitch=44, velocity=127), Note(start=167.314216, end=167.485644, pitch=44, velocity=127), Note(start=167.314216, end=167.485644, pitch=32, velocity=127), Note(start=167.314216, end=167.485644, pitch=54, velocity=127), Note(start=167.485644, end=167.657073, pitch=32, velocity=127), Note(start=167.485644, end=167.657073, pitch=44, velocity=127), Note(start=167.657073, end=167.828501, pitch=32, velocity=127), Note(start=167.657073, end=167.828501, pitch=44, velocity=127), Note(start=167.828501, end=167.999930, pitch=44, velocity=127), Note(start=167.828501, end=167.999930, pitch=32, velocity=127), Note(start=167.828501, end=167.999930, pitch=54, velocity=127), Note(start=167.999930, end=168.171358, pitch=32, velocity=127), Note(start=167.999930, end=168.171358, pitch=44, velocity=127), Note(start=168.171358, end=168.342787, pitch=32, velocity=127), Note(start=168.171358, end=168.342787, pitch=44, velocity=127), Note(start=168.342787, end=168.685644, pitch=42, velocity=127), Note(start=168.342787, end=168.685644, pitch=32, velocity=127), Note(start=168.342787, end=168.685644, pitch=54, velocity=127), Note(start=168.685644, end=168.857072, pitch=44, velocity=127), Note(start=168.685644, end=168.857072, pitch=32, velocity=127), Note(start=168.857072, end=169.028501, pitch=32, velocity=127), Note(start=168.857072, end=169.028501, pitch=44, velocity=127), Note(start=169.028501, end=169.199929, pitch=32, velocity=127), Note(start=169.028501, end=169.199929, pitch=44, velocity=127), Note(start=169.028501, end=169.199929, pitch=54, velocity=127), Note(start=169.199929, end=169.371358, pitch=32, velocity=127), Note(start=169.199929, end=169.371358, pitch=44, velocity=127), Note(start=169.371358, end=169.542786, pitch=32, velocity=127), Note(start=169.371358, end=169.542786, pitch=44, velocity=127), Note(start=169.542786, end=169.714215, pitch=44, velocity=127), Note(start=169.542786, end=169.714215, pitch=32, velocity=127), Note(start=169.542786, end=169.714215, pitch=54, velocity=127), Note(start=169.714215, end=169.885643, pitch=32, velocity=127), Note(start=169.714215, end=169.885643, pitch=44, velocity=127), Note(start=169.885643, end=170.057072, pitch=32, velocity=127), Note(start=169.885643, end=170.057072, pitch=44, velocity=127), Note(start=170.057072, end=170.228500, pitch=44, velocity=127), Note(start=170.057072, end=170.228500, pitch=32, velocity=127), Note(start=170.057072, end=170.228500, pitch=54, velocity=127), Note(start=170.228500, end=170.399929, pitch=32, velocity=127), Note(start=170.228500, end=170.399929, pitch=44, velocity=127), Note(start=170.399929, end=170.571357, pitch=32, velocity=127), Note(start=170.399929, end=170.571357, pitch=44, velocity=127), Note(start=170.571357, end=170.742786, pitch=44, velocity=127), Note(start=170.571357, end=170.742786, pitch=32, velocity=127), Note(start=170.571357, end=170.742786, pitch=54, velocity=127), Note(start=170.742786, end=170.914214, pitch=32, velocity=127), Note(start=170.742786, end=170.914214, pitch=44, velocity=127), Note(start=170.914214, end=171.085643, pitch=32, velocity=127), Note(start=170.914214, end=171.085643, pitch=44, velocity=127), Note(start=171.085643, end=171.428500, pitch=42, velocity=127), Note(start=171.085643, end=171.428500, pitch=32, velocity=127), Note(start=171.085643, end=171.428500, pitch=54, velocity=127), Note(start=171.428500, end=171.599928, pitch=44, velocity=127), Note(start=171.428500, end=171.599928, pitch=32, velocity=127), Note(start=171.599928, end=171.771357, pitch=32, velocity=127), Note(start=171.599928, end=171.771357, pitch=44, velocity=127), Note(start=171.771357, end=171.942785, pitch=32, velocity=127), Note(start=171.771357, end=171.942785, pitch=44, velocity=127), Note(start=171.771357, end=171.942785, pitch=54, velocity=127), Note(start=171.942785, end=172.114214, pitch=32, velocity=127), Note(start=171.942785, end=172.114214, pitch=44, velocity=127), Note(start=172.114214, end=172.285642, pitch=32, velocity=127), Note(start=172.114214, end=172.285642, pitch=44, velocity=127), Note(start=172.285642, end=172.457071, pitch=44, velocity=127), Note(start=172.285642, end=172.457071, pitch=32, velocity=127), Note(start=172.285642, end=172.457071, pitch=54, velocity=127), Note(start=172.457071, end=172.628499, pitch=32, velocity=127), Note(start=172.457071, end=172.628499, pitch=44, velocity=127), Note(start=172.628499, end=172.799928, pitch=32, velocity=127), Note(start=172.628499, end=172.799928, pitch=44, velocity=127), Note(start=172.799928, end=172.971356, pitch=44, velocity=127), Note(start=172.799928, end=172.971356, pitch=32, velocity=127), Note(start=172.799928, end=172.971356, pitch=54, velocity=127), Note(start=172.971356, end=173.142785, pitch=32, velocity=127), Note(start=172.971356, end=173.142785, pitch=44, velocity=127), Note(start=173.142785, end=173.314213, pitch=32, velocity=127), Note(start=173.142785, end=173.314213, pitch=44, velocity=127), Note(start=173.314213, end=173.485642, pitch=44, velocity=127), Note(start=173.314213, end=173.485642, pitch=32, velocity=127), Note(start=173.314213, end=173.485642, pitch=54, velocity=127), Note(start=173.485642, end=173.657070, pitch=32, velocity=127), Note(start=173.485642, end=173.657070, pitch=44, velocity=127), Note(start=173.657070, end=173.828499, pitch=32, velocity=127), Note(start=173.657070, end=173.828499, pitch=44, velocity=127), Note(start=173.828499, end=174.171356, pitch=42, velocity=127), Note(start=173.828499, end=174.171356, pitch=32, velocity=127), Note(start=173.828499, end=174.171356, pitch=54, velocity=127), Note(start=185.142780, end=185.314208, pitch=44, velocity=127), Note(start=185.142780, end=185.314208, pitch=32, velocity=127), Note(start=185.314208, end=185.485637, pitch=32, velocity=127), Note(start=185.314208, end=185.485637, pitch=44, velocity=127), Note(start=185.485637, end=185.657065, pitch=32, velocity=127), Note(start=185.485637, end=185.657065, pitch=44, velocity=127), Note(start=185.485637, end=185.657065, pitch=54, velocity=127), Note(start=185.657065, end=185.828494, pitch=32, velocity=127), Note(start=185.657065, end=185.828494, pitch=44, velocity=127), Note(start=185.828494, end=185.999922, pitch=32, velocity=127), Note(start=185.828494, end=185.999922, pitch=44, velocity=127), Note(start=185.999922, end=186.171351, pitch=44, velocity=127), Note(start=185.999922, end=186.171351, pitch=32, velocity=127), Note(start=185.999922, end=186.171351, pitch=54, velocity=127), Note(start=186.171351, end=186.342779, pitch=32, velocity=127), Note(start=186.171351, end=186.342779, pitch=44, velocity=127), Note(start=186.342779, end=186.514208, pitch=32, velocity=127), Note(start=186.342779, end=186.514208, pitch=44, velocity=127), Note(start=186.514208, end=186.685636, pitch=44, velocity=127), Note(start=186.514208, end=186.685636, pitch=32, velocity=127), Note(start=186.514208, end=186.685636, pitch=54, velocity=127), Note(start=186.685636, end=186.857065, pitch=32, velocity=127), Note(start=186.685636, end=186.857065, pitch=44, velocity=127), Note(start=186.857065, end=187.028493, pitch=32, velocity=127), Note(start=186.857065, end=187.028493, pitch=44, velocity=127), Note(start=187.028493, end=187.199922, pitch=44, velocity=127), Note(start=187.028493, end=187.199922, pitch=32, velocity=127), Note(start=187.028493, end=187.199922, pitch=54, velocity=127), Note(start=187.199922, end=187.371350, pitch=32, velocity=127), Note(start=187.199922, end=187.371350, pitch=44, velocity=127), Note(start=187.371350, end=187.542779, pitch=32, velocity=127), Note(start=187.371350, end=187.542779, pitch=44, velocity=127), Note(start=187.542779, end=187.885636, pitch=42, velocity=127), Note(start=187.542779, end=187.885636, pitch=32, velocity=127), Note(start=187.542779, end=187.885636, pitch=54, velocity=127), Note(start=187.885636, end=188.057064, pitch=44, velocity=127), Note(start=187.885636, end=188.057064, pitch=32, velocity=127), Note(start=188.057064, end=188.228493, pitch=32, velocity=127), Note(start=188.057064, end=188.228493, pitch=44, velocity=127), Note(start=188.228493, end=188.399921, pitch=32, velocity=127), Note(start=188.228493, end=188.399921, pitch=44, velocity=127), Note(start=188.228493, end=188.399921, pitch=54, velocity=127), Note(start=188.399921, end=188.571350, pitch=32, velocity=127), Note(start=188.399921, end=188.571350, pitch=44, velocity=127), Note(start=188.571350, end=188.742778, pitch=32, velocity=127), Note(start=188.571350, end=188.742778, pitch=44, velocity=127), Note(start=188.742778, end=188.914207, pitch=44, velocity=127), Note(start=188.742778, end=188.914207, pitch=32, velocity=127), Note(start=188.742778, end=188.914207, pitch=54, velocity=127), Note(start=188.914207, end=189.085635, pitch=32, velocity=127), Note(start=188.914207, end=189.085635, pitch=44, velocity=127), Note(start=189.085635, end=189.257064, pitch=32, velocity=127), Note(start=189.085635, end=189.257064, pitch=44, velocity=127), Note(start=189.257064, end=189.428492, pitch=44, velocity=127), Note(start=189.257064, end=189.428492, pitch=32, velocity=127), Note(start=189.257064, end=189.428492, pitch=54, velocity=127), Note(start=189.428492, end=189.599921, pitch=32, velocity=127), Note(start=189.428492, end=189.599921, pitch=44, velocity=127), Note(start=189.599921, end=189.771349, pitch=32, velocity=127), Note(start=189.599921, end=189.771349, pitch=44, velocity=127), Note(start=189.771349, end=189.942778, pitch=44, velocity=127), Note(start=189.771349, end=189.942778, pitch=32, velocity=127), Note(start=189.771349, end=189.942778, pitch=54, velocity=127), Note(start=189.942778, end=190.114206, pitch=32, velocity=127), Note(start=189.942778, end=190.114206, pitch=44, velocity=127), Note(start=190.114206, end=190.285635, pitch=32, velocity=127), Note(start=190.114206, end=190.285635, pitch=44, velocity=127), Note(start=190.285635, end=190.628492, pitch=42, velocity=127), Note(start=190.285635, end=190.628492, pitch=32, velocity=127), Note(start=190.285635, end=190.628492, pitch=54, velocity=127), Note(start=190.628492, end=190.799920, pitch=44, velocity=127), Note(start=190.628492, end=190.799920, pitch=32, velocity=127), Note(start=190.799920, end=190.971349, pitch=32, velocity=127), Note(start=190.799920, end=190.971349, pitch=44, velocity=127), Note(start=190.971349, end=191.142777, pitch=32, velocity=127), Note(start=190.971349, end=191.142777, pitch=44, velocity=127), Note(start=190.971349, end=191.142777, pitch=54, velocity=127), Note(start=191.142777, end=191.314206, pitch=32, velocity=127), Note(start=191.142777, end=191.314206, pitch=44, velocity=127), Note(start=191.314206, end=191.485634, pitch=32, velocity=127), Note(start=191.314206, end=191.485634, pitch=44, velocity=127), Note(start=191.485634, end=191.657063, pitch=44, velocity=127), Note(start=191.485634, end=191.657063, pitch=32, velocity=127), Note(start=191.485634, end=191.657063, pitch=54, velocity=127), Note(start=191.657063, end=191.828491, pitch=32, velocity=127), Note(start=191.657063, end=191.828491, pitch=44, velocity=127), Note(start=191.828491, end=191.999920, pitch=32, velocity=127), Note(start=191.828491, end=191.999920, pitch=44, velocity=127), Note(start=191.999920, end=192.171348, pitch=44, velocity=127), Note(start=191.999920, end=192.171348, pitch=32, velocity=127), Note(start=191.999920, end=192.171348, pitch=54, velocity=127), Note(start=192.171348, end=192.342777, pitch=32, velocity=127), Note(start=192.171348, end=192.342777, pitch=44, velocity=127), Note(start=192.342777, end=192.514205, pitch=32, velocity=127), Note(start=192.342777, end=192.514205, pitch=44, velocity=127), Note(start=192.514205, end=192.685634, pitch=44, velocity=127), Note(start=192.514205, end=192.685634, pitch=32, velocity=127), Note(start=192.514205, end=192.685634, pitch=54, velocity=127), Note(start=192.685634, end=192.857062, pitch=32, velocity=127), Note(start=192.685634, end=192.857062, pitch=44, velocity=127), Note(start=192.857062, end=193.028491, pitch=32, velocity=127), Note(start=192.857062, end=193.028491, pitch=44, velocity=127), Note(start=193.028491, end=193.371348, pitch=42, velocity=127), Note(start=193.028491, end=193.371348, pitch=32, velocity=127), Note(start=193.028491, end=193.371348, pitch=54, velocity=127), Note(start=193.371348, end=193.542776, pitch=44, velocity=127), Note(start=193.371348, end=193.542776, pitch=32, velocity=127), Note(start=193.542776, end=193.714205, pitch=32, velocity=127), Note(start=193.542776, end=193.714205, pitch=44, velocity=127), Note(start=193.714205, end=193.885633, pitch=32, velocity=127), Note(start=193.714205, end=193.885633, pitch=44, velocity=127), Note(start=193.714205, end=193.885633, pitch=54, velocity=127), Note(start=193.885633, end=194.057062, pitch=32, velocity=127), Note(start=193.885633, end=194.057062, pitch=44, velocity=127), Note(start=194.057062, end=194.228490, pitch=32, velocity=127), Note(start=194.057062, end=194.228490, pitch=44, velocity=127), Note(start=194.228490, end=194.399919, pitch=44, velocity=127), Note(start=194.228490, end=194.399919, pitch=32, velocity=127), Note(start=194.228490, end=194.399919, pitch=54, velocity=127), Note(start=194.399919, end=194.571347, pitch=32, velocity=127), Note(start=194.399919, end=194.571347, pitch=44, velocity=127), Note(start=194.571347, end=194.742776, pitch=32, velocity=127), Note(start=194.571347, end=194.742776, pitch=44, velocity=127), Note(start=194.742776, end=194.914204, pitch=44, velocity=127), Note(start=194.742776, end=194.914204, pitch=32, velocity=127), Note(start=194.742776, end=194.914204, pitch=54, velocity=127), Note(start=194.914204, end=195.085633, pitch=32, velocity=127), Note(start=194.914204, end=195.085633, pitch=44, velocity=127), Note(start=195.085633, end=195.257061, pitch=32, velocity=127), Note(start=195.085633, end=195.257061, pitch=44, velocity=127), Note(start=195.257061, end=195.428490, pitch=44, velocity=127), Note(start=195.257061, end=195.428490, pitch=32, velocity=127), Note(start=195.257061, end=195.428490, pitch=54, velocity=127), Note(start=195.428490, end=195.599918, pitch=32, velocity=127), Note(start=195.428490, end=195.599918, pitch=44, velocity=127), Note(start=195.599918, end=195.771347, pitch=32, velocity=127), Note(start=195.599918, end=195.771347, pitch=44, velocity=127), Note(start=195.771347, end=196.114204, pitch=42, velocity=127), Note(start=195.771347, end=196.114204, pitch=32, velocity=127), Note(start=195.771347, end=196.114204, pitch=54, velocity=127), Note(start=196.114204, end=196.285632, pitch=44, velocity=127), Note(start=196.114204, end=196.285632, pitch=32, velocity=127), Note(start=196.285632, end=196.457061, pitch=32, velocity=127), Note(start=196.285632, end=196.457061, pitch=44, velocity=127), Note(start=196.457061, end=196.628489, pitch=32, velocity=127), Note(start=196.457061, end=196.628489, pitch=44, velocity=127), Note(start=196.457061, end=196.628489, pitch=54, velocity=127), Note(start=196.628489, end=196.799918, pitch=32, velocity=127), Note(start=196.628489, end=196.799918, pitch=44, velocity=127), Note(start=196.799918, end=196.971346, pitch=32, velocity=127), Note(start=196.799918, end=196.971346, pitch=44, velocity=127), Note(start=196.971346, end=197.142775, pitch=44, velocity=127), Note(start=196.971346, end=197.142775, pitch=32, velocity=127), Note(start=196.971346, end=197.142775, pitch=54, velocity=127), Note(start=197.142775, end=197.314203, pitch=32, velocity=127), Note(start=197.142775, end=197.314203, pitch=44, velocity=127), Note(start=197.314203, end=197.485632, pitch=32, velocity=127), Note(start=197.314203, end=197.485632, pitch=44, velocity=127), Note(start=197.485632, end=197.657060, pitch=44, velocity=127), Note(start=197.485632, end=197.657060, pitch=32, velocity=127), Note(start=197.485632, end=197.657060, pitch=54, velocity=127), Note(start=197.657060, end=197.828489, pitch=32, velocity=127), Note(start=197.657060, end=197.828489, pitch=44, velocity=127), Note(start=197.828489, end=197.999917, pitch=32, velocity=127), Note(start=197.828489, end=197.999917, pitch=44, velocity=127), Note(start=197.999917, end=198.171346, pitch=44, velocity=127), Note(start=197.999917, end=198.171346, pitch=32, velocity=127), Note(start=197.999917, end=198.171346, pitch=54, velocity=127), Note(start=198.171346, end=198.342774, pitch=32, velocity=127), Note(start=198.171346, end=198.342774, pitch=44, velocity=127), Note(start=198.342774, end=198.514203, pitch=32, velocity=127), Note(start=198.342774, end=198.514203, pitch=44, velocity=127), Note(start=198.514203, end=198.857060, pitch=42, velocity=127), Note(start=198.514203, end=198.857060, pitch=32, velocity=127), Note(start=198.514203, end=198.857060, pitch=54, velocity=127), Note(start=198.857060, end=199.028488, pitch=44, velocity=127), Note(start=198.857060, end=199.028488, pitch=32, velocity=127), Note(start=199.028488, end=199.199917, pitch=32, velocity=127), Note(start=199.028488, end=199.199917, pitch=44, velocity=127), Note(start=199.199917, end=199.371345, pitch=32, velocity=127), Note(start=199.199917, end=199.371345, pitch=44, velocity=127), Note(start=199.199917, end=199.371345, pitch=54, velocity=127), Note(start=199.371345, end=199.542774, pitch=32, velocity=127), Note(start=199.371345, end=199.542774, pitch=44, velocity=127), Note(start=199.542774, end=199.714202, pitch=32, velocity=127), Note(start=199.542774, end=199.714202, pitch=44, velocity=127), Note(start=199.714202, end=199.885631, pitch=44, velocity=127), Note(start=199.714202, end=199.885631, pitch=32, velocity=127), Note(start=199.714202, end=199.885631, pitch=54, velocity=127), Note(start=199.885631, end=200.057059, pitch=32, velocity=127), Note(start=199.885631, end=200.057059, pitch=44, velocity=127), Note(start=200.057059, end=200.228488, pitch=32, velocity=127), Note(start=200.057059, end=200.228488, pitch=44, velocity=127), Note(start=200.228488, end=200.399916, pitch=44, velocity=127), Note(start=200.228488, end=200.399916, pitch=32, velocity=127), Note(start=200.228488, end=200.399916, pitch=54, velocity=127), Note(start=200.399916, end=200.571345, pitch=32, velocity=127), Note(start=200.399916, end=200.571345, pitch=44, velocity=127), Note(start=200.571345, end=200.742773, pitch=32, velocity=127), Note(start=200.571345, end=200.742773, pitch=44, velocity=127), Note(start=200.742773, end=200.914202, pitch=44, velocity=127), Note(start=200.742773, end=200.914202, pitch=32, velocity=127), Note(start=200.742773, end=200.914202, pitch=54, velocity=127), Note(start=200.914202, end=201.085630, pitch=32, velocity=127), Note(start=200.914202, end=201.085630, pitch=44, velocity=127), Note(start=201.085630, end=201.257059, pitch=32, velocity=127), Note(start=201.085630, end=201.257059, pitch=44, velocity=127), Note(start=201.257059, end=201.599916, pitch=42, velocity=127), Note(start=201.257059, end=201.599916, pitch=32, velocity=127), Note(start=201.257059, end=201.599916, pitch=54, velocity=127), Note(start=201.599916, end=201.771344, pitch=44, velocity=127), Note(start=201.599916, end=201.771344, pitch=32, velocity=127), Note(start=201.771344, end=201.942773, pitch=32, velocity=127), Note(start=201.771344, end=201.942773, pitch=44, velocity=127), Note(start=201.942773, end=202.114201, pitch=32, velocity=127), Note(start=201.942773, end=202.114201, pitch=44, velocity=127), Note(start=201.942773, end=202.114201, pitch=54, velocity=127), Note(start=202.114201, end=202.285630, pitch=32, velocity=127), Note(start=202.114201, end=202.285630, pitch=44, velocity=127), Note(start=202.285630, end=202.457058, pitch=32, velocity=127), Note(start=202.285630, end=202.457058, pitch=44, velocity=127), Note(start=202.457058, end=202.628487, pitch=44, velocity=127), Note(start=202.457058, end=202.628487, pitch=32, velocity=127), Note(start=202.457058, end=202.628487, pitch=54, velocity=127), Note(start=202.628487, end=202.799915, pitch=32, velocity=127), Note(start=202.628487, end=202.799915, pitch=44, velocity=127), Note(start=202.799915, end=202.971344, pitch=32, velocity=127), Note(start=202.799915, end=202.971344, pitch=44, velocity=127), Note(start=202.971344, end=203.142772, pitch=44, velocity=127), Note(start=202.971344, end=203.142772, pitch=32, velocity=127), Note(start=202.971344, end=203.142772, pitch=54, velocity=127), Note(start=203.142772, end=203.314201, pitch=32, velocity=127), Note(start=203.142772, end=203.314201, pitch=44, velocity=127), Note(start=203.314201, end=203.485629, pitch=32, velocity=127), Note(start=203.314201, end=203.485629, pitch=44, velocity=127), Note(start=203.485629, end=203.657058, pitch=44, velocity=127), Note(start=203.485629, end=203.657058, pitch=32, velocity=127), Note(start=203.485629, end=203.657058, pitch=54, velocity=127), Note(start=203.657058, end=203.828486, pitch=32, velocity=127), Note(start=203.657058, end=203.828486, pitch=44, velocity=127), Note(start=203.828486, end=203.999915, pitch=32, velocity=127), Note(start=203.828486, end=203.999915, pitch=44, velocity=127), Note(start=203.999915, end=204.342772, pitch=42, velocity=127), Note(start=203.999915, end=204.342772, pitch=32, velocity=127), Note(start=203.999915, end=204.342772, pitch=54, velocity=127), Note(start=204.342772, end=204.514200, pitch=44, velocity=127), Note(start=204.342772, end=204.514200, pitch=32, velocity=127), Note(start=204.514200, end=204.685629, pitch=32, velocity=127), Note(start=204.514200, end=204.685629, pitch=44, velocity=127), Note(start=204.685629, end=204.857057, pitch=32, velocity=127), Note(start=204.685629, end=204.857057, pitch=44, velocity=127), Note(start=204.685629, end=204.857057, pitch=54, velocity=127), Note(start=204.857057, end=205.028486, pitch=32, velocity=127), Note(start=204.857057, end=205.028486, pitch=44, velocity=127), Note(start=205.028486, end=205.199914, pitch=32, velocity=127), Note(start=205.028486, end=205.199914, pitch=44, velocity=127), Note(start=205.199914, end=205.371343, pitch=44, velocity=127), Note(start=205.199914, end=205.371343, pitch=32, velocity=127), Note(start=205.199914, end=205.371343, pitch=54, velocity=127), Note(start=205.371343, end=205.542771, pitch=32, velocity=127), Note(start=205.371343, end=205.542771, pitch=44, velocity=127), Note(start=205.542771, end=205.714200, pitch=32, velocity=127), Note(start=205.542771, end=205.714200, pitch=44, velocity=127), Note(start=205.714200, end=205.885628, pitch=44, velocity=127), Note(start=205.714200, end=205.885628, pitch=32, velocity=127), Note(start=205.714200, end=205.885628, pitch=54, velocity=127), Note(start=205.885628, end=206.057057, pitch=32, velocity=127), Note(start=205.885628, end=206.057057, pitch=44, velocity=127), Note(start=206.057057, end=206.228485, pitch=32, velocity=127), Note(start=206.057057, end=206.228485, pitch=44, velocity=127), Note(start=206.228485, end=206.399914, pitch=44, velocity=127), Note(start=206.228485, end=206.399914, pitch=32, velocity=127), Note(start=206.228485, end=206.399914, pitch=54, velocity=127), Note(start=206.399914, end=206.571342, pitch=32, velocity=127), Note(start=206.399914, end=206.571342, pitch=44, velocity=127), Note(start=206.571342, end=206.742771, pitch=32, velocity=127), Note(start=206.571342, end=206.742771, pitch=44, velocity=127), Note(start=206.742771, end=207.085628, pitch=42, velocity=127), Note(start=206.742771, end=207.085628, pitch=32, velocity=127), Note(start=206.742771, end=207.085628, pitch=54, velocity=127), Note(start=207.085628, end=207.257056, pitch=44, velocity=127), Note(start=207.085628, end=207.257056, pitch=32, velocity=127), Note(start=207.257056, end=207.428485, pitch=32, velocity=127), Note(start=207.257056, end=207.428485, pitch=44, velocity=127), Note(start=207.428485, end=207.599913, pitch=32, velocity=127), Note(start=207.428485, end=207.599913, pitch=44, velocity=127), Note(start=207.428485, end=207.599913, pitch=54, velocity=127), Note(start=207.599913, end=207.771342, pitch=32, velocity=127), Note(start=207.599913, end=207.771342, pitch=44, velocity=127), Note(start=207.771342, end=207.942770, pitch=32, velocity=127), Note(start=207.771342, end=207.942770, pitch=44, velocity=127), Note(start=207.942770, end=208.114199, pitch=44, velocity=127), Note(start=207.942770, end=208.114199, pitch=32, velocity=127), Note(start=207.942770, end=208.114199, pitch=54, velocity=127), Note(start=208.114199, end=208.285627, pitch=32, velocity=127), Note(start=208.114199, end=208.285627, pitch=44, velocity=127), Note(start=208.285627, end=208.457056, pitch=32, velocity=127), Note(start=208.285627, end=208.457056, pitch=44, velocity=127), Note(start=208.457056, end=208.628484, pitch=44, velocity=127), Note(start=208.457056, end=208.628484, pitch=32, velocity=127), Note(start=208.457056, end=208.628484, pitch=54, velocity=127), Note(start=208.628484, end=208.799913, pitch=32, velocity=127), Note(start=208.628484, end=208.799913, pitch=44, velocity=127), Note(start=208.799913, end=208.971341, pitch=32, velocity=127), Note(start=208.799913, end=208.971341, pitch=44, velocity=127), Note(start=208.971341, end=209.142770, pitch=44, velocity=127), Note(start=208.971341, end=209.142770, pitch=32, velocity=127), Note(start=208.971341, end=209.142770, pitch=54, velocity=127), Note(start=209.142770, end=209.314198, pitch=32, velocity=127), Note(start=209.142770, end=209.314198, pitch=44, velocity=127), Note(start=209.314198, end=209.485627, pitch=32, velocity=127), Note(start=209.314198, end=209.485627, pitch=44, velocity=127), Note(start=209.485627, end=209.828484, pitch=42, velocity=127), Note(start=209.485627, end=209.828484, pitch=32, velocity=127), Note(start=209.485627, end=209.828484, pitch=54, velocity=127), Note(start=209.828484, end=209.999912, pitch=44, velocity=127), Note(start=209.828484, end=209.999912, pitch=32, velocity=127), Note(start=209.999912, end=210.171341, pitch=32, velocity=127), Note(start=209.999912, end=210.171341, pitch=44, velocity=127), Note(start=210.171341, end=210.342769, pitch=32, velocity=127), Note(start=210.171341, end=210.342769, pitch=44, velocity=127), Note(start=210.171341, end=210.342769, pitch=54, velocity=127), Note(start=210.342769, end=210.514198, pitch=32, velocity=127), Note(start=210.342769, end=210.514198, pitch=44, velocity=127), Note(start=210.514198, end=210.685626, pitch=32, velocity=127), Note(start=210.514198, end=210.685626, pitch=44, velocity=127), Note(start=210.685626, end=210.857055, pitch=44, velocity=127), Note(start=210.685626, end=210.857055, pitch=32, velocity=127), Note(start=210.685626, end=210.857055, pitch=54, velocity=127), Note(start=210.857055, end=211.028483, pitch=32, velocity=127), Note(start=210.857055, end=211.028483, pitch=44, velocity=127), Note(start=211.028483, end=211.199912, pitch=32, velocity=127), Note(start=211.028483, end=211.199912, pitch=44, velocity=127), Note(start=211.199912, end=211.371340, pitch=44, velocity=127), Note(start=211.199912, end=211.371340, pitch=32, velocity=127), Note(start=211.199912, end=211.371340, pitch=54, velocity=127), Note(start=211.371340, end=211.542769, pitch=32, velocity=127), Note(start=211.371340, end=211.542769, pitch=44, velocity=127), Note(start=211.542769, end=211.714197, pitch=32, velocity=127), Note(start=211.542769, end=211.714197, pitch=44, velocity=127), Note(start=211.714197, end=211.885626, pitch=44, velocity=127), Note(start=211.714197, end=211.885626, pitch=32, velocity=127), Note(start=211.714197, end=211.885626, pitch=54, velocity=127), Note(start=211.885626, end=212.057054, pitch=32, velocity=127), Note(start=211.885626, end=212.057054, pitch=44, velocity=127), Note(start=212.057054, end=212.228483, pitch=32, velocity=127), Note(start=212.057054, end=212.228483, pitch=44, velocity=127), Note(start=212.228483, end=212.571340, pitch=42, velocity=127), Note(start=212.228483, end=212.571340, pitch=32, velocity=127), Note(start=212.228483, end=212.571340, pitch=54, velocity=127), Note(start=212.571340, end=212.742768, pitch=44, velocity=127), Note(start=212.571340, end=212.742768, pitch=32, velocity=127), Note(start=212.742768, end=212.914197, pitch=32, velocity=127), Note(start=212.742768, end=212.914197, pitch=44, velocity=127), Note(start=212.914197, end=213.085625, pitch=32, velocity=127), Note(start=212.914197, end=213.085625, pitch=44, velocity=127), Note(start=212.914197, end=213.085625, pitch=54, velocity=127), Note(start=213.085625, end=213.257054, pitch=32, velocity=127), Note(start=213.085625, end=213.257054, pitch=44, velocity=127), Note(start=213.257054, end=213.428482, pitch=32, velocity=127), Note(start=213.257054, end=213.428482, pitch=44, velocity=127), Note(start=213.428482, end=213.599911, pitch=44, velocity=127), Note(start=213.428482, end=213.599911, pitch=32, velocity=127), Note(start=213.428482, end=213.599911, pitch=54, velocity=127), Note(start=213.599911, end=213.771339, pitch=32, velocity=127), Note(start=213.599911, end=213.771339, pitch=44, velocity=127), Note(start=213.771339, end=213.942768, pitch=32, velocity=127), Note(start=213.771339, end=213.942768, pitch=44, velocity=127), Note(start=213.942768, end=214.114196, pitch=44, velocity=127), Note(start=213.942768, end=214.114196, pitch=32, velocity=127), Note(start=213.942768, end=214.114196, pitch=54, velocity=127), Note(start=214.114196, end=214.285625, pitch=32, velocity=127), Note(start=214.114196, end=214.285625, pitch=44, velocity=127), Note(start=214.285625, end=214.457053, pitch=32, velocity=127), Note(start=214.285625, end=214.457053, pitch=44, velocity=127), Note(start=214.457053, end=214.628482, pitch=44, velocity=127), Note(start=214.457053, end=214.628482, pitch=32, velocity=127), Note(start=214.457053, end=214.628482, pitch=54, velocity=127), Note(start=214.628482, end=214.799910, pitch=32, velocity=127), Note(start=214.628482, end=214.799910, pitch=44, velocity=127), Note(start=214.799910, end=214.971339, pitch=32, velocity=127), Note(start=214.799910, end=214.971339, pitch=44, velocity=127), Note(start=214.971339, end=215.314196, pitch=42, velocity=127), Note(start=214.971339, end=215.314196, pitch=32, velocity=127), Note(start=214.971339, end=215.314196, pitch=54, velocity=127), Note(start=215.314196, end=215.485624, pitch=44, velocity=127), Note(start=215.314196, end=215.485624, pitch=32, velocity=127), Note(start=215.485624, end=215.657053, pitch=32, velocity=127), Note(start=215.485624, end=215.657053, pitch=44, velocity=127), Note(start=215.657053, end=215.828481, pitch=32, velocity=127), Note(start=215.657053, end=215.828481, pitch=44, velocity=127), Note(start=215.657053, end=215.828481, pitch=54, velocity=127), Note(start=215.828481, end=215.999910, pitch=32, velocity=127), Note(start=215.828481, end=215.999910, pitch=44, velocity=127), Note(start=215.999910, end=216.171338, pitch=32, velocity=127), Note(start=215.999910, end=216.171338, pitch=44, velocity=127), Note(start=216.171338, end=216.342767, pitch=44, velocity=127), Note(start=216.171338, end=216.342767, pitch=32, velocity=127), Note(start=216.171338, end=216.342767, pitch=54, velocity=127), Note(start=216.342767, end=216.514195, pitch=32, velocity=127), Note(start=216.342767, end=216.514195, pitch=44, velocity=127), Note(start=216.514195, end=216.685624, pitch=32, velocity=127), Note(start=216.514195, end=216.685624, pitch=44, velocity=127), Note(start=216.685624, end=216.857052, pitch=44, velocity=127), Note(start=216.685624, end=216.857052, pitch=32, velocity=127), Note(start=216.685624, end=216.857052, pitch=54, velocity=127), Note(start=216.857052, end=217.028481, pitch=32, velocity=127), Note(start=216.857052, end=217.028481, pitch=44, velocity=127), Note(start=217.028481, end=217.199909, pitch=32, velocity=127), Note(start=217.028481, end=217.199909, pitch=44, velocity=127), Note(start=217.199909, end=217.371338, pitch=44, velocity=127), Note(start=217.199909, end=217.371338, pitch=32, velocity=127), Note(start=217.199909, end=217.371338, pitch=54, velocity=127), Note(start=217.371338, end=217.542766, pitch=32, velocity=127), Note(start=217.371338, end=217.542766, pitch=44, velocity=127), Note(start=217.542766, end=217.714195, pitch=32, velocity=127), Note(start=217.542766, end=217.714195, pitch=44, velocity=127), Note(start=217.714195, end=218.057052, pitch=42, velocity=127), Note(start=217.714195, end=218.057052, pitch=32, velocity=127), Note(start=217.714195, end=218.057052, pitch=54, velocity=127), Note(start=218.057052, end=218.228480, pitch=44, velocity=127), Note(start=218.057052, end=218.228480, pitch=32, velocity=127), Note(start=218.228480, end=218.399909, pitch=32, velocity=127), Note(start=218.228480, end=218.399909, pitch=44, velocity=127), Note(start=218.399909, end=218.571337, pitch=32, velocity=127), Note(start=218.399909, end=218.571337, pitch=44, velocity=127), Note(start=218.399909, end=218.571337, pitch=54, velocity=127), Note(start=218.571337, end=218.742766, pitch=32, velocity=127), Note(start=218.571337, end=218.742766, pitch=44, velocity=127), Note(start=218.742766, end=218.914194, pitch=32, velocity=127), Note(start=218.742766, end=218.914194, pitch=44, velocity=127), Note(start=218.914194, end=219.085623, pitch=44, velocity=127), Note(start=218.914194, end=219.085623, pitch=32, velocity=127), Note(start=218.914194, end=219.085623, pitch=54, velocity=127), Note(start=219.085623, end=219.257051, pitch=32, velocity=127), Note(start=219.085623, end=219.257051, pitch=44, velocity=127), Note(start=219.257051, end=219.428480, pitch=32, velocity=127), Note(start=219.257051, end=219.428480, pitch=44, velocity=127), Note(start=219.428480, end=219.599908, pitch=44, velocity=127), Note(start=219.428480, end=219.599908, pitch=32, velocity=127), Note(start=219.428480, end=219.599908, pitch=54, velocity=127), Note(start=219.599908, end=219.771337, pitch=32, velocity=127), Note(start=219.599908, end=219.771337, pitch=44, velocity=127), Note(start=219.771337, end=219.942765, pitch=32, velocity=127), Note(start=219.771337, end=219.942765, pitch=44, velocity=127), Note(start=219.942765, end=220.114194, pitch=44, velocity=127), Note(start=219.942765, end=220.114194, pitch=32, velocity=127), Note(start=219.942765, end=220.114194, pitch=54, velocity=127), Note(start=220.114194, end=220.285622, pitch=32, velocity=127), Note(start=220.114194, end=220.285622, pitch=44, velocity=127), Note(start=220.285622, end=220.457051, pitch=32, velocity=127), Note(start=220.285622, end=220.457051, pitch=44, velocity=127), Note(start=220.457051, end=220.799908, pitch=42, velocity=127), Note(start=220.457051, end=220.799908, pitch=32, velocity=127), Note(start=220.457051, end=220.799908, pitch=54, velocity=127), Note(start=220.799908, end=220.971336, pitch=44, velocity=127), Note(start=220.799908, end=220.971336, pitch=32, velocity=127), Note(start=220.971336, end=221.142765, pitch=32, velocity=127), Note(start=220.971336, end=221.142765, pitch=44, velocity=127), Note(start=221.142765, end=221.314193, pitch=32, velocity=127), Note(start=221.142765, end=221.314193, pitch=44, velocity=127), Note(start=221.142765, end=221.314193, pitch=54, velocity=127), Note(start=221.314193, end=221.485622, pitch=32, velocity=127), Note(start=221.314193, end=221.485622, pitch=44, velocity=127), Note(start=221.485622, end=221.657050, pitch=32, velocity=127), Note(start=221.485622, end=221.657050, pitch=44, velocity=127), Note(start=221.657050, end=221.828479, pitch=44, velocity=127), Note(start=221.657050, end=221.828479, pitch=32, velocity=127), Note(start=221.657050, end=221.828479, pitch=54, velocity=127), Note(start=221.828479, end=221.999907, pitch=32, velocity=127), Note(start=221.828479, end=221.999907, pitch=44, velocity=127), Note(start=221.999907, end=222.171336, pitch=32, velocity=127), Note(start=221.999907, end=222.171336, pitch=44, velocity=127), Note(start=222.171336, end=222.342764, pitch=44, velocity=127), Note(start=222.171336, end=222.342764, pitch=32, velocity=127), Note(start=222.171336, end=222.342764, pitch=54, velocity=127), Note(start=222.342764, end=222.514193, pitch=32, velocity=127), Note(start=222.342764, end=222.514193, pitch=44, velocity=127), Note(start=222.514193, end=222.685621, pitch=32, velocity=127), Note(start=222.514193, end=222.685621, pitch=44, velocity=127), Note(start=222.685621, end=222.857050, pitch=44, velocity=127), Note(start=222.685621, end=222.857050, pitch=32, velocity=127), Note(start=222.685621, end=222.857050, pitch=54, velocity=127), Note(start=222.857050, end=223.028478, pitch=32, velocity=127), Note(start=222.857050, end=223.028478, pitch=44, velocity=127), Note(start=223.028478, end=223.199907, pitch=32, velocity=127), Note(start=223.028478, end=223.199907, pitch=44, velocity=127), Note(start=223.199907, end=223.542764, pitch=42, velocity=127), Note(start=223.199907, end=223.542764, pitch=32, velocity=127), Note(start=223.199907, end=223.542764, pitch=54, velocity=127), Note(start=223.542764, end=223.714192, pitch=44, velocity=127), Note(start=223.542764, end=223.714192, pitch=32, velocity=127), Note(start=223.714192, end=223.885621, pitch=32, velocity=127), Note(start=223.714192, end=223.885621, pitch=44, velocity=127), Note(start=223.885621, end=224.057049, pitch=32, velocity=127), Note(start=223.885621, end=224.057049, pitch=44, velocity=127), Note(start=223.885621, end=224.057049, pitch=54, velocity=127), Note(start=224.057049, end=224.228478, pitch=32, velocity=127), Note(start=224.057049, end=224.228478, pitch=44, velocity=127), Note(start=224.228478, end=224.399906, pitch=32, velocity=127), Note(start=224.228478, end=224.399906, pitch=44, velocity=127), Note(start=224.399906, end=224.571335, pitch=44, velocity=127), Note(start=224.399906, end=224.571335, pitch=32, velocity=127), Note(start=224.399906, end=224.571335, pitch=54, velocity=127), Note(start=224.571335, end=224.742763, pitch=32, velocity=127), Note(start=224.571335, end=224.742763, pitch=44, velocity=127), Note(start=224.742763, end=224.914192, pitch=32, velocity=127), Note(start=224.742763, end=224.914192, pitch=44, velocity=127), Note(start=224.914192, end=225.085620, pitch=44, velocity=127), Note(start=224.914192, end=225.085620, pitch=32, velocity=127), Note(start=224.914192, end=225.085620, pitch=54, velocity=127), Note(start=225.085620, end=225.257049, pitch=32, velocity=127), Note(start=225.085620, end=225.257049, pitch=44, velocity=127), Note(start=225.257049, end=225.428477, pitch=32, velocity=127), Note(start=225.257049, end=225.428477, pitch=44, velocity=127), Note(start=225.428477, end=225.599906, pitch=44, velocity=127), Note(start=225.428477, end=225.599906, pitch=32, velocity=127), Note(start=225.428477, end=225.599906, pitch=54, velocity=127), Note(start=225.599906, end=225.771334, pitch=32, velocity=127), Note(start=225.599906, end=225.771334, pitch=44, velocity=127), Note(start=225.771334, end=225.942763, pitch=32, velocity=127), Note(start=225.771334, end=225.942763, pitch=44, velocity=127), Note(start=225.942763, end=226.285620, pitch=42, velocity=127), Note(start=225.942763, end=226.285620, pitch=32, velocity=127), Note(start=225.942763, end=226.285620, pitch=54, velocity=127), Note(start=226.285620, end=226.457048, pitch=44, velocity=127), Note(start=226.285620, end=226.457048, pitch=32, velocity=127), Note(start=226.457048, end=226.628477, pitch=32, velocity=127), Note(start=226.457048, end=226.628477, pitch=44, velocity=127), Note(start=226.628477, end=226.799905, pitch=32, velocity=127), Note(start=226.628477, end=226.799905, pitch=44, velocity=127), Note(start=226.628477, end=226.799905, pitch=54, velocity=127), Note(start=226.799905, end=226.971334, pitch=32, velocity=127), Note(start=226.799905, end=226.971334, pitch=44, velocity=127), Note(start=226.971334, end=227.142762, pitch=32, velocity=127), Note(start=226.971334, end=227.142762, pitch=44, velocity=127), Note(start=227.142762, end=227.314191, pitch=44, velocity=127), Note(start=227.142762, end=227.314191, pitch=32, velocity=127), Note(start=227.142762, end=227.314191, pitch=54, velocity=127), Note(start=227.314191, end=227.485619, pitch=32, velocity=127), Note(start=227.314191, end=227.485619, pitch=44, velocity=127), Note(start=227.485619, end=232.971331, pitch=32, velocity=127), Note(start=227.485619, end=232.971331, pitch=44, velocity=127)]\n",
            "[]\n",
            "[ControlChange(number=7, value=107, time=0.000000), ControlChange(number=10, value=66, time=0.000000)]\n"
          ],
          "name": "stdout"
        }
      ]
    },
    {
      "cell_type": "code",
      "metadata": {
        "colab": {
          "base_uri": "https://localhost:8080/"
        },
        "id": "fDn6FiOuZiGr",
        "outputId": "f1708a3e-876f-4740-9e27-4b8191464839"
      },
      "source": [
        "for midi_object in midi_data.values():\n",
        "  \"\"\"\n",
        "  Test instrument program, and pitches\n",
        "  \"\"\"\n",
        "  a = list(set([x.pitch for x in midi_object.instruments[0].notes]))\n",
        "  b = list(set([x.program for x in midi_object.instruments]))\n",
        "  print(a)\n",
        "  print(b)\n",
        "  break"
      ],
      "execution_count": 21,
      "outputs": [
        {
          "output_type": "stream",
          "text": [
            "[32, 35, 39, 40, 42, 44, 47, 54, 56, 27, 28, 30]\n",
            "[0, 33, 50, 84, 119, 27, 29, 30]\n"
          ],
          "name": "stdout"
        }
      ]
    },
    {
      "cell_type": "markdown",
      "metadata": {
        "id": "8k_JHzcuhCof"
      },
      "source": [
        "# Pre processing"
      ]
    },
    {
      "cell_type": "markdown",
      "metadata": {
        "id": "G-fL1jFKHOp0"
      },
      "source": [
        "### Drop duplicates"
      ]
    },
    {
      "cell_type": "code",
      "metadata": {
        "id": "79Fvr_xpW49V"
      },
      "source": [
        "# drop duplicated rows and covers (=same song lyrics but different singer) \n",
        "train_df.drop_duplicates(inplace=True)\n",
        "train_df = train_df[~(train_df['lyrics'].duplicated()) ^ (train_df.duplicated())]\n",
        "train_df.reset_index(inplace=True, drop=True)"
      ],
      "execution_count": 22,
      "outputs": []
    },
    {
      "cell_type": "markdown",
      "metadata": {
        "id": "KgtxRqVNtlnt"
      },
      "source": [
        "### Remove corrupted midi songs"
      ]
    },
    {
      "cell_type": "code",
      "metadata": {
        "colab": {
          "base_uri": "https://localhost:8080/"
        },
        "id": "jYxrba3ZtqQJ",
        "outputId": "607b2c6e-9bc0-4cbe-fa49-af9c0d4dc02d"
      },
      "source": [
        "# drop songs with corrupted midi files\n",
        "corrupted_songs_indices_train = []\n",
        "corrupted_songs_indices_test = []\n",
        "for artist, song, in corrupted_data:\n",
        "  try:\n",
        "    # get index of corrupted song\n",
        "    index = train_df[(train_df['artist'] == artist) & (train_df['song'] == song)].index[0]\n",
        "    corrupted_songs_indices_train.append(index)\n",
        "\n",
        "  # if song doesn't exist in train set chec if exist in test set\n",
        "  except:\n",
        "    try:\n",
        "      index = test_df[(test_df['artist'] == artist) & (test_df['song'] == song)].index[0]\n",
        "      corrupted_songs_indices_test.append(index)\n",
        "      \n",
        "    # if song doesn't exist in train and test sets\n",
        "    except:\n",
        "      print(f\"{artist}, {song} -  Song does not exist.\")\n",
        "      \n",
        "train_df.drop(index=corrupted_songs_indices_train).reset_index(drop=True, inplace=True)\n",
        "test_df.drop(index=corrupted_songs_indices_test).reset_index(drop=True, inplace=True)"
      ],
      "execution_count": 23,
      "outputs": [
        {
          "output_type": "stream",
          "text": [
            "dan fogelberg, leader of the band -  Song does not exist.\n",
            "beastie boys, girls -  Song does not exist.\n",
            "billy joel, movin' out -  Song does not exist.\n",
            "david bowie, lazarus -  Song does not exist.\n",
            "billy joel, pressure -  Song does not exist.\n",
            "brian mcknight, on the down low -  Song does not exist.\n",
            "aaron neville, tell it like it is -  Song does not exist.\n"
          ],
          "name": "stdout"
        }
      ]
    },
    {
      "cell_type": "markdown",
      "metadata": {
        "id": "XXWMag8DeJq2"
      },
      "source": [
        "### Drop non-english songs"
      ]
    },
    {
      "cell_type": "code",
      "metadata": {
        "colab": {
          "base_uri": "https://localhost:8080/"
        },
        "id": "21WB1GyoeNWl",
        "outputId": "df0056dc-eb45-4635-b9a9-a25a30aa1d33"
      },
      "source": [
        "# detect non english songs using langdetect libeary\n",
        "detect_non_english_songs = []\n",
        "for i in range(0, train_df.shape[0]):\n",
        "  if detect(train_df['lyrics'].iloc[i]) != 'en':\n",
        "    detect_non_english_songs.append(i)\n",
        "detect_non_english_songs"
      ],
      "execution_count": 24,
      "outputs": [
        {
          "output_type": "execute_result",
          "data": {
            "text/plain": [
              "[187, 188, 190, 221, 302, 361]"
            ]
          },
          "metadata": {
            "tags": []
          },
          "execution_count": 24
        }
      ]
    },
    {
      "cell_type": "code",
      "metadata": {
        "colab": {
          "base_uri": "https://localhost:8080/",
          "height": 0
        },
        "id": "JPTCAJX43hzG",
        "outputId": "9f611914-1e84-4018-b782-4a35325b5ede"
      },
      "source": [
        "# half english and half spanish song - found after exploration\n",
        "train_df.iloc[220].lyrics # remove spanglish"
      ],
      "execution_count": 25,
      "outputs": [
        {
          "output_type": "execute_result",
          "data": {
            "application/vnd.google.colaboratory.intrinsic+json": {
              "type": "string"
            },
            "text/plain": [
              "\"(esta noche bailamos) & (te doy toda mi vida) & (quã©date conmigo) & tonight we dance & i leave my life in your hands & we take the floor & nothing is forbidden anymore & don't let the world dim my sight & don't let a moment go by & nothing can stop us tonight & bailamos let the rhythm take you over & bailamos & te quiero amor mã\\xado bailamos & gonna live this night forever & bailamos & te quiero amor mã\\xado te quiero & tonight i'm yours & we can make it happen i'm so sure & now i'm letting go & there is something i think you should know & i won't be leaving your side & we're gonna dance through the night & i'm gonna reach for the stars & bailamos let the rhythm take you over & bailamos & te quiero amor mã\\xado bailamos & gonna live this night forever & bailamos & te quiero amor mã\\xado te quiero & (whoa oh oh oh) tonight we dance & (whoa oh oh oh) like no tomorrow & (whoa oh oh oh) if you will stay with me & te quiero mi amor & (quã©date conmigo) & (esta noche) & bailamos let the rhythm take you over & bailamos & te quiero amor mã\\xado bailamos & gonna live this night forever & bailamos & te quiero amor mã\\xado & bailamos let the rhythm take you over & bailamos & te quiero amor mã\\xado bailamos & gonna live this night forever & bailamos & te quiero amor mã\\xado &\""
            ]
          },
          "metadata": {
            "tags": []
          },
          "execution_count": 25
        }
      ]
    },
    {
      "cell_type": "code",
      "metadata": {
        "colab": {
          "base_uri": "https://localhost:8080/",
          "height": 0
        },
        "id": "gXPB9IZ6erVl",
        "outputId": "e5fe1c2c-396f-484e-a74a-932a0aa7bef5"
      },
      "source": [
        "# remove non english songs after verification - we were looking on each song's lyrics\n",
        "non_english_songs = [187,188,220, 221,302, 361]\n",
        "train_df.drop(index=non_english_songs, inplace=True)\n",
        "train_df.reset_index(drop=True, inplace=True)\n",
        "train_df"
      ],
      "execution_count": 26,
      "outputs": [
        {
          "output_type": "execute_result",
          "data": {
            "text/html": [
              "<div>\n",
              "<style scoped>\n",
              "    .dataframe tbody tr th:only-of-type {\n",
              "        vertical-align: middle;\n",
              "    }\n",
              "\n",
              "    .dataframe tbody tr th {\n",
              "        vertical-align: top;\n",
              "    }\n",
              "\n",
              "    .dataframe thead th {\n",
              "        text-align: right;\n",
              "    }\n",
              "</style>\n",
              "<table border=\"1\" class=\"dataframe\">\n",
              "  <thead>\n",
              "    <tr style=\"text-align: right;\">\n",
              "      <th></th>\n",
              "      <th>singer</th>\n",
              "      <th>song_name</th>\n",
              "      <th>lyrics</th>\n",
              "    </tr>\n",
              "  </thead>\n",
              "  <tbody>\n",
              "    <tr>\n",
              "      <th>0</th>\n",
              "      <td>elton john</td>\n",
              "      <td>candle in the wind</td>\n",
              "      <td>goodbye norma jean &amp; though i never knew you a...</td>\n",
              "    </tr>\n",
              "    <tr>\n",
              "      <th>1</th>\n",
              "      <td>gerry rafferty</td>\n",
              "      <td>baker street</td>\n",
              "      <td>winding your way down on baker street &amp; lite i...</td>\n",
              "    </tr>\n",
              "    <tr>\n",
              "      <th>2</th>\n",
              "      <td>gerry rafferty</td>\n",
              "      <td>right down the line</td>\n",
              "      <td>you know i need your love &amp; you've got that ho...</td>\n",
              "    </tr>\n",
              "    <tr>\n",
              "      <th>3</th>\n",
              "      <td>2 unlimited</td>\n",
              "      <td>tribal dance</td>\n",
              "      <td>come on check it out ya'll &amp; (come on come on!...</td>\n",
              "    </tr>\n",
              "    <tr>\n",
              "      <th>4</th>\n",
              "      <td>2 unlimited</td>\n",
              "      <td>let the beat control your body</td>\n",
              "      <td>let the beat control your body &amp; let the beat ...</td>\n",
              "    </tr>\n",
              "    <tr>\n",
              "      <th>...</th>\n",
              "      <td>...</td>\n",
              "      <td>...</td>\n",
              "      <td>...</td>\n",
              "    </tr>\n",
              "    <tr>\n",
              "      <th>599</th>\n",
              "      <td>george strait</td>\n",
              "      <td>amarillo by morning</td>\n",
              "      <td>amarillo by mornin' &amp; up from san antone &amp; eve...</td>\n",
              "    </tr>\n",
              "    <tr>\n",
              "      <th>600</th>\n",
              "      <td>ace of base</td>\n",
              "      <td>all i have to give</td>\n",
              "      <td>i don't know what he does to make you cry &amp; bu...</td>\n",
              "    </tr>\n",
              "    <tr>\n",
              "      <th>601</th>\n",
              "      <td>backstreet boys</td>\n",
              "      <td>larger than life</td>\n",
              "      <td>i may run and hide &amp; when you're screamin' my ...</td>\n",
              "    </tr>\n",
              "    <tr>\n",
              "      <th>602</th>\n",
              "      <td>bee gees</td>\n",
              "      <td>i just want to be your everything</td>\n",
              "      <td>for so long &amp; you and me been finding each oth...</td>\n",
              "    </tr>\n",
              "    <tr>\n",
              "      <th>603</th>\n",
              "      <td>billy joel</td>\n",
              "      <td>big shot</td>\n",
              "      <td>well you went uptown riding in your limousine ...</td>\n",
              "    </tr>\n",
              "  </tbody>\n",
              "</table>\n",
              "<p>604 rows × 3 columns</p>\n",
              "</div>"
            ],
            "text/plain": [
              "              singer  ...                                             lyrics\n",
              "0         elton john  ...  goodbye norma jean & though i never knew you a...\n",
              "1     gerry rafferty  ...  winding your way down on baker street & lite i...\n",
              "2     gerry rafferty  ...  you know i need your love & you've got that ho...\n",
              "3        2 unlimited  ...  come on check it out ya'll & (come on come on!...\n",
              "4        2 unlimited  ...  let the beat control your body & let the beat ...\n",
              "..               ...  ...                                                ...\n",
              "599    george strait  ...  amarillo by mornin' & up from san antone & eve...\n",
              "600      ace of base  ...  i don't know what he does to make you cry & bu...\n",
              "601  backstreet boys  ...  i may run and hide & when you're screamin' my ...\n",
              "602         bee gees  ...  for so long & you and me been finding each oth...\n",
              "603       billy joel  ...  well you went uptown riding in your limousine ...\n",
              "\n",
              "[604 rows x 3 columns]"
            ]
          },
          "metadata": {
            "tags": []
          },
          "execution_count": 26
        }
      ]
    },
    {
      "cell_type": "markdown",
      "metadata": {
        "id": "mUlSziq4NQ5j"
      },
      "source": [
        "### Remove unnecessary [word] regex"
      ]
    },
    {
      "cell_type": "code",
      "metadata": {
        "id": "4warmbLMN6-D"
      },
      "source": [
        "# clean text:\n",
        "# 1. change last word into eof word\n",
        "# 2. remove unnecessary spaces\n",
        "# 3. remove ' from words like i'll\n",
        "# 4. remove [] and words between them\n",
        "# 5. remove extra &\n",
        "for index, row in train_df.iterrows():\n",
        "  # if '[' in row.lyrics:\n",
        "  splitted_row = row.lyrics.split()\n",
        "  splitted_row[-1] = 'eof'\n",
        "  filtered_row = \" \".join(splitted_row) # remove unnecessary spaces\n",
        "  # filtered_row = filtered_row.replace(\"'\",\"\")\n",
        "  filtered_row = \" \".join(filter(lambda x:x[0]!='[', filtered_row.split()))\n",
        "  filtered_row = \" \".join(filter(lambda x:x[-1]!=']', filtered_row.split()))\n",
        "  filtered_row = \" \".join([word for word in filtered_row.split() if not (len(word)>1 and word[0]=='&' )]) # remove words starts with & \n",
        "\n",
        "  while '& &' in filtered_row:\n",
        "      filtered_row = filtered_row.replace(\"& &\",\"&\")\n",
        "\n",
        "  train_df.iloc[index].lyrics = filtered_row"
      ],
      "execution_count": 27,
      "outputs": []
    },
    {
      "cell_type": "code",
      "metadata": {
        "id": "7TcOsycmWp0N"
      },
      "source": [
        "# Test if extra & stil exists - should be empty\n",
        "for index, row in train_df.iterrows():\n",
        "  if '& &' in row.lyrics or '[' in row.lyrics or ']' in row.lyrics:\n",
        "    print(index)"
      ],
      "execution_count": 28,
      "outputs": []
    },
    {
      "cell_type": "markdown",
      "metadata": {
        "id": "q46lh89AHTga"
      },
      "source": [
        "### Tokenization"
      ]
    },
    {
      "cell_type": "code",
      "metadata": {
        "id": "fuRJK07JHV8b"
      },
      "source": [
        "# tokenize lyrics and transform lyrics into sequences of tokens\n",
        "tokenizer = Tokenizer(filters='1234567890!\",#$%()*+-./:;<=>?@[\\\\]^_`{|}~\\t\\n')  # delete & from filters\n",
        "tokenizer.fit_on_texts(train_df['lyrics'])\n",
        "vocab_size = len(tokenizer.word_index) + 1\n",
        "sequences_texts = tokenizer.texts_to_sequences(train_df['lyrics'])"
      ],
      "execution_count": 29,
      "outputs": []
    },
    {
      "cell_type": "markdown",
      "metadata": {
        "id": "1py7WNM_O1gL"
      },
      "source": [
        "# GloVe"
      ]
    },
    {
      "cell_type": "code",
      "metadata": {
        "id": "Ts7rPvyrhYZ7"
      },
      "source": [
        "# download \n",
        "if 'glove.6B.zip' not in os.listdir():\n",
        "  !wget http://nlp.stanford.edu/data/glove.6B.zip\n",
        "  !unzip -q glove.6B.zip"
      ],
      "execution_count": 30,
      "outputs": []
    },
    {
      "cell_type": "code",
      "metadata": {
        "id": "UuYhn7MFkpRp",
        "colab": {
          "base_uri": "https://localhost:8080/"
        },
        "outputId": "a3e76753-14de-4cdf-c2b7-01aa167bb03e"
      },
      "source": [
        "# load glove embedding \n",
        "path_to_glove_file =  \"glove.6B.300d.txt\"\n",
        "\n",
        "embeddings_index = {}\n",
        "with open(path_to_glove_file) as f:\n",
        "    for line in f:\n",
        "        word, coefs = line.split(maxsplit=1)\n",
        "        coefs = np.fromstring(coefs, \"f\", sep=\" \")\n",
        "        embeddings_index[word] = coefs\n",
        "\n",
        "print(\"Found %s word vectors.\" % len(embeddings_index))"
      ],
      "execution_count": 31,
      "outputs": [
        {
          "output_type": "stream",
          "text": [
            "Found 400000 word vectors.\n"
          ],
          "name": "stdout"
        }
      ]
    },
    {
      "cell_type": "code",
      "metadata": {
        "id": "MZ7yEFuT3NI4"
      },
      "source": [
        "def get_embedding(embedding_dim):\n",
        "  \"\"\"\n",
        "  returns embedding matrix of shape vocab_size on embedding dim\n",
        "  \"\"\"\n",
        "  vocabulary_size=len(tokenizer.word_index)+1\n",
        "  embedding_matrix = np.zeros((vocabulary_size, embedding_dim))\n",
        "  missing_words = []\n",
        "\n",
        "  # Prepare embedding matrix\n",
        "  for word, i in tokenizer.word_index.items():\n",
        "      embedding_vector = embeddings_index.get(word)\n",
        "      if embedding_vector is not None:\n",
        "          # Words not found in embedding index will be all-zeros.\n",
        "          # This includes the representation for \"padding\" and \"OOV\"\n",
        "          embedding_matrix[i] = embedding_vector\n",
        "      else:\n",
        "          # if word doesn't have embedded representation - generate new vector with normal dist values\n",
        "          missing_words.append(word)\n",
        "          embedding_matrix[i] = np.random.normal(0, np.sqrt(0.25), embedding_dim)\n",
        "  \n",
        "  print(f\"Total missing words: {len(missing_words)}\")\n",
        "  return embedding_matrix"
      ],
      "execution_count": 32,
      "outputs": []
    },
    {
      "cell_type": "code",
      "metadata": {
        "colab": {
          "base_uri": "https://localhost:8080/"
        },
        "id": "M7wioh3kX3O5",
        "outputId": "0fba3397-1e70-4c1c-9f87-7f885084ed2f"
      },
      "source": [
        "# run ebedding and remove unnecessary index\n",
        "embedding_matrix = get_embedding(300)\n",
        "del(embeddings_index)"
      ],
      "execution_count": 33,
      "outputs": [
        {
          "output_type": "stream",
          "text": [
            "Total missing words: 752\n"
          ],
          "name": "stdout"
        }
      ]
    },
    {
      "cell_type": "markdown",
      "metadata": {
        "id": "4DPh0ruujliv"
      },
      "source": [
        "# Split train and validation"
      ]
    },
    {
      "cell_type": "code",
      "metadata": {
        "id": "CMzHlHEOkmD_"
      },
      "source": [
        "def split_train_test(x, y):\n",
        "  \"\"\"\n",
        "  splits data into train and validation sets - 90 % train, 10% validation\n",
        "  \"\"\"\n",
        "  X_train, X_val, y_train, y_val = train_test_split(x,y, train_size = 0.9, random_state=42)\n",
        "  return X_train, X_val, y_train, y_val"
      ],
      "execution_count": 34,
      "outputs": []
    },
    {
      "cell_type": "markdown",
      "metadata": {
        "id": "V8mq2yPm4IxL"
      },
      "source": [
        "# Midi version 1"
      ]
    },
    {
      "cell_type": "markdown",
      "metadata": {
        "id": "Z12e8ODjIx5j"
      },
      "source": [
        "### Concatenate lyrics and midi dataframes"
      ]
    },
    {
      "cell_type": "code",
      "metadata": {
        "id": "4Wf1M4cCKE2I"
      },
      "source": [
        "def get_midi_beats(t):\n",
        "  \"\"\"\n",
        "  Returns beats of the given song t - t is a tuple of (singer, song_name)\n",
        "  \"\"\"\n",
        "  singer, song_name = t[0].lower().strip(), t[1].lower().strip()\n",
        "  if (singer, song_name) in midi_data:\n",
        "    return midi_data[(singer, song_name)].get_beats()\n",
        "  else:\n",
        "    return None"
      ],
      "execution_count": 35,
      "outputs": []
    },
    {
      "cell_type": "code",
      "metadata": {
        "id": "JDKQeudkI9_k"
      },
      "source": [
        "# add beats column to dataframe\n",
        "train_df[\"beats\"] = train_df.apply(get_midi_beats, axis=1)\n",
        "test_df[\"beats\"] = test_df.apply(get_midi_beats, axis=1)"
      ],
      "execution_count": 36,
      "outputs": []
    },
    {
      "cell_type": "code",
      "metadata": {
        "id": "9DOyyw2tzaWa"
      },
      "source": [
        "# remove songs without beats from sequences\n",
        "indexes = list(train_df[train_df[\"beats\"].isna()].index)\n",
        "for index in sorted(indexes, reverse=True):\n",
        "    del sequences_texts[index]"
      ],
      "execution_count": 37,
      "outputs": []
    },
    {
      "cell_type": "code",
      "metadata": {
        "id": "jRQtJv7IR-sd"
      },
      "source": [
        "# remove songs wout midi beats from dataframe\n",
        "train_df = train_df[~train_df[\"beats\"].isna()]\n",
        "test_df = test_df[~test_df[\"beats\"].isna()]"
      ],
      "execution_count": 38,
      "outputs": []
    },
    {
      "cell_type": "code",
      "metadata": {
        "id": "kBcSi0w6x5sH"
      },
      "source": [
        "# reset indices after deletion \n",
        "train_df.reset_index(drop=True, inplace=True)\n",
        "test_df.reset_index(drop=True, inplace=True)"
      ],
      "execution_count": 39,
      "outputs": []
    },
    {
      "cell_type": "markdown",
      "metadata": {
        "id": "RsnWV4sRQ2aa"
      },
      "source": [
        "### Text sequences"
      ]
    },
    {
      "cell_type": "code",
      "metadata": {
        "id": "HUXQs6NZ4H6m"
      },
      "source": [
        "def get_lyrics_and_beats_sequences(df, lyrics_seq_length, beats_seq_length):\n",
        "  \"\"\"\n",
        "  Returns lyrics and beats sequences\n",
        "  \"\"\"\n",
        "  lyrics_sequences = []\n",
        "  beats_sequences = []\n",
        "\n",
        "  # iterate through every song\n",
        "  for index, sample in enumerate(sequences_texts):\n",
        "    lyrics = sample # a list of all the tokens in the song lyrics\n",
        "    beats = df.iloc[index][\"beats\"].tolist() # a list of all the beats times in the song\n",
        "\n",
        "    # iterate through the song's lyrics\n",
        "    for i in range(lyrics_seq_length, len(lyrics)):\n",
        "      lyrics_sequence = lyrics[i-lyrics_seq_length:i]\n",
        "      lyrics_sequences.append(lyrics_sequence)\n",
        "\n",
        "      # get the beats relational to the lyrics sequence position\n",
        "      lyrics_seq_start_ind = i-lyrics_seq_length\n",
        "      lyrics_length = len(lyrics)\n",
        "      beats_length = len(beats)\n",
        "      # calculate the beats relational indices\n",
        "      beats_start_ind = int((lyrics_seq_start_ind / lyrics_length) * beats_length)\n",
        "      # check if not end of beats\n",
        "      beats_start_ind = beats_start_ind if beats_start_ind + beats_seq_length < beats_length else beats_length - beats_seq_length-1\n",
        "      beats_end_ind = beats_start_ind + beats_seq_length\n",
        "      # check if not the end of beats\n",
        "      beats_end_ind = beats_end_ind if beats_end_ind < beats_length else beats_length - 1\n",
        "\n",
        "      # append to the beats sequences list\n",
        "      beats_sequence = beats[beats_start_ind:beats_end_ind]\n",
        "      beats_sequences.append(beats_sequence)\n",
        "  \n",
        "  # check if there were bad beats sequences\n",
        "  for x in beats_sequences:\n",
        "    if len(x) < beats_seq_length:\n",
        "      print(x)\n",
        "  \n",
        "  return np.array(lyrics_sequences), np.array(beats_sequences)"
      ],
      "execution_count": 40,
      "outputs": []
    },
    {
      "cell_type": "code",
      "metadata": {
        "id": "FJAV9ehWuiND"
      },
      "source": [
        "lyrics_seq_length = 10\n",
        "beats_seq_length = 10\n",
        "\n",
        "def get_sequences(train_df, lyrics_seq_length, beats_seq_length):\n",
        "  \"\"\"\n",
        "  Get sequences from the previous function and split data into train and validation sets while x combined two lists,\n",
        "  one list for lyrics and one for beats, and y is a vector.\n",
        "  \"\"\"\n",
        "  lyrics_sequences_train, beats_sequences_train = get_lyrics_and_beats_sequences(train_df, lyrics_seq_length, beats_seq_length)\n",
        "  \n",
        "  x_lyrics = lyrics_sequences_train[:, :lyrics_seq_length-1]\n",
        "  x_beats = beats_sequences_train\n",
        "  y = lyrics_sequences_train[:, lyrics_seq_length-1]\n",
        "  concatenated_lyrics_beats = np.concatenate((x_lyrics, x_beats), axis=1)\n",
        "  \n",
        "  X_train, X_val, y_train, y_val = split_train_test(concatenated_lyrics_beats, y)\n",
        "  \n",
        "  x_lyrics_train = np.asarray(X_train[:, :lyrics_seq_length-1])\n",
        "  x_beats_train = np.asarray(X_train[:, lyrics_seq_length-1:])\n",
        "  X_train = [x_lyrics_train, x_beats_train] \n",
        "\n",
        "  x_lyrics_val = np.asarray(X_val[:, :lyrics_seq_length-1])\n",
        "  x_beats_val = np.asarray(X_val[:, lyrics_seq_length-1:])\n",
        "  X_val = [x_lyrics_val, x_beats_val] \n",
        "\n",
        "  y_train = to_categorical(y_train, num_classes=vocab_size)\n",
        "  y_val = to_categorical(y_val, num_classes=vocab_size) \n",
        "\n",
        "  return X_train, X_val, y_train, y_val"
      ],
      "execution_count": 41,
      "outputs": []
    },
    {
      "cell_type": "code",
      "metadata": {
        "id": "dm9-UijtwctR"
      },
      "source": [
        "X_train, X_val, y_train, y_val = get_sequences(train_df, lyrics_seq_length, beats_seq_length)"
      ],
      "execution_count": 42,
      "outputs": []
    },
    {
      "cell_type": "markdown",
      "metadata": {
        "id": "vl4aIYjKoxe-"
      },
      "source": [
        "### Build Model - Midi version 1"
      ]
    },
    {
      "cell_type": "code",
      "metadata": {
        "id": "wKa6Ndb8oza2"
      },
      "source": [
        "def build_model(embedding_matrix, vocab_size, lyrics_seq_length, beats_seq_length):\n",
        "  # build the lyrics side of the model\n",
        "  lyrics_model = Sequential()\n",
        "  lyrics_model.add(Embedding(vocab_size, 300, weights=[embedding_matrix], input_length=lyrics_seq_length))\n",
        "  lyrics_model.add(LSTM(100, return_sequences=True))\n",
        "  lyrics_model.add(LSTM(100))\n",
        "  lyrics_model.add(Dense(100, activation='relu'))\n",
        "\n",
        "  # build the beats side of the model\n",
        "  beats_model = Sequential()\n",
        "  beats_model.add(LSTM(100, input_shape=(beats_seq_length, 1) ,return_sequences=True))\n",
        "  beats_model.add(LSTM(100))\n",
        "  beats_model.add(Dense(100, activation='relu'))\n",
        "\n",
        "  # merge sequential models\n",
        "  merge_layer = Multiply()([lyrics_model.output, beats_model.output])\n",
        "\n",
        "  merge_layer = Dense(vocab_size, activation=\"softmax\")(merge_layer)\n",
        "\n",
        "  model = Model([lyrics_model.input, beats_model.input], merge_layer)\n",
        "  \n",
        "  model.summary()\n",
        "  \n",
        "  return model\n"
      ],
      "execution_count": 43,
      "outputs": []
    },
    {
      "cell_type": "code",
      "metadata": {
        "id": "TWFnxew8vriB"
      },
      "source": [
        "# Clear any logs from previous runs\n",
        "!rm -rf ./logs/"
      ],
      "execution_count": 44,
      "outputs": []
    },
    {
      "cell_type": "code",
      "metadata": {
        "colab": {
          "base_uri": "https://localhost:8080/"
        },
        "id": "ucFsdxx2pF0P",
        "outputId": "661cdc28-c556-4237-ea91-97f82bc2b9ca"
      },
      "source": [
        "model = build_model(embedding_matrix, vocab_size, X_train[0].shape[1], X_train[1].shape[1])"
      ],
      "execution_count": 45,
      "outputs": [
        {
          "output_type": "stream",
          "text": [
            "Model: \"model\"\n",
            "__________________________________________________________________________________________________\n",
            "Layer (type)                    Output Shape         Param #     Connected to                     \n",
            "==================================================================================================\n",
            "embedding_input (InputLayer)    [(None, 9)]          0                                            \n",
            "__________________________________________________________________________________________________\n",
            "embedding (Embedding)           (None, 9, 300)       2180700     embedding_input[0][0]            \n",
            "__________________________________________________________________________________________________\n",
            "lstm_2_input (InputLayer)       [(None, 10, 1)]      0                                            \n",
            "__________________________________________________________________________________________________\n",
            "lstm (LSTM)                     (None, 9, 100)       160400      embedding[0][0]                  \n",
            "__________________________________________________________________________________________________\n",
            "lstm_2 (LSTM)                   (None, 10, 100)      40800       lstm_2_input[0][0]               \n",
            "__________________________________________________________________________________________________\n",
            "lstm_1 (LSTM)                   (None, 100)          80400       lstm[0][0]                       \n",
            "__________________________________________________________________________________________________\n",
            "lstm_3 (LSTM)                   (None, 100)          80400       lstm_2[0][0]                     \n",
            "__________________________________________________________________________________________________\n",
            "dense (Dense)                   (None, 100)          10100       lstm_1[0][0]                     \n",
            "__________________________________________________________________________________________________\n",
            "dense_1 (Dense)                 (None, 100)          10100       lstm_3[0][0]                     \n",
            "__________________________________________________________________________________________________\n",
            "multiply (Multiply)             (None, 100)          0           dense[0][0]                      \n",
            "                                                                 dense_1[0][0]                    \n",
            "__________________________________________________________________________________________________\n",
            "dense_2 (Dense)                 (None, 7269)         734169      multiply[0][0]                   \n",
            "==================================================================================================\n",
            "Total params: 3,297,069\n",
            "Trainable params: 3,297,069\n",
            "Non-trainable params: 0\n",
            "__________________________________________________________________________________________________\n"
          ],
          "name": "stdout"
        }
      ]
    },
    {
      "cell_type": "code",
      "metadata": {
        "colab": {
          "base_uri": "https://localhost:8080/",
          "height": 0
        },
        "id": "OnbSaK0r3Gez",
        "outputId": "ddd0f2ed-c884-45cb-d76e-12d61f0c35c3"
      },
      "source": [
        "# Draw the model\n",
        "from keras.utils import plot_model\n",
        "plot_model(model)"
      ],
      "execution_count": 46,
      "outputs": [
        {
          "output_type": "execute_result",
          "data": {
            "image/png": "[encoded data removed]",
            "text/plain": [
              "<IPython.core.display.Image object>"
            ]
          },
          "metadata": {
            "tags": []
          },
          "execution_count": 46
        }
      ]
    },
    {
      "cell_type": "markdown",
      "metadata": {
        "id": "ywafwFSx9iQj"
      },
      "source": [
        "### Training"
      ]
    },
    {
      "cell_type": "code",
      "metadata": {
        "id": "tAzSLAwm9iQm"
      },
      "source": [
        "model.compile(loss='categorical_crossentropy', optimizer=tf.optimizers.Adam(), metrics=['accuracy','mae'])"
      ],
      "execution_count": 47,
      "outputs": []
    },
    {
      "cell_type": "code",
      "metadata": {
        "id": "4U1XA8wuwWAW"
      },
      "source": [
        "# initializer callbacks - for tensorboard graphs and early stopping \n",
        "log_dir = \"logs/fit/\" + datetime.datetime.now().strftime(\"%Y%m%d-%H%M%S\")\n",
        "tensorboard_callback = tf.keras.callbacks.TensorBoard(log_dir=log_dir, histogram_freq=1)\n",
        "es = keras.callbacks.EarlyStopping(monitor=\"val_loss\", patience=5)"
      ],
      "execution_count": 48,
      "outputs": []
    },
    {
      "cell_type": "code",
      "metadata": {
        "colab": {
          "base_uri": "https://localhost:8080/"
        },
        "id": "AnE0wqjQ9iQm",
        "outputId": "2e40748b-4a81-4d19-9791-5d5d7c8a8e3d"
      },
      "source": [
        "history = model.fit(X_train, y_train, epochs=20, batch_size=128, validation_data=(X_val, y_val), callbacks=[tensorboard_callback, es])"
      ],
      "execution_count": 49,
      "outputs": [
        {
          "output_type": "stream",
          "text": [
            "Epoch 1/20\n",
            "1217/1217 [==============================] - 55s 36ms/step - loss: 6.0577 - accuracy: 0.1297 - mae: 2.6587e-04 - val_loss: 5.2620 - val_accuracy: 0.1781 - val_mae: 2.5203e-04\n",
            "Epoch 2/20\n",
            "1217/1217 [==============================] - 41s 34ms/step - loss: 5.0459 - accuracy: 0.1826 - mae: 2.5287e-04 - val_loss: 5.0145 - val_accuracy: 0.2012 - val_mae: 2.5173e-04\n",
            "Epoch 3/20\n",
            "1217/1217 [==============================] - 42s 34ms/step - loss: 4.7051 - accuracy: 0.2059 - mae: 2.4652e-04 - val_loss: 4.9182 - val_accuracy: 0.2124 - val_mae: 2.4512e-04\n",
            "Epoch 4/20\n",
            "1217/1217 [==============================] - 42s 35ms/step - loss: 4.4640 - accuracy: 0.2233 - mae: 2.4174e-04 - val_loss: 4.8444 - val_accuracy: 0.2264 - val_mae: 2.4366e-04\n",
            "Epoch 5/20\n",
            "1217/1217 [==============================] - 41s 34ms/step - loss: 4.2436 - accuracy: 0.2437 - mae: 2.3654e-04 - val_loss: 4.8476 - val_accuracy: 0.2406 - val_mae: 2.4078e-04\n",
            "Epoch 6/20\n",
            "1217/1217 [==============================] - 41s 34ms/step - loss: 4.0426 - accuracy: 0.2652 - mae: 2.3142e-04 - val_loss: 4.8214 - val_accuracy: 0.2526 - val_mae: 2.3721e-04\n",
            "Epoch 7/20\n",
            "1217/1217 [==============================] - 41s 34ms/step - loss: 3.8686 - accuracy: 0.2849 - mae: 2.2634e-04 - val_loss: 4.8820 - val_accuracy: 0.2624 - val_mae: 2.3310e-04\n",
            "Epoch 8/20\n",
            "1217/1217 [==============================] - 41s 33ms/step - loss: 3.7010 - accuracy: 0.3049 - mae: 2.2123e-04 - val_loss: 4.9888 - val_accuracy: 0.2679 - val_mae: 2.3041e-04\n",
            "Epoch 9/20\n",
            "1217/1217 [==============================] - 40s 33ms/step - loss: 3.5339 - accuracy: 0.3241 - mae: 2.1608e-04 - val_loss: 5.1142 - val_accuracy: 0.2749 - val_mae: 2.2792e-04\n",
            "Epoch 10/20\n",
            "1217/1217 [==============================] - 40s 33ms/step - loss: 3.4141 - accuracy: 0.3417 - mae: 2.1182e-04 - val_loss: 5.3504 - val_accuracy: 0.2801 - val_mae: 2.2539e-04\n",
            "Epoch 11/20\n",
            "1217/1217 [==============================] - 40s 33ms/step - loss: 3.2819 - accuracy: 0.3566 - mae: 2.0750e-04 - val_loss: 5.5101 - val_accuracy: 0.2878 - val_mae: 2.2312e-04\n"
          ],
          "name": "stdout"
        }
      ]
    },
    {
      "cell_type": "code",
      "metadata": {
        "id": "B8RcvZCNweAA"
      },
      "source": [
        "# show tensorboard graphs - removed graphs because take a lot of disk space\n",
        "%tensorboard --logdir logs/fit"
      ],
      "execution_count": null,
      "outputs": []
    },
    {
      "cell_type": "code",
      "metadata": {
        "colab": {
          "base_uri": "https://localhost:8080/",
          "height": 0
        },
        "id": "Sjzkwj_Z9iQn",
        "outputId": "f890ed8c-27c3-45e4-e2d4-f2c705a32a9a"
      },
      "source": [
        "# show validation/train loss graph usin matplotlib\n",
        "from matplotlib import pyplot\n",
        "\n",
        "pyplot.plot(history.history['loss'])\n",
        "pyplot.plot(history.history['val_loss'])\n",
        "pyplot.title('model train vs validation loss')\n",
        "pyplot.ylabel('loss')\n",
        "pyplot.xlabel('epoch')\n",
        "pyplot.legend(['train', 'validation'], loc='upper right')\n",
        "pyplot.show()"
      ],
      "execution_count": 51,
      "outputs": [
        {
          "output_type": "display_data",
          "data": {
            "image/png": "[encoded data removed]",
            "text/plain": [
              "<Figure size 432x288 with 1 Axes>"
            ]
          },
          "metadata": {
            "tags": [],
            "needs_background": "light"
          }
        }
      ]
    },
    {
      "cell_type": "markdown",
      "metadata": {
        "id": "z9jtTVaw3AGE"
      },
      "source": [
        "### Testing"
      ]
    },
    {
      "cell_type": "code",
      "metadata": {
        "id": "rgvN5gIi3Dva"
      },
      "source": [
        "def get_relational_beats(beats_list, beats_seq_length, curr_lyrics_ind, n_total_words_generating):\n",
        "  \"\"\"\n",
        "  Returns list of relational beats according to the song's length\n",
        "  \"\"\"\n",
        "  beats_len = len(beats_list)\n",
        "  rel_start_ind = int((curr_lyrics_ind / n_total_words_generating) * beats_len)\n",
        "  rel_start_ind = rel_start_ind if rel_start_ind + beats_seq_length < beats_len else beats_len-beats_seq_length\n",
        "  rel_end_ind = rel_start_ind + beats_seq_length\n",
        "  rel_beats_sequence = beats_list[rel_start_ind:rel_end_ind]\n",
        "  rel_beats_sequence = np.reshape(rel_beats_sequence, (1, beats_seq_length))\n",
        "  return rel_beats_sequence"
      ],
      "execution_count": 52,
      "outputs": []
    },
    {
      "cell_type": "code",
      "metadata": {
        "id": "CyZYQlsX3Q3R"
      },
      "source": [
        "def generate_lyrics_from_seed_lyrics_and_melody(model, tokenizer, text_seq_length, beats_seq_length, seed_text, melody_beats_list, n_words):\n",
        "  \"\"\"\n",
        "  Run prediction of a new song. returns the generated text.\n",
        "  \"\"\"\n",
        "\n",
        "  text=seed_text\n",
        "  for i in range(n_words):\n",
        "    encoded = tokenizer.texts_to_sequences([text])[0]\n",
        "    encoded = pad_sequences([encoded], maxlen=text_seq_length, truncating='pre')\n",
        "\n",
        "    beats_curr_seq = get_relational_beats(melody_beats_list, beats_seq_length, i, n_words)\n",
        "\n",
        "    model_input = [np.asarray(encoded), np.asarray(beats_curr_seq)]\n",
        "\n",
        "    prediction = model.predict(model_input)\n",
        "    predicted_index = np.random.choice(vocab_size, p=prediction[0])\n",
        "    predicted_word = tokenizer.index_word[predicted_index]\n",
        "    text += \" \" + predicted_word\n",
        "  \n",
        "  return text"
      ],
      "execution_count": 53,
      "outputs": []
    },
    {
      "cell_type": "code",
      "metadata": {
        "colab": {
          "base_uri": "https://localhost:8080/"
        },
        "id": "dO42UPwS3THx",
        "outputId": "8a6e2b80-15de-4079-f3cc-fb5eb17d1174"
      },
      "source": [
        "print(\"generate_lyrics from word and song melody\")\n",
        "seed_texts = ['tonight', 'everybody', 'love']\n",
        "\n",
        "for index, song in test_df.iterrows():\n",
        "  seed_text = song.lyrics.split()[0]\n",
        "  print(f\"Generated lyrics for song number {index}, while The first word of the song is '{seed_text}':\\n\")\n",
        "  generated_song = generate_lyrics_from_seed_lyrics_and_melody(model, tokenizer, lyrics_seq_length-1, beats_seq_length, seed_text, song.beats, 600)\n",
        "  print(generated_song)\n",
        "  \n",
        "  for i in range(0,3,1):\n",
        "    print(f\"Generated lyrics for song number {index}, while the seed text is '{seed_texts[i]}':\\n\")\n",
        "    generated_song = generate_lyrics_from_seed_lyrics_and_melody(model, tokenizer, lyrics_seq_length-1, beats_seq_length, seed_texts[i], song.beats, 600)\n",
        "    print(generated_song)\n"
      ],
      "execution_count": 54,
      "outputs": [
        {
          "output_type": "stream",
          "text": [
            "generate_lyrics from word and song melody\n",
            "Generated lyrics for song number 0, while The first word of the song is 'close':\n",
            "\n",
            "close & touch that a school dress roll & more bells 'ers coladas & i just can't even go all now what the news we're living & just tell me your soul was killing me & got your lover's man inside me & i said i love you oh 'cause goodbye no more than more & but what can i go tell & like the night oh whey oh & one out highway listen to you & the wonders of my life & was the only time is all right & you're feelin' there & and i will walk away & yes he likes your lonely life again & there's nothing true if i got no gonna bother treat me but i walked straight back to that lift & bite a wintry ei since change of your homies & the spirit's and dope boy is stereo & i'm losing my tires through on & someday when you're together without me & to hear what's soon i love you oh definitely & what's every living for the girl & whatever you wanna be real & waiting like about & i'll get this very lyin' & 'cause if i will stop the life in my finger & he will roll snow would feel you better & because we know it takes a band of gold & i'm gonna set you moving on hurting me here & hmm please stand up and i saw the honesty's for love & and you got me so & yes come on baby come on go over & well i can pay you tomorrow & do you can't hold him for shaded blind & and you're going for haunting her & and so long & there's two kisses him right a reason & only now somebody & all when i've been nice for guys to like & and caught up and i did & reach up to me & and sometimes you believed when he drove & weeks was what his own smokin' eyes & enchantment not stations in myself & six fantasy bring me loco superman that matter yeah & hmm like the wall & they make to home trying to set us & can't tell that & you're holding me who that & i know when what's cloudy & so lived at all of tom i get old look & i know it's so hard to know now would too out & and with that walk away don't how believe & i'm out for you like ya lady & never keep you bad tonight & sometimes i'm showing you & 'till i'm holding plenty to go & come come gonna get it too apart & let your love heaven what is it & nobody gets too hot for evil & i want to sleep back from the emptiness & they have knew not so young anyway & myself is this who am i do & oh i'm racing by grade and get divorced oh oh & i really want to be your broken heart & to show anybody & she sings my house if when stars at town & for a better got judging you & philosophy and they were sunday & just there oh you can sit magic & oh go nowhere we didn't think they told & i need a terrible things & then i try to carry any more & but i give a devil woman & got for one within my mind & oh no i can feed the sea from your own & but until i calls your own now &\n",
            "Generated lyrics for song number 0, while the seed text is 'tonight':\n",
            "\n",
            "tonight & your magic surround me right & this is running in love shit would leave every white skirts coat & and if you should someday go & that say you gotta send me to see the roof & for a desire at the hands it what & yes more prize laughed to grow & as through your beating dreams & boy so i've really cried & you done how i don't know how what you mean could be & she'll call to my broken face laughter's day & checked my first keys can belong to the air & blockin' around the floor & they better been those brown went out at the rain & and he do it begun aside & believe without time to tell you no & 'til i'm walking still alright & for an simple before & i know why don't i shit fine somewhere can't & there's more good longest for & you can make on the devil & oh heaven is that way & you're then girl who was mine & and do you still never never love to give you just don't be afraid of yesterday & we're better all weed & and i'm white pleasure & without love a little summer people a attention & i met a day in forwards with & and he can't believe by us & inside the morning & right into my own & welcome to the clothes who it is up & 'bout tryin' to stay empty right & step up and heard it now i'm the back somewhere & they're christmas into the grabbing is & she knows i'm in white passing over & i'm everything its all right from confused & so i still where that swimming & for now turn around when we're down and help to snow & i was bop a tear & because the rhythm sleigh with you by & love blew up any cruel soul & and if you can like if i've taken so smart & while they gonna kill the a rag x we're talkin' & ooo ooo e whiskey the karma crowd & fake children soft like the incredible told & always live how can surely say they gaze on & i'm calling the temple and ignorance & people on the morning & well she saw here like bogie and green christmas four vegas slow & they threw him going on maria nigga baby oh yeah & oh mandy & sing me know & we're gone & from the long love & he think of heaven love what's people don't seem was fine & standing through the rules and gone from the kill & high where they gave her belong & when then that's the meaning of way & we were new & life that they walk away & and or gather shine with the pieces shh & you'll turn high in the dangers crystal & weeks had to pass up at your distant christmas & hypnotic pose there we'll lose us tight oh & i keep here on fly away & baby you're on love no & oh i say & wouldn't you be long yes i love you & we will reach to read of me because i took the astral voyage & are you until he claus & after beer & collects our father figure worlds & ring your bell drink for blueberry and between his blood & so sent to all yeah & come on baby oh ooh & just call me really wanna & you gotta relive each other place beside me\n",
            "Generated lyrics for song number 0, while the seed text is 'everybody':\n",
            "\n",
            "everybody old & far like an wishing years watching & don't find turn turn love me & rock me gently & rock me down & come on come on baby & you got me gonna say listen to me & no matter what it's like a reason & way my ever bout to find my life back & so it's holding all loud & quit playin' games with my heart & a sign ass mercy being just a season close don't you'll stop & it's a grand afraid of stolen & you can fly away out of a mic & no one ain't not fat ballers from every kiss & l the strangers side could know & boy repeat sign there's the search i please & just shake up my place thinking i do won't & whenever i can be with me & i heard your energy father that i did see the convinced & perfect finding so standin' & in it passed around & not six incredible & and she having time it to hell & looking to me the wallet and mondays be a license in step for easy & abacab he's gonna go back & ooh don't want else's fantasy & yeah girls girls know it's gonna be & just wasn't through like it is to get you hint turn & you was accepted flows on me & and we're leaving myself & you wear the illegal alien & let my heart loving get down & put your claus that sweet king & and i've never dreamed that don't find my lovin' to her your life & 'cause why that i can get it all again & oh oh oh oh oh oh & girl won't show me & no matter what it is it & i should know it's going & said i'm talking it's unhappy bad & stray 't yourself sing we hot tiny vict'ry with grey & am i shouldn't drowns with the wall & and it saves your sunglasses around & friends are no doubt & with my baby's right in my feet & he's gonna find a danger & and anyone she ain't gonna get to you 'cause i can know what should i hide & brenda and ain't wrong for up & i've be love to play & i'll take a rainy day & just will it one control your eyes & if i can save me & 'cause sit out everything can come on & they want to have to go for down & i'm sorry that you don't bust with tennessee & right little mm watch the secret & it's no easy to dance & so tomorrow and her name that i don't know & it's that he'd go all down and drag me inside & all love is good day tonight tonight & i need to take it out & when i miss you & to make it crazy & love was all about the world guy & i have ever came on & call the price of years much before & mmm hmm here inside & at our side & pick up the world slow & and we go to wish you're sorry & hey oh baby knows what don't you know no no & because that we're through through & and it's out of the a man goodnight & i'm not the load living out & but you need nobody else never like whatever you feel it & oh baby & i see it like how do you want me & cause special save me & i\n",
            "Generated lyrics for song number 0, while the seed text is 'love':\n",
            "\n",
            "love & everybody believes brings him down & your sex set her completely superman & all the nights were falling down & it was down trying away now take heaven to give it free & kiss your own & everything i wanna do & ooh wanna do & ooh & oh oh oh oh oh oh oh oh & don't believe faith go & well it just were right now baby and love to say & i've got meaning on 'er & love at you a mind or wild in me ahh & hear them land him react at & at the streets freak don't spice little gully in the roof & they get at bethlehem they're startin' to crown & just changed to wound out today & we're scared for you as who eat to that frail & i lost believin' & i'm with you & that you're giving on incense earth & always know why is trying & is easy it is it & sweet love could forget me make you believe my love & we need no gonna see going home & just still don't still get across the night & and though angelica's my body smooth timin' & of song away for somthing away you know & all being my lips he'll got resist & still fans to strife of the pale touch & i want to understand a snuggled up & no sweet just bop a way & what were i want to hair & and cal is careful and the tribal love & did you need every fast day is day & zoot suit riot & riot & pull a new world young day & ohh come 'cid & deep made me rocking over your own & because one lips can fade away & take us nowhere somebody help me & somebody help him it's waiting & like a bottle of gold i give a fact & leave me together up in a boys that threw up each bad weary names equally & and thought our top closes in & knowing it just stop my heart where i am loved at love & i want you else & you just say is you see a heartbeat i'm the only of bed & we got a pain my hips i know it's fine not away don't think ain't son there's nothing more & so but it's to touch and you've gone & i got that like it was only real & there's nothing to be on my mind & my now war & what's lost for the midst of the heat of with her & only why can see no one & you've got to be mine and listen to this nights like petals with control & i couldn't ride together & i know what you ever feel in me oh no & no matter what i see my first face & they went on alone & well i could talk to stop so with deny it is wrong & and it does it you can be & but i turn you in the stars all by the past & and your dick y'all would be a destiny and ya dare to you & with the shadow of me and me i'll still your ones i had could regret & keep what you'll be all wrong & i am whatever you did & i want you more weeks & feel meant to say & now keeps yourself to check you back with your sad every spotlight & where she was long for you come & got\n",
            "Generated lyrics for song number 1, while The first word of the song is 'if':\n",
            "\n",
            "if & wit across his da planetary riot & paperlate paperlate & oh oh i can tell & she's in the air and and you can shine & and the friends oh like you want to run & said i'm gonna see to real bringing her eyes & there was get your album vita & slim shady & its the name of today & your time is wide and i'm a animals who'll & they always settle all without all & felt your ass from told meaning & but private parris moments at the bedpost & i saw your dick like a drunk in our sings incense & but they may never heard a hoodwink over & that let my beat last earth & you pretend it comes inside and think that dreams & la da dee da dee da da da da da da da da da da da da da da da da da da da da da da da da da da da da da da da da da da da da da da da da da da da da da da da da da da da da da da da da da da da da da da da da da da da da da da da da da da da da da da da da da da da da da da da da da da da da da da da da da da da da da da da da da da da da da da da da da da da da da da da da da da da da da da da da da da da da da da da da da da da da da da da da da da da da da da da da da da da da da da da da da da da da da da da da da da da da da da da da da da da da da da da da da da da da da da da da da da da da da da da da da da da da da da da da da da da da da da da da da da da da da da da da da da da da da da da da da da da da da da da da da da da da da da da da da da da da da da da da da da da da da da da da da da da da da da da da da da da da da da da da da da da da da da da da da da da da da da da da da da da da da da da da da da da da da da da da da da da da da da da da da da da da da da da da da da da da da da da da da da da da da da da da da da da da da da da da da da da da da da da da da da da da da da da da da da da da da da da da da da da da da da da da da da da da da da da da da da da da da da da da da da da da da da da da da da da da da da da da da da da da da da da da da da da da da da da da da da da da da da da da da da da da da da da da da da da da da da da da da da da da da da\n",
            "Generated lyrics for song number 1, while the seed text is 'tonight':\n",
            "\n",
            "tonight & my name is part rain in his feet & they'll worry flesh on my direction & hello else within & the stars were doing too young oh baby & it's lost that you're tired in end oh & the end is a little bed and real they'll know this long joy & such a last mistake & the rest of my arms if i don't turn some summer & let me meet me insane & oh i'm happy for me & i have been wild sweet secrets of your home & how've you gotta try to listen to me & if you know my fate is to say i'm through back & could take all your head after little & i don't want him trying to say that she's gonna stop well & it's only mine don't they better king loose & 'cause you can't know i don't can cry & 'cause you thought i'm strong incredible & i need you can say no one friend & all i am have true & then you just want to dance & please make me mad think that can't do manifest & well can't understand cowards never cares to jive days & woman roll gladly all the illegal man & gotta hide & said i make lost here boy but this is inside in & so try to reach ya take up with two breeze & we can give your lips to hold all dark & still can drink what's a rising now enough's too late & i'm throwing back over creation & and and they know her hands & i've seen getting comin' out to keep you & tell me to hold me from the word & do you got each other for talking inside and quit right from & somebody's gonna talk ya sitting and questions is it to slip & never son i got a wonders of here & oh now what you're through my mind & photograph all i think that i could have & don't feel send me remember about it & it's somethin' you need to get home & girl this love is for heaven cause i'd finally ah no only gonna make it & 'cause love too much of my love you're falling and rest & it's in slim zone & there is yours who could throw to a pillar in love & you're my heart it's nothing been so much & when i love what that that will be now oh yeah & sentimental gentle eyes & oh god i beg you anymore & oh and my love is this tender old every game of mornin' it's bootie & she woke the chance how can i go to play again & they feel the air it could use here so gonna give it & i never thought that i go for & i'm too scared queen & so hunger to last this fast & father money that's a silence & save by my sign & come come talkin' take me all today & you need a thin ride day & and all watching who in slim shady and isn't why & she'd heard any time new pipe & and swim up fly and an g's & until i'm tickin' and we are & oh oh ooh oh oh oh oh oh oh oh oh oh & oh ooh oh oh oh oh oh woah & ooh you don't can't got what he's abandoned & oh now why now it's there & then i were your way & and tell me what you'll just\n",
            "Generated lyrics for song number 1, while the seed text is 'everybody':\n",
            "\n",
            "everybody could 'till & wasn't in gas and drop takes a francisco and all the day & just if that you'll know it's goin' back & really is that come inside of some haze & 'em burning in sears & she's a great night now & he's act mine lookin' than the hearts will get right & 'cause could long loving we can know how to be & but times this hearts i'll find this & come off i'll find by done & for the right lang give me like the sign & looking out and my ain't callin' my flowers in fire & they know i saw the summer night oh so all it's love yeah yeah & save all my heart & don't love me & what you mean & don't say no no son i need & don't matter for her make never runaway & do you want comes all you're wrong and and do you say me & what can you do it & it's leaving you wrong & and now how to love you got out time & why would i've gone signs & where they wanted & someone's done when i'm space in you & oh and we're given & nighttime on the top of the duke of boardwalk & a church and the fast lane you be & the light that we're preaching & oh baby put me out on my own & and i'll let it wrong & fugees be right when i'm gone just the storm & is the long love & who was that wrong to show just all of us now & or what makes my own beat on the plan & you had to say the place was mine & you're no good for each other & never love & but when it's gone and love last alright & like the radio can be with me & making more for the heartbeat she cried once & and somewhere and the key & but if i'm down glad they while if you got yours again & girl alone forever to be all as it ends & they thought when the whole wind has from & you are these time & niggas go if no panic an wonderland is into the snowman & he's all the floor on the mind & we can say that hey baby i love you & baptized if you baby & her minds as no good just anyway & you're looking at you and i must hear you really gonna see & and one horse oh here & he may be gone so & playing in her nights & someone's got no confused & i have the true ring these won't love you & because the way you're chinatown to sing's a doubt & tell me why she seems something gonna see & well they lick you out i try inside & i want to move down in love & and it's paint me & this love good & and i am holding sense & i were true and what i am & goodbye could happiness again & was nothin' & funny expectations & unfolding it right yeah & and i can watch the motion & oh what's all in the red boy rise on the second beat & and dr they're free plan has a face look at the child & you can roll bag your lovin' to get you out right & make at show they have all & have a feelings one move apart & than your stand when that kind & love\n",
            "Generated lyrics for song number 1, while the seed text is 'love':\n",
            "\n",
            "love & searching for the way who's okay & i battle should gratitude & how you've think more than anybody & it's give him living with a skies this face are way & the place can taste it & 'cause therefore i see me oh & the letter in my wall grande won & i are searching for take the man that you're thirty & enchantment love no creations and toast & diddley yeah all she's seen & i could stand up turn & one thing can sleep bound & gonna always recall & the homies act bop & turn your hearts in minor hurry & oh if i really wanna do & i just can & for all the feeling is much before i would train come on & save my jive talkin' & come on bring it all right & you really gotta know i'm any son i want & well i love you & i'll have to see falling away & asked it again & rollin' with the blues won't fill the midnight train & kick nobody to all the heat of this & coming up don't take me thirsty & help me to dream or can't be there & i'd still be like a little bit & i'd never love to love you make her cry and lie & living here on my eye now baby yeah oh yeah & you'll ever tell the sweet last day until your loving two & are you shows with me softly all this needs you better & well i stumble hill & oh be my life & show permission you know it why & and now i'm leaving to say & i'm a funny beside you and i will feel you in top i will say is it & love trying to tell i know & sitting turning in a century's bsb & gonna worry me out so hard & turn it off turn your body & come on got to & yakety boogie down they said we must sail come by baby & we got a didn't break around once & you love me in my mind & and if i was only in slim says the candlestick was sugar vita & right about & shit everybody could my sad boy & perfect church when i left no surprise & and good dream is that there's every turning in & well there are making calling than their hand & with nowhere to me the lifetime is & i was so fine just so part of you in my own i can go now woh & we relive a lake reality & the wonders of your heart & he ain't nothin' and fools & every crying you straight you who sure is it done & i'm askin' about for day i'm sorry & you still really chaka khan & say you feel it & i want you got to say i'd ever read inside & i drop love you doesn't matter without a rules and cause and some crew is resensitise around & and try to laugh for taking the will ever quit out & a lovely oblivion & everything is that change & then i ever walked for your heart in san jose & dance a little prayer for a love & nobody else must be & holding nobody to thee & looking your best thing that i was no & or what's an part & that is disgrace like you & and i'm simple an rhythm my side & your tea's their forgot a killing the said &\n",
            "Generated lyrics for song number 2, while The first word of the song is 'dear':\n",
            "\n",
            "dear & so sorry you nothin' ether in all slow & they don't can believe me & oh oh my baby & oh why & oh no i love you i'm sorry i ask me i'm stronger jean & i must get your life by & 'cause will you be wonderful and fine oh oh oh oh oh oh oh oh & baby ain't not sad & except the end who you're right with & sealed that's the leaving outside the secret life & yes we're living in shady's world & we gave us a relax & what was good safe and were & but through the stairs to believe & and you're and that's cried in fields & and i'm automatic and y'all tried to lahaina & i band a mind since the guy is crazy & and i can't get a shot stand again & and it's never love i've just got to make it it & it's in love between you & and when the world started worse & di di di di da funk & yo damn superintendent's them home after the walls & oh so new peoples in this cash won't see and max our rest is ruthless kiss & yeah ah ty leaving realer now rockin to telling us & whoa oh yeah & sad baby be the way of a peace of gold & and they can whisper be trusting me & if i don't know why & it's not growing up & started welcome to the rhymes to control & so don't do your tried and say need you i'd better hurry baby & but though i'll never know & gimme gimme gimme the night fever night & oh heaven about all this lonely face & come off and just keep back high & it's playing home so so good & and he asks you can hold it & leaves was through the floor & i'm talkin' for the radio & all 'bout in here & one gym & someday if that dub and sign & i had that loves me & and i don't want to fly on all bright & i & they had me in my raps to private green & somebody's gonna work it it else & beside your heart & tryin' to get some load here again & if i would let exactly it never really hurts & why's he's swing you high & and god came all of black black & we just can create them small & we'll love's be this & in a house in a air in a ling & they found myself out in here & and cause you're hurting me 'cause goodbye & though we're bad & and i hide where it will say i never had on & love in that break the whole world i see & they walked it back like we won't fall down & they're killing me back 'bout it & half in fear no son & that is born in love growing up & but ain't heaven ain't where alright want about you & oh oh baby oh baby & oh ooh it's got somebody take your love & do i can do hold about & it's gonna see about by & be bop a place to feel & say let me know i would have & and you're losing me you gotta catch how i'll find my love & and nobody else matters & oh just smiled any way you like you win in a fire & in heaven in god are the music thinking\n",
            "Generated lyrics for song number 2, while the seed text is 'tonight':\n",
            "\n",
            "tonight & your voice laughs inside my too lonely too mony & but i just wanna close & why won't you almost afford away for her & and when i see you baby ooh oh yeah woh huh come on ha huh huh huh huh bouncin' again & hi my name is leaving & slim shady & hi my name is what & my name is so & my love won't make you but what i could never have right all right & i'll spend all my jive room & to come back & ooh oh please don't know & i've got to sit fits & how deep was my father nigga which ain't what twice mother & i climb first me don't he'd sit with & whoopi ty aye ring you're earth & jones yell & run there time & now come down to crazy confused & i'm a farmers sway than eyes & and what too true & why need it now & kind of forever & if am i leave we'll find the discovery channel & gettin' horny now & oh what you want me baby & it's a long things can never cry needs is all is mine & oh i do our smiling love to be & but place in this mind are hard to tell & i'd pack a price of a woman & how to even much you feel all is it & is what he'd ever never passed me inside & and and i know that i would only play more & i need you so feel wrong & you're all your soul's with you & did you reach your blues & when the line is soon goes & i know even caught around & i want the stranger without awhile & there's yesterday no diggity i talk to go in tha dance off now & sign were an desert kid & purple red light of lies living down & and smoke go to buried move them runnin' & pile shoes and and go by & i'm fighting but real & your dear shall mammals down the break of last & is this heart forever doesn't matter now with her & loving's stranger for a fool & that when i unite & i just want to go any little baby & i told me once for y'all only hold you that mad it's your memories & just be a person & with least my way this could make this world & but it's happy for it & it's here & i look at a end & as i've had a lifetime to say & with your time forever no & never love no more & just can make it right & don't take it & it's alone & you finally win & i want to live anymore & don't have something too & that you feel comin' out about & when she'll be your love & my love is wrong boom we may find & i heard about my gun with a little frontiers & and don't i get that surprise & she'll work that girl would love you & never lie & need a love & i wanted your to still play your hands & when our good love before & sent yourself all which pop please & have to get away with having dance & i'm time for word that i love you & i don't want nobody anymore & yeah hey yeah yeah yeah yeah & yeah & ooh everybody's right & so is by hurting to be & and\n",
            "Generated lyrics for song number 2, while the seed text is 'everybody':\n",
            "\n",
            "everybody light & jack rub me a cage with pills & where hopping back around & he's got playing home i can cross & though you've seen it by earl & and shows that you could beat again & inside around & i've just been blue & thinking that you did the world you're soon now & there may be how & the wind comes close & to love eminem honey you'd be right & come on and cut it through the road behind me & you know what to lead you wrong & i can't see it by those bill you were very & my crazy hopes top & i'm an wings of gun inside & a long shot will you find over & so wanna stop with you and only remember this love again & i think i believe she do why & don't sing a past and then it's beginning & words were few & move it back for phil yay & well she belong to me & the simpler place in slim slim hoo please burn & i and i love you so & look about & well you took all your chevy to the levee to my lonely & we better walks away & and she'll say without the sunlight old scared perfect & falling shining alone & for me back by me & i just want to shoot it by shoutin' & we gave go a woman but you'll have a gift of memory & way burned in my stars with me & those heart becomes colour & all only sweet legs know it's in love low & dust reaching roll away & look why & ooh think my boy was gonna take to & rock your breath & as talkin' at me & catch me & don't you know if it's leave i'd go oh & fool girl who help me baby & well if i need you when i wish i listen to play it & together now & yesterday's this has fine high i just can cry & and though you sit their night let it down & trying to kiss you breathe & knock meet me misunderstanding & i move what i love me gonna ring alone & i can show you the boy you never knew & spend leaving me back in my life & for your lovin' left for this life spent & it seems to fall a best of my feelings & what is the face & it's no one for our lips in now & but i think i'll take together & i don't know how never wanna do not i say woh & yes i want to get up so oh oh yeah & it what gets where sun & too much picture that you're living by & oh stormy everybody's can jesus much id fly again & you're your best thing that & as i'm looking in love and did dre word & it's take myself to lend in town & it's not there if i would give me love & for so cry & my love is real who will make it & you finish precious over ourselves up and feel this & then it'll break your heart part & 'cause you can look next more or call me let's put down on strong late & hold up the way we do remember a garden & in a things it comes back to scold myself & and why's this best that's like you & mind is alone & and if i've seen a way\n",
            "Generated lyrics for song number 2, while the seed text is 'love':\n",
            "\n",
            "love & mr dust upside down & and you can pick it so very loved like it & i just found my they'll know what he will sweet & can't you go with me it's okay you could turn & fill them your fault but wash away & around 'bout it every more ole louder & ohh ohh & hoo everybody's rock and slowly die long & when there's nothing good who would find & and i've got love in forwards with & and i can think that is & i need faith & why can i feel who am i superman & don't think it doesn't go & some one within your mind everything can say goodbye & have to almost be few & i would never only mean will never fly & you and you happened i'll never know & no one is all right & leaves breaks my own & i'm so fine & is it roll let's get the million nights & get romance on the town and meaning to keep & you'll be friends who get there to bethlehem & all still much about this night & a music went by & there's not so so long as there's hard to understand & i chose her down when i wanted come out & to dream how softly a lot & he drove through leather & way over & another race that he offer & we couldn't hear to carry & they can smiled in a still change door & and that's what it is it & they intended dancing for it & and when that does it feel & what was it if you hear girl still know & i know you're till since i'm flyin' with more falling important lately & but raise the form of bop & riding at the river of cold & that's the boys in the sunshine & watch your cares horse gettin' dreams & peace train round night ei so much night & music too damn from my hair ow wishing guard my fuckin' oo oo oo lonely oh oh & baby don't care again & it's nice and love's not no & for the city boys they wasn't with real baby & you feel drift trying to talk & i gotta fight my good lover don't say & she has a girl to hear in ah kissing someone care & you'll learn yourself now & 'cause that i can set you crazy & i asked for me laid with my supposed and drag me to send if to keep & to have precious old warm rooms & i wanna just have to snow still never made the world & to take you in his own & they like you doin' so neat and black very hand i'm strong & i can't be runnin' i'm lyin' re re re re & lying all the winter ei four & and everybody comes to bitter top & and to sea didn't masquerade with the sky & through the royal one ways & only left in the city children & ahhh & hug you so many weed again yeah yeah baby & and sincere all the road is gone & and i need somethin' forever for somebody & you don't believe my love & ever don't want to do this lady i really don't love to love & why ain't my mind these are the good times & your photograph makes me larger than love & i don't want it in & with a reason to honor & and i ask me from\n",
            "Generated lyrics for song number 3, while The first word of the song is 'hiya':\n",
            "\n",
            "hiya & and teacher yes it's bomb & put your phone for the yen & the false summer hound people left loving hungry soul & ooh girls bop the way a pavement little way & i want to earth you name softly clear & with my true girl for go to you & why die & i'll find too easy off up great time & either way you're moving again & was the one was got me alone & when's the get automatic drip & the sheep is all kicked goin' away & well you know he was born that she's got more more & behind front of the store instead last sing's so other & the gym that's the saddle again & no switch in your hopes and here & i'm turn in what they'd be with you & you got a lot and drop day the moonlit give & chorus x & oh jive talkin' yes it's not right & there's asking why i stay makes & i used to keep it going down this snitch put away & oh baby baby if i want you mony & ooh yeah baby it's so gonna get up & and whatever i believe & hit you right right & oh yes ahh & wrap you another ride & sail away sail away sail away & go don't be right here baby & love can say what & she's the day who i'll be & some daddy by & you can saw you bitch you catholic woman's straight with the sing & till the break of gold to flow & just need this shot time in god he's a how love to be & all memories are sick & rock in in listen to the road & i were right on the world & smiling for me & but have lovin' inside and ride & and he might suffered for the pocket & but what that i sign to ride alone sup p per troup p per & tender is what we might know & so she'll get the people & why can i tell you with me there would be & hold to make precious good clouds it & you think was the reason to be & to cling back to my life & now the same is strong & for walking into the touch of the street & you always read me so strong now & i loves you like you baby & well i might have move together with those with two & once before you are mine and i want & if i've got to dance over sense & and we moves about just the tears to blame & in the new york minute & everything can show & the world is all i'm on & and if i'd use your dreams just laugh and you oh yeah & wanna control & get the voice that music & that could one way me & let me be the end & that show her a price of first & grab your good friends & mm yeah baby loving should now oh yeah & oh never gonna try & sherry baby ooh yeah yeah ho oh stupid baby & hey baby like you don't succeed & do you really make me say & why can you choose it know & it's my woman where you breathe if you'll be & turning around & and where's the gym & are a rockys niggas lies yeah & sail away sail away sail away & we've got a fame gimme so lips and\n",
            "Generated lyrics for song number 3, while the seed text is 'tonight':\n",
            "\n",
            "tonight & there's gone straight on fire & from the tingling here & and i'm all my house together with her & a woman and that reach the funeral & can't be my conscience without make my love & 'cause baby i love you anyway & that you can make me work & did you feel it & trust then will find each other & not in big craze 'bout & oh oh oh oh oh oh oh oh oh woah oh oh oh oh oh oh oh oh oh oh oh oh oh oh oh oh oh oh woah oh oh oh oh oh oh oh oh & i'm sorry for a beat to loving you yes i hope & but as your prerogative & you've been the place there ain't no bootie & let it snow call me dancin' with her sad being your phone & he's the first bitch i understand the dog who would morning & love is right & i do love happened & will you be leaving my my lonely ones & that things that honey and wonders my mind & our feelin' is with me & east times kid is it & well by me from find vacation & sha bop times these are the beautiful balloon & gotta gotta private the fought the world & the light of view & leave me in your smoke yes long just too late right & she looks out like green on around a rain & i do about the river in her eyes & what can i'm gonna end you anyway remember or cry & from this eyes of me oh mandy & i've seen your his does now tell me i said listen & make me know & you've been a one to show this way this love was to & happy time to be so right twice & holding yourself & hello & but thinking reality & i can set it could love you tell me was your own of you four would grow hallie & he's gonna do it around if when you're undone and if i'm going to fly & take the road in love now & i'm a man or the saviour & the dog i snatch him a innocence to precious & than take to laughter in my broken heart & when laugh oh gonna have faith wrong tonight & and i'll see no more from snow & how did i wait in mine & back once for me & i'd never look for you anymore i'm mine so finding out inside and have fun & nowadays now said i'm back now yes i've been in love & yes they want to bring you & baby oh baby baby & tonight mm too lonely & alright & come on on it & you love me so sweet & got liberty of everyone fell you & things we can say & sure i've got you like watching & i'm gonna face i have how close & for too good in a neighborhood & drifting velocity for the heartbeat & sadness else's fantasy & because i don't buy me up & you're gonna take it that i let you lose & rock me & come on come on and feel it & well now you was something & what else i got to say if you'd find my mind & yes he's gonna see her high & oh but if when our dreams bitches has just lived you & i just hope of burn my feet give real i'm gonna fight the\n",
            "Generated lyrics for song number 3, while the seed text is 'everybody':\n",
            "\n",
            "everybody to magic & gonna mess each bad for captin light & and untouched down don't ever see i heard & the leaves another clothes upon his voice & now i won't trust my said & this is part of my way & she's gonna love you on with a hero voyage & we took caught up of an gun sounding & and if it's afraid is more than watching you'll forget & anytime you catholic looked a nowhere like an part of all that & like few fernando & if it's best such a place that i feel & you're no doz & ooh ooh yeah baby and get down & they won't stay around & to grab it on again & you got it now oh because up to fight & baby oh ooh hey oh oh & love's the da & starry pie & hi that's bop the ground shit will find & won't do love me down saying you've been on & said her must go by a rules & amarillo's in our pictures & meet me with kids down on top & if ya mend the kiss of the wall & walk away & check it out nigga dear or it doesn't matter what i've found in & no matter how you need & but nothing is cryin' and me i'm losing my do in y'all so can't exist & she seem can understand & maybe i want too dancin' on myself & relax don't have it like you say & answer me baby you don't question anymore & oh what new & well i can't make now & left my coffee w between the astral timing & my come like riches and bitin' band i forgot about me & but someday you'll do this & lookin' to make attracted to put yourself & so layin' out i'll morning with my tea's against her crazy & tell your life no child eternally & i'm not the anyway & for promises i cause live without myself & you were my long just wanna see what you can & baby bitch you're never known baby & 'cause i love you got me & i can't be my heart with my own & oh i put it back back at the freeway & and how the motherfuckin' say won't sail & and suddenly i've always been with you kim & i will gotta worry for mine & looking alone and my law against my heart & you'll be far to find more fast & i'll live your nights on broadway out your head & check it up & kick them if you my yeah & ohh you talk for you & really didn't matter & that if the miracle is all in the storm & gotta get at all again for me & let me be the surprise & to tell this before & he diamond ring tonight & oh girls can't be still just may never catch & you lost my existence & can be all right by & oh oh darling i love you the way you mean to be & where we wonder what you do i'm goin' back & all is your charms lantern i'm sorry but my true & feelin' dear & we're gonna tell goodbye & why don't i believe in me & this joint mine & woman romance & she made me go to me & for a dope beat to lie to & and though i'm going for you & ooh if i don't want how now & when he knows\n",
            "Generated lyrics for song number 3, while the seed text is 'love':\n",
            "\n",
            "love & hard spinning if an shareef make the run bono & bring out in here on how stop and foolish part of heaven & watch us through bright & noel hoo stayin' alive & na na na na na na na na na & go away & come on by & dream for nothing & they drink tha bit like a streets & of case of falling down burning & we can heal on fire & the oldies are bright man fed my head & i don't want nobody what would i see & knowing what before & the years are confused & i hold the truth in my arms & i would but i will want to play your boy boy & show my father lonely prayer & so life do you see to show say no grow & to think it once again this show aches who else & so try to read up hurting my own & spin around and keep it right & c'mon tonight & you want something wrong & i love something this love what & when you're some cried up and but i drove so right & with my friends it's gonna find you still & & but mean away no space could do me & he am i bring us a dream beside the world & i wasn't mindin' of your heart & so prayed that is standing with me & so if that happy other song & as dreams no living one information & i was feelin' cried so vict'ry here & while pressure romantics here about along & so baby day and come suck to wrap & they did to laugh and walk away to the truth and me inside & be killing me if you can & waterloo tragedy & just make me do now i feel heaven your love's blow me at your eyes & goodbye hip beside me i believe & when her chances is faith that makes i do yeah & oh baby i am how again & 'cause your lie is the way & if i'd ever show without my life on my heart & you never want to rush & but who every word was all right & would ring the stranger who's sorry i look my corvette & unspoken your cry & now nothing was running places when you're fine & super youth and where one has here & the waiting defense & and if i don't have to know no girl and one who you're leaving & and someday you'll be my kiss & and stay and gain a hero & that i'm in here & and your loving can all the talkin' of everything & tryin' upside down & that the dream is and someone would run & 'til the & another soul ship days singin' to feel & how my touch that i ought to be & but that is a best of today & the big days money didn't you & y'all got some long as i smiling done in his balloon & put the antidote leading like a seen & at the race on ringin' & chorus & another dimension both they right & and all i got so kind and you know it's lost so living & you always love you bitch weight one boy & you're the only questions that & everything you can know & from the dark that he get by & the good times top of your mind & everyone is following so thinking & and tender was only that what's christmasing oh\n",
            "Generated lyrics for song number 4, while The first word of the song is 'all':\n",
            "\n",
            "all & aren't i sell off by the breakers & watch the world die & love's the long stars & i gotta want to home though i love should find & can i know you held the run & oh what we're doing wrong & nothin cupid yeah & singin' around inside & 'cause i had all the one will go apart & and though we're home & on the lord in hope through time & children were busy & gold charlie brown are few & i miss you are that that i say & once that i couldn't feel wide & and let's fight the love i'll come and place to stay & i try to breathe and my ass again & girl we can mean so comin' by me & see without the shape of my heart & i move somethin' that shit when we need them & do its an uptown girl & she's too hard that come away yeah & wasn't it true tonight & rock them & wrap it on the casbah rock with & a mind that hot oh why & john goin' back out my am all again & and don't forget that people good rule & every i promise two part of my mind & in the only thing that is forever to know & or forever you'll be your homework and you makes me say turns & never thought that i smoke again 'cause if it's girl above me or two & and all she ain't no good once & that i want him all loud by front & i won't wish he'd face & just ever to keep you shine with you i believe & you're in a day in a secret life feeling & girl was something & and my love new & understands & ooh ooh sometimes what did they say & your and pack him into things before & it's through the radio & they got love no facing backwards & cut the reason i know & we say we're going for y'all listen each other other song & that when we wanted to war & another women except the hand we can ever start for & talk in a weazy & blazing dance all like a first face & it's a fourth of night outside red & it takes beyond my nighttime & father losing that teacher ain't that train & never let it come all in the old car & feelin' in a winter night & that need to know why grow before & why would you leave your breath away & as i can't make ya on & and they've got the lane & even lean on one guy if you need to have begun & dancing lies & fill me from night & gimme the love of rest new secrets of our soul & said inside me now & and dream every amounts & and i was hiding & but i knew i'm bad & for love in my head & is all of the world don't thank me & what's picking up out of fame & to set any news & we were taking you where i'm hurting you & the chemistry and they've got no chance for lesser bad & baby ain't like you & can't be here again & i want me can ring my sunglasses with my water guns with this & 'cause i left me doing & i can run once & 'cause i know what i'm holding all enough & she couldn't get back to the shore &\n",
            "Generated lyrics for song number 4, while the seed text is 'tonight':\n",
            "\n",
            "tonight & back adrift next downtown okay & wasn't this'll be the new ring my love i'll take my friends & he wanted nobody & for fame voices were flowers got & beautiful dancing sky & flopped like the door are the stage and end & the halls green song rudolph the border & brought them all the snow train & and what comes inside around & hey baby oh oh baby ooh & you get where are i superman & ooh oh baby just in my world oh yeah & but you're like the cake & you got it to say when i might & let me do it & i feel just like a reputation & let her know that i wait when you reach & someone's much not strong & whenever that's a fu but grabs memories your picture & i boy that there & and i was is right in love that you've had to say & but i used to rock myself this & trying to make me soon spoke in love & wasn't it true oh woah oh oh oh oh oh oh & now oh oh i make me feel that you need & and laugh baby open you bad bitch & we're falling insane & and sometimes we had the birds would subside & i will told you if the word you can't heal waiting & you think how i was gone anymore & oh what and i never knew where there's a thrilling & while time away ohh & sweet burning dope & goodbye but hard to dance & and he knows as long time & set me all alone ain't who thing & isn't keep at the alleyway & the bird at your chic & we put out the church are a bottle of town & and long nation under song bang aches & we're back that can'tcha remember and it would hear & why's runs long we might make out you wild & and what i'll make it right & say nothing else goes i'm apart & and if i'm by with your fate & don't never ever wrong & haa through me & tainted your own & you feel it any one & i could matter i find everything i breathe & my well crew is the chambers and my shoes & how it gets in your breath & 'cause what mirror evil outside & we can know i'm your peaceful mad do war & can't believe the best girl & when the soul is here & all the kingdom & night fever & watch your body inside & you know you need a already crazy town & wasn't it true cries and first shut your pretty smile & if baby did you love you & don't only move the world & and if i just wanna go & don't feel this & is knowing who i'll be & except my love is friends and rose & down away from the darkness & neighbor & life has & spent at here of tellin' him & a stars are one dear wasn't me to forever & sailing takes me on either trip & ooh ooh wanna finally ever loved at just & who like no one for nobody else & loving was a more one more room & so you're tomorrow for you never really know & you do you wanna be with you if i need you & and you know that's like it anyway & why moved now before & in a ling trapped to the living inside\n",
            "Generated lyrics for song number 4, while the seed text is 'everybody':\n",
            "\n",
            "everybody out & all grady but wild light and start pops & can't know you got this & no sometimes ya do could be weird & baby i want you all it's so many day & i better could bear & so killing me for a thousand feeling for to & you want to love you better and women 'bout you & bitches everybody walk on and play their memories & caught up in the chest & y'all where children never never how & without ever standin' on her eye and i'll kiss her all all everyday & what they give thanks a seen & out of the waiting yell & and every night after love & they want to make me go all over & caught up in here & that's the new york state of mind & simple simon says & funny it has hard sing & filled my car behind of beauty & me one talk to me for avoid the car 'til the street charlie day are bad & yeah little loved walking let's see i want is a little better dime information & when when i would say & this girl would go a music mother & and i'll give a road like kids now and the years shot a eye & well it's evil by such all everything i'd & makes those stuff will i feel done & niggas gave some in people before keep till my hands oh it's gonna get down above & all the same of every war & with my eazy they're looking at bone & and what's goin' back but the fog at true & and i gave somebody back to turn again & if there's every nice right out and beer & feelin' through the wall & we says the mic of this patient and rest & and soon i little friend way up in order & and if she have the head has got someone for cats & just can find us right who could i see & if my just been brain oh stop & and and come tomorrow inside in & life that and hold to prove & way up sense on the place come true & i just loved you feel the feeling you own me & you can move your hands and dancing day & it's never gonna go doing it heard & that's the sweet love do & two velvet & nigga knows your way in works it's the ghost of the eye & someday i'd got me and i should think is & oh now i think i am & i walked up again & oh yeah & bless you know it's in love & we got just talking two news is all & i walked out in find nigga bang at love & and it deserve a claim in me & is ever girl & it's not when this before no name is new & oh quit leaving that way & it's a brick and i'm a beautiful way i got caught it for bother & oh 'cause i can't tell & chaka khan let me rock you so & i can love you too late a day to be right & you never wanna be through the last way & if i ever could whisper & it's not like that do ever only ooh & if that foolish end without fun & get out sleigh huh let you're down now & 'cause who was yesterday & and here tonight & i drove the perfect thing it hurts & don't care\n",
            "Generated lyrics for song number 4, while the seed text is 'love':\n",
            "\n",
            "love & coming to danger door & woman take me in my way & carry the reason in a tryin' to my real way & i told your broke tryin' & i heard you're made him brought it & oh how i'm and simply & 'cause he finally sweet doubt now i came to have inside never right & 'cause it's dream i used to wait & real set me go apart in love desire & and i need you can be confused & they asks you and & much more timin' days & oh there's never be my only person & and what you did was your cold hair & over some monday time & we're goin' out after my hair & he two one assassin i'm leaving and a desert & i'll find this heart to think you tell me why & so would i face my own stool & so if you dare some more mama that style & and wept star of his charms & under the scenery is it don't ill & well i step at tha just ain't not on & so believe in real sunny & everything are a chance and move on & ahh now about the joy & so sometimes long familiar about come & i'm gonna make someone more & i'm home to get it old with you & in a night that everyone & to love two rules & couldn't have can't find willing to fly away & can you wanna & let me meet me so look about me on with you that starlight like the ones i beat control your love & i don't mean to do is you i go alone & i will know i'm sayin' & like you know put your lips in stand without the line & just the best cries and i said & now need you in my head & keeps today's ear on and face and bed yeah & but means just everybody's down & we can bring to carry away & i saw the lights blow me on the answers so so right alone & it's a genie in a new & the waiting day of my lonely day & who ain't gimme my mind has got just been fine & oh inside up when we can try & black velvet and either of this face & and when then i feel doing come on & and 'cause you see the place it's a tears & and you've got at your innocence & cause the prophet to tell nigga ha huh & lie ain't looking for pain & so to style & it's not so mine & rock that midnight train to make it & sailing don't it let yourself assure me & oh woah oh oh oh oh oh oh oh oh oh oh oh oh oh yeah & girls right & taking that a king on a song & black in the willow just trying to play and end & i'm gonna save the way i left & even if then & that i'm grounded & is it just tell myself to the song & baby you can move & it's in your life so gonna tell the way & and if stone everyone you'll know i've done something strong & but you're halfway up & i'm back to myself in the roller & and the devil would change again & but my tea's goin' back and i began believing woah hey let's later the dom magnolia a coral gold & and and it coupled my knees &\n"
          ],
          "name": "stdout"
        }
      ]
    },
    {
      "cell_type": "markdown",
      "metadata": {
        "id": "ZI5CYw1u9oDx"
      },
      "source": [
        "# Reset Data"
      ]
    },
    {
      "cell_type": "code",
      "metadata": {
        "id": "4llpV7rh9qqI"
      },
      "source": [
        "# reset arrays in order to run the second version immediately  \n",
        "del (X_train)\n",
        "del (X_val)\n",
        "del (y_train)\n",
        "del (y_val)\n",
        "del (model)"
      ],
      "execution_count": 55,
      "outputs": []
    },
    {
      "cell_type": "markdown",
      "metadata": {
        "id": "Bbcvco6N4FC2"
      },
      "source": [
        "# Midi version 2"
      ]
    },
    {
      "cell_type": "markdown",
      "metadata": {
        "id": "AV1dH9nHpznD"
      },
      "source": [
        "### Midi data vectors"
      ]
    },
    {
      "cell_type": "code",
      "metadata": {
        "id": "LiH6CAHhreV0"
      },
      "source": [
        "def get_notes(inst):\n",
        "  \"\"\"\n",
        "  returns all notes of the given instrument\n",
        "  \"\"\"\n",
        "  notes = []\n",
        "  for instrument in inst:\n",
        "    for note in instrument.notes:\n",
        "      notes.append(note.pitch)\n",
        "  return set(notes)"
      ],
      "execution_count": 56,
      "outputs": []
    },
    {
      "cell_type": "code",
      "metadata": {
        "id": "Bu2LCjhYwJYB"
      },
      "source": [
        "def get_vector(list_to_vector):\n",
        "  \"\"\"\n",
        "  returns hot vector of size 128 - each value represent note or instrument.\n",
        "  value of 1 meaning song contains this instrument/note \n",
        "  \"\"\"\n",
        "  vector = np.zeros(128)\n",
        "  for index in list_to_vector:\n",
        "    vector[index] = 1\n",
        "  return vector"
      ],
      "execution_count": 57,
      "outputs": []
    },
    {
      "cell_type": "code",
      "metadata": {
        "id": "nKVKbWmJp2zE"
      },
      "source": [
        "def get_midi_vectors(df):\n",
        "  \"\"\"\n",
        "  Returns midi vectors for each one of the songs in the given dataframe.\n",
        "  \"\"\"\n",
        "  midi_vectors = []\n",
        "  midi_keys = midi_data.keys()\n",
        "\n",
        "  for index, row in df.iterrows():\n",
        "    singer = row.singer.strip()\n",
        "    song_name = row.song_name.strip()\n",
        "    if (singer, song_name) in midi_keys:\n",
        "      instruments = midi_data[(singer, song_name)].instruments\n",
        "      song_instruments = set([ins.program for ins in instruments])\n",
        "      song_notes = get_notes(instruments)\n",
        "      \n",
        "      # transform to vectors\n",
        "      song_instruments_vector = get_vector(song_instruments)\n",
        "      song_notes_vector = get_vector(song_notes)\n",
        "      midi_vector = np.concatenate((song_instruments_vector, song_notes_vector))\n",
        "\n",
        "      # add to midi_vectors\n",
        "      midi_vectors.append(midi_vector)\n",
        "\n",
        "    # songs without midi file\n",
        "    else:\n",
        "      print(f\"Song without midi file: {singer}, {song_name}\")\n",
        "      midi_vector = np.zeros(256)\n",
        "\n",
        "      # add to midi_vectors\n",
        "      midi_vectors.append(midi_vector)\n",
        "    \n",
        "  return midi_vectors"
      ],
      "execution_count": 58,
      "outputs": []
    },
    {
      "cell_type": "code",
      "metadata": {
        "id": "moAB5vW7pF4Y"
      },
      "source": [
        "# run and get midi_vectors\n",
        "midi_vectors_train = get_midi_vectors(train_df)\n",
        "midi_vectors_test = get_midi_vectors(test_df)"
      ],
      "execution_count": 59,
      "outputs": []
    },
    {
      "cell_type": "code",
      "metadata": {
        "colab": {
          "base_uri": "https://localhost:8080/"
        },
        "id": "yH3WiVXJycAu",
        "outputId": "0ee727ee-01f3-4367-b2ed-40d1a66e543d"
      },
      "source": [
        "len(midi_vectors_train)"
      ],
      "execution_count": 60,
      "outputs": [
        {
          "output_type": "execute_result",
          "data": {
            "text/plain": [
              "593"
            ]
          },
          "metadata": {
            "tags": []
          },
          "execution_count": 60
        }
      ]
    },
    {
      "cell_type": "markdown",
      "metadata": {
        "id": "eQWNi-7FgmkR"
      },
      "source": [
        "### Text sequences "
      ]
    },
    {
      "cell_type": "code",
      "metadata": {
        "id": "QnWHevGxUKwX"
      },
      "source": [
        "def get_sequences(sequences_texts, sequence_len):\n",
        "  \"\"\"\n",
        "  Returns x and y train and validation sets.\n",
        "  \"\"\"\n",
        "  x = []\n",
        "  y = []\n",
        "\n",
        "  # for each song, create sequences of sequence_len till the end of the song and concatenate each sequence with the right midi vector of the song.\n",
        "  # apped this vector to x list, and the append the last word (prediction word) to y list. \n",
        "  for index, sample in enumerate(sequences_texts):\n",
        "    for i in range(0, len(sample) - sequence_len, 1):\n",
        "      x.append(np.concatenate((sample[i:i+sequence_len], midi_vectors_train[index])))\n",
        "      y.append(sample[i+sequence_len])\n",
        "  \n",
        "  # split train and validation sets\n",
        "  X_train, X_val, y_train, y_val = split_train_test(x,y)\n",
        "\n",
        "  # transform to np array for model's input\n",
        "  X_train = np.array(X_train)\n",
        "  X_val = np.array(X_val)\n",
        "\n",
        "  # split X into two lists of lyrics and midi lists\n",
        "  X_train_lyrics = X_train[:, :sequence_len]\n",
        "  X_train_midi = X_train[:, sequence_len:]\n",
        "  X_train = [X_train_lyrics, X_train_midi]\n",
        "\n",
        "  X_val_lyrics = X_val[:, :sequence_len]\n",
        "  X_val_midi = X_val[:, sequence_len:]\n",
        "  X_val = [X_val_lyrics, X_val_midi]\n",
        "\n",
        "  # transform y into one hot vectors\n",
        "  y_train = to_categorical(y_train, num_classes=vocab_size)\n",
        "  y_val = to_categorical(y_val, num_classes=vocab_size) \n",
        "\n",
        "  return X_train, X_val, y_train, y_val"
      ],
      "execution_count": 61,
      "outputs": []
    },
    {
      "cell_type": "code",
      "metadata": {
        "id": "vzJwBM6LmRhf"
      },
      "source": [
        "sequence_len = 10\n",
        "X_train, X_val, y_train, y_val = get_sequences(sequences_texts, sequence_len)"
      ],
      "execution_count": 62,
      "outputs": []
    },
    {
      "cell_type": "markdown",
      "metadata": {
        "id": "kTteYI-dhEAv"
      },
      "source": [
        "### Build Model - Midi version 2"
      ]
    },
    {
      "cell_type": "code",
      "metadata": {
        "id": "EIM2-es85BXV"
      },
      "source": [
        "# add midi files - v1\n",
        "def build_model(lyrics_vector_size, midi_vector_size, embedding_matrix, embedding_dim, vocab_size):\n",
        "  input_layer_lyrics = Input(shape=(lyrics_vector_size), name=\"lyrics_input_layer\")\n",
        "  input_layer_midi = Input(shape=(midi_vector_size), name=\"midi_input_layer\")\n",
        "\n",
        "  embedding_output = Embedding(vocab_size, embedding_dim, weights=[embedding_matrix], trainable=True)(input_layer_lyrics)\n",
        "  \n",
        "  # repeat midi vector in order to concatente this vector to all word vectors of the given sequence\n",
        "  reshaped_midi_input = keras.layers.RepeatVector(input_layer_lyrics.shape[1])(input_layer_midi)\n",
        "  conc_output = keras.layers.Concatenate()([embedding_output, reshaped_midi_input])\n",
        "\n",
        "  lstm_out = LSTM(256)(conc_output)\n",
        "  drop_out = Dropout(0.1)(lstm_out)\n",
        "\n",
        "  output_layer = Dense(activation='softmax', units=vocab_size)(drop_out)\n",
        "  model = Model([input_layer_lyrics, input_layer_midi], output_layer, name=\"model\")\n",
        "  model.summary()\n",
        "  \n",
        "  return model"
      ],
      "execution_count": 63,
      "outputs": []
    },
    {
      "cell_type": "code",
      "metadata": {
        "id": "hfRt6vfyu3UH"
      },
      "source": [
        "lyrics_vector_size = X_train[0][0].shape\n",
        "midi_vector_size = X_train[1][0].shape"
      ],
      "execution_count": 65,
      "outputs": []
    },
    {
      "cell_type": "code",
      "metadata": {
        "id": "z3eAcnVVvvtO"
      },
      "source": [
        "# Clear any logs from previous runs\n",
        "!rm -rf ./logs/"
      ],
      "execution_count": 68,
      "outputs": []
    },
    {
      "cell_type": "code",
      "metadata": {
        "colab": {
          "base_uri": "https://localhost:8080/"
        },
        "id": "fJMFVwzdtXDR",
        "outputId": "98c765d0-d5dc-4b4b-fa19-6b6c70ea8215"
      },
      "source": [
        "model = build_model(lyrics_vector_size, midi_vector_size, embedding_matrix, 300, vocab_size)"
      ],
      "execution_count": 69,
      "outputs": [
        {
          "output_type": "stream",
          "text": [
            "Model: \"model\"\n",
            "__________________________________________________________________________________________________\n",
            "Layer (type)                    Output Shape         Param #     Connected to                     \n",
            "==================================================================================================\n",
            "lyrics_input_layer (InputLayer) [(None, 10)]         0                                            \n",
            "__________________________________________________________________________________________________\n",
            "midi_input_layer (InputLayer)   [(None, 256)]        0                                            \n",
            "__________________________________________________________________________________________________\n",
            "embedding_1 (Embedding)         (None, 10, 300)      2180700     lyrics_input_layer[0][0]         \n",
            "__________________________________________________________________________________________________\n",
            "repeat_vector (RepeatVector)    (None, 10, 256)      0           midi_input_layer[0][0]           \n",
            "__________________________________________________________________________________________________\n",
            "concatenate (Concatenate)       (None, 10, 556)      0           embedding_1[0][0]                \n",
            "                                                                 repeat_vector[0][0]              \n",
            "__________________________________________________________________________________________________\n",
            "lstm_4 (LSTM)                   (None, 256)          832512      concatenate[0][0]                \n",
            "__________________________________________________________________________________________________\n",
            "dropout (Dropout)               (None, 256)          0           lstm_4[0][0]                     \n",
            "__________________________________________________________________________________________________\n",
            "dense_3 (Dense)                 (None, 7269)         1868133     dropout[0][0]                    \n",
            "==================================================================================================\n",
            "Total params: 4,881,345\n",
            "Trainable params: 4,881,345\n",
            "Non-trainable params: 0\n",
            "__________________________________________________________________________________________________\n"
          ],
          "name": "stdout"
        }
      ]
    },
    {
      "cell_type": "code",
      "metadata": {
        "colab": {
          "base_uri": "https://localhost:8080/",
          "height": 564
        },
        "id": "cFNU7s433QNh",
        "outputId": "1916e0e8-c878-4844-f227-6f0f746237a4"
      },
      "source": [
        "# Draw the model\n",
        "from keras.utils import plot_model\n",
        "plot_model(model)"
      ],
      "execution_count": 70,
      "outputs": [
        {
          "output_type": "execute_result",
          "data": {
            "image/png": "[encoded data removed]",
            "text/plain": [
              "<IPython.core.display.Image object>"
            ]
          },
          "metadata": {
            "tags": []
          },
          "execution_count": 70
        }
      ]
    },
    {
      "cell_type": "markdown",
      "metadata": {
        "id": "zesUP5gEhGIP"
      },
      "source": [
        "### Training"
      ]
    },
    {
      "cell_type": "code",
      "metadata": {
        "id": "EnVmCg3KhHcu"
      },
      "source": [
        "model.compile(loss='categorical_crossentropy', optimizer=tf.optimizers.Adam(), metrics=['accuracy','mae'])"
      ],
      "execution_count": 71,
      "outputs": []
    },
    {
      "cell_type": "code",
      "metadata": {
        "id": "Dab6ziDgv1Xu"
      },
      "source": [
        "# initializer callbacks - for tensorboard graphs and early stopping \n",
        "log_dir = \"logs/fit/\" + datetime.datetime.now().strftime(\"%Y%m%d-%H%M%S\")\n",
        "tensorboard_callback = tf.keras.callbacks.TensorBoard(log_dir=log_dir, histogram_freq=1)\n",
        "es = keras.callbacks.EarlyStopping(monitor=\"val_loss\", patience=5)"
      ],
      "execution_count": 72,
      "outputs": []
    },
    {
      "cell_type": "code",
      "metadata": {
        "id": "1YR3WDVMyD_M",
        "colab": {
          "base_uri": "https://localhost:8080/"
        },
        "outputId": "738ba4b4-d09f-448c-ca3c-4e2e17e168ed"
      },
      "source": [
        "history = model.fit(X_train, y_train, epochs=20, batch_size=128, validation_data=(X_val, y_val), callbacks=[tensorboard_callback, es])"
      ],
      "execution_count": 73,
      "outputs": [
        {
          "output_type": "stream",
          "text": [
            "Epoch 1/20\n",
            "1217/1217 [==============================] - 43s 34ms/step - loss: 5.8224 - accuracy: 0.1511 - mae: 2.6303e-04 - val_loss: 4.8766 - val_accuracy: 0.2030 - val_mae: 2.5017e-04\n",
            "Epoch 2/20\n",
            "1217/1217 [==============================] - 39s 32ms/step - loss: 4.6452 - accuracy: 0.2151 - mae: 2.4795e-04 - val_loss: 4.4878 - val_accuracy: 0.2465 - val_mae: 2.4310e-04\n",
            "Epoch 3/20\n",
            "1217/1217 [==============================] - 40s 33ms/step - loss: 4.1149 - accuracy: 0.2651 - mae: 2.3859e-04 - val_loss: 4.2117 - val_accuracy: 0.2860 - val_mae: 2.3531e-04\n",
            "Epoch 4/20\n",
            "1217/1217 [==============================] - 40s 32ms/step - loss: 3.6474 - accuracy: 0.3155 - mae: 2.2883e-04 - val_loss: 4.0323 - val_accuracy: 0.3154 - val_mae: 2.2783e-04\n",
            "Epoch 5/20\n",
            "1217/1217 [==============================] - 40s 33ms/step - loss: 3.2427 - accuracy: 0.3646 - mae: 2.1873e-04 - val_loss: 3.9165 - val_accuracy: 0.3395 - val_mae: 2.1951e-04\n",
            "Epoch 6/20\n",
            "1217/1217 [==============================] - 40s 33ms/step - loss: 2.8953 - accuracy: 0.4128 - mae: 2.0854e-04 - val_loss: 3.8528 - val_accuracy: 0.3613 - val_mae: 2.1384e-04\n",
            "Epoch 7/20\n",
            "1217/1217 [==============================] - 39s 32ms/step - loss: 2.5838 - accuracy: 0.4631 - mae: 1.9745e-04 - val_loss: 3.8120 - val_accuracy: 0.3803 - val_mae: 2.0792e-04\n",
            "Epoch 8/20\n",
            "1217/1217 [==============================] - 39s 32ms/step - loss: 2.3178 - accuracy: 0.5091 - mae: 1.8671e-04 - val_loss: 3.8143 - val_accuracy: 0.3965 - val_mae: 2.0155e-04\n",
            "Epoch 9/20\n",
            "1217/1217 [==============================] - 39s 32ms/step - loss: 2.0782 - accuracy: 0.5548 - mae: 1.7506e-04 - val_loss: 3.8001 - val_accuracy: 0.4097 - val_mae: 1.9772e-04\n",
            "Epoch 10/20\n",
            "1217/1217 [==============================] - 39s 32ms/step - loss: 1.8589 - accuracy: 0.5968 - mae: 1.6374e-04 - val_loss: 3.8351 - val_accuracy: 0.4196 - val_mae: 1.9259e-04\n",
            "Epoch 11/20\n",
            "1217/1217 [==============================] - 40s 33ms/step - loss: 1.6816 - accuracy: 0.6302 - mae: 1.5390e-04 - val_loss: 3.8590 - val_accuracy: 0.4329 - val_mae: 1.8850e-04\n",
            "Epoch 12/20\n",
            "1217/1217 [==============================] - 40s 33ms/step - loss: 1.5122 - accuracy: 0.6652 - mae: 1.4333e-04 - val_loss: 3.8918 - val_accuracy: 0.4364 - val_mae: 1.8518e-04\n",
            "Epoch 13/20\n",
            "1217/1217 [==============================] - 40s 33ms/step - loss: 1.3778 - accuracy: 0.6934 - mae: 1.3465e-04 - val_loss: 3.9398 - val_accuracy: 0.4471 - val_mae: 1.8085e-04\n",
            "Epoch 14/20\n",
            "1217/1217 [==============================] - 39s 32ms/step - loss: 1.2508 - accuracy: 0.7179 - mae: 1.2654e-04 - val_loss: 3.9983 - val_accuracy: 0.4471 - val_mae: 1.7845e-04\n"
          ],
          "name": "stdout"
        }
      ]
    },
    {
      "cell_type": "code",
      "metadata": {
        "id": "lt05opOywhQn"
      },
      "source": [
        "# shows TensorBoard graphs\n",
        "%tensorboard --logdir logs/fit"
      ],
      "execution_count": null,
      "outputs": []
    },
    {
      "cell_type": "code",
      "metadata": {
        "colab": {
          "base_uri": "https://localhost:8080/",
          "height": 0
        },
        "id": "aeKM2MDawyo2",
        "outputId": "e6c75a32-ce07-4c92-f8f9-2d8fe8682418"
      },
      "source": [
        "# plot train/validation loss per epoch using matplotlib\n",
        "from matplotlib import pyplot\n",
        "\n",
        "pyplot.plot(history.history['loss'])\n",
        "pyplot.plot(history.history['val_loss'])\n",
        "pyplot.title('model train vs validation loss')\n",
        "pyplot.ylabel('loss')\n",
        "pyplot.xlabel('epoch')\n",
        "pyplot.legend(['train', 'validation'], loc='upper right')\n",
        "pyplot.show()"
      ],
      "execution_count": 75,
      "outputs": [
        {
          "output_type": "display_data",
          "data": {
            "image/png": "[encoded data removed]",
            "text/plain": [
              "<Figure size 432x288 with 1 Axes>"
            ]
          },
          "metadata": {
            "tags": [],
            "needs_background": "light"
          }
        }
      ]
    },
    {
      "cell_type": "markdown",
      "metadata": {
        "id": "Cu_2j2IxhH2w"
      },
      "source": [
        "### Testing"
      ]
    },
    {
      "cell_type": "code",
      "metadata": {
        "id": "2S7zqbj3hIiY"
      },
      "source": [
        "def generate_lyrics(seed_text, midi_vector, lyrics_vector_size):\n",
        "  \"\"\"\n",
        "\n",
        "  \"\"\"\n",
        "  predicted_word = seed_text\n",
        "  text = seed_text\n",
        "  midi_vector = np.reshape(midi_vector,(1, midi_vector.shape[0]))\n",
        "\n",
        "  # Generate words till eof or 1000 words\n",
        "  while predicted_word != 'eof' and len(text.split(\" \")) < 1000:\n",
        "    token_list = tokenizer.texts_to_sequences([text])[0] # tokenize text\n",
        "    token_list = pad_sequences([token_list], maxlen=lyrics_vector_size, padding='pre') # take only the last lyrics_vector_size words\n",
        "\n",
        "    # prepare model input\n",
        "    token_list = np.array(token_list)\n",
        "    model_input = [token_list, midi_vector] \n",
        "    \n",
        "    prediction = model.predict(model_input, verbose=0)\n",
        "\n",
        "    # sample randomly according to predcition distributions\n",
        "    predicted_index = np.random.choice(vocab_size, p=prediction[0])\n",
        "    # get the predicted word from dictionary\n",
        "    predicted_word = tokenizer.index_word[predicted_index]\n",
        "    # append word to the end of the generated text\n",
        "    text += \" \" + predicted_word\n",
        "  return text"
      ],
      "execution_count": 76,
      "outputs": []
    },
    {
      "cell_type": "code",
      "metadata": {
        "id": "TOtqVKWy7P3a"
      },
      "source": [
        "def testing(seed_texts, lyrics_vector_size):\n",
        "  for index, song in test_df.iterrows():\n",
        "    seed_text = song.lyrics.split()[0]\n",
        "    print(f\"Generated lyrics for song number {index}, while The first word of the song is '{seed_text}':\")\n",
        "    generated_song = generate_lyrics(seed_text, midi_vectors_test[index], lyrics_vector_size)\n",
        "    print(generated_song + \"\\n\")\n",
        "    \n",
        "    for i in range(0,3,1):\n",
        "      print(f\"Generated lyrics for song number {index}, while the seed text is '{seed_texts[i]}':\")\n",
        "      generated_song = generate_lyrics(seed_texts[i], midi_vectors_test[index], lyrics_vector_size)\n",
        "      print(generated_song + \"\\n\")"
      ],
      "execution_count": 77,
      "outputs": []
    },
    {
      "cell_type": "code",
      "metadata": {
        "colab": {
          "base_uri": "https://localhost:8080/"
        },
        "id": "uoEm8OphAHTH",
        "outputId": "3a0d7ec8-74f1-4da8-9171-0cba540f88fb"
      },
      "source": [
        "seed_texts = ['tonight', 'everybody', 'love']\n",
        "\n",
        "testing(seed_texts, lyrics_vector_size[0])"
      ],
      "execution_count": 78,
      "outputs": [
        {
          "output_type": "stream",
          "text": [
            "Generated lyrics for song number 0, while The first word of the song is 'close':\n",
            "close & hey you're not the way that i've got such a plan & please start to the bedpost & i want more or just the way you say & 'cause i'm in love baby & if you are my baby ever have no other way & and let me still go ahead with the right i'd do & if you want my way to take your sweet love with you & i know that never said you'd really be & how you know what it's time & but it doesn't know what it wasn't so very & so shake still on fall on more and then you put me down and 'cause it alone i don't think someone & what would just be right & or if i could be happy then maybe we'll be there & i go time and the way i sleep through all through the time & and i'm in the son it's a sweet and by it's the only the way & your out is the tender is the way & when you've gotta be around & oh yeah & so i don't know what's there is a girl in my heart & so i want to find myself a way to find & because i will show you just can't sleep and trying & 'cause there is no one i know baby & and it must be just a load on a man on that kiss & when the i get the morning light & all of you baby & just call the world around & that's the way that i feel the way & father and baby no & because i'm in here with my heart & are gonna be a wild and i can't see & 'cause at the day i ever want to know & that you're leaving you and i can't need you eof\n",
            "\n",
            "Generated lyrics for song number 0, while the seed text is 'tonight':\n",
            "tonight & i don't wanna get around with 'em & don't wanna be around and be bop a lu bop & i gotta stop and i can get away & oh no one knows in my life & ooh ooh i just want to have come and get honey & 'cause baby baby don't you know & just the way for the things i want to know & and it would make you cry & i can be all the way you leave & and maybe you know that only yesterday & and i'm not alone with you baby i don't have to move this & 'cause tonight baby tonight i'm gonna love you baby & yeah baby baby don't you know & play in my life & i want not to be that you love me baby with me & just what can be so alone & and nothing else to understand & if i just want to be here beside you & maybe in the time and you must go away & oh baby baby you're the words that you'll be & oh baby i just want to touch you baby i give it all day & broken body up on the streets & you and it all the ring and so long it & if you want me take it all the way you & 'cause baby i don't know if you're always cool & i gotta understand & and the clock is the world the way you cast & free i know that i'll be there & and if you're asking for the way that i want to let you know & and there is a strong one time so & so i'll put away from the world oh yeah & well sure about the street while there the day is the summer night & hey i really don't know & i'll be the light in your blind & and you know it's not the way you cry & and you will not the best of your arms & so you can run it out of the time & all i have to dance for the coast & can't believe in the start & i can't show it & you're the one that i need is wrong & you're not the way that i come too much & so i'll be all the only in my way & 'cause you all around the things that i want & it started out of here i make this time & i know you're asking not the way that i do & hold in there you know that i've seen that happiness & when you're layin' in my sleep & the ride that night & oh the night is right now baby & and the things i felt before & and i want to go so long time for the way & the love leaves is the way & and the gentle keeps me through the things that you planned & in your hand say & and do you know & and when i see the love of every evening through the rain & maybe i can't let go round & i say i'm spinning round and round you're turning and & and i won't let her away from the day & i said we'd never be so happy when i do & and when you're all for some time & when i say we're not time & but i've got no use for happy & i'll never be the one girl & never wanna be the same that you want it & let's go cause my way can save the stars that i want to know & i started the way you know what the way you know & when you hear the things that were the night & i need to know i would know & watch the best of my heart start now & you're all that i want to go now & and it all night in time & all my loneliness is turning to go & and i want so wasn't it so bad & oh girl don't wanna be alright & i know you've got to touch you up and free up across the streets & that's the last one makes the blues & and i'll be the kind of lovin' you & it's gonna get so long to get round & for the tropic of right & and even not the beat of your arms around me & i want to stay away tonight with my body baby & i can rock you and baby & and i've in my mind and maybe & when you come out of the things that i want & 'cause tonight and dreams come and free & go ahead with the place i can meet and & oh baby you're my love with my soul & now and it's a long time we look so long & it doesn't matter if we would remember how how the mean that i do & and the autumn will i see you're not with you & i've got so many oh yeah yeah & and i know you are with a big man & and i just know that i'll be gone & i'm countin' on faith on baby & i can give more time a kiss and baby & the lover of my heart & i've tried no not you catch that i would die & 'til the time is right when the rain is falling when you know & and you're all about long from the coming through & and on the top now & and there's no turning into my thoughts & and it this time for me & when you are here & and i can't see the way and i don't know how to & so cause what you're all around me fell out & i could think you want it baby & oh\n",
            "\n",
            "Generated lyrics for song number 0, while the seed text is 'everybody':\n",
            "everybody & i'm gonna stop girl and way & yeah baby baby don't wanna lay this body & baby i get the way you say & oh baby baby & she's my private and a glass & you're so you're lying on me & when i'm just about you and me & everything you'll know that only still mean & is the one thing that i do & just like a flower needs the right & and i know that i'll be looking for & 'cause you know that you're gone you're leaving & inside the door that's so clear & and still out of the head when we went & with all the only chance for so cold & hoping that you'll never get back i'll find & at the right to say & that i'll be so long & so if you last forever & i've been the one who will know & and when i get the way you and i & and i would touch or just let me show & what can i do you want to stay with the things that i need you & and that's just the way that i don't give it up & 'cause tonight baby i know that baby & just the way that that i felt & color of the way you want from you & break and run with your own again & just put your hand and know my darling & forever always put me here tonight & and baby baby baby baby just how it is & but that deep within my heart & and since i'm hooked on a with mr kiss & and i'm down and i know & ah and maybe baby it's not the right way & your love inspires me and don't be no only & no one will hurt you so show me how say you & no love he am & oh girl that's all that i can & and that i can't be right & with that you know no one else baby talk through we & take it around and try to get away & you know of lovers in the top of my & and i know my sweet love is happy & i can't be so long before & and i've gotta see how much time to know & and i know that i knew i could never die & just like the way that i need & when you take away & you're not there you're just over & give me a sign and take your chance & just put my girl away we'll go through my heart & i wanna live with the things that i want to know & i really want to be loving you and i & when you've give it how to the things that night & take it out of my friend now & and it could run & just like the things that i do & when you know that it's ain't going the way that i don't know how & and it's not home & but i know & that ever will part my life with my heart & no woman no no no no no no no no no no no i don't remember how you had your share & thoughts of my name in these things that i've been & and i'm down with a park with the things that time is all through the rain & and when you can't find & i can't sleep until there will make you right & and never be a love of your hand baby & and i thought about a world in town & that couldn't have somebody for the crime & when she could be so big different way & cause i'm gonna find it right way & 'cause i want so show me the way that i have is & but i don't know that you're all alone & 'cause at the streets of the happy & oh i get the way home tonight the night is the night & is a man who are now and & and round and round & when i stand for you and i find always in my own & should love the true i show & how could i be real like you can everyone & ooh oh just what like a play & i want to be so way & maybe i wish that i wish you could still only & if i just want to feel the way you know & sometimes i've got to ride with home & and you can't take away eof\n",
            "\n",
            "Generated lyrics for song number 0, while the seed text is 'love':\n",
            "love & i think how i need is glad you just want to be right and i will see it & i'll be the one that you love me & tonight baby let me grow like the beat & is all the run with the fire & up in love in the chest & with this empty places at your love and dreams & don't you turn it up from here in no place & and i go round and that's what i did & 'cause i made myself in the neighborhood and gone off and i can blue & and dark up the night we are found & bringing the train if all the right way & let the children take it away & if you change the things i've always will & stay the part of my heart & you're all i know how never do & oh & and when the man you can get me the very last & all the feeling that am & is the only one i used to know & you can take the danger with the put me to the top & and i know that it'll always be & i don't know if i'm gonna save this man without a & all that i love you just all part & when you are here & just down the way to sleep you and the man you've gone & 'cause you got this last night for the last night for more & where the way we know & 'cause we'll never be there & if you're near for a moment you're with you & i let the girl you just like maybe & it's not the way you know & that i'll be right & and i want to be your love can't you know that i'm not real & so i don't know if it's only easy for & when they talk the way you needed me & when you're all around & if you're taking no one you're willing to be the big soul & no need a different put on the only just so so blow & maybe and i'm falling down and round and still remember & oh you needed me to leave till the day & 'cause he will come this time for all the way you know & ooh baby when i face is high & if you say that i ain't had the way that feeling & in this world & go on baby you know & don't you know what it's not so & it's just to say that it's heaven that it is it & it was in their destiny of your hand & and in the hands i want know no i have & crazy and i met i'm working & oh baby i love you & baby don't make you go things to get away & but breaking up little lovin' & no need even maybe this & and i can see just what i say only better than that you eof\n",
            "\n",
            "Generated lyrics for song number 1, while The first word of the song is 'if':\n",
            "if the skies & now that will be with your hand & memories of your life and turned alone once again & watch and whisper through the things that i say & oh what a world isn't only the sunlight & just like to say goodbye & though i soon & i've taken just to fight for freedom & i had to be a fool and i feel for you & when something's wrong i know i'll start to go & and maybe & ain't nobody else & what can i do to touch you yeah & i deserve a woman & if i could change the world & i have heard your fault in my own & 'cause i know how i'm not wrong & could you tell the book cause he walked down to me & i just want to sit down and started and speak on my own & and darling why & that is he will be with you & can't wait the single way & 'cause i don't know what's your sugar with me & every day i fell for you & and maybe i know then i would be happy & oh but a wild song into the wind & is a thousand times with the long & you say answer to you think that i feel the hand & once upon a cold slow motion and sail & completely began the tide now the peaceful be part of the sunlight & sweet love and when your life is showing you & wake the sidewalk and take us in heaven & since we've made to get on & in a winter time & neighbor to share the new life & i see we will buy you all behind & just the moment that i wear & but there's nothing to say yes i should eof\n",
            "\n",
            "Generated lyrics for song number 1, while the seed text is 'tonight':\n",
            "tonight & ya get for some people in those old arms & when she could have made more to fall & and darling if i take you so sweet & surrender my days and my heart & memories to find a place on the night & i promise a hold in this world & for love as eyes as the wind that step into & in a winter wonderland them get forever & no good for grow for the new wind ooh no no nono & so listen to you oh so good i couldn't it making & to find that the music's fine & gimme a man with him on the darkness & new world disappeared & who could ever forget about them all & goodbye every little prayer for you & for your life come home in love & for a dream lover eof\n",
            "\n",
            "Generated lyrics for song number 1, while the seed text is 'everybody':\n",
            "everybody & for the pose they shall be & so carry out today and when i meet again & i go to hold onto my arms & and hold you in my dreams & looking out on my world & and lets answer the mail stop the way tonight & for help him to believe & just a wish on your shoulder & and fools your hands on myself up and it's like a diamond ring & good for me so wind is your charms & right now that i could never & up in the dark with my savior & knock know no no one else & could not fun but far & maybe for light from your fire & find me as the memories even knew & in a new life i like as he wanted to know & he sees an inferno heaven & that's perfect so & oh what the gods & how you've convinced to me i saw the joy & they couldn't have so many times & he was in the darkness & never ago to bother me & we took my old car and we've got to go & just a little sister and pay the bills i know & i'd never told her a wish i will know & that special love that broken heart & even into my eyes & and i stay them strange but to play & in your eyes eof\n",
            "\n",
            "Generated lyrics for song number 1, while the seed text is 'love':\n",
            "love & he said so many voice with a different story & oh pretty baby it's all alone & ooh i only know what he keeps me ooh 'cause to prove it to me & help me to guide the top of the day & said you know the shadow on your name & still be your lucky and run until forever forever & no matter what you've done to do & if you're asking though i let the world with you & and when i go my arms so slowly fade away & i found a lot of new & in my head when i know & in my own baby and how else i know & you can tell me in this world without you & you know i never knew & and while i love you with the sun in the skies & when i wait for the sky just cast a while & you didn't count but i know & where your lips are are just another stars & not to sit in a winter wonderland & fast when you're down when i feel bad and & and i looked up in the middle of the night i saw to forget my song & and i came to hold you watching & and i called my way back at one & i say i do you know & to tell me and you know how boy & so ever since one thing though you are so much & just remember how say i was & or reflection of love die so no love no part & no matter what they say & sometimes i wish for care i believe & i'm singing alright & tonight the breeze in the summer night & hope you were lines of the night & knowing that many eyes i know & and i knew just how much wasn't it all & there's no one thing matters & now you'll know we'll say our love & much time to tell and i can't tell her & just know i can say i love you & is the one thing i'll be strong & for all the cracks in the border & in the meadow may the score & everyone does it know & they would or pull the blues & the only woman so many & and now i live with you all my hands inside my hands & in my home just all my know & yes i know how are you more & i need you to say goodbye & i would answer you i know what to do that you'll be poor for you & loving you know and forever is the neighbor & well i said goodbye no matter how to judge mine & yeah i used to say goodbye & for the pose in time & happy friends are calling to wipe your heart & and then you're looking for home & and the one makes us right & and the sweet night saw is all here in the wind & could the lover has to say & if love will tell & if i say it doesn't matter if you play so wrong & before we know but baby baby & if i made you meant but like i lose & now i wish i could dream again & i say a child until your arms seem to love your best friend & a thrill of left in all the years & beneath the desert behind & in the master's chambers & 'cause the gods may the most i looked & keeping back home when they find a part of & never a look into my friend & whenever she lit up her eyes and i gave you guess to light my heart & i could have you to see you for the day & with our arms let me know the world & dreams in between those days let us be tears & ain't no good for no color of me & i never be loved like a fool and you are the limit & just for the heart i have eof\n",
            "\n",
            "Generated lyrics for song number 2, while The first word of the song is 'dear':\n",
            "dear & both i've been there for friends you lived with myself & with a hole in a long for him & so let's do you know what's gonna be with you & you better catch her your deep think & but when she comes down to fight & why can't you see & that you're the spell that i'm broken dear & how i'm already standin' & ooo around & oh yeah & if you're old baby talk to find you going up off & she looked in the dark and i blow & if you don't know what before you say eof\n",
            "\n",
            "Generated lyrics for song number 2, while the seed text is 'tonight':\n",
            "tonight & hey hey yay oh no midnight & i've got some hot stuff baby tonight the good christmas girl & save me baby you know you got the sign & i've got the dom perignon in my feet & and i know that i go to meet me & niggas and even though i kissed the city & with the start that i cherish you & when they passed around the night & and then you hang out in the boys' gym & you know i know you were already & and if you wake up and i'm the one & but i know that many times that you'll find & hold me down to me & well then you think that will to get you tonight & all i want is free it's a walkin' & and i guess i did when you're alone in the light & she made her name and i'm sayin' left and her name & she's got no kind to start dark & i'm not ashamed to see & she think i'm bout for comfort & for no one else is so lonely eof\n",
            "\n",
            "Generated lyrics for song number 2, while the seed text is 'everybody':\n",
            "everybody & i know what you've done so complete & hey girl stop baby don't you know & she know how it's supposed to be & to catch me that i'm just all around & i've got so normal i came beside myself but i won't last while & she said the warm summer kisses & slow and take my place to you & loving you move my own again eof\n",
            "\n",
            "Generated lyrics for song number 2, while the seed text is 'love':\n",
            "love & another day and he looked so far & yes the hand that while she won't come so clean and see & she looked so warm and now & she don't know she's what a girl she got & she's got me a girl she's got no turning me so long & well c'mon and fight the fuck that you know & do you know i want you rough & when you wanna marry & when she started made some hard to make him fast asleep & he said the workin' radio say & i'm in such a long easy look for all you & 'cause we're down to keep & she knows it let's bring him but she's nowhere & that you want to hurt me around & hey baby want to do another baby ride it & when you run away with you & you takin' to me and to blow me out for the devil himself & i'm in keeping on my knees & and i'm gonna find her better way & i'm thinking 'bout now i think you tired of the party so & and if i finally has met you ain't gonna meet me any day & well listen to the fuck that that you made my name & tie you jack let me have to explain & you got all my shoes ain't got no no must be & i'm gonna save it double & she's gonna be a love tonight & and if you need a girl is a soul in your heart & you're my gonna find myself to a gonna find & gonna try and hot world with you & when you can't see you'll wake up & 'cause you're getting somewhere you follow me & what would happen they've got that i've got to go & and she thought that she comes to walk & they didn't know how to remember it's okay & they drop the last one since the sun & nowhere a dance for a sister and warm & take me up eof\n",
            "\n",
            "Generated lyrics for song number 3, while The first word of the song is 'hiya':\n",
            "hiya & when he was just anybody & he said it started to get cold & though it's so i'll find it my way & i'm waiting for love & i'm waiting for the one come on & i saw the marching grady & you had to breathe in her hand & though i know can't you what & so i know that you've been there for & when i'm crazy but it's all my way & i'm just give you wait & if i ask to the night harder to the night & oh morning light oh come on & woah oh oh & it's a beautiful life & it's wanna to the one to keep & eof\n",
            "\n",
            "Generated lyrics for song number 3, while the seed text is 'tonight':\n",
            "tonight & well when the daddy he saw his back you to change & he didn't tell him & the boy leads is to me & you said i love you oh oh oh oh & it just because it all seem & when all the rain set us next day oh yeah & i was a movie star & i saw the type of sky & what's the voice who ask for for & we never felt this wish to see as i care & waterloo i swear i loved the love you just in & and he gave you a than one & to keep you oh my oh & i know why should i think the i would lose & to tell it all i was oh & 'cause you never know why & it's just a sign & it's just a little aching need & it's just my way long for & and even though i've done there & i can't believe it's okay & be bop a lula she's my gotta & she's my god baby & i'm not enough for always & i don't wanna know where it seems & well it's only my way & i'm driving in this world callin' you & stronger than that alright & i'm in a place on baby & now yeah & now & every turn & let your love each beat & baby let's dance the way & let the beat control your body & let the beat now you know & i can show you how what you say & what could i say your preicous love & i've got so much until you play & waterloo promise to write and hope he gave you & oh and who am the thing you could do & please say what to do to stay & superman & i'm & little kinda don't care you're so sorry & i'm not crazy but i'm all because & i'm sayin' no one for you but you can't get up & it's on the chain whoa oh huh & uh huh hey oh baby & so well i play the way & i've got to & so alive and though i wish & just like our other most & i'll never to know & what can you be & what can i say oh if i don't know & you know it ain't no but i'm not there & i'm feeling like an uptown girl & i fought the law and the law won & i don't feature the man you think i'm & but there's nothing to & so i'll never love you & i wish me for the night & i thought you were my own & i said it doesn't both be & just wanna be with myself & oh yeah & oh oh oh & oh oh oh oh oh & oh oh oh oh oh & oh oh oh oh oh & oh oh oh oh oh & it's my fantasy girl & i'm so wrapped around you and my friends the japanese & waitin' for the line & if you did to suffer for me & then i was so late for you & i know the thought you were here & oh oh boy you had it & it's a man to find just like a hero & you need a face i'm alive & if you lump it straight but the water was no glory & but i coulda been a bag of your knees & so think i'm seeing you why & it's just a long enough & together again he's the man & he said & it seems it for you hmm yeah & let's set the flavor girl and the moon & do you know the tears you can't stay & 'cause she's got it all ooh & i'm the one on losing and i'm known to the bed & i bet to keep runnin' but i exhale & i'm thinking 'bout about you won't go & i won't change the night & i like my heart beat & you come and tell you better start it & well baby you can't let it all & 'cause baby baby baby & ooh oh girl that's my heart eof\n",
            "\n",
            "Generated lyrics for song number 3, while the seed text is 'everybody':\n",
            "everybody & leavin' on line & later he was a house of money & but now that aw living on the phone & so but you don't know why & it seems my dear how to see the blues & i wish you just can't let go on & i don't wanna be the games & and i don't know how bittersweet to waste the story & i just found you crying i say it's okay & ooh & i'm giving it on the top of night & now baby i know & it's the meaning of it there & i'm holding up to see & waiting for loving you & but now so i'll meet again & if i wish you face that & oh & talk to take it to me & to the very love you maybe must & it could be so easily & i just can't be i wish & i could see myself so far & we're not long for left you & now together eof\n",
            "\n",
            "Generated lyrics for song number 3, while the seed text is 'love':\n",
            "love & he had a bet he couldn't stay or six & but not just one trip & i gotta say just what you mean & i never couldn't make it to change & it's just so much it's easy damn & it's not the way & it's not so bad & it's just the way from what you feel & it's not so long to change your & can't change what was too alive & i just give to the beat of the weather & the lord we start & la la la la & you're gonna give the crime & she's another & she's got & on the secret & in the good for one & i know it won't & i'm not all right & i can't all what you could be & a show myself to you & oh oh oh & everything's gonna be okay & tell you what it's just to get down & girl you got a little type & now oh now the way that you could ever will & if you're the same i can so long run & if you did not comin' & i know that you've had no other & was the law in the willow he's & no one a name of ev'ry thing & i'm another voice for you & i'm feelin' bright & you'll say it all to keep it & just wanna let it go & and i know so you just to know where he could keep & you couldn't make it seem to say & for no question no makes & dream can save it & baby let's go you & watch you go over & i know my way ooh yeah yeah & do you hear ya say baby & and i don't believe it now baby & i know it's my oh ooh yeah & oh i should try to try and baby & and get now baby & baby just take a way & baby baby baby ooh & oh baby & baby if i play & i'll be my conscience & cause i just don't love you & it's got just for it right & it's not the not for me to the end & and it won't last remember when he was coming & she's got no six thinking & this is so much he'd be there & ooh yeah & takin' & i'm on my whole & such a man in town & ooh oh what a one & wish you got to be the right & and cause he walked down the rhymes you went down when a peep & you said i'm still early off and i'm a rather place & but it's a damn one & what i got what it's like & i got the strength i hate to say & he said he's all of & waterloo i'm a standin' in the border & he's a liar and his peace & every day and the sky was all & yes i did to say & i don't despise to say & 'cause you're not listenin' to your & that's making me off my & come on baby i'm a all around & when you go on & i'm sorry i lose my mind & well i keep it all the way you said & that i want to hear the hold you & ooh the boys takes a gone to leave & the cross the willow we're flyin' & and played of the gun & for the earth i know oh oh & when the rain set us free the lady you & oh & move on the love i can give & give me a man man i really really & or should the right now & i just want to be the one night & ooh i need to do & i'm living in love & so girl it's a beautiful life & and if it's gotta keep on there air & i'm gonna find more a life to find another & and i'm feeling just what you said & didn't love you better than learn & oh oh must be be sorry & if you look to me but it's just the thought of me & wouldn't switch me cause the things i've done & but she's deceiving me & she's just the last one before & and i'm so waiting for keeps you tears & and now it's feelin' so loud & it's just got to knock it's a living now & at least never seem to know & how could be so blind & and now it's fine with just so much fun & yeah for the face & when you can see me & though i don't know what you're such a thing & you got the fuck you thought that i saw & oh every night i thought you were stronger & so the spell there's nothing missing in my life & now it seems in my life i say & it's not so groovy & it's not the way you give it & gotta get to the mean when i'm scared old & so very long ago & so listen to the start to you & when you lose the son of what & it said that last saw the thing i thought i know & baby i could my beat again & ah oh & uh huh hey yeah & i go on you oh yeah yeah & c'mon baby try to play again & when we'll stand down the square & we grew heavy & and he was heavy & he kept him from large amounts & the boy just under a mirror on a pen & i buried without a pen in the town & so you don't know why & it's not my way off it's a just a fool and you & wouldn't you know you'll make them\n",
            "\n",
            "Generated lyrics for song number 4, while The first word of the song is 'all':\n",
            "all & on every from for my heirs now & all your head on your shoes & when your lips don't think what's evil and this stuff about what done the way & comin' up and let me play with me & when you know what can i say that he said & she said she was tired and the architect school just got & she's a paradise so keep on trying to die & and ride i'm out for an early & walked and some save 'em when this fella is & got no guy who just might on back & and sell your hands so really niggas are getting me & all then they protest & why just see your back at night & yeah daddy's gettin' on baby when the taste is lookin' off your load & your father's hip your need to talk at everything & why am i getting you back this way back home & so get down down cause that's the they bought a blue computers & the type old car out lying just like to sell & victim of love with your know but you're out of my cool & grab your bombs when i'm thinking about very & but get scared to bear & type of cash that comes what's getting too late & so how damn pretty or even got the heat to be with & drop your bombs and shoot and pearls & and rip and thirsty and down and talking & i wanna leave you like the party but when you get home & when the days get the seven bridges road down south the & get the money 'cause i know the babe & yeah i'm glad about the true lies hey & help me make you done & i'm a different guy on the perfect mr chase & if what's fine the bag of this bag you see across the floor & when you gotta say that i'm relying on the corner & got an big office take to grab so take out & what's fucked up to your knees & lie your lips too nice bitch i think he'd run away like try & yo & all that won't come for things that you felt like come & do you want to know you and be & if you don't get paid off to fight when i'm dumb & comin' at to fight for forty that's all that you & you think that then your family need or always were like you & don't you look in and even step out that they want to blow out with you & i'm out now baby come out to drive & i'm a mystery when they call you who you clean & there's no problem that they're no good for me & so if we sit back and run with you open it & when tomorrow comes is taking you run right & on the sound oh ah twist good for another & drop and your gat and an acorn & up for forty five and tell me all that fucked up & you can do the fuck off what's black if that guy that's fucked the bitch & you silly where you know if it's better and cut then with you so get now eof\n",
            "\n",
            "Generated lyrics for song number 4, while the seed text is 'tonight':\n",
            "tonight & 'cause i'm always mad got some of stuff on the mic & so let's stop the heat full of the red where the lady he found in the table & just another and when you know what & i'm grabbing a stuff and i'm some fun & everybody's gone & come on monday & yakety yak don't talk to talk to write & what's the doctor with his bitch from his son he probably & make your hang grab out on all on the top & come on down on the top and they found & like my name is dead & i really wanna know about the time he lose & did you want to come bitchin' to drive & all i hang hit the damn guy & all the name on see the report is dirty dread hot eof\n",
            "\n",
            "Generated lyrics for song number 4, while the seed text is 'everybody':\n",
            "everybody & waiting for too for the man at an upstairs must & so if the sun comes out i'mma and walk on your knees & what's gonna be alright & you wanna lay your house you come and try and pay & have some hot stuff or some got to hold in windows & i'm bound to a humongous truck & at a swing driving at your sleep with the minarets & oh gonna trust and die when & the empty shell and grab a lawsuit & i'm talkin' 'bout a fucking nightmare & boy what's lovin' on the top & you're tryin' to keep off asking if i can't live without you & see the fuck you you hear me what's your cash & believe over my knees straight & isn't on my dick when you know & saves my four pack my rap alright from me & i'm gonna find you for myself & wanna be a ready to be a lion with this so side & i'm in a big shot at the site must save & it's a big time off a hundred and so white i'm glad he packed & don't find out with a no got no respect so fuck him for a party & just get to rock and make the coast & ooh when can come come so good lordy & wanna resolve your hands with coffee just like the gonna get the same & i gotta pay & they call on the twist when i'm gettin' nothin' & everybody's gone eof\n",
            "\n",
            "Generated lyrics for song number 4, while the seed text is 'love':\n",
            "love & yeah & mr jones and me & wish when and take the kid when dre said & what's sure that man dear lay everybody's gettin' on & all the first green white hot the game ain't no big game & i know what i'm hot and i & gonna taste this house don't wanna ask you & come come and try cause do you think that & 'cause i wanna do some play the death is tickin' and it was falling as the bulge & in her stuff on an don't belong & when the express down the wall & when the voice got a boys is all right with the fuel & with the thumb off the burn off the looking & they thought i know & he said & that that i got his money is huh & so you know that the stress is soon & when my hands if you've been an fight for home & everybody's talkin' & now don't wanna be & if you say it when i know that i am & sometimes i don't know what it's like baby & yeah then she really like the magazine & sees through i see so symbolic another & another mad like a cats just wanna be a crack & i gotta get good for all so low & let's play all like the women babies live the day when you know what's coming & keep on hope it don't make no chase & what's there ain't no bad he's fighting & no he's got no news & hey hey & mr jones strikes up & kick 'em when they're up & so when you drank all the media and they did & sit through the plate at the top & and couldn't knew about rocking the liquor store & and the shoe known class when the twist eof\n",
            "\n"
          ],
          "name": "stdout"
        }
      ]
    },
    {
      "cell_type": "markdown",
      "metadata": {
        "id": "VTLC_KYxi0JX"
      },
      "source": [
        "# Temp sections"
      ]
    },
    {
      "cell_type": "markdown",
      "metadata": {
        "id": "jOOijDOEe9Uj"
      },
      "source": [
        "## Word2Vec"
      ]
    },
    {
      "cell_type": "code",
      "metadata": {
        "colab": {
          "base_uri": "https://localhost:8080/"
        },
        "id": "_MvWONi5mehA",
        "outputId": "cef9f854-b03f-4299-d6f4-576d0e6e5210"
      },
      "source": [
        "!gdown --id 0B7XkCwpI5KDYNlNUTTlSS21pQmM"
      ],
      "execution_count": null,
      "outputs": [
        {
          "output_type": "stream",
          "text": [
            "Downloading...\n",
            "From: https://drive.google.com/uc?id=0B7XkCwpI5KDYNlNUTTlSS21pQmM\n",
            "To: /content/GoogleNews-vectors-negative300.bin.gz\n",
            "1.65GB [00:12, 130MB/s]\n"
          ],
          "name": "stdout"
        }
      ]
    },
    {
      "cell_type": "code",
      "metadata": {
        "id": "XeF_9ipuqiAs"
      },
      "source": [
        "word_vectors = KeyedVectors.load_word2vec_format('GoogleNews-vectors-negative300.bin.gz', binary=True)"
      ],
      "execution_count": null,
      "outputs": []
    },
    {
      "cell_type": "code",
      "metadata": {
        "id": "VTvwCD6Enmd-"
      },
      "source": [
        "embedding_dim=300\n",
        "vocabulary_size=len(tokenizer.word_index)+1\n",
        "embedding_matrix = np.zeros((vocabulary_size, embedding_dim))\n",
        "missing_words = []\n",
        "for word, i in tokenizer.word_index.items():\n",
        "    try:\n",
        "        embedding_vector = word_vectors[word]\n",
        "        embedding_matrix[i] = embedding_vector\n",
        "    except KeyError:\n",
        "      missing_words.append(word)\n",
        "      embedding_matrix[i] = np.random.normal(0, np.sqrt(0.25), embedding_dim)\n",
        "\n",
        "# del(word_vectors)"
      ],
      "execution_count": null,
      "outputs": []
    },
    {
      "cell_type": "code",
      "metadata": {
        "colab": {
          "base_uri": "https://localhost:8080/"
        },
        "id": "p1i-_fOv0WUp",
        "outputId": "5046e0e2-02ee-4697-bc31-a390c57056d6"
      },
      "source": [
        "len(missing_words)"
      ],
      "execution_count": null,
      "outputs": [
        {
          "output_type": "execute_result",
          "data": {
            "text/plain": [
              "348"
            ]
          },
          "metadata": {
            "tags": []
          },
          "execution_count": 289
        }
      ]
    }
  ]
}